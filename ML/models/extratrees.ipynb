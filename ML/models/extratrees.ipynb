{
 "cells": [
  {
   "cell_type": "code",
   "execution_count": 5,
   "metadata": {
    "collapsed": true,
    "ExecuteTime": {
     "end_time": "2023-07-23T03:27:52.410976700Z",
     "start_time": "2023-07-23T03:27:49.839907100Z"
    }
   },
   "outputs": [],
   "source": [
    "import sklearn\n",
    "import pickle\n",
    "import pandas as pd\n",
    "import sklearn.linear_model\n",
    "import optuna\n",
    "import ML.features.features_with_sentence_list as features\n",
    "from ML.natasha_func import ( get_doc, get_sents )\n",
    "from tqdm import tqdm"
   ]
  },
  {
   "cell_type": "code",
   "execution_count": 75,
   "outputs": [],
   "source": [
    "dataset = pickle.load(open(\"dataset_1.pkl\", \"rb\"))"
   ],
   "metadata": {
    "collapsed": false,
    "ExecuteTime": {
     "end_time": "2023-07-22T09:07:22.558916500Z",
     "start_time": "2023-07-22T09:07:22.472771Z"
    }
   }
  },
  {
   "cell_type": "code",
   "execution_count": 80,
   "outputs": [],
   "source": [
    "authors = list(set(dataset['authors']))\n",
    "dict_authors = dict()\n",
    "reverse_dict_authors = dict()\n",
    "for index in range(len(authors)):\n",
    "    dict_authors[authors[index]] = index\n",
    "    reverse_dict_authors[index] = authors[index]\n",
    "\n",
    "target = []\n",
    "for author in dataset[\"authors\"]:\n",
    "    target += [dict_authors[author]]"
   ],
   "metadata": {
    "collapsed": false,
    "ExecuteTime": {
     "end_time": "2023-07-22T09:34:53.654821400Z",
     "start_time": "2023-07-22T09:34:53.638696300Z"
    }
   }
  },
  {
   "cell_type": "code",
   "execution_count": 86,
   "outputs": [
    {
     "name": "stderr",
     "output_type": "stream",
     "text": [
      "100%|██████████| 100/100 [06:02<00:00,  3.62s/it]\n"
     ]
    }
   ],
   "source": [
    "feature1 = []\n",
    "feature2 = []\n",
    "for book in tqdm(dataset['books']):\n",
    "    doc = get_doc(book)\n",
    "    sentences = get_sents(doc)\n",
    "\n",
    "    feature1.append(features.avg_length_of_sentence_by_letters(sentences))\n",
    "    feature2.append(features.capitalized_words_count_without_start_of_sentences(sentences))"
   ],
   "metadata": {
    "collapsed": false,
    "ExecuteTime": {
     "end_time": "2023-07-22T09:46:08.511806500Z",
     "start_time": "2023-07-22T09:40:06.222987700Z"
    }
   }
  },
  {
   "cell_type": "code",
   "execution_count": 151,
   "outputs": [
    {
     "name": "stdout",
     "output_type": "stream",
     "text": [
      "Collecting bokeh\n",
      "  Downloading bokeh-3.1.1-py3-none-any.whl (8.3 MB)\n",
      "     ---------------------------------------- 8.3/8.3 MB 9.8 MB/s eta 0:00:00\n",
      "Requirement already satisfied: pandas>=1.2 in c:\\users\\user\\pycharmprojects\\texts_attribution\\venv_3.8\\lib\\site-packages (from bokeh) (2.0.3)\n",
      "Requirement already satisfied: PyYAML>=3.10 in c:\\users\\user\\pycharmprojects\\texts_attribution\\venv_3.8\\lib\\site-packages (from bokeh) (6.0.1)\n",
      "Requirement already satisfied: pillow>=7.1.0 in c:\\users\\user\\pycharmprojects\\texts_attribution\\venv_3.8\\lib\\site-packages (from bokeh) (10.0.0)\n",
      "Collecting xyzservices>=2021.09.1\n",
      "  Downloading xyzservices-2023.7.0-py3-none-any.whl (56 kB)\n",
      "     ---------------------------------------- 56.7/56.7 kB 2.9 MB/s eta 0:00:00\n",
      "Requirement already satisfied: contourpy>=1 in c:\\users\\user\\pycharmprojects\\texts_attribution\\venv_3.8\\lib\\site-packages (from bokeh) (1.1.0)\n",
      "Requirement already satisfied: tornado>=5.1 in c:\\users\\user\\pycharmprojects\\texts_attribution\\venv_3.8\\lib\\site-packages (from bokeh) (6.3.2)\n",
      "Requirement already satisfied: numpy>=1.16 in c:\\users\\user\\pycharmprojects\\texts_attribution\\venv_3.8\\lib\\site-packages (from bokeh) (1.24.4)\n",
      "Requirement already satisfied: packaging>=16.8 in c:\\users\\user\\pycharmprojects\\texts_attribution\\venv_3.8\\lib\\site-packages (from bokeh) (23.1)\n",
      "Requirement already satisfied: Jinja2>=2.9 in c:\\users\\user\\pycharmprojects\\texts_attribution\\venv_3.8\\lib\\site-packages (from bokeh) (3.1.2)\n",
      "Requirement already satisfied: MarkupSafe>=2.0 in c:\\users\\user\\pycharmprojects\\texts_attribution\\venv_3.8\\lib\\site-packages (from Jinja2>=2.9->bokeh) (2.1.3)\n",
      "Requirement already satisfied: pytz>=2020.1 in c:\\users\\user\\pycharmprojects\\texts_attribution\\venv_3.8\\lib\\site-packages (from pandas>=1.2->bokeh) (2023.3)\n",
      "Requirement already satisfied: python-dateutil>=2.8.2 in c:\\users\\user\\pycharmprojects\\texts_attribution\\venv_3.8\\lib\\site-packages (from pandas>=1.2->bokeh) (2.8.2)\n",
      "Requirement already satisfied: tzdata>=2022.1 in c:\\users\\user\\pycharmprojects\\texts_attribution\\venv_3.8\\lib\\site-packages (from pandas>=1.2->bokeh) (2023.3)\n",
      "Requirement already satisfied: six>=1.5 in c:\\users\\user\\pycharmprojects\\texts_attribution\\venv_3.8\\lib\\site-packages (from python-dateutil>=2.8.2->pandas>=1.2->bokeh) (1.16.0)\n",
      "Installing collected packages: xyzservices, bokeh\n",
      "Successfully installed bokeh-3.1.1 xyzservices-2023.7.0\n"
     ]
    },
    {
     "name": "stderr",
     "output_type": "stream",
     "text": [
      "\n",
      "[notice] A new release of pip available: 22.3.1 -> 23.2\n",
      "[notice] To update, run: python.exe -m pip install --upgrade pip\n"
     ]
    }
   ],
   "source": [
    "!pip install bokeh"
   ],
   "metadata": {
    "collapsed": false,
    "ExecuteTime": {
     "end_time": "2023-07-22T11:01:49.708450500Z",
     "start_time": "2023-07-22T11:01:35.277665Z"
    }
   }
  },
  {
   "cell_type": "code",
   "execution_count": 152,
   "outputs": [],
   "source": [
    "from Text import Text"
   ],
   "metadata": {
    "collapsed": false,
    "ExecuteTime": {
     "end_time": "2023-07-22T11:02:37.543451200Z",
     "start_time": "2023-07-22T11:02:37.405579500Z"
    }
   }
  },
  {
   "cell_type": "code",
   "execution_count": 155,
   "outputs": [
    {
     "name": "stderr",
     "output_type": "stream",
     "text": [
      "100%|██████████| 516/516 [07:21<00:00,  1.17it/s]\n"
     ]
    }
   ],
   "source": [
    "import json\n",
    "import compress_pickle\n",
    "import os\n",
    "\n",
    "\n",
    "DATA_PATH = \"C:\\\\Users\\\\User\\\\PycharmProjects\\\\texts_attribution\\\\Данные\"\n",
    "bridge = []\n",
    "with open(os.path.join(DATA_PATH, \"docs_info.json\"), \"r\") as f_docs_info:\n",
    "    docs_info = json.load(f_docs_info)\n",
    "    authors = docs_info[\"authors\"]\n",
    "    file_names = docs_info[\"file_name\"]\n",
    "\n",
    "    for i, file_name in enumerate(tqdm(file_names)):\n",
    "        author = authors[i]\n",
    "        doc = compress_pickle.load(os.path.join(DATA_PATH, \"Обработанные\", file_name))\n",
    "        sentences = get_sents(doc)\n",
    "        text = Text(doc.text)\n",
    "        bridge.append(text.empiric_bridge_test()[1])"
   ],
   "metadata": {
    "collapsed": false,
    "ExecuteTime": {
     "end_time": "2023-07-22T11:26:05.596431Z",
     "start_time": "2023-07-22T11:18:44.042239Z"
    }
   }
  },
  {
   "cell_type": "code",
   "execution_count": 156,
   "outputs": [
    {
     "data": {
      "text/plain": "[0.37125309982355775,\n 2.0297375611496905e-05,\n 0.33416062649111694,\n 0.007238859377269612,\n 4.3095909756919143e-13,\n 0.022086010996770083,\n 0.028884634599444844,\n 1.5547494776384397e-09,\n 0.30497610321543067,\n 0.07533964117222096,\n 0.1786045492007641,\n 0.0010274720439936026,\n 6.315312225919549e-08,\n 0.003238400807080677,\n 0.608971967923418,\n 0.2008637100453935,\n 0.01671383850386322,\n 0.002227414296889676,\n 2.2475978587981814e-05,\n 0.00020506157327983724,\n 0.00016620945724627687,\n 0.0015297286623979715,\n 0.0011325099915981327,\n 1.1508452972377047e-05,\n 0.16122901157288436,\n 0.08205507616253117,\n 0.0015590418627448022,\n 0.11876849522821017,\n 0.024651228009842867,\n 0.013594671411377355,\n 0.3759303717424433,\n 0.9698452107505461,\n 0.04532848033007894,\n 0.15521918432637247,\n 0.6946340398785876,\n 0.021274534833979168,\n 0.00525209366908865,\n 0.0009915100730390816,\n 0.8034133349599749,\n 0.489561173127216,\n 0.9264344297860742,\n 0.028346197640195647,\n 0.00161588094990248,\n 0.009049862349453975,\n 0.26245423577068716,\n 0.13976105905574515,\n 0.012007440051597184,\n 0.2990976755649734,\n 0.5930845287092582,\n 0.05826957706302759,\n 0.5516814767567169,\n 0.24200308552169064,\n 0.0003859907604395085,\n 0.04040013510327864,\n 0.9316605871618351,\n 0.9239977525133648,\n 0.5367227975723886,\n 0.08559146784627765,\n 0.3366239191133034,\n 0.3787618447010608,\n 0.00035785481420751104,\n 0.00110097050228153,\n 0.7929800071710899,\n 0.3152820360842409,\n 0.16357249135144636,\n 8.943257320521101e-06,\n 0.5018529827492746,\n 0.40942460846661727,\n 0.16056781877976886,\n 0.014188652061738785,\n 0.3950015835181408,\n 0.028123197389234345,\n 0.05499203159842071,\n 0.00011158310754098185,\n 5.878037453590059e-09,\n 0.02135439101623659,\n 1.347446002481188e-16,\n 2.0688113732754864e-11,\n 0.4387110699151466,\n 0.8119261499941858,\n 0.010627740782928247,\n 0.00266451289187658,\n 6.566937058542177e-17,\n 0.5578856775915388,\n 0.4839207594215966,\n 0.4839207594215966,\n 0.4839207594215966,\n 0.4839207594215966,\n 0.4839207594215966,\n 0.4839207594215966,\n 0.4839207594215966,\n 0.4839207594215966,\n 0.4839207594215966,\n 0.4839207594215966,\n 0.08856740058146784,\n 0.045134656503281585,\n 0.22403134567077654,\n 0.37101772734078264,\n 0.16548924603404086,\n 3.0006775315350007e-06,\n 0.47559376300414274,\n 0.9870679243867707,\n 0.5307250687246964,\n 0.009079902419799541,\n 0.14115841385854022,\n 0.09241710355248353,\n 0.8038649783649718,\n 0.6877276527583949,\n 0.659887156670858,\n 0.5183324650456593,\n 0.009154498054001363,\n 0.20841480890790495,\n 0.6373407354974138,\n 0.08773772995921038,\n 0.017680191681653374,\n 1.785997198700519e-24,\n 2.5189102308146772e-08,\n 0.0018901263984574576,\n 0.018866479420044605,\n 0.03686018414393794,\n 1.1502313584658096e-05,\n 2.1394129165379332e-05,\n 8.282547822324969e-07,\n 3.076490563086351e-09,\n 0.0034994755326422373,\n 0.11988194466646888,\n 0.0024225717617575027,\n 0.6810260447000444,\n 0.3765036385612761,\n 0.09852272674737832,\n 0.5876322924933584,\n 3.78878223507099e-05,\n 0.06976236534359964,\n 0.9948926494757703,\n 0.015543334692599326,\n 0.9442488808275221,\n 0.10474338084025818,\n 0.1047049884181579,\n 0.48757447680990207,\n 0.12677426987613763,\n 0.44765937690879803,\n 0.145857805720031,\n 0.5340203645149557,\n 0.24797949838094832,\n 0.48130744502923545,\n 0.21102371075616075,\n 0.5079563667058558,\n 1.999797819068193e-19,\n 0.8508484392640462,\n 0.48450062212410483,\n 6.34324815206587e-05,\n 0.5784942717468077,\n 0.8742047266478743,\n 0.1025933709468468,\n 0.6856602059289394,\n 0.23873780573730258,\n 0.22903747936784977,\n 0.1911524367934858,\n 0.045337867912347334,\n 0.7723884027219647,\n 0.9983306585221674,\n 0.09734236170218155,\n 0.012579344720448745,\n 0.7650776518976837,\n 0.01940226827011953,\n 0.003502299404886524,\n 0.028004254874257627,\n 0.013668590537651579,\n 0.270667656352484,\n 0.04126144423882049,\n 0.20756708031740814,\n 0.211690316764079,\n 0.09010613113738487,\n 0.006977512204533455,\n 0.019374684510139756,\n 0.8878695582012254,\n 0.6047176751036862,\n 0.3255708526569941,\n 0.0005125092409474061,\n 0.010540926998298167,\n 0.008306421629597072,\n 0.1465619141998009,\n 0.5963123620416788,\n 0.08193498876315813,\n 0.00014175931674633078,\n 0.364667308518647,\n 0.33849975226100404,\n 0.18446532851818837,\n 0.3366949804934273,\n 0.5492174397207087,\n 0.03346312475980752,\n 0.475484802338385,\n 0.562670157633784,\n 0.0013060716503110474,\n 0.15455865042717998,\n 2.3766605995987516e-12,\n 0.9675127070303415,\n 0.3108150333650875,\n 0.6343125896773354,\n 8.129113295585146e-07,\n 0.13440592721776076,\n 0.026960142339400743,\n 0.5958334700752521,\n 0.3192058358993149,\n 0.20899867826327687,\n 1.723142000407821e-05,\n 0.038449791988822146,\n 0.8789546603944166,\n 0.6438700959905594,\n 0.7468904472203004,\n 0.014193359254868927,\n 0.17836618711739904,\n 0.06664529346124937,\n 0.0019009037201428343,\n 0.9140161596216543,\n 0.6297376971159167,\n 0.8065922418072319,\n 0.009588271396252694,\n 0.8340101947005915,\n 0.3949208779225853,\n 0.380970048956261,\n 0.5940861031685364,\n 0.017821633414284332,\n 0.5675653220871746,\n 0.5940861031685364,\n 0.5940861031685364,\n 0.5940861031685364,\n 0.559226722887277,\n 0.18112179714208548,\n 0.4747387211624491,\n 0.2497855218543871,\n 2.25690833373121e-07,\n 0.005283444569652691,\n 0.27067966468788646,\n 0.15345330053493028,\n 0.5534933200889388,\n 0.3540553045379151,\n 0.2566073506251123,\n 0.07058763829901352,\n 0.8759272584838654,\n 0.022413492625804762,\n 0.00022695322196937943,\n 0.09563257066171758,\n 7.078753776987912e-05,\n 1.0363271975383632e-24,\n 0.1105992642033866,\n 0.7322498155161287,\n 0.9551057143107269,\n 0.8884804258001032,\n 0.9302293491807243,\n 0.25438585950119863,\n 0.9984084264792684,\n 0.02293500009198333,\n 0.38167761531513744,\n 0.23537629509485475,\n 0.9180504787637781,\n 0.17343380391622154,\n 5.502497602154282e-06,\n 0.3199100613226887,\n 0.0008004870583603705,\n 0.07863387026578779,\n 3.806375663409013e-05,\n 0.2928231254645608,\n 0.9432776266297456,\n 0.010177132545666604,\n 0.9472580818868759,\n 0.2836138153180715,\n 2.1593674204255036e-30,\n 0.8174264068382175,\n 0.6563727698951654,\n 2.1593674204255036e-30,\n 0.9924504982076521,\n 2.1593674204255036e-30,\n 2.1593674204255036e-30,\n 0.9870064980348836,\n 2.1593674204255036e-30,\n 2.1593674204255036e-30,\n 0.02139576812905274,\n 0.2548745733500211,\n 0.432299990556537,\n 0.07390445635558858,\n 0.07518169774470584,\n 0.04817967911482246,\n 0.9395678792240424,\n 0.0031290391878499467,\n 0.00032902708734663147,\n 0.9086042873739633,\n 0.09279285369384589,\n 0.374216932368416,\n 0.12189480478652934,\n 0.9078623885096622,\n 0.06619241320370446,\n 0.025863961327459405,\n 0.10561177226748197,\n 0.8589708855834056,\n 0.38511114019815285,\n 0.7303661999400278,\n 0.011231133689033588,\n 0.8551206053958527,\n 1.8134411512353023e-09,\n 0.0038235814755892914,\n 7.189902386701115e-05,\n 0.09919541673431582,\n 0.0009745158654638293,\n 0.17109496647800018,\n 0.006202818991272594,\n 0.47482310582337833,\n 0.015501644326417797,\n 0.06512527645365895,\n 0.5581908893487505,\n 0.39565911398126097,\n 0.0002891938652436608,\n 1.3779359192449912e-33,\n 2.4329815559518457e-12,\n 6.209030091402917e-10,\n 4.202858554165997e-06,\n 2.5094487047680006e-05,\n 9.811370873449001e-47,\n 0.004967367605009439,\n 0.005426918981838298,\n 0.3976750353928923,\n 0.12525959680649892,\n 0.5000523776065512,\n 0.00536958636834757,\n 0.593905923147579,\n 0.005731703138100376,\n 2.143853241077988e-05,\n 6.024879977327299e-05,\n 0.01656721096490968,\n 0.4984722929471198,\n 0.37098210847259755,\n 0.6603061209766357,\n 0.7455203276474416,\n 0.28659657434983804,\n 0.19404448223967222,\n 0.008641566908951242,\n 0.6154601070342371,\n 0.28568426708374167,\n 0.1210962741437865,\n 0.9092292127621177,\n 0.3940510256611308,\n 0.03493623099080957,\n 0.28865524741011667,\n 0.3313770874146703,\n 0.0009023339321896456,\n 0.18383541663652003,\n 0.31382659095133564,\n 0.34116542384219084,\n 0.31571634142558685,\n 0.020830429613224757,\n 0.38353914831747793,\n 0.6759235246823806,\n 0.7305436383943974,\n 0.26527377850784867,\n 0.23220940292079464,\n 0.4340120361392689,\n 0.06036859484322562,\n 0.1304674411456244,\n 0.10457442806341768,\n 0.22048862713803996,\n 0.21983710487498345,\n 0.10081774117855445,\n 0.006754372984021274,\n 0.2615319901876885,\n 1.4216076792384665e-06,\n 0.2570494903047276,\n 3.986666822924677e-06,\n 0.275695812683812,\n 0.023346389173285884,\n 0.115712359658259,\n 2.7061002813238787e-07,\n 0.6187258572451881,\n 0.4925638092861435,\n 0.47695902009385427,\n 0.4808784961044818,\n 0.0432081625320623,\n 0.12073472712080313,\n 0.523057495858931,\n 0.34062826717956485,\n 8.045800157760036e-09,\n 0.9529331541962369,\n 0.0009645337944684961,\n 0.10093952121702339,\n 0.09941166491492794,\n 0.1894410333277344,\n 0.729557369886558,\n 0.9034700595285264,\n 0.4167751112533936,\n 0.05493637782266896,\n 0.373492195336458,\n 0.8934799574939161,\n 0.3292073560226969,\n 0.04790680827348449,\n 0.28091572210569543,\n 0.8770119582831949,\n 0.0028479739963260383,\n 0.7337672425585778,\n 0.21711735127109308,\n 0.7317902414472465,\n 0.9722035606072853,\n 0.8918348425419158,\n 0.8005352398292959,\n 0.5021981642924028,\n 0.08572633398866336,\n 0.007371035327780456,\n 0.2384844513632075,\n 0.6608311194560431,\n 0.061332635244163755,\n 0.006158867137469909,\n 0.040478240946630176,\n 0.336098041464604,\n 0.21805579734362518,\n 0.10372132440450138,\n 0.003145171877144149,\n 4.88944424506401e-08,\n 0.400478757547485,\n 0.6678326845791883,\n 0.2772772993135259,\n 0.27891222821367484,\n 1.8040792265086388e-05,\n 0.25181742821399256,\n 0.8748507591094385,\n 0.00017900333454263842,\n 0.16909377466232753,\n 0.19858028575325112,\n 0.05884895123421906,\n 0.5786147177820761,\n 1.4729904779959767e-09,\n 0.7608612575575389,\n 0.6021573387551101,\n 0.954100494628114,\n 0.7141326755837251,\n 0.0008650724977624605,\n 0.9373229271478309,\n 0.147931435858102,\n 0.9759176108211746,\n 1.760043348283636e-05,\n 0.0038235814755892914,\n 0.7001918505182357,\n 0.01762461597728519,\n 0.06821101592109845,\n 0.6803123530781604,\n 0.0010883713766986966,\n 0.9391918609167009,\n 0.02155517150176424,\n 0.7467077659735455,\n 0.0010294872301228823,\n 0.2767806431301478,\n 0.5092673496961195,\n 0.12660092078819146,\n 0.6273483882535626,\n 0.060036472802288895,\n 0.4983482478134483,\n 0.30208646331432587,\n 0.1575915124908604,\n 0.48836182273068085,\n 0.462868130092653,\n 0.8628322063963516,\n 0.10790750702110691,\n 0.9061357447290508,\n 0.4084884678624554,\n 0.0677933060078272,\n 0.9912399687442012,\n 0.2373672853685739,\n 0.9999880225304568,\n 0.19856293660929397,\n 0.0009224814344508218,\n 0.052891838247335475,\n 0.3008552888458619,\n 0.07078810094379225,\n 0.11545209169296823,\n 0.0017663837331265981,\n 0.09508983143893665,\n 0.2716808106874516,\n 0.04802297129624798,\n 0.09221274101327044,\n 0.5050103922986624,\n 0.8365088765654718,\n 0.0005741407627039004,\n 0.16413066017146394,\n 0.9126843423670301,\n 0.2919754998437244,\n 0.6581602365264423,\n 0.017924955380221527,\n 0.06873013896966317,\n 0.99975190197306,\n 0.6625022650498612,\n 0.6062634330665562,\n 0.39274290586059885,\n 0.011939353376108342,\n 0.0029647294085764536,\n 1.5544277557125686e-07,\n 0.218767493290844,\n 0.3437622223485288,\n 0.3858088490331777,\n 0.6350389535048591,\n 0.871169165590992,\n 0.06005012210912362,\n 0.5823631400642848,\n 0.3133407777914213,\n 0.9646916821428018,\n 0.037473023634142025,\n 0.0001535645205760878,\n 0.3478850574622733,\n 0.0684858535037599,\n 2.433112278185171e-06,\n 0.27886628121968415,\n 0.7526326647701026,\n 0.0004073980503631901,\n 0.001516904981162004,\n 0.0014417294694478993,\n 0.023879213017351787,\n 0.0022079664710834977,\n 0.16496905566389383,\n 0.08031611354790213,\n 0.11552869997201302]"
     },
     "execution_count": 156,
     "metadata": {},
     "output_type": "execute_result"
    }
   ],
   "source": [
    "bridge"
   ],
   "metadata": {
    "collapsed": false,
    "ExecuteTime": {
     "end_time": "2023-07-22T11:35:53.141864800Z",
     "start_time": "2023-07-22T11:35:53.118929200Z"
    }
   }
  },
  {
   "cell_type": "code",
   "execution_count": 107,
   "outputs": [
    {
     "ename": "NameError",
     "evalue": "name 'bridge' is not defined",
     "output_type": "error",
     "traceback": [
      "\u001B[1;31m---------------------------------------------------------------------------\u001B[0m",
      "\u001B[1;31mNameError\u001B[0m                                 Traceback (most recent call last)",
      "Cell \u001B[1;32mIn[107], line 1\u001B[0m\n\u001B[1;32m----> 1\u001B[0m df[\u001B[38;5;124m\"\u001B[39m\u001B[38;5;124mbridge\u001B[39m\u001B[38;5;124m\"\u001B[39m] \u001B[38;5;241m=\u001B[39m \u001B[43mbridge\u001B[49m\n",
      "\u001B[1;31mNameError\u001B[0m: name 'bridge' is not defined"
     ]
    }
   ],
   "source": [
    "df[\"bridge\"] = bridge"
   ],
   "metadata": {
    "collapsed": false,
    "ExecuteTime": {
     "end_time": "2023-07-22T15:25:58.630280500Z",
     "start_time": "2023-07-22T15:25:58.574133400Z"
    }
   }
  },
  {
   "cell_type": "code",
   "execution_count": 107,
   "outputs": [],
   "source": [
    "df.rename(columns={\"feature\": \"targets\"}, inplace=True)"
   ],
   "metadata": {
    "collapsed": false,
    "ExecuteTime": {
     "end_time": "2023-07-22T10:13:06.771200900Z",
     "start_time": "2023-07-22T10:13:06.751306300Z"
    }
   }
  },
  {
   "cell_type": "code",
   "execution_count": 88,
   "outputs": [],
   "source": [
    "authors_seen = []\n",
    "test_ixs = []\n",
    "train_ixs = []\n",
    "for ixs in range(len(df)):\n",
    "    aut = df['targets'][ixs]\n",
    "    if authors_seen.count(aut) < 2:\n",
    "        authors_seen += [aut]\n",
    "        test_ixs += [ixs]\n",
    "    else: train_ixs += [ixs]\n",
    "\n",
    "y_test = df.iloc[test_ixs]['targets']\n",
    "x_test = df.iloc[test_ixs].drop(columns=[\"targets\"])\n",
    "y_train = df.iloc[train_ixs]['targets']\n",
    "x_train = df.iloc[train_ixs].drop(columns=[\"targets\"])"
   ],
   "metadata": {
    "collapsed": false,
    "ExecuteTime": {
     "end_time": "2023-07-22T09:47:25.184207500Z",
     "start_time": "2023-07-22T09:47:25.166194400Z"
    }
   }
  },
  {
   "cell_type": "code",
   "execution_count": 6,
   "outputs": [],
   "source": [
    "def validation(df, model):\n",
    "    accuracy = []\n",
    "    for shift in range(0, 10, 2):\n",
    "        authors_seen = []\n",
    "        test_ixs = []\n",
    "        for ixs in range(len(df)):\n",
    "            aut = df['targets'][ixs]\n",
    "            if authors_seen.count(aut) < 2:\n",
    "                authors_seen += [aut]\n",
    "                test_ixs += [ixs + shift]\n",
    "        train_ixs = list(set(range(len(df))) - set(test_ixs))\n",
    "        y_test = df.iloc[test_ixs]['targets']\n",
    "        x_test = df.iloc[test_ixs].drop(columns=[\"targets\"])\n",
    "        y_train = df.iloc[train_ixs]['targets']\n",
    "        x_train = df.iloc[train_ixs].drop(columns=[\"targets\"])\n",
    "\n",
    "        rfc = model\n",
    "        rfc.fit(x_train, y_train)\n",
    "        accuracy.append(accuracy_score(y_test, rfc.predict(x_test)))\n",
    "    return pd.Series(accuracy)"
   ],
   "metadata": {
    "collapsed": false,
    "ExecuteTime": {
     "end_time": "2023-07-23T03:28:11.456028Z",
     "start_time": "2023-07-23T03:28:11.440058600Z"
    }
   }
  },
  {
   "cell_type": "code",
   "execution_count": 7,
   "outputs": [],
   "source": [
    "def cross_val(df, model):\n",
    "    accuracy = []\n",
    "    train_last, test_last = 0, 0\n",
    "    for shift in range(0, 10, 2):\n",
    "            authors_seen = []\n",
    "            test_ixs = []\n",
    "            for ixs in range(len(df)):\n",
    "                aut = df['targets'][ixs]\n",
    "                if authors_seen.count(aut) < 2:\n",
    "                    authors_seen += [aut]\n",
    "                    test_ixs += [ixs + shift]\n",
    "            train_ixs = list(set(range(len(df))) - set(test_ixs))\n",
    "            if shift != 8:\n",
    "                y_test = df.iloc[test_ixs]['targets']\n",
    "                x_test = df.iloc[test_ixs].drop(columns=[\"targets\"])\n",
    "                y_train = df.iloc[train_ixs]['targets']\n",
    "                x_train = df.iloc[train_ixs].drop(columns=[\"targets\"])\n",
    "\n",
    "                rfc = model\n",
    "                rfc.fit(x_train, y_train)\n",
    "                accuracy.append(accuracy_score(y_test, rfc.predict(x_test)))\n",
    "            else:\n",
    "                train_last = train_ixs\n",
    "                test_last = test_ixs\n",
    "\n",
    "    return pd.Series(accuracy), train_last, test_last"
   ],
   "metadata": {
    "collapsed": false,
    "ExecuteTime": {
     "end_time": "2023-07-23T03:28:12.076284700Z",
     "start_time": "2023-07-23T03:28:12.003756900Z"
    }
   }
  },
  {
   "cell_type": "code",
   "execution_count": 8,
   "outputs": [],
   "source": [
    "from sklearn.ensemble import ExtraTreesClassifier\n",
    "from sklearn.linear_model import LogisticRegression\n",
    "from sklearn.ensemble import BaggingClassifier\n",
    "from sklearn.metrics import accuracy_score\n"
   ],
   "metadata": {
    "collapsed": false,
    "ExecuteTime": {
     "end_time": "2023-07-23T03:28:14.275896200Z",
     "start_time": "2023-07-23T03:28:14.247439900Z"
    }
   }
  },
  {
   "cell_type": "code",
   "execution_count": 9,
   "outputs": [],
   "source": [
    "df = pd.read_csv(\"C:\\\\Users\\\\User\\\\PycharmProjects\\\\texts_attribution\\\\Данные\\\\first_dataset.csv\")"
   ],
   "metadata": {
    "collapsed": false,
    "ExecuteTime": {
     "end_time": "2023-07-23T03:28:15.432244300Z",
     "start_time": "2023-07-23T03:28:15.384112200Z"
    }
   }
  },
  {
   "cell_type": "code",
   "execution_count": 10,
   "outputs": [],
   "source": [
    "df.rename(columns={func_name: func_name.split()[1] for func_name in df.columns[:-1]}, inplace=True)"
   ],
   "metadata": {
    "collapsed": false,
    "ExecuteTime": {
     "end_time": "2023-07-23T03:28:16.547294500Z",
     "start_time": "2023-07-23T03:28:16.527643800Z"
    }
   }
  },
  {
   "cell_type": "code",
   "execution_count": 11,
   "outputs": [],
   "source": [
    "df.rename(columns={\"target\": \"targets\"}, inplace=True)"
   ],
   "metadata": {
    "collapsed": false,
    "ExecuteTime": {
     "end_time": "2023-07-23T03:28:17.483025100Z",
     "start_time": "2023-07-23T03:28:17.443206700Z"
    }
   }
  },
  {
   "cell_type": "code",
   "execution_count": 176,
   "outputs": [],
   "source": [
    "def objective(trial):\n",
    "    x = trial.suggest_int(\"n_estimators\", 1, 500)\n",
    "    y = trial.suggest_int(\"max_depth\", 1, 100)\n",
    "    z = trial.suggest_int(\"min_samples_split\", 2, 100)\n",
    "    w = trial.suggest_int(\"min_samples_leaf\", 1, 100)\n",
    "    etc = ExtraTreesClassifier(n_estimators=x, max_depth=y, min_samples_split=z, min_samples_leaf=w)\n",
    "    return cross_val(df, etc)[0].mean()"
   ],
   "metadata": {
    "collapsed": false,
    "ExecuteTime": {
     "end_time": "2023-07-22T16:57:17.510432900Z",
     "start_time": "2023-07-22T16:57:17.471435300Z"
    }
   }
  },
  {
   "cell_type": "code",
   "execution_count": 177,
   "outputs": [
    {
     "name": "stderr",
     "output_type": "stream",
     "text": [
      "[I 2023-07-22 23:57:18,720] A new study created in memory with name: no-name-816c5074-d0c6-42fb-b708-4bfc214399af\n",
      "[I 2023-07-22 23:57:22,451] Trial 0 finished with value: 0.07 and parameters: {'n_estimators': 464, 'max_depth': 56, 'min_samples_split': 22, 'min_samples_leaf': 83}. Best is trial 0 with value: 0.07.\n",
      "[I 2023-07-22 23:57:23,439] Trial 1 finished with value: 0.16749999999999998 and parameters: {'n_estimators': 109, 'max_depth': 5, 'min_samples_split': 5, 'min_samples_leaf': 53}. Best is trial 1 with value: 0.16749999999999998.\n",
      "[I 2023-07-22 23:57:25,878] Trial 2 finished with value: 0.07250000000000001 and parameters: {'n_estimators': 400, 'max_depth': 53, 'min_samples_split': 73, 'min_samples_leaf': 85}. Best is trial 1 with value: 0.16749999999999998.\n",
      "[I 2023-07-22 23:57:26,210] Trial 3 finished with value: 0.275 and parameters: {'n_estimators': 22, 'max_depth': 21, 'min_samples_split': 97, 'min_samples_leaf': 14}. Best is trial 3 with value: 0.275.\n",
      "[I 2023-07-22 23:57:29,087] Trial 4 finished with value: 0.35000000000000003 and parameters: {'n_estimators': 403, 'max_depth': 5, 'min_samples_split': 57, 'min_samples_leaf': 7}. Best is trial 4 with value: 0.35000000000000003.\n",
      "[I 2023-07-22 23:57:31,007] Trial 5 finished with value: 0.0675 and parameters: {'n_estimators': 386, 'max_depth': 35, 'min_samples_split': 17, 'min_samples_leaf': 90}. Best is trial 4 with value: 0.35000000000000003.\n",
      "[I 2023-07-22 23:57:31,553] Trial 6 finished with value: 0.06 and parameters: {'n_estimators': 73, 'max_depth': 87, 'min_samples_split': 88, 'min_samples_leaf': 96}. Best is trial 4 with value: 0.35000000000000003.\n",
      "[I 2023-07-22 23:57:32,284] Trial 7 finished with value: 0.26 and parameters: {'n_estimators': 120, 'max_depth': 61, 'min_samples_split': 23, 'min_samples_leaf': 39}. Best is trial 4 with value: 0.35000000000000003.\n",
      "[I 2023-07-22 23:57:34,596] Trial 8 finished with value: 0.485 and parameters: {'n_estimators': 379, 'max_depth': 98, 'min_samples_split': 8, 'min_samples_leaf': 9}. Best is trial 8 with value: 0.485.\n",
      "[I 2023-07-22 23:57:36,475] Trial 9 finished with value: 0.14 and parameters: {'n_estimators': 385, 'max_depth': 40, 'min_samples_split': 55, 'min_samples_leaf': 62}. Best is trial 8 with value: 0.485.\n",
      "[I 2023-07-22 23:57:37,844] Trial 10 finished with value: 0.3025 and parameters: {'n_estimators': 251, 'max_depth': 95, 'min_samples_split': 34, 'min_samples_leaf': 28}. Best is trial 8 with value: 0.485.\n",
      "[I 2023-07-22 23:57:39,711] Trial 11 finished with value: 0.455 and parameters: {'n_estimators': 285, 'max_depth': 77, 'min_samples_split': 51, 'min_samples_leaf': 2}. Best is trial 8 with value: 0.485.\n",
      "[I 2023-07-22 23:57:41,353] Trial 12 finished with value: 0.48 and parameters: {'n_estimators': 263, 'max_depth': 76, 'min_samples_split': 38, 'min_samples_leaf': 4}. Best is trial 8 with value: 0.485.\n",
      "[I 2023-07-22 23:57:42,998] Trial 13 finished with value: 0.36249999999999993 and parameters: {'n_estimators': 302, 'max_depth': 75, 'min_samples_split': 3, 'min_samples_leaf': 23}. Best is trial 8 with value: 0.485.\n",
      "[I 2023-07-22 23:57:44,089] Trial 14 finished with value: 0.295 and parameters: {'n_estimators': 188, 'max_depth': 98, 'min_samples_split': 35, 'min_samples_leaf': 31}. Best is trial 8 with value: 0.485.\n",
      "[I 2023-07-22 23:57:46,752] Trial 15 finished with value: 0.415 and parameters: {'n_estimators': 500, 'max_depth': 74, 'min_samples_split': 43, 'min_samples_leaf': 16}. Best is trial 8 with value: 0.485.\n",
      "[I 2023-07-22 23:57:48,054] Trial 16 finished with value: 0.4225 and parameters: {'n_estimators': 208, 'max_depth': 85, 'min_samples_split': 69, 'min_samples_leaf': 1}. Best is trial 8 with value: 0.485.\n",
      "[I 2023-07-22 23:57:49,787] Trial 17 finished with value: 0.2625 and parameters: {'n_estimators': 326, 'max_depth': 66, 'min_samples_split': 13, 'min_samples_leaf': 38}. Best is trial 8 with value: 0.485.\n",
      "[I 2023-07-22 23:57:50,850] Trial 18 finished with value: 0.1225 and parameters: {'n_estimators': 192, 'max_depth': 88, 'min_samples_split': 31, 'min_samples_leaf': 64}. Best is trial 8 with value: 0.485.\n",
      "[I 2023-07-22 23:57:52,642] Trial 19 finished with value: 0.39749999999999996 and parameters: {'n_estimators': 333, 'max_depth': 68, 'min_samples_split': 67, 'min_samples_leaf': 14}. Best is trial 8 with value: 0.485.\n",
      "[I 2023-07-22 23:57:54,849] Trial 20 finished with value: 0.22249999999999998 and parameters: {'n_estimators': 445, 'max_depth': 98, 'min_samples_split': 45, 'min_samples_leaf': 45}. Best is trial 8 with value: 0.485.\n",
      "[I 2023-07-22 23:57:56,467] Trial 21 finished with value: 0.46249999999999997 and parameters: {'n_estimators': 268, 'max_depth': 79, 'min_samples_split': 43, 'min_samples_leaf': 7}. Best is trial 8 with value: 0.485.\n",
      "[I 2023-07-22 23:57:57,920] Trial 22 finished with value: 0.46499999999999997 and parameters: {'n_estimators': 238, 'max_depth': 82, 'min_samples_split': 28, 'min_samples_leaf': 10}. Best is trial 8 with value: 0.485.\n",
      "[I 2023-07-22 23:57:59,223] Trial 23 finished with value: 0.36 and parameters: {'n_estimators': 218, 'max_depth': 86, 'min_samples_split': 10, 'min_samples_leaf': 22}. Best is trial 8 with value: 0.485.\n",
      "[I 2023-07-22 23:58:00,233] Trial 24 finished with value: 0.4525 and parameters: {'n_estimators': 159, 'max_depth': 100, 'min_samples_split': 27, 'min_samples_leaf': 12}. Best is trial 8 with value: 0.485.\n",
      "[I 2023-07-22 23:58:02,017] Trial 25 finished with value: 0.375 and parameters: {'n_estimators': 345, 'max_depth': 45, 'min_samples_split': 18, 'min_samples_leaf': 22}. Best is trial 8 with value: 0.485.\n",
      "[I 2023-07-22 23:58:03,337] Trial 26 finished with value: 0.31 and parameters: {'n_estimators': 244, 'max_depth': 91, 'min_samples_split': 37, 'min_samples_leaf': 30}. Best is trial 8 with value: 0.485.\n",
      "[I 2023-07-22 23:58:06,221] Trial 27 finished with value: 0.5549999999999999 and parameters: {'n_estimators': 351, 'max_depth': 81, 'min_samples_split': 12, 'min_samples_leaf': 1}. Best is trial 27 with value: 0.5549999999999999.\n",
      "[I 2023-07-22 23:58:10,045] Trial 28 finished with value: 0.5825 and parameters: {'n_estimators': 361, 'max_depth': 70, 'min_samples_split': 6, 'min_samples_leaf': 1}. Best is trial 28 with value: 0.5825.\n",
      "[I 2023-07-22 23:58:12,261] Trial 29 finished with value: 0.1 and parameters: {'n_estimators': 449, 'max_depth': 58, 'min_samples_split': 9, 'min_samples_leaf': 73}. Best is trial 28 with value: 0.5825.\n",
      "[I 2023-07-22 23:58:14,206] Trial 30 finished with value: 0.39 and parameters: {'n_estimators': 360, 'max_depth': 69, 'min_samples_split': 2, 'min_samples_leaf': 19}. Best is trial 28 with value: 0.5825.\n",
      "[I 2023-07-22 23:58:16,362] Trial 31 finished with value: 0.5175000000000001 and parameters: {'n_estimators': 307, 'max_depth': 63, 'min_samples_split': 21, 'min_samples_leaf': 3}. Best is trial 28 with value: 0.5825.\n",
      "[I 2023-07-22 23:58:18,987] Trial 32 finished with value: 0.4925 and parameters: {'n_estimators': 425, 'max_depth': 60, 'min_samples_split': 19, 'min_samples_leaf': 8}. Best is trial 28 with value: 0.5825.\n",
      "[I 2023-07-22 23:58:21,978] Trial 33 finished with value: 0.5425 and parameters: {'n_estimators': 429, 'max_depth': 50, 'min_samples_split': 20, 'min_samples_leaf': 1}. Best is trial 28 with value: 0.5825.\n",
      "[I 2023-07-22 23:58:24,378] Trial 34 finished with value: 0.5725 and parameters: {'n_estimators': 306, 'max_depth': 53, 'min_samples_split': 14, 'min_samples_leaf': 1}. Best is trial 28 with value: 0.5825.\n",
      "[I 2023-07-22 23:58:26,906] Trial 35 finished with value: 0.41 and parameters: {'n_estimators': 481, 'max_depth': 51, 'min_samples_split': 13, 'min_samples_leaf': 16}. Best is trial 28 with value: 0.5825.\n",
      "[I 2023-07-22 23:58:29,637] Trial 36 finished with value: 0.5175000000000001 and parameters: {'n_estimators': 413, 'max_depth': 27, 'min_samples_split': 25, 'min_samples_leaf': 2}. Best is trial 28 with value: 0.5825.\n",
      "[I 2023-07-22 23:58:31,785] Trial 37 finished with value: 0.485 and parameters: {'n_estimators': 366, 'max_depth': 42, 'min_samples_split': 14, 'min_samples_leaf': 10}. Best is trial 28 with value: 0.5825.\n",
      "[I 2023-07-22 23:58:33,931] Trial 38 finished with value: 0.155 and parameters: {'n_estimators': 429, 'max_depth': 54, 'min_samples_split': 5, 'min_samples_leaf': 53}. Best is trial 28 with value: 0.5825.\n",
      "[I 2023-07-22 23:58:35,984] Trial 39 finished with value: 0.5 and parameters: {'n_estimators': 316, 'max_depth': 31, 'min_samples_split': 16, 'min_samples_leaf': 6}. Best is trial 28 with value: 0.5825.\n",
      "[I 2023-07-22 23:58:38,021] Trial 40 finished with value: 0.2725 and parameters: {'n_estimators': 399, 'max_depth': 47, 'min_samples_split': 86, 'min_samples_leaf': 36}. Best is trial 28 with value: 0.5825.\n",
      "[I 2023-07-22 23:58:40,218] Trial 41 finished with value: 0.52 and parameters: {'n_estimators': 290, 'max_depth': 65, 'min_samples_split': 22, 'min_samples_leaf': 2}. Best is trial 28 with value: 0.5825.\n",
      "[I 2023-07-22 23:58:42,243] Trial 42 finished with value: 0.4475 and parameters: {'n_estimators': 352, 'max_depth': 70, 'min_samples_split': 7, 'min_samples_leaf': 13}. Best is trial 28 with value: 0.5825.\n",
      "[I 2023-07-22 23:58:44,112] Trial 43 finished with value: 0.4975 and parameters: {'n_estimators': 284, 'max_depth': 55, 'min_samples_split': 22, 'min_samples_leaf': 6}. Best is trial 28 with value: 0.5825.\n",
      "[I 2023-07-22 23:58:46,022] Trial 44 finished with value: 0.12 and parameters: {'n_estimators': 384, 'max_depth': 1, 'min_samples_split': 12, 'min_samples_leaf': 2}. Best is trial 28 with value: 0.5825.\n",
      "[I 2023-07-22 23:58:47,885] Trial 45 finished with value: 0.4025 and parameters: {'n_estimators': 337, 'max_depth': 17, 'min_samples_split': 2, 'min_samples_leaf': 18}. Best is trial 28 with value: 0.5825.\n",
      "[I 2023-07-22 23:58:49,550] Trial 46 finished with value: 0.34 and parameters: {'n_estimators': 300, 'max_depth': 37, 'min_samples_split': 28, 'min_samples_leaf': 26}. Best is trial 28 with value: 0.5825.\n",
      "[I 2023-07-22 23:58:50,011] Trial 47 finished with value: 0.44749999999999995 and parameters: {'n_estimators': 30, 'max_depth': 64, 'min_samples_split': 19, 'min_samples_leaf': 1}. Best is trial 28 with value: 0.5825.\n",
      "[I 2023-07-22 23:58:52,242] Trial 48 finished with value: 0.057499999999999996 and parameters: {'n_estimators': 464, 'max_depth': 50, 'min_samples_split': 8, 'min_samples_leaf': 97}. Best is trial 28 with value: 0.5825.\n",
      "[I 2023-07-22 23:58:54,375] Trial 49 finished with value: 0.4325 and parameters: {'n_estimators': 371, 'max_depth': 72, 'min_samples_split': 32, 'min_samples_leaf': 11}. Best is trial 28 with value: 0.5825.\n",
      "[I 2023-07-22 23:58:55,777] Trial 50 finished with value: 0.065 and parameters: {'n_estimators': 276, 'max_depth': 58, 'min_samples_split': 24, 'min_samples_leaf': 85}. Best is trial 28 with value: 0.5825.\n",
      "[I 2023-07-22 23:58:57,713] Trial 51 finished with value: 0.525 and parameters: {'n_estimators': 301, 'max_depth': 64, 'min_samples_split': 21, 'min_samples_leaf': 5}. Best is trial 28 with value: 0.5825.\n",
      "[I 2023-07-22 23:58:59,875] Trial 52 finished with value: 0.5225 and parameters: {'n_estimators': 324, 'max_depth': 63, 'min_samples_split': 14, 'min_samples_leaf': 6}. Best is trial 28 with value: 0.5825.\n",
      "[I 2023-07-22 23:59:01,961] Trial 53 finished with value: 0.505 and parameters: {'n_estimators': 318, 'max_depth': 79, 'min_samples_split': 17, 'min_samples_leaf': 6}. Best is trial 28 with value: 0.5825.\n",
      "[I 2023-07-22 23:59:04,644] Trial 54 finished with value: 0.5125 and parameters: {'n_estimators': 405, 'max_depth': 48, 'min_samples_split': 6, 'min_samples_leaf': 6}. Best is trial 28 with value: 0.5825.\n",
      "[I 2023-07-22 23:59:06,548] Trial 55 finished with value: 0.4125 and parameters: {'n_estimators': 341, 'max_depth': 62, 'min_samples_split': 11, 'min_samples_leaf': 14}. Best is trial 28 with value: 0.5825.\n",
      "[I 2023-07-22 23:59:08,974] Trial 56 finished with value: 0.46249999999999997 and parameters: {'n_estimators': 389, 'max_depth': 73, 'min_samples_split': 16, 'min_samples_leaf': 9}. Best is trial 28 with value: 0.5825.\n",
      "[I 2023-07-22 23:59:10,996] Trial 57 finished with value: 0.38749999999999996 and parameters: {'n_estimators': 357, 'max_depth': 82, 'min_samples_split': 14, 'min_samples_leaf': 19}. Best is trial 28 with value: 0.5825.\n",
      "[I 2023-07-22 23:59:12,288] Trial 58 finished with value: 0.065 and parameters: {'n_estimators': 252, 'max_depth': 56, 'min_samples_split': 58, 'min_samples_leaf': 91}. Best is trial 28 with value: 0.5825.\n",
      "[I 2023-07-22 23:59:14,299] Trial 59 finished with value: 0.5 and parameters: {'n_estimators': 322, 'max_depth': 42, 'min_samples_split': 30, 'min_samples_leaf': 5}. Best is trial 28 with value: 0.5825.\n",
      "[I 2023-07-22 23:59:15,465] Trial 60 finished with value: 0.15250000000000002 and parameters: {'n_estimators': 227, 'max_depth': 91, 'min_samples_split': 6, 'min_samples_leaf': 60}. Best is trial 28 with value: 0.5825.\n",
      "[I 2023-07-22 23:59:17,550] Trial 61 finished with value: 0.5325 and parameters: {'n_estimators': 293, 'max_depth': 66, 'min_samples_split': 21, 'min_samples_leaf': 1}. Best is trial 28 with value: 0.5825.\n",
      "[I 2023-07-22 23:59:19,146] Trial 62 finished with value: 0.44749999999999995 and parameters: {'n_estimators': 267, 'max_depth': 67, 'min_samples_split': 9, 'min_samples_leaf': 11}. Best is trial 28 with value: 0.5825.\n",
      "[I 2023-07-22 23:59:21,236] Trial 63 finished with value: 0.515 and parameters: {'n_estimators': 293, 'max_depth': 60, 'min_samples_split': 20, 'min_samples_leaf': 1}. Best is trial 28 with value: 0.5825.\n",
      "[I 2023-07-22 23:59:23,189] Trial 64 finished with value: 0.5 and parameters: {'n_estimators': 310, 'max_depth': 70, 'min_samples_split': 26, 'min_samples_leaf': 4}. Best is trial 28 with value: 0.5825.\n",
      "[I 2023-07-22 23:59:25,048] Trial 65 finished with value: 0.41 and parameters: {'n_estimators': 332, 'max_depth': 77, 'min_samples_split': 39, 'min_samples_leaf': 15}. Best is trial 28 with value: 0.5825.\n",
      "[I 2023-07-22 23:59:27,299] Trial 66 finished with value: 0.4875 and parameters: {'n_estimators': 375, 'max_depth': 51, 'min_samples_split': 15, 'min_samples_leaf': 8}. Best is trial 28 with value: 0.5825.\n",
      "[I 2023-07-22 23:59:28,634] Trial 67 finished with value: 0.215 and parameters: {'n_estimators': 259, 'max_depth': 82, 'min_samples_split': 11, 'min_samples_leaf': 46}. Best is trial 28 with value: 0.5825.\n",
      "[I 2023-07-22 23:59:31,378] Trial 68 finished with value: 0.5475000000000001 and parameters: {'n_estimators': 349, 'max_depth': 59, 'min_samples_split': 4, 'min_samples_leaf': 4}. Best is trial 28 with value: 0.5825.\n",
      "[I 2023-07-22 23:59:35,636] Trial 69 finished with value: 0.605 and parameters: {'n_estimators': 345, 'max_depth': 57, 'min_samples_split': 4, 'min_samples_leaf': 1}. Best is trial 69 with value: 0.605.\n",
      "[I 2023-07-22 23:59:41,328] Trial 70 finished with value: 0.6 and parameters: {'n_estimators': 422, 'max_depth': 57, 'min_samples_split': 3, 'min_samples_leaf': 1}. Best is trial 69 with value: 0.605.\n",
      "[I 2023-07-22 23:59:46,729] Trial 71 finished with value: 0.61 and parameters: {'n_estimators': 436, 'max_depth': 58, 'min_samples_split': 4, 'min_samples_leaf': 1}. Best is trial 71 with value: 0.61.\n",
      "[I 2023-07-22 23:59:49,282] Trial 72 finished with value: 0.46499999999999997 and parameters: {'n_estimators': 428, 'max_depth': 58, 'min_samples_split': 3, 'min_samples_leaf': 9}. Best is trial 71 with value: 0.61.\n",
      "[I 2023-07-22 23:59:52,638] Trial 73 finished with value: 0.5525 and parameters: {'n_estimators': 447, 'max_depth': 53, 'min_samples_split': 5, 'min_samples_leaf': 4}. Best is trial 71 with value: 0.61.\n",
      "[I 2023-07-22 23:59:55,398] Trial 74 finished with value: 0.43999999999999995 and parameters: {'n_estimators': 485, 'max_depth': 45, 'min_samples_split': 4, 'min_samples_leaf': 12}. Best is trial 71 with value: 0.61.\n",
      "[I 2023-07-22 23:59:59,264] Trial 75 finished with value: 0.5800000000000001 and parameters: {'n_estimators': 447, 'max_depth': 54, 'min_samples_split': 6, 'min_samples_leaf': 3}. Best is trial 71 with value: 0.61.\n",
      "[I 2023-07-23 00:00:01,436] Trial 76 finished with value: 0.0975 and parameters: {'n_estimators': 447, 'max_depth': 53, 'min_samples_split': 9, 'min_samples_leaf': 78}. Best is trial 71 with value: 0.61.\n",
      "[I 2023-07-23 00:00:04,377] Trial 77 finished with value: 0.5025 and parameters: {'n_estimators': 462, 'max_depth': 55, 'min_samples_split': 2, 'min_samples_leaf': 8}. Best is trial 71 with value: 0.61.\n",
      "[I 2023-07-23 00:00:06,698] Trial 78 finished with value: 0.41 and parameters: {'n_estimators': 418, 'max_depth': 46, 'min_samples_split': 7, 'min_samples_leaf': 17}. Best is trial 71 with value: 0.61.\n",
      "[I 2023-07-23 00:00:09,531] Trial 79 finished with value: 0.4125 and parameters: {'n_estimators': 499, 'max_depth': 56, 'min_samples_split': 98, 'min_samples_leaf': 4}. Best is trial 71 with value: 0.61.\n",
      "[I 2023-07-23 00:00:11,793] Trial 80 finished with value: 0.4375 and parameters: {'n_estimators': 393, 'max_depth': 39, 'min_samples_split': 11, 'min_samples_leaf': 13}. Best is trial 71 with value: 0.61.\n",
      "[I 2023-07-23 00:00:15,224] Trial 81 finished with value: 0.5399999999999999 and parameters: {'n_estimators': 440, 'max_depth': 60, 'min_samples_split': 5, 'min_samples_leaf': 4}. Best is trial 71 with value: 0.61.\n",
      "[I 2023-07-23 00:00:18,641] Trial 82 finished with value: 0.5700000000000001 and parameters: {'n_estimators': 403, 'max_depth': 52, 'min_samples_split': 5, 'min_samples_leaf': 3}. Best is trial 71 with value: 0.61.\n",
      "[I 2023-07-23 00:00:22,348] Trial 83 finished with value: 0.5825 and parameters: {'n_estimators': 408, 'max_depth': 52, 'min_samples_split': 8, 'min_samples_leaf': 1}. Best is trial 71 with value: 0.61.\n",
      "[I 2023-07-23 00:00:26,039] Trial 84 finished with value: 0.585 and parameters: {'n_estimators': 380, 'max_depth': 49, 'min_samples_split': 7, 'min_samples_leaf': 1}. Best is trial 71 with value: 0.61.\n",
      "[I 2023-07-23 00:00:28,598] Trial 85 finished with value: 0.5075000000000001 and parameters: {'n_estimators': 413, 'max_depth': 48, 'min_samples_split': 8, 'min_samples_leaf': 8}. Best is trial 71 with value: 0.61.\n",
      "[I 2023-07-23 00:00:30,984] Trial 86 finished with value: 0.46249999999999997 and parameters: {'n_estimators': 408, 'max_depth': 51, 'min_samples_split': 2, 'min_samples_leaf': 11}. Best is trial 71 with value: 0.61.\n",
      "[I 2023-07-23 00:00:33,992] Trial 87 finished with value: 0.5725 and parameters: {'n_estimators': 383, 'max_depth': 42, 'min_samples_split': 10, 'min_samples_leaf': 3}. Best is trial 71 with value: 0.61.\n",
      "[I 2023-07-23 00:00:36,148] Trial 88 finished with value: 0.4325 and parameters: {'n_estimators': 380, 'max_depth': 42, 'min_samples_split': 83, 'min_samples_leaf': 1}. Best is trial 71 with value: 0.61.\n",
      "[I 2023-07-23 00:00:38,537] Trial 89 finished with value: 0.51 and parameters: {'n_estimators': 364, 'max_depth': 31, 'min_samples_split': 10, 'min_samples_leaf': 7}. Best is trial 71 with value: 0.61.\n",
      "[I 2023-07-23 00:00:41,248] Trial 90 finished with value: 0.46249999999999997 and parameters: {'n_estimators': 469, 'max_depth': 48, 'min_samples_split': 7, 'min_samples_leaf': 10}. Best is trial 71 with value: 0.61.\n",
      "[I 2023-07-23 00:00:43,980] Trial 91 finished with value: 0.54 and parameters: {'n_estimators': 394, 'max_depth': 45, 'min_samples_split': 12, 'min_samples_leaf': 4}. Best is trial 71 with value: 0.61.\n",
      "[I 2023-07-23 00:00:47,395] Trial 92 finished with value: 0.5674999999999999 and parameters: {'n_estimators': 400, 'max_depth': 43, 'min_samples_split': 5, 'min_samples_leaf': 3}. Best is trial 71 with value: 0.61.\n",
      "[I 2023-07-23 00:00:49,973] Trial 93 finished with value: 0.525 and parameters: {'n_estimators': 374, 'max_depth': 52, 'min_samples_split': 9, 'min_samples_leaf': 6}. Best is trial 71 with value: 0.61.\n",
      "[I 2023-07-23 00:00:56,413] Trial 94 finished with value: 0.6 and parameters: {'n_estimators': 422, 'max_depth': 36, 'min_samples_split': 2, 'min_samples_leaf': 1}. Best is trial 71 with value: 0.61.\n",
      "[I 2023-07-23 00:01:03,131] Trial 95 finished with value: 0.6025 and parameters: {'n_estimators': 421, 'max_depth': 35, 'min_samples_split': 2, 'min_samples_leaf': 1}. Best is trial 71 with value: 0.61.\n",
      "[I 2023-07-23 00:01:09,826] Trial 96 finished with value: 0.6074999999999999 and parameters: {'n_estimators': 433, 'max_depth': 33, 'min_samples_split': 2, 'min_samples_leaf': 1}. Best is trial 71 with value: 0.61.\n",
      "[I 2023-07-23 00:01:17,121] Trial 97 finished with value: 0.61 and parameters: {'n_estimators': 438, 'max_depth': 27, 'min_samples_split': 2, 'min_samples_leaf': 1}. Best is trial 71 with value: 0.61.\n",
      "[I 2023-07-23 00:01:19,760] Trial 98 finished with value: 0.5075000000000001 and parameters: {'n_estimators': 423, 'max_depth': 21, 'min_samples_split': 2, 'min_samples_leaf': 8}. Best is trial 71 with value: 0.61.\n",
      "[I 2023-07-23 00:01:25,645] Trial 99 finished with value: 0.6100000000000001 and parameters: {'n_estimators': 436, 'max_depth': 34, 'min_samples_split': 3, 'min_samples_leaf': 1}. Best is trial 99 with value: 0.6100000000000001.\n",
      "[I 2023-07-23 00:01:28,701] Trial 100 finished with value: 0.52 and parameters: {'n_estimators': 470, 'max_depth': 34, 'min_samples_split': 2, 'min_samples_leaf': 6}. Best is trial 99 with value: 0.6100000000000001.\n",
      "[I 2023-07-23 00:01:33,599] Trial 101 finished with value: 0.5974999999999999 and parameters: {'n_estimators': 437, 'max_depth': 25, 'min_samples_split': 4, 'min_samples_leaf': 2}. Best is trial 99 with value: 0.6100000000000001.\n",
      "[I 2023-07-23 00:01:40,282] Trial 102 finished with value: 0.58 and parameters: {'n_estimators': 459, 'max_depth': 26, 'min_samples_split': 4, 'min_samples_leaf': 1}. Best is trial 99 with value: 0.6100000000000001.\n",
      "[I 2023-07-23 00:01:43,649] Trial 103 finished with value: 0.4775 and parameters: {'n_estimators': 434, 'max_depth': 25, 'min_samples_split': 7, 'min_samples_leaf': 10}. Best is trial 99 with value: 0.6100000000000001.\n",
      "[I 2023-07-23 00:01:46,902] Trial 104 finished with value: 0.5225 and parameters: {'n_estimators': 438, 'max_depth': 12, 'min_samples_split': 4, 'min_samples_leaf': 6}. Best is trial 99 with value: 0.6100000000000001.\n",
      "[I 2023-07-23 00:01:50,078] Trial 105 finished with value: 0.4925 and parameters: {'n_estimators': 421, 'max_depth': 31, 'min_samples_split': 2, 'min_samples_leaf': 8}. Best is trial 99 with value: 0.6100000000000001.\n",
      "[I 2023-07-23 00:01:52,357] Trial 106 finished with value: 0.3125 and parameters: {'n_estimators': 457, 'max_depth': 34, 'min_samples_split': 62, 'min_samples_leaf': 33}. Best is trial 99 with value: 0.6100000000000001.\n",
      "[I 2023-07-23 00:01:56,292] Trial 107 finished with value: 0.5700000000000001 and parameters: {'n_estimators': 481, 'max_depth': 29, 'min_samples_split': 7, 'min_samples_leaf': 3}. Best is trial 99 with value: 0.6100000000000001.\n",
      "[I 2023-07-23 00:01:58,524] Trial 108 finished with value: 0.37250000000000005 and parameters: {'n_estimators': 433, 'max_depth': 28, 'min_samples_split': 94, 'min_samples_leaf': 13}. Best is trial 99 with value: 0.6100000000000001.\n",
      "[I 2023-07-23 00:02:01,377] Trial 109 finished with value: 0.5425 and parameters: {'n_estimators': 418, 'max_depth': 38, 'min_samples_split': 13, 'min_samples_leaf': 5}. Best is trial 99 with value: 0.6100000000000001.\n",
      "[I 2023-07-23 00:02:03,192] Trial 110 finished with value: 0.5925 and parameters: {'n_estimators': 143, 'max_depth': 24, 'min_samples_split': 4, 'min_samples_leaf': 1}. Best is trial 99 with value: 0.6100000000000001.\n",
      "[I 2023-07-23 00:02:07,824] Trial 111 finished with value: 0.595 and parameters: {'n_estimators': 454, 'max_depth': 36, 'min_samples_split': 6, 'min_samples_leaf': 1}. Best is trial 99 with value: 0.6100000000000001.\n",
      "[I 2023-07-23 00:02:08,524] Trial 112 finished with value: 0.0625 and parameters: {'n_estimators': 114, 'max_depth': 24, 'min_samples_split': 4, 'min_samples_leaf': 100}. Best is trial 99 with value: 0.6100000000000001.\n",
      "[I 2023-07-23 00:02:09,544] Trial 113 finished with value: 0.44749999999999995 and parameters: {'n_estimators': 143, 'max_depth': 36, 'min_samples_split': 47, 'min_samples_leaf': 1}. Best is trial 99 with value: 0.6100000000000001.\n",
      "[I 2023-07-23 00:02:10,330] Trial 114 finished with value: 0.5149999999999999 and parameters: {'n_estimators': 85, 'max_depth': 22, 'min_samples_split': 4, 'min_samples_leaf': 5}. Best is trial 99 with value: 0.6100000000000001.\n",
      "[I 2023-07-23 00:02:13,379] Trial 115 finished with value: 0.51 and parameters: {'n_estimators': 476, 'max_depth': 19, 'min_samples_split': 9, 'min_samples_leaf': 7}. Best is trial 99 with value: 0.6100000000000001.\n",
      "[I 2023-07-23 00:02:17,243] Trial 116 finished with value: 0.5924999999999999 and parameters: {'n_estimators': 457, 'max_depth': 32, 'min_samples_split': 2, 'min_samples_leaf': 3}. Best is trial 99 with value: 0.6100000000000001.\n",
      "[I 2023-07-23 00:02:21,086] Trial 117 finished with value: 0.5674999999999999 and parameters: {'n_estimators': 451, 'max_depth': 32, 'min_samples_split': 2, 'min_samples_leaf': 3}. Best is trial 99 with value: 0.6100000000000001.\n",
      "[I 2023-07-23 00:02:23,434] Trial 118 finished with value: 0.10250000000000001 and parameters: {'n_estimators': 493, 'max_depth': 29, 'min_samples_split': 6, 'min_samples_leaf': 69}. Best is trial 99 with value: 0.6100000000000001.\n",
      "[I 2023-07-23 00:02:24,691] Trial 119 finished with value: 0.455 and parameters: {'n_estimators': 193, 'max_depth': 33, 'min_samples_split': 11, 'min_samples_leaf': 10}. Best is trial 99 with value: 0.6100000000000001.\n",
      "[I 2023-07-23 00:02:28,498] Trial 120 finished with value: 0.565 and parameters: {'n_estimators': 454, 'max_depth': 14, 'min_samples_split': 4, 'min_samples_leaf': 3}. Best is trial 99 with value: 0.6100000000000001.\n",
      "[I 2023-07-23 00:02:32,741] Trial 121 finished with value: 0.59 and parameters: {'n_estimators': 440, 'max_depth': 40, 'min_samples_split': 7, 'min_samples_leaf': 1}. Best is trial 99 with value: 0.6100000000000001.\n",
      "[I 2023-07-23 00:02:35,767] Trial 122 finished with value: 0.5375000000000001 and parameters: {'n_estimators': 438, 'max_depth': 37, 'min_samples_split': 2, 'min_samples_leaf': 5}. Best is trial 99 with value: 0.6100000000000001.\n",
      "[I 2023-07-23 00:02:40,618] Trial 123 finished with value: 0.59 and parameters: {'n_estimators': 464, 'max_depth': 28, 'min_samples_split': 6, 'min_samples_leaf': 1}. Best is trial 99 with value: 0.6100000000000001.\n",
      "[I 2023-07-23 00:02:43,409] Trial 124 finished with value: 0.5175000000000001 and parameters: {'n_estimators': 444, 'max_depth': 35, 'min_samples_split': 9, 'min_samples_leaf': 7}. Best is trial 99 with value: 0.6100000000000001.\n",
      "[I 2023-07-23 00:02:43,968] Trial 125 finished with value: 0.5075000000000001 and parameters: {'n_estimators': 42, 'max_depth': 40, 'min_samples_split': 4, 'min_samples_leaf': 3}. Best is trial 99 with value: 0.6100000000000001.\n",
      "[I 2023-07-23 00:02:47,071] Trial 126 finished with value: 0.5325 and parameters: {'n_estimators': 431, 'max_depth': 24, 'min_samples_split': 2, 'min_samples_leaf': 5}. Best is trial 99 with value: 0.6100000000000001.\n",
      "[I 2023-07-23 00:02:49,595] Trial 127 finished with value: 0.40249999999999997 and parameters: {'n_estimators': 472, 'max_depth': 31, 'min_samples_split': 75, 'min_samples_leaf': 9}. Best is trial 99 with value: 0.6100000000000001.\n",
      "[I 2023-07-23 00:02:51,622] Trial 128 finished with value: 0.1375 and parameters: {'n_estimators': 424, 'max_depth': 22, 'min_samples_split': 6, 'min_samples_leaf': 58}. Best is trial 99 with value: 0.6100000000000001.\n",
      "[I 2023-07-23 00:02:53,730] Trial 129 finished with value: 0.22999999999999998 and parameters: {'n_estimators': 415, 'max_depth': 36, 'min_samples_split': 12, 'min_samples_leaf': 42}. Best is trial 99 with value: 0.6100000000000001.\n",
      "[I 2023-07-23 00:02:58,282] Trial 130 finished with value: 0.5775 and parameters: {'n_estimators': 455, 'max_depth': 39, 'min_samples_split': 8, 'min_samples_leaf': 1}. Best is trial 99 with value: 0.6100000000000001.\n",
      "[I 2023-07-23 00:03:03,281] Trial 131 finished with value: 0.6075 and parameters: {'n_estimators': 489, 'max_depth': 28, 'min_samples_split': 6, 'min_samples_leaf': 1}. Best is trial 99 with value: 0.6100000000000001.\n",
      "[I 2023-07-23 00:03:07,459] Trial 132 finished with value: 0.5674999999999999 and parameters: {'n_estimators': 487, 'max_depth': 30, 'min_samples_split': 4, 'min_samples_leaf': 3}. Best is trial 99 with value: 0.6100000000000001.\n",
      "[I 2023-07-23 00:03:07,696] Trial 133 finished with value: 0.20500000000000002 and parameters: {'n_estimators': 3, 'max_depth': 27, 'min_samples_split': 6, 'min_samples_leaf': 5}. Best is trial 99 with value: 0.6100000000000001.\n",
      "[I 2023-07-23 00:03:11,471] Trial 134 finished with value: 0.5674999999999999 and parameters: {'n_estimators': 440, 'max_depth': 33, 'min_samples_split': 10, 'min_samples_leaf': 1}. Best is trial 99 with value: 0.6100000000000001.\n",
      "[I 2023-07-23 00:03:15,733] Trial 135 finished with value: 0.5774999999999999 and parameters: {'n_estimators': 500, 'max_depth': 26, 'min_samples_split': 2, 'min_samples_leaf': 3}. Best is trial 99 with value: 0.6100000000000001.\n",
      "[I 2023-07-23 00:03:18,708] Trial 136 finished with value: 0.515 and parameters: {'n_estimators': 468, 'max_depth': 19, 'min_samples_split': 8, 'min_samples_leaf': 7}. Best is trial 99 with value: 0.6100000000000001.\n",
      "[I 2023-07-23 00:03:22,400] Trial 137 finished with value: 0.5525 and parameters: {'n_estimators': 479, 'max_depth': 34, 'min_samples_split': 4, 'min_samples_leaf': 4}. Best is trial 99 with value: 0.6100000000000001.\n",
      "[I 2023-07-23 00:03:25,211] Trial 138 finished with value: 0.5249999999999999 and parameters: {'n_estimators': 428, 'max_depth': 36, 'min_samples_split': 6, 'min_samples_leaf': 6}. Best is trial 99 with value: 0.6100000000000001.\n",
      "[I 2023-07-23 00:03:28,627] Trial 139 finished with value: 0.5499999999999999 and parameters: {'n_estimators': 451, 'max_depth': 29, 'min_samples_split': 15, 'min_samples_leaf': 1}. Best is trial 99 with value: 0.6100000000000001.\n",
      "[I 2023-07-23 00:03:31,100] Trial 140 finished with value: 0.475 and parameters: {'n_estimators': 407, 'max_depth': 23, 'min_samples_split': 4, 'min_samples_leaf': 9}. Best is trial 99 with value: 0.6100000000000001.\n",
      "[I 2023-07-23 00:03:35,437] Trial 141 finished with value: 0.5975 and parameters: {'n_estimators': 457, 'max_depth': 29, 'min_samples_split': 7, 'min_samples_leaf': 1}. Best is trial 99 with value: 0.6100000000000001.\n",
      "[I 2023-07-23 00:03:39,459] Trial 142 finished with value: 0.5625 and parameters: {'n_estimators': 459, 'max_depth': 32, 'min_samples_split': 2, 'min_samples_leaf': 3}. Best is trial 99 with value: 0.6100000000000001.\n",
      "[I 2023-07-23 00:03:43,515] Trial 143 finished with value: 0.5650000000000001 and parameters: {'n_estimators': 438, 'max_depth': 26, 'min_samples_split': 8, 'min_samples_leaf': 1}. Best is trial 99 with value: 0.6100000000000001.\n",
      "[I 2023-07-23 00:03:46,611] Trial 144 finished with value: 0.5425 and parameters: {'n_estimators': 445, 'max_depth': 38, 'min_samples_split': 10, 'min_samples_leaf': 5}. Best is trial 99 with value: 0.6100000000000001.\n",
      "[I 2023-07-23 00:03:50,816] Trial 145 finished with value: 0.5675000000000001 and parameters: {'n_estimators': 488, 'max_depth': 19, 'min_samples_split': 5, 'min_samples_leaf': 3}. Best is trial 99 with value: 0.6100000000000001.\n",
      "[I 2023-07-23 00:03:53,535] Trial 146 finished with value: 0.495 and parameters: {'n_estimators': 418, 'max_depth': 30, 'min_samples_split': 7, 'min_samples_leaf': 7}. Best is trial 99 with value: 0.6100000000000001.\n",
      "[I 2023-07-23 00:04:00,240] Trial 147 finished with value: 0.6000000000000001 and parameters: {'n_estimators': 431, 'max_depth': 34, 'min_samples_split': 2, 'min_samples_leaf': 1}. Best is trial 99 with value: 0.6100000000000001.\n",
      "[I 2023-07-23 00:04:01,605] Trial 148 finished with value: 0.5475 and parameters: {'n_estimators': 153, 'max_depth': 57, 'min_samples_split': 2, 'min_samples_leaf': 4}. Best is trial 99 with value: 0.6100000000000001.\n",
      "[I 2023-07-23 00:04:03,888] Trial 149 finished with value: 0.45999999999999996 and parameters: {'n_estimators': 395, 'max_depth': 27, 'min_samples_split': 4, 'min_samples_leaf': 11}. Best is trial 99 with value: 0.6100000000000001.\n",
      "[I 2023-07-23 00:04:06,109] Trial 150 finished with value: 0.33499999999999996 and parameters: {'n_estimators': 429, 'max_depth': 35, 'min_samples_split': 5, 'min_samples_leaf': 25}. Best is trial 99 with value: 0.6100000000000001.\n",
      "[I 2023-07-23 00:04:10,492] Trial 151 finished with value: 0.5975 and parameters: {'n_estimators': 464, 'max_depth': 32, 'min_samples_split': 7, 'min_samples_leaf': 1}. Best is trial 99 with value: 0.6100000000000001.\n",
      "[I 2023-07-23 00:04:14,550] Trial 152 finished with value: 0.565 and parameters: {'n_estimators': 474, 'max_depth': 32, 'min_samples_split': 2, 'min_samples_leaf': 3}. Best is trial 99 with value: 0.6100000000000001.\n",
      "[I 2023-07-23 00:04:20,102] Trial 153 finished with value: 0.6000000000000001 and parameters: {'n_estimators': 463, 'max_depth': 62, 'min_samples_split': 4, 'min_samples_leaf': 1}. Best is trial 99 with value: 0.6100000000000001.\n",
      "[I 2023-07-23 00:04:23,907] Trial 154 finished with value: 0.565 and parameters: {'n_estimators': 470, 'max_depth': 24, 'min_samples_split': 11, 'min_samples_leaf': 1}. Best is trial 99 with value: 0.6100000000000001.\n",
      "[I 2023-07-23 00:04:27,082] Trial 155 finished with value: 0.5375000000000001 and parameters: {'n_estimators': 463, 'max_depth': 61, 'min_samples_split': 8, 'min_samples_leaf': 5}. Best is trial 99 with value: 0.6100000000000001.\n",
      "[I 2023-07-23 00:04:31,655] Trial 156 finished with value: 0.6 and parameters: {'n_estimators': 424, 'max_depth': 29, 'min_samples_split': 5, 'min_samples_leaf': 1}. Best is trial 99 with value: 0.6100000000000001.\n",
      "[I 2023-07-23 00:04:34,187] Trial 157 finished with value: 0.5225 and parameters: {'n_estimators': 407, 'max_depth': 29, 'min_samples_split': 6, 'min_samples_leaf': 7}. Best is trial 99 with value: 0.6100000000000001.\n",
      "[I 2023-07-23 00:04:37,048] Trial 158 finished with value: 0.525 and parameters: {'n_estimators': 422, 'max_depth': 62, 'min_samples_split': 13, 'min_samples_leaf': 5}. Best is trial 99 with value: 0.6100000000000001.\n",
      "[I 2023-07-23 00:04:40,619] Trial 159 finished with value: 0.5700000000000001 and parameters: {'n_estimators': 449, 'max_depth': 64, 'min_samples_split': 9, 'min_samples_leaf': 3}. Best is trial 99 with value: 0.6100000000000001.\n",
      "[I 2023-07-23 00:04:45,862] Trial 160 finished with value: 0.5975 and parameters: {'n_estimators': 430, 'max_depth': 34, 'min_samples_split': 4, 'min_samples_leaf': 1}. Best is trial 99 with value: 0.6100000000000001.\n",
      "[I 2023-07-23 00:04:51,101] Trial 161 finished with value: 0.6000000000000001 and parameters: {'n_estimators': 432, 'max_depth': 35, 'min_samples_split': 4, 'min_samples_leaf': 1}. Best is trial 99 with value: 0.6100000000000001.\n",
      "[I 2023-07-23 00:04:54,700] Trial 162 finished with value: 0.5675 and parameters: {'n_estimators': 434, 'max_depth': 30, 'min_samples_split': 4, 'min_samples_leaf': 3}. Best is trial 99 with value: 0.6100000000000001.\n",
      "[I 2023-07-23 00:04:59,692] Trial 163 finished with value: 0.5975 and parameters: {'n_estimators': 415, 'max_depth': 34, 'min_samples_split': 4, 'min_samples_leaf': 1}. Best is trial 99 with value: 0.6100000000000001.\n",
      "[I 2023-07-23 00:05:02,665] Trial 164 finished with value: 0.5375000000000001 and parameters: {'n_estimators': 412, 'max_depth': 34, 'min_samples_split': 2, 'min_samples_leaf': 5}. Best is trial 99 with value: 0.6100000000000001.\n",
      "[I 2023-07-23 00:05:06,719] Trial 165 finished with value: 0.5925 and parameters: {'n_estimators': 396, 'max_depth': 38, 'min_samples_split': 6, 'min_samples_leaf': 1}. Best is trial 99 with value: 0.6100000000000001.\n",
      "[I 2023-07-23 00:05:09,482] Trial 166 finished with value: 0.4925 and parameters: {'n_estimators': 424, 'max_depth': 33, 'min_samples_split': 8, 'min_samples_leaf': 8}. Best is trial 99 with value: 0.6100000000000001.\n",
      "[I 2023-07-23 00:05:12,334] Trial 167 finished with value: 0.515 and parameters: {'n_estimators': 417, 'max_depth': 59, 'min_samples_split': 4, 'min_samples_leaf': 6}. Best is trial 99 with value: 0.6100000000000001.\n",
      "[I 2023-07-23 00:05:15,609] Trial 168 finished with value: 0.5700000000000001 and parameters: {'n_estimators': 429, 'max_depth': 40, 'min_samples_split': 10, 'min_samples_leaf': 3}. Best is trial 99 with value: 0.6100000000000001.\n",
      "[I 2023-07-23 00:05:20,230] Trial 169 finished with value: 0.5825 and parameters: {'n_estimators': 444, 'max_depth': 35, 'min_samples_split': 6, 'min_samples_leaf': 1}. Best is trial 99 with value: 0.6100000000000001.\n",
      "[I 2023-07-23 00:05:23,059] Trial 170 finished with value: 0.53 and parameters: {'n_estimators': 401, 'max_depth': 37, 'min_samples_split': 2, 'min_samples_leaf': 5}. Best is trial 99 with value: 0.6100000000000001.\n",
      "[I 2023-07-23 00:05:28,256] Trial 171 finished with value: 0.605 and parameters: {'n_estimators': 435, 'max_depth': 28, 'min_samples_split': 4, 'min_samples_leaf': 1}. Best is trial 99 with value: 0.6100000000000001.\n",
      "[I 2023-07-23 00:05:33,525] Trial 172 finished with value: 0.5875 and parameters: {'n_estimators': 432, 'max_depth': 31, 'min_samples_split': 4, 'min_samples_leaf': 1}. Best is trial 99 with value: 0.6100000000000001.\n",
      "[I 2023-07-23 00:05:37,125] Trial 173 finished with value: 0.5675 and parameters: {'n_estimators': 416, 'max_depth': 28, 'min_samples_split': 5, 'min_samples_leaf': 3}. Best is trial 99 with value: 0.6100000000000001.\n",
      "[I 2023-07-23 00:05:40,501] Trial 174 finished with value: 0.5525 and parameters: {'n_estimators': 447, 'max_depth': 33, 'min_samples_split': 7, 'min_samples_leaf': 4}. Best is trial 99 with value: 0.6100000000000001.\n",
      "[I 2023-07-23 00:05:46,687] Trial 175 finished with value: 0.595 and parameters: {'n_estimators': 464, 'max_depth': 30, 'min_samples_split': 3, 'min_samples_leaf': 1}. Best is trial 99 with value: 0.6100000000000001.\n",
      "[I 2023-07-23 00:05:49,335] Trial 176 finished with value: 0.5125 and parameters: {'n_estimators': 425, 'max_depth': 57, 'min_samples_split': 2, 'min_samples_leaf': 7}. Best is trial 99 with value: 0.6100000000000001.\n",
      "[I 2023-07-23 00:05:51,696] Trial 177 finished with value: 0.44999999999999996 and parameters: {'n_estimators': 408, 'max_depth': 27, 'min_samples_split': 52, 'min_samples_leaf': 3}. Best is trial 99 with value: 0.6100000000000001.\n",
      "[I 2023-07-23 00:05:55,540] Trial 178 finished with value: 0.5700000000000001 and parameters: {'n_estimators': 437, 'max_depth': 34, 'min_samples_split': 8, 'min_samples_leaf': 1}. Best is trial 99 with value: 0.6100000000000001.\n",
      "[I 2023-07-23 00:05:58,830] Trial 179 finished with value: 0.5375000000000001 and parameters: {'n_estimators': 480, 'max_depth': 37, 'min_samples_split': 5, 'min_samples_leaf': 5}. Best is trial 99 with value: 0.6100000000000001.\n",
      "[I 2023-07-23 00:06:01,810] Trial 180 finished with value: 0.5549999999999999 and parameters: {'n_estimators': 388, 'max_depth': 32, 'min_samples_split': 4, 'min_samples_leaf': 4}. Best is trial 99 with value: 0.6100000000000001.\n",
      "[I 2023-07-23 00:06:07,164] Trial 181 finished with value: 0.6 and parameters: {'n_estimators': 442, 'max_depth': 26, 'min_samples_split': 4, 'min_samples_leaf': 1}. Best is trial 99 with value: 0.6100000000000001.\n",
      "[I 2023-07-23 00:06:14,133] Trial 182 finished with value: 0.6174999999999999 and parameters: {'n_estimators': 450, 'max_depth': 28, 'min_samples_split': 2, 'min_samples_leaf': 1}. Best is trial 182 with value: 0.6174999999999999.\n",
      "[I 2023-07-23 00:06:18,063] Trial 183 finished with value: 0.575 and parameters: {'n_estimators': 454, 'max_depth': 27, 'min_samples_split': 2, 'min_samples_leaf': 3}. Best is trial 182 with value: 0.6174999999999999.\n",
      "[I 2023-07-23 00:06:22,537] Trial 184 finished with value: 0.5950000000000001 and parameters: {'n_estimators': 444, 'max_depth': 29, 'min_samples_split': 6, 'min_samples_leaf': 1}. Best is trial 182 with value: 0.6174999999999999.\n",
      "[I 2023-07-23 00:06:24,655] Trial 185 finished with value: 0.18 and parameters: {'n_estimators': 455, 'max_depth': 21, 'min_samples_split': 7, 'min_samples_leaf': 52}. Best is trial 182 with value: 0.6174999999999999.\n",
      "[I 2023-07-23 00:06:27,458] Trial 186 finished with value: 0.515 and parameters: {'n_estimators': 439, 'max_depth': 25, 'min_samples_split': 2, 'min_samples_leaf': 6}. Best is trial 182 with value: 0.6174999999999999.\n",
      "[I 2023-07-23 00:06:31,149] Trial 187 finished with value: 0.5625 and parameters: {'n_estimators': 462, 'max_depth': 55, 'min_samples_split': 9, 'min_samples_leaf': 3}. Best is trial 182 with value: 0.6174999999999999.\n",
      "[I 2023-07-23 00:06:34,727] Trial 188 finished with value: 0.5750000000000001 and parameters: {'n_estimators': 428, 'max_depth': 31, 'min_samples_split': 5, 'min_samples_leaf': 3}. Best is trial 182 with value: 0.6174999999999999.\n",
      "[I 2023-07-23 00:06:40,161] Trial 189 finished with value: 0.6124999999999999 and parameters: {'n_estimators': 448, 'max_depth': 28, 'min_samples_split': 4, 'min_samples_leaf': 1}. Best is trial 182 with value: 0.6174999999999999.\n",
      "[I 2023-07-23 00:06:42,986] Trial 190 finished with value: 0.495 and parameters: {'n_estimators': 474, 'max_depth': 28, 'min_samples_split': 7, 'min_samples_leaf': 8}. Best is trial 182 with value: 0.6174999999999999.\n",
      "[I 2023-07-23 00:06:48,273] Trial 191 finished with value: 0.5950000000000001 and parameters: {'n_estimators': 448, 'max_depth': 26, 'min_samples_split': 4, 'min_samples_leaf': 1}. Best is trial 182 with value: 0.6174999999999999.\n",
      "[I 2023-07-23 00:06:51,483] Trial 192 finished with value: 0.5225 and parameters: {'n_estimators': 436, 'max_depth': 30, 'min_samples_split': 2, 'min_samples_leaf': 5}. Best is trial 182 with value: 0.6174999999999999.\n",
      "[I 2023-07-23 00:06:55,655] Trial 193 finished with value: 0.5625 and parameters: {'n_estimators': 488, 'max_depth': 23, 'min_samples_split': 4, 'min_samples_leaf': 3}. Best is trial 182 with value: 0.6174999999999999.\n",
      "[I 2023-07-23 00:06:59,905] Trial 194 finished with value: 0.5925 and parameters: {'n_estimators': 426, 'max_depth': 28, 'min_samples_split': 6, 'min_samples_leaf': 1}. Best is trial 182 with value: 0.6174999999999999.\n",
      "[I 2023-07-23 00:07:03,791] Trial 195 finished with value: 0.57 and parameters: {'n_estimators': 459, 'max_depth': 32, 'min_samples_split': 2, 'min_samples_leaf': 3}. Best is trial 182 with value: 0.6174999999999999.\n",
      "[I 2023-07-23 00:07:06,813] Trial 196 finished with value: 0.5449999999999999 and parameters: {'n_estimators': 447, 'max_depth': 26, 'min_samples_split': 9, 'min_samples_leaf': 5}. Best is trial 182 with value: 0.6174999999999999.\n",
      "[I 2023-07-23 00:07:12,149] Trial 197 finished with value: 0.605 and parameters: {'n_estimators': 436, 'max_depth': 30, 'min_samples_split': 4, 'min_samples_leaf': 1}. Best is trial 182 with value: 0.6174999999999999.\n",
      "[I 2023-07-23 00:07:16,060] Trial 198 finished with value: 0.5725 and parameters: {'n_estimators': 467, 'max_depth': 66, 'min_samples_split': 6, 'min_samples_leaf': 3}. Best is trial 182 with value: 0.6174999999999999.\n",
      "[I 2023-07-23 00:07:18,954] Trial 199 finished with value: 0.53 and parameters: {'n_estimators': 441, 'max_depth': 60, 'min_samples_split': 4, 'min_samples_leaf': 6}. Best is trial 182 with value: 0.6174999999999999.\n"
     ]
    }
   ],
   "source": [
    "study = optuna.create_study(direction=\"maximize\")\n",
    "study.optimize(objective, n_trials=200)"
   ],
   "metadata": {
    "collapsed": false,
    "ExecuteTime": {
     "end_time": "2023-07-22T17:07:18.977219600Z",
     "start_time": "2023-07-22T16:57:18.722304500Z"
    }
   }
  },
  {
   "cell_type": "code",
   "execution_count": 178,
   "outputs": [
    {
     "data": {
      "text/plain": "(450, 28, 2, 1)"
     },
     "execution_count": 178,
     "metadata": {},
     "output_type": "execute_result"
    }
   ],
   "source": [
    "best_params = study.best_params\n",
    "found_x = best_params[\"n_estimators\"]\n",
    "found_y = best_params[\"max_depth\"]\n",
    "found_z = best_params[\"min_samples_split\"]\n",
    "found_w = best_params[\"min_samples_leaf\"]\n",
    "found_x, found_y, found_z, found_w"
   ],
   "metadata": {
    "collapsed": false,
    "ExecuteTime": {
     "end_time": "2023-07-22T17:15:18.090598600Z",
     "start_time": "2023-07-22T17:15:18.034918900Z"
    }
   }
  },
  {
   "cell_type": "code",
   "execution_count": 12,
   "outputs": [],
   "source": [
    "etc = ExtraTreesClassifier(n_estimators=450, max_depth=28, min_samples_split=2, min_samples_leaf=1)"
   ],
   "metadata": {
    "collapsed": false,
    "ExecuteTime": {
     "end_time": "2023-07-23T03:28:24.610135Z",
     "start_time": "2023-07-23T03:28:24.591669900Z"
    }
   }
  },
  {
   "cell_type": "code",
   "execution_count": 13,
   "outputs": [],
   "source": [
    "vals, train_ixs, test_ixs = cross_val(df, etc)"
   ],
   "metadata": {
    "collapsed": false,
    "ExecuteTime": {
     "end_time": "2023-07-23T03:28:31.671382100Z",
     "start_time": "2023-07-23T03:28:27.972042800Z"
    }
   }
  },
  {
   "cell_type": "code",
   "execution_count": 14,
   "outputs": [],
   "source": [
    "df_no_t = df.drop(columns=\"targets\")\n"
   ],
   "metadata": {
    "collapsed": false,
    "ExecuteTime": {
     "end_time": "2023-07-23T03:28:33.355103200Z",
     "start_time": "2023-07-23T03:28:33.327708600Z"
    }
   }
  },
  {
   "cell_type": "code",
   "execution_count": 15,
   "outputs": [
    {
     "data": {
      "text/plain": "ExtraTreesClassifier(max_depth=28, n_estimators=450)",
      "text/html": "<style>#sk-container-id-1 {color: black;}#sk-container-id-1 pre{padding: 0;}#sk-container-id-1 div.sk-toggleable {background-color: white;}#sk-container-id-1 label.sk-toggleable__label {cursor: pointer;display: block;width: 100%;margin-bottom: 0;padding: 0.3em;box-sizing: border-box;text-align: center;}#sk-container-id-1 label.sk-toggleable__label-arrow:before {content: \"▸\";float: left;margin-right: 0.25em;color: #696969;}#sk-container-id-1 label.sk-toggleable__label-arrow:hover:before {color: black;}#sk-container-id-1 div.sk-estimator:hover label.sk-toggleable__label-arrow:before {color: black;}#sk-container-id-1 div.sk-toggleable__content {max-height: 0;max-width: 0;overflow: hidden;text-align: left;background-color: #f0f8ff;}#sk-container-id-1 div.sk-toggleable__content pre {margin: 0.2em;color: black;border-radius: 0.25em;background-color: #f0f8ff;}#sk-container-id-1 input.sk-toggleable__control:checked~div.sk-toggleable__content {max-height: 200px;max-width: 100%;overflow: auto;}#sk-container-id-1 input.sk-toggleable__control:checked~label.sk-toggleable__label-arrow:before {content: \"▾\";}#sk-container-id-1 div.sk-estimator input.sk-toggleable__control:checked~label.sk-toggleable__label {background-color: #d4ebff;}#sk-container-id-1 div.sk-label input.sk-toggleable__control:checked~label.sk-toggleable__label {background-color: #d4ebff;}#sk-container-id-1 input.sk-hidden--visually {border: 0;clip: rect(1px 1px 1px 1px);clip: rect(1px, 1px, 1px, 1px);height: 1px;margin: -1px;overflow: hidden;padding: 0;position: absolute;width: 1px;}#sk-container-id-1 div.sk-estimator {font-family: monospace;background-color: #f0f8ff;border: 1px dotted black;border-radius: 0.25em;box-sizing: border-box;margin-bottom: 0.5em;}#sk-container-id-1 div.sk-estimator:hover {background-color: #d4ebff;}#sk-container-id-1 div.sk-parallel-item::after {content: \"\";width: 100%;border-bottom: 1px solid gray;flex-grow: 1;}#sk-container-id-1 div.sk-label:hover label.sk-toggleable__label {background-color: #d4ebff;}#sk-container-id-1 div.sk-serial::before {content: \"\";position: absolute;border-left: 1px solid gray;box-sizing: border-box;top: 0;bottom: 0;left: 50%;z-index: 0;}#sk-container-id-1 div.sk-serial {display: flex;flex-direction: column;align-items: center;background-color: white;padding-right: 0.2em;padding-left: 0.2em;position: relative;}#sk-container-id-1 div.sk-item {position: relative;z-index: 1;}#sk-container-id-1 div.sk-parallel {display: flex;align-items: stretch;justify-content: center;background-color: white;position: relative;}#sk-container-id-1 div.sk-item::before, #sk-container-id-1 div.sk-parallel-item::before {content: \"\";position: absolute;border-left: 1px solid gray;box-sizing: border-box;top: 0;bottom: 0;left: 50%;z-index: -1;}#sk-container-id-1 div.sk-parallel-item {display: flex;flex-direction: column;z-index: 1;position: relative;background-color: white;}#sk-container-id-1 div.sk-parallel-item:first-child::after {align-self: flex-end;width: 50%;}#sk-container-id-1 div.sk-parallel-item:last-child::after {align-self: flex-start;width: 50%;}#sk-container-id-1 div.sk-parallel-item:only-child::after {width: 0;}#sk-container-id-1 div.sk-dashed-wrapped {border: 1px dashed gray;margin: 0 0.4em 0.5em 0.4em;box-sizing: border-box;padding-bottom: 0.4em;background-color: white;}#sk-container-id-1 div.sk-label label {font-family: monospace;font-weight: bold;display: inline-block;line-height: 1.2em;}#sk-container-id-1 div.sk-label-container {text-align: center;}#sk-container-id-1 div.sk-container {/* jupyter's `normalize.less` sets `[hidden] { display: none; }` but bootstrap.min.css set `[hidden] { display: none !important; }` so we also need the `!important` here to be able to override the default hidden behavior on the sphinx rendered scikit-learn.org. See: https://github.com/scikit-learn/scikit-learn/issues/21755 */display: inline-block !important;position: relative;}#sk-container-id-1 div.sk-text-repr-fallback {display: none;}</style><div id=\"sk-container-id-1\" class=\"sk-top-container\"><div class=\"sk-text-repr-fallback\"><pre>ExtraTreesClassifier(max_depth=28, n_estimators=450)</pre><b>In a Jupyter environment, please rerun this cell to show the HTML representation or trust the notebook. <br />On GitHub, the HTML representation is unable to render, please try loading this page with nbviewer.org.</b></div><div class=\"sk-container\" hidden><div class=\"sk-item\"><div class=\"sk-estimator sk-toggleable\"><input class=\"sk-toggleable__control sk-hidden--visually\" id=\"sk-estimator-id-1\" type=\"checkbox\" checked><label for=\"sk-estimator-id-1\" class=\"sk-toggleable__label sk-toggleable__label-arrow\">ExtraTreesClassifier</label><div class=\"sk-toggleable__content\"><pre>ExtraTreesClassifier(max_depth=28, n_estimators=450)</pre></div></div></div></div></div>"
     },
     "execution_count": 15,
     "metadata": {},
     "output_type": "execute_result"
    }
   ],
   "source": [
    "etc.fit(df_no_t.iloc[train_ixs], df[\"targets\"].iloc[train_ixs])"
   ],
   "metadata": {
    "collapsed": false,
    "ExecuteTime": {
     "end_time": "2023-07-23T03:28:38.571984200Z",
     "start_time": "2023-07-23T03:28:37.483468100Z"
    }
   }
  },
  {
   "cell_type": "code",
   "execution_count": 20,
   "outputs": [
    {
     "data": {
      "text/plain": "0.64"
     },
     "execution_count": 20,
     "metadata": {},
     "output_type": "execute_result"
    }
   ],
   "source": [
    "accuracy_score(df.iloc[test_ixs][\"targets\"], etc.predict(df_no_t.iloc[test_ixs]))"
   ],
   "metadata": {
    "collapsed": false,
    "ExecuteTime": {
     "end_time": "2023-07-23T03:28:56.637269700Z",
     "start_time": "2023-07-23T03:28:56.583830800Z"
    }
   }
  },
  {
   "cell_type": "code",
   "execution_count": 71,
   "outputs": [],
   "source": [
    "from sklearn.ensemble import ExtraTreesClassifier"
   ],
   "metadata": {
    "collapsed": false,
    "ExecuteTime": {
     "end_time": "2023-07-22T15:18:07.263116800Z",
     "start_time": "2023-07-22T15:18:07.239060800Z"
    }
   }
  },
  {
   "cell_type": "code",
   "execution_count": 186,
   "outputs": [
    {
     "data": {
      "text/plain": "0.5840000000000001"
     },
     "execution_count": 186,
     "metadata": {},
     "output_type": "execute_result"
    }
   ],
   "source": [
    "validation(df, ExtraTreesClassifier()).mean()"
   ],
   "metadata": {
    "collapsed": false,
    "ExecuteTime": {
     "end_time": "2023-07-22T17:16:33.514330700Z",
     "start_time": "2023-07-22T17:16:30.957569200Z"
    }
   }
  },
  {
   "cell_type": "code",
   "execution_count": 151,
   "outputs": [],
   "source": [
    "df.drop(columns=\"frequency_of_longest_word\", inplace=True)"
   ],
   "metadata": {
    "collapsed": false,
    "ExecuteTime": {
     "end_time": "2023-07-22T15:31:26.502249400Z",
     "start_time": "2023-07-22T15:31:26.478697600Z"
    }
   }
  },
  {
   "cell_type": "code",
   "execution_count": null,
   "outputs": [],
   "source": [
    "df.value_counts()"
   ],
   "metadata": {
    "collapsed": false
   }
  },
  {
   "cell_type": "code",
   "execution_count": 146,
   "outputs": [],
   "source": [
    "df.to_csv(\"first_dataset.csv\", index=False)"
   ],
   "metadata": {
    "collapsed": false,
    "ExecuteTime": {
     "end_time": "2023-07-22T10:37:37.029039800Z",
     "start_time": "2023-07-22T10:37:36.971007200Z"
    }
   }
  },
  {
   "cell_type": "code",
   "execution_count": 125,
   "outputs": [
    {
     "data": {
      "application/vnd.plotly.v1+json": {
       "data": [
        {
         "coloraxis": "coloraxis",
         "name": "0",
         "texttemplate": "%{z}",
         "x": [
          "capitalized_words_count_without_start_of_sentences",
          "most_common_first_letter_in_sentences",
          "avg_length_of_sentence_by_letters",
          "count_upper_words",
          "frequency_of_longest_word",
          "frequency_of_a",
          "freq_of_t",
          "freq_of_n",
          "freq_of_e",
          "freq_of_o",
          "freq_of_a",
          "freq_of_i",
          "freq_of_enter",
          "freq_of_semicolon",
          "correlation_of_vowels_consonants",
          "freq_of_number",
          "freq_of_quotation",
          "freq_of_bracket",
          "freq_of_exclamation_mark",
          "freq_of_question_mark",
          "freq_of_comma",
          "freq_of_dot",
          "avg_syllable_per_adverb",
          "avg_syllable_per_adjective",
          "avg_syllable_per_verb",
          "avg_syllable_per_noun",
          "freq_word_from_adverbs",
          "freq_word_from_verbs",
          "freq_word_from_adverbs",
          "freq_word_from_noun",
          "average_lenght_of_verbs",
          "average_lenght_of_adverbs",
          "average_lenght_of_adjectives",
          "average_lenght_of_nouns"
         ],
         "y": [
          "capitalized_words_count_without_start_of_sentences",
          "most_common_first_letter_in_sentences",
          "avg_length_of_sentence_by_letters",
          "count_upper_words",
          "frequency_of_longest_word",
          "frequency_of_a",
          "freq_of_t",
          "freq_of_n",
          "freq_of_e",
          "freq_of_o",
          "freq_of_a",
          "freq_of_i",
          "freq_of_enter",
          "freq_of_semicolon",
          "correlation_of_vowels_consonants",
          "freq_of_number",
          "freq_of_quotation",
          "freq_of_bracket",
          "freq_of_exclamation_mark",
          "freq_of_question_mark",
          "freq_of_comma",
          "freq_of_dot",
          "avg_syllable_per_adverb",
          "avg_syllable_per_adjective",
          "avg_syllable_per_verb",
          "avg_syllable_per_noun",
          "freq_word_from_adverbs",
          "freq_word_from_verbs",
          "freq_word_from_adverbs",
          "freq_word_from_noun",
          "average_lenght_of_verbs",
          "average_lenght_of_adverbs",
          "average_lenght_of_adjectives",
          "average_lenght_of_nouns"
         ],
         "z": [
          [
           1.0,
           0.056815141081457306,
           -0.03516221296576588,
           0.7672262731909347,
           0.9020529089524538,
           0.939083617275405,
           -0.013089834951915166,
           0.03271585086316465,
           0.004296166739387834,
           0.1192154720919816,
           0.10924097766293471,
           -0.07057485137046145,
           0.05169090848095076,
           -0.043011665631359636,
           0.0023531927788451546,
           -0.08384860841909345,
           -0.06980723690781886,
           -0.0844195953866664,
           0.07461923978793406,
           -0.008638635373893812,
           0.13406764001561042,
           -0.06858103296675407,
           0.09515715485676089,
           0.06705988699425942,
           0.05817852316365086,
           0.13842791216404945,
           -0.17495792940002303,
           -0.08843512335000912,
           -0.17495792940002303,
           -0.2149501071532635,
           0.08825012106724842,
           0.09245681310546394,
           0.05616807287308762,
           0.15437422295410927
          ],
          [
           0.056815141081457306,
           1.0,
           -0.06703232304869795,
           0.07988133407901886,
           0.07570310350511775,
           0.07098309269607268,
           -0.11338563493161556,
           -0.04504806055593551,
           -0.058132798742062876,
           -0.0739872707874783,
           0.02928777260330592,
           -0.0839442186335391,
           0.157330207921539,
           -0.06099752393821225,
           0.029951359101377847,
           0.04731185782193208,
           0.07368973587865074,
           -0.014137718428644402,
           0.005233675941633937,
           -0.006834471878829575,
           0.03393032242673372,
           0.015580617043879898,
           0.04943514939222768,
           -0.004475686181966348,
           -0.03352932745863198,
           -0.09450071192087246,
           -0.03822492190240968,
           -0.06989489964183723,
           -0.03822492190240968,
           -0.09614209058957952,
           -0.03904989749889867,
           0.06923725462392076,
           -0.01730182916906376,
           -0.13966453514786015
          ],
          [
           -0.03516221296576588,
           -0.06703232304869795,
           1.0,
           -0.07405353323030787,
           -0.020589658637433637,
           0.006878838288177712,
           0.08147913917036158,
           0.3961565086760907,
           0.2062558602706508,
           0.3722211421354165,
           -0.13451268912801,
           0.45293636023799116,
           -0.3993819435488575,
           0.24042715350545768,
           -0.08684464734476006,
           -0.03857031939379167,
           0.046283895914163785,
           -0.12352475005749826,
           -0.5616701590468269,
           -0.4867981062497329,
           0.021618947863939867,
           -0.6675597020924368,
           0.1773901129924048,
           0.2200084956265675,
           0.3691432534132081,
           0.37605808984869266,
           -0.0513692963226498,
           0.1051599220083907,
           -0.0513692963226498,
           0.0991131006280211,
           0.444785686751467,
           0.1272136820754195,
           0.30837609660755194,
           0.4267702847445932
          ],
          [
           0.7672262731909347,
           0.07988133407901886,
           -0.07405353323030787,
           1.0,
           0.7461582472764651,
           0.7430923450386742,
           -0.002578242264105565,
           -0.011833649015262421,
           -0.022399702830758633,
           0.07196777535863066,
           0.14113676196865002,
           -0.06883848204807641,
           0.0194432269012289,
           -0.053627338103847684,
           0.02299300344962369,
           -0.07255666849672733,
           -0.07449006302328073,
           -0.06635722716794872,
           0.08651814879756647,
           0.05100155207130447,
           0.07552233761564778,
           0.03916947907478301,
           0.06798352376875619,
           0.05136421277010191,
           0.03157620105818483,
           0.09098449203674884,
           -0.13680318380298984,
           -0.09043899649952729,
           -0.13680318380298984,
           -0.19864349791732858,
           0.04961860930866738,
           0.06530669071818679,
           0.03075266869242182,
           0.10477177030898834
          ],
          [
           0.9020529089524538,
           0.07570310350511775,
           -0.020589658637433637,
           0.7461582472764651,
           1.0,
           0.9745467191829673,
           0.005365095360248113,
           0.001847116433522363,
           -0.04204958805280369,
           0.16714288484956885,
           0.1375236539005955,
           -0.12019906049256007,
           0.088132930865052,
           -0.07162300090640623,
           -0.0018623390880122303,
           -0.17249236387709577,
           -0.11437354713215876,
           -0.17766184315728412,
           0.10685730039381944,
           -0.0014260744777368163,
           0.1772085557282825,
           -0.09911970531744255,
           0.08304476764692699,
           0.0865792461021733,
           0.03470598820572901,
           0.12986138189027366,
           -0.16529178960192292,
           -0.08545267865885321,
           -0.16529178960192292,
           -0.21280403770559417,
           0.08810252309683866,
           0.09496073258805128,
           0.049912007958355625,
           0.14008693131287162
          ],
          [
           0.939083617275405,
           0.07098309269607268,
           0.006878838288177712,
           0.7430923450386742,
           0.9745467191829673,
           1.0,
           0.04101288895133475,
           0.06073959186686972,
           0.016432576173600603,
           0.20557429852326678,
           0.16698913117469355,
           -0.06887501453948505,
           0.042646726088200256,
           -0.05249521306698351,
           0.005740197929691624,
           -0.15333988170221297,
           -0.10864975962792343,
           -0.14603841483741709,
           0.07333047537515028,
           -0.02878868959484835,
           0.16283885190592096,
           -0.10378047909826633,
           0.12802620237120257,
           0.12428494208991114,
           0.09381115449244014,
           0.18225205350443457,
           -0.18663917559923304,
           -0.09725806633530788,
           -0.18663917559923304,
           -0.23289365871221426,
           0.136666741766431,
           0.12042084211231341,
           0.10217640048433443,
           0.1969200703452358
          ],
          [
           -0.013089834951915166,
           -0.11338563493161556,
           0.08147913917036158,
           -0.002578242264105565,
           0.005365095360248113,
           0.04101288895133475,
           1.0,
           0.22952182859108677,
           0.4149677563402256,
           0.4131713577173326,
           0.10450078152364824,
           0.1636575714984139,
           -0.06304279350805497,
           0.08241250672935539,
           0.14659711541316114,
           -0.1458574969885379,
           -0.05001916138002833,
           -9.576538533359953E-4,
           0.1536449524243701,
           0.019859227132960292,
           0.13154589051527096,
           -0.013407610835819586,
           0.15961906394800263,
           0.32877516633087545,
           0.21262078539204154,
           0.38959842376998133,
           -0.0020760233883204485,
           -0.011779608898833716,
           -0.0020760233883204485,
           -0.0624957052624477,
           0.1414518897916514,
           0.042696909984341544,
           0.2968468954826434,
           0.3838388375578668
          ],
          [
           0.03271585086316465,
           -0.04504806055593551,
           0.3961565086760907,
           -0.011833649015262421,
           0.001847116433522363,
           0.06073959186686972,
           0.22952182859108677,
           1.0,
           0.6409643981593848,
           0.5306384688438456,
           0.09607292286073651,
           0.47325168077328456,
           -0.4047863658510781,
           0.0465407504919616,
           0.14238451548435155,
           -0.20321669529306716,
           -0.18103731144521346,
           -0.18070696204595138,
           -0.2539251935888751,
           -0.4294943395894935,
           0.12692288674910615,
           -0.34978753717230116,
           0.39808734822549774,
           0.5587139735273307,
           0.426419220211584,
           0.4891817260215765,
           -0.22131579127273063,
           -0.10091079795320188,
           -0.22131579127273063,
           -0.11729013293431824,
           0.4667815034151187,
           0.30593782540540954,
           0.5934594429807393,
           0.5079534889616416
          ],
          [
           0.004296166739387834,
           -0.058132798742062876,
           0.2062558602706508,
           -0.022399702830758633,
           -0.04204958805280369,
           0.016432576173600603,
           0.4149677563402256,
           0.6409643981593848,
           1.0,
           0.45949635451532894,
           0.06513738118552845,
           0.2870519481034688,
           -0.14727292891674532,
           0.07851053048029472,
           0.3569266901766897,
           -0.18809701356407868,
           -0.17064003039767886,
           -0.08149023312774632,
           -0.1195391963891543,
           -0.25360202063436166,
           0.21858800400048825,
           -0.21328346921565808,
           0.3869354580800128,
           0.5272763553824887,
           0.43811497770079283,
           0.4731478900351758,
           -0.20308780061833853,
           -0.1490564050684732,
           -0.20308780061833853,
           -0.19102586805667704,
           0.3910851816786529,
           0.289919108570589,
           0.48919336449470613,
           0.3799113225392313
          ],
          [
           0.1192154720919816,
           -0.0739872707874783,
           0.3722211421354165,
           0.07196777535863066,
           0.16714288484956885,
           0.20557429852326678,
           0.4131713577173326,
           0.5306384688438456,
           0.45949635451532894,
           1.0,
           0.3204724004355913,
           0.35456592789732977,
           -0.227430649072945,
           0.01705127148909868,
           0.22494583522229142,
           -0.4080424976919555,
           -0.34950350566358523,
           -0.36397822389189183,
           -0.09914481783064143,
           -0.32706349690719594,
           0.19682228665037887,
           -0.32052889562304543,
           0.5042931909017178,
           0.5266092490794824,
           0.5919889452939985,
           0.594510157367229,
           -0.37181599643961327,
           -0.19627364863307417,
           -0.37181599643961327,
           -0.24097503644835458,
           0.6213502657795408,
           0.3674776461109125,
           0.47902509293111467,
           0.5821597772577001
          ],
          [
           0.10924097766293471,
           0.02928777260330592,
           -0.13451268912801,
           0.14113676196865002,
           0.1375236539005955,
           0.16698913117469355,
           0.10450078152364824,
           0.09607292286073651,
           0.06513738118552845,
           0.3204724004355913,
           1.0,
           -0.024330718679037657,
           0.008790891122897068,
           -0.05362265247623338,
           0.26391419716652853,
           -0.2478405806935527,
           -0.27373117185239043,
           -0.16454126189538182,
           0.04686055150329964,
           0.013651735038548085,
           0.17589150471524942,
           0.06985996823106294,
           0.20654591712910453,
           0.22708653631802758,
           0.23866164865856695,
           0.1267232989866564,
           -0.15094013385629412,
           -0.18793443556379658,
           -0.15094013385629412,
           -0.2245754820056496,
           0.19168557543134437,
           0.0904004603483059,
           0.17660627125178055,
           0.13726452466942066
          ],
          [
           -0.07057485137046145,
           -0.0839442186335391,
           0.45293636023799116,
           -0.06883848204807641,
           -0.12019906049256007,
           -0.06887501453948505,
           0.1636575714984139,
           0.47325168077328456,
           0.2870519481034688,
           0.35456592789732977,
           -0.024330718679037657,
           1.0,
           -0.5653559792740123,
           0.006832849643985105,
           0.19086910938589047,
           0.11542343951099127,
           0.05824178883225604,
           0.03485950603068206,
           -0.40936784469164944,
           -0.3699284433259003,
           -0.24201620779327618,
           -0.2903366860660957,
           0.34931693701198785,
           0.5082854031277254,
           0.605052419663024,
           0.49463738405544166,
           -0.3134556728244707,
           -0.0156231341884706,
           -0.3134556728244707,
           0.029059706055049282,
           0.5782475364316879,
           0.1732893980105794,
           0.5524125335167559,
           0.42189144520614
          ],
          [
           0.05169090848095076,
           0.157330207921539,
           -0.3993819435488575,
           0.0194432269012289,
           0.088132930865052,
           0.042646726088200256,
           -0.06304279350805497,
           -0.4047863658510781,
           -0.14727292891674532,
           -0.227430649072945,
           0.008790891122897068,
           -0.5653559792740123,
           1.0,
           -5.067455946311521E-4,
           0.050769266369544014,
           -0.16657337996920013,
           -0.22034705794944534,
           -0.2117400749554844,
           0.4042052247776205,
           0.2983706128174523,
           0.3797573040213531,
           0.06857998974455555,
           -0.35663049657714585,
           -0.42592878185663363,
           -0.5417600221699099,
           -0.5188778132351008,
           0.13662708961807873,
           -0.006934668943774601,
           0.13662708961807873,
           -0.06574546550980298,
           -0.5781531998758435,
           -0.2798284179975767,
           -0.5816263374403553,
           -0.5730518284831464
          ],
          [
           -0.043011665631359636,
           -0.06099752393821225,
           0.24042715350545768,
           -0.053627338103847684,
           -0.07162300090640623,
           -0.05249521306698351,
           0.08241250672935539,
           0.0465407504919616,
           0.07851053048029472,
           0.01705127148909868,
           -0.05362265247623338,
           0.006832849643985105,
           -5.067455946311521E-4,
           1.0,
           -0.08049528463309422,
           -0.06542871776247988,
           0.022657989176820607,
           -0.005828099043495959,
           -0.022253768107345903,
           -0.08339531302819973,
           -0.05671517828032862,
           -0.26748111932381213,
           -0.07573575752549828,
           0.0035347444397183145,
           -0.002364880173716364,
           0.03452868803765158,
           0.007690680876674542,
           -0.037431375976260846,
           0.007690680876674542,
           -0.017558416152359514,
           -1.2084857345862535E-4,
           -0.022506610671136917,
           -0.037513507279181055,
           0.018676908872573842
          ],
          [
           0.0023531927788451546,
           0.029951359101377847,
           -0.08684464734476006,
           0.02299300344962369,
           -0.0018623390880122303,
           0.005740197929691624,
           0.14659711541316114,
           0.14238451548435155,
           0.3569266901766897,
           0.22494583522229142,
           0.26391419716652853,
           0.19086910938589047,
           0.050769266369544014,
           -0.08049528463309422,
           1.0,
           -0.09283427697708173,
           -0.15495047491852748,
           0.08150840579908111,
           0.13300405738554424,
           -0.0828529722731428,
           0.03622263078380382,
           0.11412201015280836,
           0.17075370457366787,
           0.14631931297188272,
           0.26753911869817754,
           0.4117303905331384,
           -0.14266034306570105,
           -0.05719221455007706,
           -0.14266034306570105,
           -0.15367923748842,
           0.17165294083722468,
           0.06087030900369799,
           0.035256261800056074,
           0.227869899384249
          ],
          [
           -0.08384860841909345,
           0.04731185782193208,
           -0.03857031939379167,
           -0.07255666849672733,
           -0.17249236387709577,
           -0.15333988170221297,
           -0.1458574969885379,
           -0.20321669529306716,
           -0.18809701356407868,
           -0.4080424976919555,
           -0.2478405806935527,
           0.11542343951099127,
           -0.16657337996920013,
           -0.06542871776247988,
           -0.09283427697708173,
           1.0,
           0.5430906049733634,
           0.5372233071511591,
           -0.24714606843356932,
           -0.043898866503830895,
           -0.46447554772724137,
           0.14708126415684508,
           0.0044759941017264914,
           -0.3117732628675499,
           0.09735947471792089,
           -0.04883051557125562,
           0.0037800880174487005,
           0.1494653080848962,
           0.0037800880174487005,
           0.10426487476137879,
           0.007636062296485243,
           -0.03896919957246218,
           -0.1144386112838279,
           -0.0815753599921536
          ],
          [
           -0.06980723690781886,
           0.07368973587865074,
           0.046283895914163785,
           -0.07449006302328073,
           -0.11437354713215876,
           -0.10864975962792343,
           -0.05001916138002833,
           -0.18103731144521346,
           -0.17064003039767886,
           -0.34950350566358523,
           -0.27373117185239043,
           0.05824178883225604,
           -0.22034705794944534,
           0.022657989176820607,
           -0.15495047491852748,
           0.5430906049733634,
           1.0,
           0.5240585169803593,
           -0.28326579268869884,
           -0.11972891379570791,
           -0.36853881858083637,
           0.1352780546101863,
           0.07134583701460849,
           -0.06668475220036618,
           0.1327724827106613,
           -0.011406318245279058,
           0.1261379041485664,
           0.04757950894797474,
           0.1261379041485664,
           0.11293132364788117,
           0.05145796363993512,
           0.07588113547260303,
           0.11314112075775602,
           -0.04206190266497235
          ],
          [
           -0.0844195953866664,
           -0.014137718428644402,
           -0.12352475005749826,
           -0.06635722716794872,
           -0.17766184315728412,
           -0.14603841483741709,
           -9.576538533359953E-4,
           -0.18070696204595138,
           -0.08149023312774632,
           -0.36397822389189183,
           -0.16454126189538182,
           0.03485950603068206,
           -0.2117400749554844,
           -0.005828099043495959,
           0.08150840579908111,
           0.5372233071511591,
           0.5240585169803593,
           1.0,
           -0.07259164362806707,
           0.0900832081746315,
           -0.42561327466588034,
           0.3419841629067223,
           0.06329584273998119,
           -0.178482379859177,
           0.07452884985168665,
           0.007036651682359357,
           0.13784225853051768,
           0.02539567501847525,
           0.13784225853051768,
           0.02942144882807136,
           -0.04083503973663168,
           0.034817565660446276,
           -0.04288391467801819,
           -0.022572340016890364
          ],
          [
           0.07461923978793406,
           0.005233675941633937,
           -0.5616701590468269,
           0.08651814879756647,
           0.10685730039381944,
           0.07333047537515028,
           0.1536449524243701,
           -0.2539251935888751,
           -0.1195391963891543,
           -0.09914481783064143,
           0.04686055150329964,
           -0.40936784469164944,
           0.4042052247776205,
           -0.022253768107345903,
           0.13300405738554424,
           -0.24714606843356932,
           -0.28326579268869884,
           -0.07259164362806707,
           1.0,
           0.48824702856185576,
           0.17235563775953686,
           0.3760851695622708,
           -0.14428976640788796,
           -0.10710546334708293,
           -0.35839074853901215,
           -0.15990868041185163,
           0.11164874492114416,
           -0.07842518581005528,
           0.11164874492114416,
           -0.12160831870360846,
           -0.3725732985240966,
           -0.0687027197949632,
           -0.2987011660239394,
           -0.16183392265707006
          ],
          [
           -0.008638635373893812,
           -0.006834471878829575,
           -0.4867981062497329,
           0.05100155207130447,
           -0.0014260744777368163,
           -0.02878868959484835,
           0.019859227132960292,
           -0.4294943395894935,
           -0.25360202063436166,
           -0.32706349690719594,
           0.013651735038548085,
           -0.3699284433259003,
           0.2983706128174523,
           -0.08339531302819973,
           -0.0828529722731428,
           -0.043898866503830895,
           -0.11972891379570791,
           0.0900832081746315,
           0.48824702856185576,
           1.0,
           -0.03248133825221199,
           0.3464627508614839,
           -0.28912492110724564,
           -0.2247811736637426,
           -0.35037114952992787,
           -0.3047259726046034,
           0.1433078965718304,
           0.027693499594783188,
           0.1433078965718304,
           -0.022804554609102273,
           -0.4445230053851402,
           -0.2611846963800409,
           -0.30368766373833095,
           -0.2731022651132298
          ],
          [
           0.13406764001561042,
           0.03393032242673372,
           0.021618947863939867,
           0.07552233761564778,
           0.1772085557282825,
           0.16283885190592096,
           0.13154589051527096,
           0.12692288674910615,
           0.21858800400048825,
           0.19682228665037887,
           0.17589150471524942,
           -0.24201620779327618,
           0.3797573040213531,
           -0.05671517828032862,
           0.03622263078380382,
           -0.46447554772724137,
           -0.36853881858083637,
           -0.42561327466588034,
           0.17235563775953686,
           -0.03248133825221199,
           1.0,
           -0.15953854518780078,
           0.03131604107334455,
           0.08868270433542023,
           -0.2573428416704386,
           -0.06338465223413729,
           0.14260915001230287,
           -0.22861748372602095,
           0.14260915001230287,
           -0.29612028581790645,
           -0.22336489672282,
           0.07674939966839871,
           -0.06972846294682825,
           -0.023820986045408228
          ],
          [
           -0.06858103296675407,
           0.015580617043879898,
           -0.6675597020924368,
           0.03916947907478301,
           -0.09911970531744255,
           -0.10378047909826633,
           -0.013407610835819586,
           -0.34978753717230116,
           -0.21328346921565808,
           -0.32052889562304543,
           0.06985996823106294,
           -0.2903366860660957,
           0.06857998974455555,
           -0.26748111932381213,
           0.11412201015280836,
           0.14708126415684508,
           0.1352780546101863,
           0.3419841629067223,
           0.3760851695622708,
           0.3464627508614839,
           -0.15953854518780078,
           1.0,
           -0.03274785742278628,
           -0.11650080967974982,
           -0.14741635924050428,
           -0.1675516165718526,
           0.04260682076299653,
           -0.12170018117557338,
           0.04260682076299653,
           -0.10511743885261106,
           -0.23252570429558236,
           -0.013061230201839217,
           -0.14860290592616368,
           -0.18777549590317386
          ],
          [
           0.09515715485676089,
           0.04943514939222768,
           0.1773901129924048,
           0.06798352376875619,
           0.08304476764692699,
           0.12802620237120257,
           0.15961906394800263,
           0.39808734822549774,
           0.3869354580800128,
           0.5042931909017178,
           0.20654591712910453,
           0.34931693701198785,
           -0.35663049657714585,
           -0.07573575752549828,
           0.17075370457366787,
           0.0044759941017264914,
           0.07134583701460849,
           0.06329584273998119,
           -0.14428976640788796,
           -0.28912492110724564,
           0.03131604107334455,
           -0.03274785742278628,
           1.0,
           0.5059003461283116,
           0.5754063432130508,
           0.47044578236322565,
           -0.2751721699982612,
           -0.6293269762670859,
           -0.2751721699982612,
           -0.5531255169734304,
           0.5684472313695161,
           0.93828385222748,
           0.5217789478746748,
           0.4621991310369701
          ],
          [
           0.06705988699425942,
           -0.004475686181966348,
           0.2200084956265675,
           0.05136421277010191,
           0.0865792461021733,
           0.12428494208991114,
           0.32877516633087545,
           0.5587139735273307,
           0.5272763553824887,
           0.5266092490794824,
           0.22708653631802758,
           0.5082854031277254,
           -0.42592878185663363,
           0.0035347444397183145,
           0.14631931297188272,
           -0.3117732628675499,
           -0.06668475220036618,
           -0.178482379859177,
           -0.10710546334708293,
           -0.2247811736637426,
           0.08868270433542023,
           -0.11650080967974982,
           0.5059003461283116,
           1.0,
           0.559795519501607,
           0.5623806230786962,
           -0.24363719959125946,
           -0.2512743980033779,
           -0.24363719959125946,
           -0.15932960053897907,
           0.5747152746690933,
           0.4219506807059044,
           0.925749816805131,
           0.4767081833871288
          ],
          [
           0.05817852316365086,
           -0.03352932745863198,
           0.3691432534132081,
           0.03157620105818483,
           0.03470598820572901,
           0.09381115449244014,
           0.21262078539204154,
           0.426419220211584,
           0.43811497770079283,
           0.5919889452939985,
           0.23866164865856695,
           0.605052419663024,
           -0.5417600221699099,
           -0.002364880173716364,
           0.26753911869817754,
           0.09735947471792089,
           0.1327724827106613,
           0.07452884985168665,
           -0.35839074853901215,
           -0.35037114952992787,
           -0.2573428416704386,
           -0.14741635924050428,
           0.5754063432130508,
           0.559795519501607,
           1.0,
           0.6528294464608166,
           -0.48522447261455776,
           -0.1356980079847802,
           -0.48522447261455776,
           -0.19107509163111144,
           0.939883043930409,
           0.39665822687409547,
           0.6182578693975106,
           0.5434834859883575
          ],
          [
           0.13842791216404945,
           -0.09450071192087246,
           0.37605808984869266,
           0.09098449203674884,
           0.12986138189027366,
           0.18225205350443457,
           0.38959842376998133,
           0.4891817260215765,
           0.4731478900351758,
           0.594510157367229,
           0.1267232989866564,
           0.49463738405544166,
           -0.5188778132351008,
           0.03452868803765158,
           0.4117303905331384,
           -0.04883051557125562,
           -0.011406318245279058,
           0.007036651682359357,
           -0.15990868041185163,
           -0.3047259726046034,
           -0.06338465223413729,
           -0.1675516165718526,
           0.47044578236322565,
           0.5623806230786962,
           0.6528294464608166,
           1.0,
           -0.29436936116273593,
           -0.0876749434771126,
           -0.29436936116273593,
           -0.21593713147669338,
           0.6591873890333297,
           0.3662828987780389,
           0.5793443380550051,
           0.9221619870766214
          ],
          [
           -0.17495792940002303,
           -0.03822492190240968,
           -0.0513692963226498,
           -0.13680318380298984,
           -0.16529178960192292,
           -0.18663917559923304,
           -0.0020760233883204485,
           -0.22131579127273063,
           -0.20308780061833853,
           -0.37181599643961327,
           -0.15094013385629412,
           -0.3134556728244707,
           0.13662708961807873,
           0.007690680876674542,
           -0.14266034306570105,
           0.0037800880174487005,
           0.1261379041485664,
           0.13784225853051768,
           0.11164874492114416,
           0.1433078965718304,
           0.14260915001230287,
           0.04260682076299653,
           -0.2751721699982612,
           -0.24363719959125946,
           -0.48522447261455776,
           -0.29436936116273593,
           1.0,
           0.1622121715190504,
           1.0,
           0.28635620587473914,
           -0.4869977054975462,
           -0.1812379141356446,
           -0.2385297177355202,
           -0.18198469569794454
          ],
          [
           -0.08843512335000912,
           -0.06989489964183723,
           0.1051599220083907,
           -0.09043899649952729,
           -0.08545267865885321,
           -0.09725806633530788,
           -0.011779608898833716,
           -0.10091079795320188,
           -0.1490564050684732,
           -0.19627364863307417,
           -0.18793443556379658,
           -0.0156231341884706,
           -0.006934668943774601,
           -0.037431375976260846,
           -0.05719221455007706,
           0.1494653080848962,
           0.04757950894797474,
           0.02539567501847525,
           -0.07842518581005528,
           0.027693499594783188,
           -0.22861748372602095,
           -0.12170018117557338,
           -0.6293269762670859,
           -0.2512743980033779,
           -0.1356980079847802,
           -0.0876749434771126,
           0.1622121715190504,
           1.0,
           0.16221217151905049,
           0.7151550883310305,
           -0.14566486171671317,
           -0.7006252715687027,
           -0.15991895031389278,
           -0.12467573375900437
          ],
          [
           -0.17495792940002303,
           -0.03822492190240968,
           -0.0513692963226498,
           -0.13680318380298984,
           -0.16529178960192292,
           -0.18663917559923304,
           -0.0020760233883204485,
           -0.22131579127273063,
           -0.20308780061833853,
           -0.37181599643961327,
           -0.15094013385629412,
           -0.3134556728244707,
           0.13662708961807873,
           0.007690680876674542,
           -0.14266034306570105,
           0.0037800880174487005,
           0.1261379041485664,
           0.13784225853051768,
           0.11164874492114416,
           0.1433078965718304,
           0.14260915001230287,
           0.04260682076299653,
           -0.2751721699982612,
           -0.24363719959125946,
           -0.48522447261455776,
           -0.29436936116273593,
           1.0,
           0.16221217151905049,
           1.0,
           0.28635620587473914,
           -0.4869977054975462,
           -0.1812379141356446,
           -0.2385297177355202,
           -0.18198469569794454
          ],
          [
           -0.2149501071532635,
           -0.09614209058957952,
           0.0991131006280211,
           -0.19864349791732858,
           -0.21280403770559417,
           -0.23289365871221426,
           -0.0624957052624477,
           -0.11729013293431824,
           -0.19102586805667704,
           -0.24097503644835458,
           -0.2245754820056496,
           0.029059706055049282,
           -0.06574546550980298,
           -0.017558416152359514,
           -0.15367923748842,
           0.10426487476137879,
           0.11293132364788117,
           0.02942144882807136,
           -0.12160831870360846,
           -0.022804554609102273,
           -0.29612028581790645,
           -0.10511743885261106,
           -0.5531255169734304,
           -0.15932960053897907,
           -0.19107509163111144,
           -0.21593713147669338,
           0.28635620587473914,
           0.7151550883310305,
           0.28635620587473914,
           1.0,
           -0.14975452356072974,
           -0.5707848023249846,
           -0.054001479106997416,
           -0.22142119962977588
          ],
          [
           0.08825012106724842,
           -0.03904989749889867,
           0.444785686751467,
           0.04961860930866738,
           0.08810252309683866,
           0.136666741766431,
           0.1414518897916514,
           0.4667815034151187,
           0.3910851816786529,
           0.6213502657795408,
           0.19168557543134437,
           0.5782475364316879,
           -0.5781531998758435,
           -1.2084857345862535E-4,
           0.17165294083722468,
           0.007636062296485243,
           0.05145796363993512,
           -0.04083503973663168,
           -0.3725732985240966,
           -0.4445230053851402,
           -0.22336489672282,
           -0.23252570429558236,
           0.5684472313695161,
           0.5747152746690933,
           0.939883043930409,
           0.6591873890333297,
           -0.4869977054975462,
           -0.14566486171671317,
           -0.4869977054975462,
           -0.14975452356072974,
           1.0,
           0.4484777871259516,
           0.6335766371853664,
           0.576653745218694
          ],
          [
           0.09245681310546394,
           0.06923725462392076,
           0.1272136820754195,
           0.06530669071818679,
           0.09496073258805128,
           0.12042084211231341,
           0.042696909984341544,
           0.30593782540540954,
           0.289919108570589,
           0.3674776461109125,
           0.0904004603483059,
           0.1732893980105794,
           -0.2798284179975767,
           -0.022506610671136917,
           0.06087030900369799,
           -0.03896919957246218,
           0.07588113547260303,
           0.034817565660446276,
           -0.0687027197949632,
           -0.2611846963800409,
           0.07674939966839871,
           -0.013061230201839217,
           0.93828385222748,
           0.4219506807059044,
           0.39665822687409547,
           0.3662828987780389,
           -0.1812379141356446,
           -0.7006252715687027,
           -0.1812379141356446,
           -0.5707848023249846,
           0.4484777871259516,
           1.0,
           0.4208922329382043,
           0.3807343486497831
          ],
          [
           0.05616807287308762,
           -0.01730182916906376,
           0.30837609660755194,
           0.03075266869242182,
           0.049912007958355625,
           0.10217640048433443,
           0.2968468954826434,
           0.5934594429807393,
           0.48919336449470613,
           0.47902509293111467,
           0.17660627125178055,
           0.5524125335167559,
           -0.5816263374403553,
           -0.037513507279181055,
           0.035256261800056074,
           -0.1144386112838279,
           0.11314112075775602,
           -0.04288391467801819,
           -0.2987011660239394,
           -0.30368766373833095,
           -0.06972846294682825,
           -0.14860290592616368,
           0.5217789478746748,
           0.925749816805131,
           0.6182578693975106,
           0.5793443380550051,
           -0.2385297177355202,
           -0.15991895031389278,
           -0.2385297177355202,
           -0.054001479106997416,
           0.6335766371853664,
           0.4208922329382043,
           1.0,
           0.5328174768407845
          ],
          [
           0.15437422295410927,
           -0.13966453514786015,
           0.4267702847445932,
           0.10477177030898834,
           0.14008693131287162,
           0.1969200703452358,
           0.3838388375578668,
           0.5079534889616416,
           0.3799113225392313,
           0.5821597772577001,
           0.13726452466942066,
           0.42189144520614,
           -0.5730518284831464,
           0.018676908872573842,
           0.227869899384249,
           -0.0815753599921536,
           -0.04206190266497235,
           -0.022572340016890364,
           -0.16183392265707006,
           -0.2731022651132298,
           -0.023820986045408228,
           -0.18777549590317386,
           0.4621991310369701,
           0.4767081833871288,
           0.5434834859883575,
           0.9221619870766214,
           -0.18198469569794454,
           -0.12467573375900437,
           -0.18198469569794454,
           -0.22142119962977588,
           0.576653745218694,
           0.3807343486497831,
           0.5328174768407845,
           1.0
          ]
         ],
         "type": "heatmap",
         "xaxis": "x",
         "yaxis": "y",
         "hovertemplate": "x: %{x}<br>y: %{y}<br>color: %{z}<extra></extra>"
        }
       ],
       "layout": {
        "template": {
         "data": {
          "histogram2dcontour": [
           {
            "type": "histogram2dcontour",
            "colorbar": {
             "outlinewidth": 0,
             "ticks": ""
            },
            "colorscale": [
             [
              0.0,
              "#0d0887"
             ],
             [
              0.1111111111111111,
              "#46039f"
             ],
             [
              0.2222222222222222,
              "#7201a8"
             ],
             [
              0.3333333333333333,
              "#9c179e"
             ],
             [
              0.4444444444444444,
              "#bd3786"
             ],
             [
              0.5555555555555556,
              "#d8576b"
             ],
             [
              0.6666666666666666,
              "#ed7953"
             ],
             [
              0.7777777777777778,
              "#fb9f3a"
             ],
             [
              0.8888888888888888,
              "#fdca26"
             ],
             [
              1.0,
              "#f0f921"
             ]
            ]
           }
          ],
          "choropleth": [
           {
            "type": "choropleth",
            "colorbar": {
             "outlinewidth": 0,
             "ticks": ""
            }
           }
          ],
          "histogram2d": [
           {
            "type": "histogram2d",
            "colorbar": {
             "outlinewidth": 0,
             "ticks": ""
            },
            "colorscale": [
             [
              0.0,
              "#0d0887"
             ],
             [
              0.1111111111111111,
              "#46039f"
             ],
             [
              0.2222222222222222,
              "#7201a8"
             ],
             [
              0.3333333333333333,
              "#9c179e"
             ],
             [
              0.4444444444444444,
              "#bd3786"
             ],
             [
              0.5555555555555556,
              "#d8576b"
             ],
             [
              0.6666666666666666,
              "#ed7953"
             ],
             [
              0.7777777777777778,
              "#fb9f3a"
             ],
             [
              0.8888888888888888,
              "#fdca26"
             ],
             [
              1.0,
              "#f0f921"
             ]
            ]
           }
          ],
          "heatmap": [
           {
            "type": "heatmap",
            "colorbar": {
             "outlinewidth": 0,
             "ticks": ""
            },
            "colorscale": [
             [
              0.0,
              "#0d0887"
             ],
             [
              0.1111111111111111,
              "#46039f"
             ],
             [
              0.2222222222222222,
              "#7201a8"
             ],
             [
              0.3333333333333333,
              "#9c179e"
             ],
             [
              0.4444444444444444,
              "#bd3786"
             ],
             [
              0.5555555555555556,
              "#d8576b"
             ],
             [
              0.6666666666666666,
              "#ed7953"
             ],
             [
              0.7777777777777778,
              "#fb9f3a"
             ],
             [
              0.8888888888888888,
              "#fdca26"
             ],
             [
              1.0,
              "#f0f921"
             ]
            ]
           }
          ],
          "heatmapgl": [
           {
            "type": "heatmapgl",
            "colorbar": {
             "outlinewidth": 0,
             "ticks": ""
            },
            "colorscale": [
             [
              0.0,
              "#0d0887"
             ],
             [
              0.1111111111111111,
              "#46039f"
             ],
             [
              0.2222222222222222,
              "#7201a8"
             ],
             [
              0.3333333333333333,
              "#9c179e"
             ],
             [
              0.4444444444444444,
              "#bd3786"
             ],
             [
              0.5555555555555556,
              "#d8576b"
             ],
             [
              0.6666666666666666,
              "#ed7953"
             ],
             [
              0.7777777777777778,
              "#fb9f3a"
             ],
             [
              0.8888888888888888,
              "#fdca26"
             ],
             [
              1.0,
              "#f0f921"
             ]
            ]
           }
          ],
          "contourcarpet": [
           {
            "type": "contourcarpet",
            "colorbar": {
             "outlinewidth": 0,
             "ticks": ""
            }
           }
          ],
          "contour": [
           {
            "type": "contour",
            "colorbar": {
             "outlinewidth": 0,
             "ticks": ""
            },
            "colorscale": [
             [
              0.0,
              "#0d0887"
             ],
             [
              0.1111111111111111,
              "#46039f"
             ],
             [
              0.2222222222222222,
              "#7201a8"
             ],
             [
              0.3333333333333333,
              "#9c179e"
             ],
             [
              0.4444444444444444,
              "#bd3786"
             ],
             [
              0.5555555555555556,
              "#d8576b"
             ],
             [
              0.6666666666666666,
              "#ed7953"
             ],
             [
              0.7777777777777778,
              "#fb9f3a"
             ],
             [
              0.8888888888888888,
              "#fdca26"
             ],
             [
              1.0,
              "#f0f921"
             ]
            ]
           }
          ],
          "surface": [
           {
            "type": "surface",
            "colorbar": {
             "outlinewidth": 0,
             "ticks": ""
            },
            "colorscale": [
             [
              0.0,
              "#0d0887"
             ],
             [
              0.1111111111111111,
              "#46039f"
             ],
             [
              0.2222222222222222,
              "#7201a8"
             ],
             [
              0.3333333333333333,
              "#9c179e"
             ],
             [
              0.4444444444444444,
              "#bd3786"
             ],
             [
              0.5555555555555556,
              "#d8576b"
             ],
             [
              0.6666666666666666,
              "#ed7953"
             ],
             [
              0.7777777777777778,
              "#fb9f3a"
             ],
             [
              0.8888888888888888,
              "#fdca26"
             ],
             [
              1.0,
              "#f0f921"
             ]
            ]
           }
          ],
          "mesh3d": [
           {
            "type": "mesh3d",
            "colorbar": {
             "outlinewidth": 0,
             "ticks": ""
            }
           }
          ],
          "scatter": [
           {
            "marker": {
             "line": {
              "color": "#283442"
             }
            },
            "type": "scatter"
           }
          ],
          "parcoords": [
           {
            "type": "parcoords",
            "line": {
             "colorbar": {
              "outlinewidth": 0,
              "ticks": ""
             }
            }
           }
          ],
          "scatterpolargl": [
           {
            "type": "scatterpolargl",
            "marker": {
             "colorbar": {
              "outlinewidth": 0,
              "ticks": ""
             }
            }
           }
          ],
          "bar": [
           {
            "error_x": {
             "color": "#f2f5fa"
            },
            "error_y": {
             "color": "#f2f5fa"
            },
            "marker": {
             "line": {
              "color": "rgb(17,17,17)",
              "width": 0.5
             },
             "pattern": {
              "fillmode": "overlay",
              "size": 10,
              "solidity": 0.2
             }
            },
            "type": "bar"
           }
          ],
          "scattergeo": [
           {
            "type": "scattergeo",
            "marker": {
             "colorbar": {
              "outlinewidth": 0,
              "ticks": ""
             }
            }
           }
          ],
          "scatterpolar": [
           {
            "type": "scatterpolar",
            "marker": {
             "colorbar": {
              "outlinewidth": 0,
              "ticks": ""
             }
            }
           }
          ],
          "histogram": [
           {
            "marker": {
             "pattern": {
              "fillmode": "overlay",
              "size": 10,
              "solidity": 0.2
             }
            },
            "type": "histogram"
           }
          ],
          "scattergl": [
           {
            "marker": {
             "line": {
              "color": "#283442"
             }
            },
            "type": "scattergl"
           }
          ],
          "scatter3d": [
           {
            "type": "scatter3d",
            "line": {
             "colorbar": {
              "outlinewidth": 0,
              "ticks": ""
             }
            },
            "marker": {
             "colorbar": {
              "outlinewidth": 0,
              "ticks": ""
             }
            }
           }
          ],
          "scattermapbox": [
           {
            "type": "scattermapbox",
            "marker": {
             "colorbar": {
              "outlinewidth": 0,
              "ticks": ""
             }
            }
           }
          ],
          "scatterternary": [
           {
            "type": "scatterternary",
            "marker": {
             "colorbar": {
              "outlinewidth": 0,
              "ticks": ""
             }
            }
           }
          ],
          "scattercarpet": [
           {
            "type": "scattercarpet",
            "marker": {
             "colorbar": {
              "outlinewidth": 0,
              "ticks": ""
             }
            }
           }
          ],
          "carpet": [
           {
            "aaxis": {
             "endlinecolor": "#A2B1C6",
             "gridcolor": "#506784",
             "linecolor": "#506784",
             "minorgridcolor": "#506784",
             "startlinecolor": "#A2B1C6"
            },
            "baxis": {
             "endlinecolor": "#A2B1C6",
             "gridcolor": "#506784",
             "linecolor": "#506784",
             "minorgridcolor": "#506784",
             "startlinecolor": "#A2B1C6"
            },
            "type": "carpet"
           }
          ],
          "table": [
           {
            "cells": {
             "fill": {
              "color": "#506784"
             },
             "line": {
              "color": "rgb(17,17,17)"
             }
            },
            "header": {
             "fill": {
              "color": "#2a3f5f"
             },
             "line": {
              "color": "rgb(17,17,17)"
             }
            },
            "type": "table"
           }
          ],
          "barpolar": [
           {
            "marker": {
             "line": {
              "color": "rgb(17,17,17)",
              "width": 0.5
             },
             "pattern": {
              "fillmode": "overlay",
              "size": 10,
              "solidity": 0.2
             }
            },
            "type": "barpolar"
           }
          ],
          "pie": [
           {
            "automargin": true,
            "type": "pie"
           }
          ]
         },
         "layout": {
          "autotypenumbers": "strict",
          "colorway": [
           "#636efa",
           "#EF553B",
           "#00cc96",
           "#ab63fa",
           "#FFA15A",
           "#19d3f3",
           "#FF6692",
           "#B6E880",
           "#FF97FF",
           "#FECB52"
          ],
          "font": {
           "color": "#f2f5fa"
          },
          "hovermode": "closest",
          "hoverlabel": {
           "align": "left"
          },
          "paper_bgcolor": "rgb(17,17,17)",
          "plot_bgcolor": "rgb(17,17,17)",
          "polar": {
           "bgcolor": "rgb(17,17,17)",
           "angularaxis": {
            "gridcolor": "#506784",
            "linecolor": "#506784",
            "ticks": ""
           },
           "radialaxis": {
            "gridcolor": "#506784",
            "linecolor": "#506784",
            "ticks": ""
           }
          },
          "ternary": {
           "bgcolor": "rgb(17,17,17)",
           "aaxis": {
            "gridcolor": "#506784",
            "linecolor": "#506784",
            "ticks": ""
           },
           "baxis": {
            "gridcolor": "#506784",
            "linecolor": "#506784",
            "ticks": ""
           },
           "caxis": {
            "gridcolor": "#506784",
            "linecolor": "#506784",
            "ticks": ""
           }
          },
          "coloraxis": {
           "colorbar": {
            "outlinewidth": 0,
            "ticks": ""
           }
          },
          "colorscale": {
           "sequential": [
            [
             0.0,
             "#0d0887"
            ],
            [
             0.1111111111111111,
             "#46039f"
            ],
            [
             0.2222222222222222,
             "#7201a8"
            ],
            [
             0.3333333333333333,
             "#9c179e"
            ],
            [
             0.4444444444444444,
             "#bd3786"
            ],
            [
             0.5555555555555556,
             "#d8576b"
            ],
            [
             0.6666666666666666,
             "#ed7953"
            ],
            [
             0.7777777777777778,
             "#fb9f3a"
            ],
            [
             0.8888888888888888,
             "#fdca26"
            ],
            [
             1.0,
             "#f0f921"
            ]
           ],
           "sequentialminus": [
            [
             0.0,
             "#0d0887"
            ],
            [
             0.1111111111111111,
             "#46039f"
            ],
            [
             0.2222222222222222,
             "#7201a8"
            ],
            [
             0.3333333333333333,
             "#9c179e"
            ],
            [
             0.4444444444444444,
             "#bd3786"
            ],
            [
             0.5555555555555556,
             "#d8576b"
            ],
            [
             0.6666666666666666,
             "#ed7953"
            ],
            [
             0.7777777777777778,
             "#fb9f3a"
            ],
            [
             0.8888888888888888,
             "#fdca26"
            ],
            [
             1.0,
             "#f0f921"
            ]
           ],
           "diverging": [
            [
             0,
             "#8e0152"
            ],
            [
             0.1,
             "#c51b7d"
            ],
            [
             0.2,
             "#de77ae"
            ],
            [
             0.3,
             "#f1b6da"
            ],
            [
             0.4,
             "#fde0ef"
            ],
            [
             0.5,
             "#f7f7f7"
            ],
            [
             0.6,
             "#e6f5d0"
            ],
            [
             0.7,
             "#b8e186"
            ],
            [
             0.8,
             "#7fbc41"
            ],
            [
             0.9,
             "#4d9221"
            ],
            [
             1,
             "#276419"
            ]
           ]
          },
          "xaxis": {
           "gridcolor": "#283442",
           "linecolor": "#506784",
           "ticks": "",
           "title": {
            "standoff": 15
           },
           "zerolinecolor": "#283442",
           "automargin": true,
           "zerolinewidth": 2
          },
          "yaxis": {
           "gridcolor": "#283442",
           "linecolor": "#506784",
           "ticks": "",
           "title": {
            "standoff": 15
           },
           "zerolinecolor": "#283442",
           "automargin": true,
           "zerolinewidth": 2
          },
          "scene": {
           "xaxis": {
            "backgroundcolor": "rgb(17,17,17)",
            "gridcolor": "#506784",
            "linecolor": "#506784",
            "showbackground": true,
            "ticks": "",
            "zerolinecolor": "#C8D4E3",
            "gridwidth": 2
           },
           "yaxis": {
            "backgroundcolor": "rgb(17,17,17)",
            "gridcolor": "#506784",
            "linecolor": "#506784",
            "showbackground": true,
            "ticks": "",
            "zerolinecolor": "#C8D4E3",
            "gridwidth": 2
           },
           "zaxis": {
            "backgroundcolor": "rgb(17,17,17)",
            "gridcolor": "#506784",
            "linecolor": "#506784",
            "showbackground": true,
            "ticks": "",
            "zerolinecolor": "#C8D4E3",
            "gridwidth": 2
           }
          },
          "shapedefaults": {
           "line": {
            "color": "#f2f5fa"
           }
          },
          "annotationdefaults": {
           "arrowcolor": "#f2f5fa",
           "arrowhead": 0,
           "arrowwidth": 1
          },
          "geo": {
           "bgcolor": "rgb(17,17,17)",
           "landcolor": "rgb(17,17,17)",
           "subunitcolor": "#506784",
           "showland": true,
           "showlakes": true,
           "lakecolor": "rgb(17,17,17)"
          },
          "title": {
           "x": 0.05
          },
          "updatemenudefaults": {
           "bgcolor": "#506784",
           "borderwidth": 0
          },
          "sliderdefaults": {
           "bgcolor": "#C8D4E3",
           "borderwidth": 1,
           "bordercolor": "rgb(17,17,17)",
           "tickwidth": 0
          },
          "mapbox": {
           "style": "dark"
          }
         }
        },
        "xaxis": {
         "anchor": "y",
         "domain": [
          0.0,
          1.0
         ],
         "scaleanchor": "y",
         "constrain": "domain"
        },
        "yaxis": {
         "anchor": "x",
         "domain": [
          0.0,
          1.0
         ],
         "autorange": "reversed",
         "constrain": "domain"
        },
        "coloraxis": {
         "colorscale": [
          [
           0.0,
           "#0d0887"
          ],
          [
           0.1111111111111111,
           "#46039f"
          ],
          [
           0.2222222222222222,
           "#7201a8"
          ],
          [
           0.3333333333333333,
           "#9c179e"
          ],
          [
           0.4444444444444444,
           "#bd3786"
          ],
          [
           0.5555555555555556,
           "#d8576b"
          ],
          [
           0.6666666666666666,
           "#ed7953"
          ],
          [
           0.7777777777777778,
           "#fb9f3a"
          ],
          [
           0.8888888888888888,
           "#fdca26"
          ],
          [
           1.0,
           "#f0f921"
          ]
         ]
        },
        "margin": {
         "t": 60
        },
        "height": 1000
       },
       "config": {
        "plotlyServerURL": "https://plot.ly"
       }
      },
      "text/html": "<div>                            <div id=\"ebb52d27-b7eb-46c1-9e97-373ec885daab\" class=\"plotly-graph-div\" style=\"height:1000px; width:100%;\"></div>            <script type=\"text/javascript\">                require([\"plotly\"], function(Plotly) {                    window.PLOTLYENV=window.PLOTLYENV || {};                                    if (document.getElementById(\"ebb52d27-b7eb-46c1-9e97-373ec885daab\")) {                    Plotly.newPlot(                        \"ebb52d27-b7eb-46c1-9e97-373ec885daab\",                        [{\"coloraxis\":\"coloraxis\",\"name\":\"0\",\"texttemplate\":\"%{z}\",\"x\":[\"capitalized_words_count_without_start_of_sentences\",\"most_common_first_letter_in_sentences\",\"avg_length_of_sentence_by_letters\",\"count_upper_words\",\"frequency_of_longest_word\",\"frequency_of_a\",\"freq_of_t\",\"freq_of_n\",\"freq_of_e\",\"freq_of_o\",\"freq_of_a\",\"freq_of_i\",\"freq_of_enter\",\"freq_of_semicolon\",\"correlation_of_vowels_consonants\",\"freq_of_number\",\"freq_of_quotation\",\"freq_of_bracket\",\"freq_of_exclamation_mark\",\"freq_of_question_mark\",\"freq_of_comma\",\"freq_of_dot\",\"avg_syllable_per_adverb\",\"avg_syllable_per_adjective\",\"avg_syllable_per_verb\",\"avg_syllable_per_noun\",\"freq_word_from_adverbs\",\"freq_word_from_verbs\",\"freq_word_from_adverbs\",\"freq_word_from_noun\",\"average_lenght_of_verbs\",\"average_lenght_of_adverbs\",\"average_lenght_of_adjectives\",\"average_lenght_of_nouns\"],\"y\":[\"capitalized_words_count_without_start_of_sentences\",\"most_common_first_letter_in_sentences\",\"avg_length_of_sentence_by_letters\",\"count_upper_words\",\"frequency_of_longest_word\",\"frequency_of_a\",\"freq_of_t\",\"freq_of_n\",\"freq_of_e\",\"freq_of_o\",\"freq_of_a\",\"freq_of_i\",\"freq_of_enter\",\"freq_of_semicolon\",\"correlation_of_vowels_consonants\",\"freq_of_number\",\"freq_of_quotation\",\"freq_of_bracket\",\"freq_of_exclamation_mark\",\"freq_of_question_mark\",\"freq_of_comma\",\"freq_of_dot\",\"avg_syllable_per_adverb\",\"avg_syllable_per_adjective\",\"avg_syllable_per_verb\",\"avg_syllable_per_noun\",\"freq_word_from_adverbs\",\"freq_word_from_verbs\",\"freq_word_from_adverbs\",\"freq_word_from_noun\",\"average_lenght_of_verbs\",\"average_lenght_of_adverbs\",\"average_lenght_of_adjectives\",\"average_lenght_of_nouns\"],\"z\":[[1.0,0.056815141081457306,-0.03516221296576588,0.7672262731909347,0.9020529089524538,0.939083617275405,-0.013089834951915166,0.03271585086316465,0.004296166739387834,0.1192154720919816,0.10924097766293471,-0.07057485137046145,0.05169090848095076,-0.043011665631359636,0.0023531927788451546,-0.08384860841909345,-0.06980723690781886,-0.0844195953866664,0.07461923978793406,-0.008638635373893812,0.13406764001561042,-0.06858103296675407,0.09515715485676089,0.06705988699425942,0.05817852316365086,0.13842791216404945,-0.17495792940002303,-0.08843512335000912,-0.17495792940002303,-0.2149501071532635,0.08825012106724842,0.09245681310546394,0.05616807287308762,0.15437422295410927],[0.056815141081457306,1.0,-0.06703232304869795,0.07988133407901886,0.07570310350511775,0.07098309269607268,-0.11338563493161556,-0.04504806055593551,-0.058132798742062876,-0.0739872707874783,0.02928777260330592,-0.0839442186335391,0.157330207921539,-0.06099752393821225,0.029951359101377847,0.04731185782193208,0.07368973587865074,-0.014137718428644402,0.005233675941633937,-0.006834471878829575,0.03393032242673372,0.015580617043879898,0.04943514939222768,-0.004475686181966348,-0.03352932745863198,-0.09450071192087246,-0.03822492190240968,-0.06989489964183723,-0.03822492190240968,-0.09614209058957952,-0.03904989749889867,0.06923725462392076,-0.01730182916906376,-0.13966453514786015],[-0.03516221296576588,-0.06703232304869795,1.0,-0.07405353323030787,-0.020589658637433637,0.006878838288177712,0.08147913917036158,0.3961565086760907,0.2062558602706508,0.3722211421354165,-0.13451268912801,0.45293636023799116,-0.3993819435488575,0.24042715350545768,-0.08684464734476006,-0.03857031939379167,0.046283895914163785,-0.12352475005749826,-0.5616701590468269,-0.4867981062497329,0.021618947863939867,-0.6675597020924368,0.1773901129924048,0.2200084956265675,0.3691432534132081,0.37605808984869266,-0.0513692963226498,0.1051599220083907,-0.0513692963226498,0.0991131006280211,0.444785686751467,0.1272136820754195,0.30837609660755194,0.4267702847445932],[0.7672262731909347,0.07988133407901886,-0.07405353323030787,1.0,0.7461582472764651,0.7430923450386742,-0.002578242264105565,-0.011833649015262421,-0.022399702830758633,0.07196777535863066,0.14113676196865002,-0.06883848204807641,0.0194432269012289,-0.053627338103847684,0.02299300344962369,-0.07255666849672733,-0.07449006302328073,-0.06635722716794872,0.08651814879756647,0.05100155207130447,0.07552233761564778,0.03916947907478301,0.06798352376875619,0.05136421277010191,0.03157620105818483,0.09098449203674884,-0.13680318380298984,-0.09043899649952729,-0.13680318380298984,-0.19864349791732858,0.04961860930866738,0.06530669071818679,0.03075266869242182,0.10477177030898834],[0.9020529089524538,0.07570310350511775,-0.020589658637433637,0.7461582472764651,1.0,0.9745467191829673,0.005365095360248113,0.001847116433522363,-0.04204958805280369,0.16714288484956885,0.1375236539005955,-0.12019906049256007,0.088132930865052,-0.07162300090640623,-0.0018623390880122303,-0.17249236387709577,-0.11437354713215876,-0.17766184315728412,0.10685730039381944,-0.0014260744777368163,0.1772085557282825,-0.09911970531744255,0.08304476764692699,0.0865792461021733,0.03470598820572901,0.12986138189027366,-0.16529178960192292,-0.08545267865885321,-0.16529178960192292,-0.21280403770559417,0.08810252309683866,0.09496073258805128,0.049912007958355625,0.14008693131287162],[0.939083617275405,0.07098309269607268,0.006878838288177712,0.7430923450386742,0.9745467191829673,1.0,0.04101288895133475,0.06073959186686972,0.016432576173600603,0.20557429852326678,0.16698913117469355,-0.06887501453948505,0.042646726088200256,-0.05249521306698351,0.005740197929691624,-0.15333988170221297,-0.10864975962792343,-0.14603841483741709,0.07333047537515028,-0.02878868959484835,0.16283885190592096,-0.10378047909826633,0.12802620237120257,0.12428494208991114,0.09381115449244014,0.18225205350443457,-0.18663917559923304,-0.09725806633530788,-0.18663917559923304,-0.23289365871221426,0.136666741766431,0.12042084211231341,0.10217640048433443,0.1969200703452358],[-0.013089834951915166,-0.11338563493161556,0.08147913917036158,-0.002578242264105565,0.005365095360248113,0.04101288895133475,1.0,0.22952182859108677,0.4149677563402256,0.4131713577173326,0.10450078152364824,0.1636575714984139,-0.06304279350805497,0.08241250672935539,0.14659711541316114,-0.1458574969885379,-0.05001916138002833,-0.0009576538533359953,0.1536449524243701,0.019859227132960292,0.13154589051527096,-0.013407610835819586,0.15961906394800263,0.32877516633087545,0.21262078539204154,0.38959842376998133,-0.0020760233883204485,-0.011779608898833716,-0.0020760233883204485,-0.0624957052624477,0.1414518897916514,0.042696909984341544,0.2968468954826434,0.3838388375578668],[0.03271585086316465,-0.04504806055593551,0.3961565086760907,-0.011833649015262421,0.001847116433522363,0.06073959186686972,0.22952182859108677,1.0,0.6409643981593848,0.5306384688438456,0.09607292286073651,0.47325168077328456,-0.4047863658510781,0.0465407504919616,0.14238451548435155,-0.20321669529306716,-0.18103731144521346,-0.18070696204595138,-0.2539251935888751,-0.4294943395894935,0.12692288674910615,-0.34978753717230116,0.39808734822549774,0.5587139735273307,0.426419220211584,0.4891817260215765,-0.22131579127273063,-0.10091079795320188,-0.22131579127273063,-0.11729013293431824,0.4667815034151187,0.30593782540540954,0.5934594429807393,0.5079534889616416],[0.004296166739387834,-0.058132798742062876,0.2062558602706508,-0.022399702830758633,-0.04204958805280369,0.016432576173600603,0.4149677563402256,0.6409643981593848,1.0,0.45949635451532894,0.06513738118552845,0.2870519481034688,-0.14727292891674532,0.07851053048029472,0.3569266901766897,-0.18809701356407868,-0.17064003039767886,-0.08149023312774632,-0.1195391963891543,-0.25360202063436166,0.21858800400048825,-0.21328346921565808,0.3869354580800128,0.5272763553824887,0.43811497770079283,0.4731478900351758,-0.20308780061833853,-0.1490564050684732,-0.20308780061833853,-0.19102586805667704,0.3910851816786529,0.289919108570589,0.48919336449470613,0.3799113225392313],[0.1192154720919816,-0.0739872707874783,0.3722211421354165,0.07196777535863066,0.16714288484956885,0.20557429852326678,0.4131713577173326,0.5306384688438456,0.45949635451532894,1.0,0.3204724004355913,0.35456592789732977,-0.227430649072945,0.01705127148909868,0.22494583522229142,-0.4080424976919555,-0.34950350566358523,-0.36397822389189183,-0.09914481783064143,-0.32706349690719594,0.19682228665037887,-0.32052889562304543,0.5042931909017178,0.5266092490794824,0.5919889452939985,0.594510157367229,-0.37181599643961327,-0.19627364863307417,-0.37181599643961327,-0.24097503644835458,0.6213502657795408,0.3674776461109125,0.47902509293111467,0.5821597772577001],[0.10924097766293471,0.02928777260330592,-0.13451268912801,0.14113676196865002,0.1375236539005955,0.16698913117469355,0.10450078152364824,0.09607292286073651,0.06513738118552845,0.3204724004355913,1.0,-0.024330718679037657,0.008790891122897068,-0.05362265247623338,0.26391419716652853,-0.2478405806935527,-0.27373117185239043,-0.16454126189538182,0.04686055150329964,0.013651735038548085,0.17589150471524942,0.06985996823106294,0.20654591712910453,0.22708653631802758,0.23866164865856695,0.1267232989866564,-0.15094013385629412,-0.18793443556379658,-0.15094013385629412,-0.2245754820056496,0.19168557543134437,0.0904004603483059,0.17660627125178055,0.13726452466942066],[-0.07057485137046145,-0.0839442186335391,0.45293636023799116,-0.06883848204807641,-0.12019906049256007,-0.06887501453948505,0.1636575714984139,0.47325168077328456,0.2870519481034688,0.35456592789732977,-0.024330718679037657,1.0,-0.5653559792740123,0.006832849643985105,0.19086910938589047,0.11542343951099127,0.05824178883225604,0.03485950603068206,-0.40936784469164944,-0.3699284433259003,-0.24201620779327618,-0.2903366860660957,0.34931693701198785,0.5082854031277254,0.605052419663024,0.49463738405544166,-0.3134556728244707,-0.0156231341884706,-0.3134556728244707,0.029059706055049282,0.5782475364316879,0.1732893980105794,0.5524125335167559,0.42189144520614],[0.05169090848095076,0.157330207921539,-0.3993819435488575,0.0194432269012289,0.088132930865052,0.042646726088200256,-0.06304279350805497,-0.4047863658510781,-0.14727292891674532,-0.227430649072945,0.008790891122897068,-0.5653559792740123,1.0,-0.0005067455946311521,0.050769266369544014,-0.16657337996920013,-0.22034705794944534,-0.2117400749554844,0.4042052247776205,0.2983706128174523,0.3797573040213531,0.06857998974455555,-0.35663049657714585,-0.42592878185663363,-0.5417600221699099,-0.5188778132351008,0.13662708961807873,-0.006934668943774601,0.13662708961807873,-0.06574546550980298,-0.5781531998758435,-0.2798284179975767,-0.5816263374403553,-0.5730518284831464],[-0.043011665631359636,-0.06099752393821225,0.24042715350545768,-0.053627338103847684,-0.07162300090640623,-0.05249521306698351,0.08241250672935539,0.0465407504919616,0.07851053048029472,0.01705127148909868,-0.05362265247623338,0.006832849643985105,-0.0005067455946311521,1.0,-0.08049528463309422,-0.06542871776247988,0.022657989176820607,-0.005828099043495959,-0.022253768107345903,-0.08339531302819973,-0.05671517828032862,-0.26748111932381213,-0.07573575752549828,0.0035347444397183145,-0.002364880173716364,0.03452868803765158,0.007690680876674542,-0.037431375976260846,0.007690680876674542,-0.017558416152359514,-0.00012084857345862535,-0.022506610671136917,-0.037513507279181055,0.018676908872573842],[0.0023531927788451546,0.029951359101377847,-0.08684464734476006,0.02299300344962369,-0.0018623390880122303,0.005740197929691624,0.14659711541316114,0.14238451548435155,0.3569266901766897,0.22494583522229142,0.26391419716652853,0.19086910938589047,0.050769266369544014,-0.08049528463309422,1.0,-0.09283427697708173,-0.15495047491852748,0.08150840579908111,0.13300405738554424,-0.0828529722731428,0.03622263078380382,0.11412201015280836,0.17075370457366787,0.14631931297188272,0.26753911869817754,0.4117303905331384,-0.14266034306570105,-0.05719221455007706,-0.14266034306570105,-0.15367923748842,0.17165294083722468,0.06087030900369799,0.035256261800056074,0.227869899384249],[-0.08384860841909345,0.04731185782193208,-0.03857031939379167,-0.07255666849672733,-0.17249236387709577,-0.15333988170221297,-0.1458574969885379,-0.20321669529306716,-0.18809701356407868,-0.4080424976919555,-0.2478405806935527,0.11542343951099127,-0.16657337996920013,-0.06542871776247988,-0.09283427697708173,1.0,0.5430906049733634,0.5372233071511591,-0.24714606843356932,-0.043898866503830895,-0.46447554772724137,0.14708126415684508,0.0044759941017264914,-0.3117732628675499,0.09735947471792089,-0.04883051557125562,0.0037800880174487005,0.1494653080848962,0.0037800880174487005,0.10426487476137879,0.007636062296485243,-0.03896919957246218,-0.1144386112838279,-0.0815753599921536],[-0.06980723690781886,0.07368973587865074,0.046283895914163785,-0.07449006302328073,-0.11437354713215876,-0.10864975962792343,-0.05001916138002833,-0.18103731144521346,-0.17064003039767886,-0.34950350566358523,-0.27373117185239043,0.05824178883225604,-0.22034705794944534,0.022657989176820607,-0.15495047491852748,0.5430906049733634,1.0,0.5240585169803593,-0.28326579268869884,-0.11972891379570791,-0.36853881858083637,0.1352780546101863,0.07134583701460849,-0.06668475220036618,0.1327724827106613,-0.011406318245279058,0.1261379041485664,0.04757950894797474,0.1261379041485664,0.11293132364788117,0.05145796363993512,0.07588113547260303,0.11314112075775602,-0.04206190266497235],[-0.0844195953866664,-0.014137718428644402,-0.12352475005749826,-0.06635722716794872,-0.17766184315728412,-0.14603841483741709,-0.0009576538533359953,-0.18070696204595138,-0.08149023312774632,-0.36397822389189183,-0.16454126189538182,0.03485950603068206,-0.2117400749554844,-0.005828099043495959,0.08150840579908111,0.5372233071511591,0.5240585169803593,1.0,-0.07259164362806707,0.0900832081746315,-0.42561327466588034,0.3419841629067223,0.06329584273998119,-0.178482379859177,0.07452884985168665,0.007036651682359357,0.13784225853051768,0.02539567501847525,0.13784225853051768,0.02942144882807136,-0.04083503973663168,0.034817565660446276,-0.04288391467801819,-0.022572340016890364],[0.07461923978793406,0.005233675941633937,-0.5616701590468269,0.08651814879756647,0.10685730039381944,0.07333047537515028,0.1536449524243701,-0.2539251935888751,-0.1195391963891543,-0.09914481783064143,0.04686055150329964,-0.40936784469164944,0.4042052247776205,-0.022253768107345903,0.13300405738554424,-0.24714606843356932,-0.28326579268869884,-0.07259164362806707,1.0,0.48824702856185576,0.17235563775953686,0.3760851695622708,-0.14428976640788796,-0.10710546334708293,-0.35839074853901215,-0.15990868041185163,0.11164874492114416,-0.07842518581005528,0.11164874492114416,-0.12160831870360846,-0.3725732985240966,-0.0687027197949632,-0.2987011660239394,-0.16183392265707006],[-0.008638635373893812,-0.006834471878829575,-0.4867981062497329,0.05100155207130447,-0.0014260744777368163,-0.02878868959484835,0.019859227132960292,-0.4294943395894935,-0.25360202063436166,-0.32706349690719594,0.013651735038548085,-0.3699284433259003,0.2983706128174523,-0.08339531302819973,-0.0828529722731428,-0.043898866503830895,-0.11972891379570791,0.0900832081746315,0.48824702856185576,1.0,-0.03248133825221199,0.3464627508614839,-0.28912492110724564,-0.2247811736637426,-0.35037114952992787,-0.3047259726046034,0.1433078965718304,0.027693499594783188,0.1433078965718304,-0.022804554609102273,-0.4445230053851402,-0.2611846963800409,-0.30368766373833095,-0.2731022651132298],[0.13406764001561042,0.03393032242673372,0.021618947863939867,0.07552233761564778,0.1772085557282825,0.16283885190592096,0.13154589051527096,0.12692288674910615,0.21858800400048825,0.19682228665037887,0.17589150471524942,-0.24201620779327618,0.3797573040213531,-0.05671517828032862,0.03622263078380382,-0.46447554772724137,-0.36853881858083637,-0.42561327466588034,0.17235563775953686,-0.03248133825221199,1.0,-0.15953854518780078,0.03131604107334455,0.08868270433542023,-0.2573428416704386,-0.06338465223413729,0.14260915001230287,-0.22861748372602095,0.14260915001230287,-0.29612028581790645,-0.22336489672282,0.07674939966839871,-0.06972846294682825,-0.023820986045408228],[-0.06858103296675407,0.015580617043879898,-0.6675597020924368,0.03916947907478301,-0.09911970531744255,-0.10378047909826633,-0.013407610835819586,-0.34978753717230116,-0.21328346921565808,-0.32052889562304543,0.06985996823106294,-0.2903366860660957,0.06857998974455555,-0.26748111932381213,0.11412201015280836,0.14708126415684508,0.1352780546101863,0.3419841629067223,0.3760851695622708,0.3464627508614839,-0.15953854518780078,1.0,-0.03274785742278628,-0.11650080967974982,-0.14741635924050428,-0.1675516165718526,0.04260682076299653,-0.12170018117557338,0.04260682076299653,-0.10511743885261106,-0.23252570429558236,-0.013061230201839217,-0.14860290592616368,-0.18777549590317386],[0.09515715485676089,0.04943514939222768,0.1773901129924048,0.06798352376875619,0.08304476764692699,0.12802620237120257,0.15961906394800263,0.39808734822549774,0.3869354580800128,0.5042931909017178,0.20654591712910453,0.34931693701198785,-0.35663049657714585,-0.07573575752549828,0.17075370457366787,0.0044759941017264914,0.07134583701460849,0.06329584273998119,-0.14428976640788796,-0.28912492110724564,0.03131604107334455,-0.03274785742278628,1.0,0.5059003461283116,0.5754063432130508,0.47044578236322565,-0.2751721699982612,-0.6293269762670859,-0.2751721699982612,-0.5531255169734304,0.5684472313695161,0.93828385222748,0.5217789478746748,0.4621991310369701],[0.06705988699425942,-0.004475686181966348,0.2200084956265675,0.05136421277010191,0.0865792461021733,0.12428494208991114,0.32877516633087545,0.5587139735273307,0.5272763553824887,0.5266092490794824,0.22708653631802758,0.5082854031277254,-0.42592878185663363,0.0035347444397183145,0.14631931297188272,-0.3117732628675499,-0.06668475220036618,-0.178482379859177,-0.10710546334708293,-0.2247811736637426,0.08868270433542023,-0.11650080967974982,0.5059003461283116,1.0,0.559795519501607,0.5623806230786962,-0.24363719959125946,-0.2512743980033779,-0.24363719959125946,-0.15932960053897907,0.5747152746690933,0.4219506807059044,0.925749816805131,0.4767081833871288],[0.05817852316365086,-0.03352932745863198,0.3691432534132081,0.03157620105818483,0.03470598820572901,0.09381115449244014,0.21262078539204154,0.426419220211584,0.43811497770079283,0.5919889452939985,0.23866164865856695,0.605052419663024,-0.5417600221699099,-0.002364880173716364,0.26753911869817754,0.09735947471792089,0.1327724827106613,0.07452884985168665,-0.35839074853901215,-0.35037114952992787,-0.2573428416704386,-0.14741635924050428,0.5754063432130508,0.559795519501607,1.0,0.6528294464608166,-0.48522447261455776,-0.1356980079847802,-0.48522447261455776,-0.19107509163111144,0.939883043930409,0.39665822687409547,0.6182578693975106,0.5434834859883575],[0.13842791216404945,-0.09450071192087246,0.37605808984869266,0.09098449203674884,0.12986138189027366,0.18225205350443457,0.38959842376998133,0.4891817260215765,0.4731478900351758,0.594510157367229,0.1267232989866564,0.49463738405544166,-0.5188778132351008,0.03452868803765158,0.4117303905331384,-0.04883051557125562,-0.011406318245279058,0.007036651682359357,-0.15990868041185163,-0.3047259726046034,-0.06338465223413729,-0.1675516165718526,0.47044578236322565,0.5623806230786962,0.6528294464608166,1.0,-0.29436936116273593,-0.0876749434771126,-0.29436936116273593,-0.21593713147669338,0.6591873890333297,0.3662828987780389,0.5793443380550051,0.9221619870766214],[-0.17495792940002303,-0.03822492190240968,-0.0513692963226498,-0.13680318380298984,-0.16529178960192292,-0.18663917559923304,-0.0020760233883204485,-0.22131579127273063,-0.20308780061833853,-0.37181599643961327,-0.15094013385629412,-0.3134556728244707,0.13662708961807873,0.007690680876674542,-0.14266034306570105,0.0037800880174487005,0.1261379041485664,0.13784225853051768,0.11164874492114416,0.1433078965718304,0.14260915001230287,0.04260682076299653,-0.2751721699982612,-0.24363719959125946,-0.48522447261455776,-0.29436936116273593,1.0,0.1622121715190504,1.0,0.28635620587473914,-0.4869977054975462,-0.1812379141356446,-0.2385297177355202,-0.18198469569794454],[-0.08843512335000912,-0.06989489964183723,0.1051599220083907,-0.09043899649952729,-0.08545267865885321,-0.09725806633530788,-0.011779608898833716,-0.10091079795320188,-0.1490564050684732,-0.19627364863307417,-0.18793443556379658,-0.0156231341884706,-0.006934668943774601,-0.037431375976260846,-0.05719221455007706,0.1494653080848962,0.04757950894797474,0.02539567501847525,-0.07842518581005528,0.027693499594783188,-0.22861748372602095,-0.12170018117557338,-0.6293269762670859,-0.2512743980033779,-0.1356980079847802,-0.0876749434771126,0.1622121715190504,1.0,0.16221217151905049,0.7151550883310305,-0.14566486171671317,-0.7006252715687027,-0.15991895031389278,-0.12467573375900437],[-0.17495792940002303,-0.03822492190240968,-0.0513692963226498,-0.13680318380298984,-0.16529178960192292,-0.18663917559923304,-0.0020760233883204485,-0.22131579127273063,-0.20308780061833853,-0.37181599643961327,-0.15094013385629412,-0.3134556728244707,0.13662708961807873,0.007690680876674542,-0.14266034306570105,0.0037800880174487005,0.1261379041485664,0.13784225853051768,0.11164874492114416,0.1433078965718304,0.14260915001230287,0.04260682076299653,-0.2751721699982612,-0.24363719959125946,-0.48522447261455776,-0.29436936116273593,1.0,0.16221217151905049,1.0,0.28635620587473914,-0.4869977054975462,-0.1812379141356446,-0.2385297177355202,-0.18198469569794454],[-0.2149501071532635,-0.09614209058957952,0.0991131006280211,-0.19864349791732858,-0.21280403770559417,-0.23289365871221426,-0.0624957052624477,-0.11729013293431824,-0.19102586805667704,-0.24097503644835458,-0.2245754820056496,0.029059706055049282,-0.06574546550980298,-0.017558416152359514,-0.15367923748842,0.10426487476137879,0.11293132364788117,0.02942144882807136,-0.12160831870360846,-0.022804554609102273,-0.29612028581790645,-0.10511743885261106,-0.5531255169734304,-0.15932960053897907,-0.19107509163111144,-0.21593713147669338,0.28635620587473914,0.7151550883310305,0.28635620587473914,1.0,-0.14975452356072974,-0.5707848023249846,-0.054001479106997416,-0.22142119962977588],[0.08825012106724842,-0.03904989749889867,0.444785686751467,0.04961860930866738,0.08810252309683866,0.136666741766431,0.1414518897916514,0.4667815034151187,0.3910851816786529,0.6213502657795408,0.19168557543134437,0.5782475364316879,-0.5781531998758435,-0.00012084857345862535,0.17165294083722468,0.007636062296485243,0.05145796363993512,-0.04083503973663168,-0.3725732985240966,-0.4445230053851402,-0.22336489672282,-0.23252570429558236,0.5684472313695161,0.5747152746690933,0.939883043930409,0.6591873890333297,-0.4869977054975462,-0.14566486171671317,-0.4869977054975462,-0.14975452356072974,1.0,0.4484777871259516,0.6335766371853664,0.576653745218694],[0.09245681310546394,0.06923725462392076,0.1272136820754195,0.06530669071818679,0.09496073258805128,0.12042084211231341,0.042696909984341544,0.30593782540540954,0.289919108570589,0.3674776461109125,0.0904004603483059,0.1732893980105794,-0.2798284179975767,-0.022506610671136917,0.06087030900369799,-0.03896919957246218,0.07588113547260303,0.034817565660446276,-0.0687027197949632,-0.2611846963800409,0.07674939966839871,-0.013061230201839217,0.93828385222748,0.4219506807059044,0.39665822687409547,0.3662828987780389,-0.1812379141356446,-0.7006252715687027,-0.1812379141356446,-0.5707848023249846,0.4484777871259516,1.0,0.4208922329382043,0.3807343486497831],[0.05616807287308762,-0.01730182916906376,0.30837609660755194,0.03075266869242182,0.049912007958355625,0.10217640048433443,0.2968468954826434,0.5934594429807393,0.48919336449470613,0.47902509293111467,0.17660627125178055,0.5524125335167559,-0.5816263374403553,-0.037513507279181055,0.035256261800056074,-0.1144386112838279,0.11314112075775602,-0.04288391467801819,-0.2987011660239394,-0.30368766373833095,-0.06972846294682825,-0.14860290592616368,0.5217789478746748,0.925749816805131,0.6182578693975106,0.5793443380550051,-0.2385297177355202,-0.15991895031389278,-0.2385297177355202,-0.054001479106997416,0.6335766371853664,0.4208922329382043,1.0,0.5328174768407845],[0.15437422295410927,-0.13966453514786015,0.4267702847445932,0.10477177030898834,0.14008693131287162,0.1969200703452358,0.3838388375578668,0.5079534889616416,0.3799113225392313,0.5821597772577001,0.13726452466942066,0.42189144520614,-0.5730518284831464,0.018676908872573842,0.227869899384249,-0.0815753599921536,-0.04206190266497235,-0.022572340016890364,-0.16183392265707006,-0.2731022651132298,-0.023820986045408228,-0.18777549590317386,0.4621991310369701,0.4767081833871288,0.5434834859883575,0.9221619870766214,-0.18198469569794454,-0.12467573375900437,-0.18198469569794454,-0.22142119962977588,0.576653745218694,0.3807343486497831,0.5328174768407845,1.0]],\"type\":\"heatmap\",\"xaxis\":\"x\",\"yaxis\":\"y\",\"hovertemplate\":\"x: %{x}\\u003cbr\\u003ey: %{y}\\u003cbr\\u003ecolor: %{z}\\u003cextra\\u003e\\u003c\\u002fextra\\u003e\"}],                        {\"template\":{\"data\":{\"histogram2dcontour\":[{\"type\":\"histogram2dcontour\",\"colorbar\":{\"outlinewidth\":0,\"ticks\":\"\"},\"colorscale\":[[0.0,\"#0d0887\"],[0.1111111111111111,\"#46039f\"],[0.2222222222222222,\"#7201a8\"],[0.3333333333333333,\"#9c179e\"],[0.4444444444444444,\"#bd3786\"],[0.5555555555555556,\"#d8576b\"],[0.6666666666666666,\"#ed7953\"],[0.7777777777777778,\"#fb9f3a\"],[0.8888888888888888,\"#fdca26\"],[1.0,\"#f0f921\"]]}],\"choropleth\":[{\"type\":\"choropleth\",\"colorbar\":{\"outlinewidth\":0,\"ticks\":\"\"}}],\"histogram2d\":[{\"type\":\"histogram2d\",\"colorbar\":{\"outlinewidth\":0,\"ticks\":\"\"},\"colorscale\":[[0.0,\"#0d0887\"],[0.1111111111111111,\"#46039f\"],[0.2222222222222222,\"#7201a8\"],[0.3333333333333333,\"#9c179e\"],[0.4444444444444444,\"#bd3786\"],[0.5555555555555556,\"#d8576b\"],[0.6666666666666666,\"#ed7953\"],[0.7777777777777778,\"#fb9f3a\"],[0.8888888888888888,\"#fdca26\"],[1.0,\"#f0f921\"]]}],\"heatmap\":[{\"type\":\"heatmap\",\"colorbar\":{\"outlinewidth\":0,\"ticks\":\"\"},\"colorscale\":[[0.0,\"#0d0887\"],[0.1111111111111111,\"#46039f\"],[0.2222222222222222,\"#7201a8\"],[0.3333333333333333,\"#9c179e\"],[0.4444444444444444,\"#bd3786\"],[0.5555555555555556,\"#d8576b\"],[0.6666666666666666,\"#ed7953\"],[0.7777777777777778,\"#fb9f3a\"],[0.8888888888888888,\"#fdca26\"],[1.0,\"#f0f921\"]]}],\"heatmapgl\":[{\"type\":\"heatmapgl\",\"colorbar\":{\"outlinewidth\":0,\"ticks\":\"\"},\"colorscale\":[[0.0,\"#0d0887\"],[0.1111111111111111,\"#46039f\"],[0.2222222222222222,\"#7201a8\"],[0.3333333333333333,\"#9c179e\"],[0.4444444444444444,\"#bd3786\"],[0.5555555555555556,\"#d8576b\"],[0.6666666666666666,\"#ed7953\"],[0.7777777777777778,\"#fb9f3a\"],[0.8888888888888888,\"#fdca26\"],[1.0,\"#f0f921\"]]}],\"contourcarpet\":[{\"type\":\"contourcarpet\",\"colorbar\":{\"outlinewidth\":0,\"ticks\":\"\"}}],\"contour\":[{\"type\":\"contour\",\"colorbar\":{\"outlinewidth\":0,\"ticks\":\"\"},\"colorscale\":[[0.0,\"#0d0887\"],[0.1111111111111111,\"#46039f\"],[0.2222222222222222,\"#7201a8\"],[0.3333333333333333,\"#9c179e\"],[0.4444444444444444,\"#bd3786\"],[0.5555555555555556,\"#d8576b\"],[0.6666666666666666,\"#ed7953\"],[0.7777777777777778,\"#fb9f3a\"],[0.8888888888888888,\"#fdca26\"],[1.0,\"#f0f921\"]]}],\"surface\":[{\"type\":\"surface\",\"colorbar\":{\"outlinewidth\":0,\"ticks\":\"\"},\"colorscale\":[[0.0,\"#0d0887\"],[0.1111111111111111,\"#46039f\"],[0.2222222222222222,\"#7201a8\"],[0.3333333333333333,\"#9c179e\"],[0.4444444444444444,\"#bd3786\"],[0.5555555555555556,\"#d8576b\"],[0.6666666666666666,\"#ed7953\"],[0.7777777777777778,\"#fb9f3a\"],[0.8888888888888888,\"#fdca26\"],[1.0,\"#f0f921\"]]}],\"mesh3d\":[{\"type\":\"mesh3d\",\"colorbar\":{\"outlinewidth\":0,\"ticks\":\"\"}}],\"scatter\":[{\"marker\":{\"line\":{\"color\":\"#283442\"}},\"type\":\"scatter\"}],\"parcoords\":[{\"type\":\"parcoords\",\"line\":{\"colorbar\":{\"outlinewidth\":0,\"ticks\":\"\"}}}],\"scatterpolargl\":[{\"type\":\"scatterpolargl\",\"marker\":{\"colorbar\":{\"outlinewidth\":0,\"ticks\":\"\"}}}],\"bar\":[{\"error_x\":{\"color\":\"#f2f5fa\"},\"error_y\":{\"color\":\"#f2f5fa\"},\"marker\":{\"line\":{\"color\":\"rgb(17,17,17)\",\"width\":0.5},\"pattern\":{\"fillmode\":\"overlay\",\"size\":10,\"solidity\":0.2}},\"type\":\"bar\"}],\"scattergeo\":[{\"type\":\"scattergeo\",\"marker\":{\"colorbar\":{\"outlinewidth\":0,\"ticks\":\"\"}}}],\"scatterpolar\":[{\"type\":\"scatterpolar\",\"marker\":{\"colorbar\":{\"outlinewidth\":0,\"ticks\":\"\"}}}],\"histogram\":[{\"marker\":{\"pattern\":{\"fillmode\":\"overlay\",\"size\":10,\"solidity\":0.2}},\"type\":\"histogram\"}],\"scattergl\":[{\"marker\":{\"line\":{\"color\":\"#283442\"}},\"type\":\"scattergl\"}],\"scatter3d\":[{\"type\":\"scatter3d\",\"line\":{\"colorbar\":{\"outlinewidth\":0,\"ticks\":\"\"}},\"marker\":{\"colorbar\":{\"outlinewidth\":0,\"ticks\":\"\"}}}],\"scattermapbox\":[{\"type\":\"scattermapbox\",\"marker\":{\"colorbar\":{\"outlinewidth\":0,\"ticks\":\"\"}}}],\"scatterternary\":[{\"type\":\"scatterternary\",\"marker\":{\"colorbar\":{\"outlinewidth\":0,\"ticks\":\"\"}}}],\"scattercarpet\":[{\"type\":\"scattercarpet\",\"marker\":{\"colorbar\":{\"outlinewidth\":0,\"ticks\":\"\"}}}],\"carpet\":[{\"aaxis\":{\"endlinecolor\":\"#A2B1C6\",\"gridcolor\":\"#506784\",\"linecolor\":\"#506784\",\"minorgridcolor\":\"#506784\",\"startlinecolor\":\"#A2B1C6\"},\"baxis\":{\"endlinecolor\":\"#A2B1C6\",\"gridcolor\":\"#506784\",\"linecolor\":\"#506784\",\"minorgridcolor\":\"#506784\",\"startlinecolor\":\"#A2B1C6\"},\"type\":\"carpet\"}],\"table\":[{\"cells\":{\"fill\":{\"color\":\"#506784\"},\"line\":{\"color\":\"rgb(17,17,17)\"}},\"header\":{\"fill\":{\"color\":\"#2a3f5f\"},\"line\":{\"color\":\"rgb(17,17,17)\"}},\"type\":\"table\"}],\"barpolar\":[{\"marker\":{\"line\":{\"color\":\"rgb(17,17,17)\",\"width\":0.5},\"pattern\":{\"fillmode\":\"overlay\",\"size\":10,\"solidity\":0.2}},\"type\":\"barpolar\"}],\"pie\":[{\"automargin\":true,\"type\":\"pie\"}]},\"layout\":{\"autotypenumbers\":\"strict\",\"colorway\":[\"#636efa\",\"#EF553B\",\"#00cc96\",\"#ab63fa\",\"#FFA15A\",\"#19d3f3\",\"#FF6692\",\"#B6E880\",\"#FF97FF\",\"#FECB52\"],\"font\":{\"color\":\"#f2f5fa\"},\"hovermode\":\"closest\",\"hoverlabel\":{\"align\":\"left\"},\"paper_bgcolor\":\"rgb(17,17,17)\",\"plot_bgcolor\":\"rgb(17,17,17)\",\"polar\":{\"bgcolor\":\"rgb(17,17,17)\",\"angularaxis\":{\"gridcolor\":\"#506784\",\"linecolor\":\"#506784\",\"ticks\":\"\"},\"radialaxis\":{\"gridcolor\":\"#506784\",\"linecolor\":\"#506784\",\"ticks\":\"\"}},\"ternary\":{\"bgcolor\":\"rgb(17,17,17)\",\"aaxis\":{\"gridcolor\":\"#506784\",\"linecolor\":\"#506784\",\"ticks\":\"\"},\"baxis\":{\"gridcolor\":\"#506784\",\"linecolor\":\"#506784\",\"ticks\":\"\"},\"caxis\":{\"gridcolor\":\"#506784\",\"linecolor\":\"#506784\",\"ticks\":\"\"}},\"coloraxis\":{\"colorbar\":{\"outlinewidth\":0,\"ticks\":\"\"}},\"colorscale\":{\"sequential\":[[0.0,\"#0d0887\"],[0.1111111111111111,\"#46039f\"],[0.2222222222222222,\"#7201a8\"],[0.3333333333333333,\"#9c179e\"],[0.4444444444444444,\"#bd3786\"],[0.5555555555555556,\"#d8576b\"],[0.6666666666666666,\"#ed7953\"],[0.7777777777777778,\"#fb9f3a\"],[0.8888888888888888,\"#fdca26\"],[1.0,\"#f0f921\"]],\"sequentialminus\":[[0.0,\"#0d0887\"],[0.1111111111111111,\"#46039f\"],[0.2222222222222222,\"#7201a8\"],[0.3333333333333333,\"#9c179e\"],[0.4444444444444444,\"#bd3786\"],[0.5555555555555556,\"#d8576b\"],[0.6666666666666666,\"#ed7953\"],[0.7777777777777778,\"#fb9f3a\"],[0.8888888888888888,\"#fdca26\"],[1.0,\"#f0f921\"]],\"diverging\":[[0,\"#8e0152\"],[0.1,\"#c51b7d\"],[0.2,\"#de77ae\"],[0.3,\"#f1b6da\"],[0.4,\"#fde0ef\"],[0.5,\"#f7f7f7\"],[0.6,\"#e6f5d0\"],[0.7,\"#b8e186\"],[0.8,\"#7fbc41\"],[0.9,\"#4d9221\"],[1,\"#276419\"]]},\"xaxis\":{\"gridcolor\":\"#283442\",\"linecolor\":\"#506784\",\"ticks\":\"\",\"title\":{\"standoff\":15},\"zerolinecolor\":\"#283442\",\"automargin\":true,\"zerolinewidth\":2},\"yaxis\":{\"gridcolor\":\"#283442\",\"linecolor\":\"#506784\",\"ticks\":\"\",\"title\":{\"standoff\":15},\"zerolinecolor\":\"#283442\",\"automargin\":true,\"zerolinewidth\":2},\"scene\":{\"xaxis\":{\"backgroundcolor\":\"rgb(17,17,17)\",\"gridcolor\":\"#506784\",\"linecolor\":\"#506784\",\"showbackground\":true,\"ticks\":\"\",\"zerolinecolor\":\"#C8D4E3\",\"gridwidth\":2},\"yaxis\":{\"backgroundcolor\":\"rgb(17,17,17)\",\"gridcolor\":\"#506784\",\"linecolor\":\"#506784\",\"showbackground\":true,\"ticks\":\"\",\"zerolinecolor\":\"#C8D4E3\",\"gridwidth\":2},\"zaxis\":{\"backgroundcolor\":\"rgb(17,17,17)\",\"gridcolor\":\"#506784\",\"linecolor\":\"#506784\",\"showbackground\":true,\"ticks\":\"\",\"zerolinecolor\":\"#C8D4E3\",\"gridwidth\":2}},\"shapedefaults\":{\"line\":{\"color\":\"#f2f5fa\"}},\"annotationdefaults\":{\"arrowcolor\":\"#f2f5fa\",\"arrowhead\":0,\"arrowwidth\":1},\"geo\":{\"bgcolor\":\"rgb(17,17,17)\",\"landcolor\":\"rgb(17,17,17)\",\"subunitcolor\":\"#506784\",\"showland\":true,\"showlakes\":true,\"lakecolor\":\"rgb(17,17,17)\"},\"title\":{\"x\":0.05},\"updatemenudefaults\":{\"bgcolor\":\"#506784\",\"borderwidth\":0},\"sliderdefaults\":{\"bgcolor\":\"#C8D4E3\",\"borderwidth\":1,\"bordercolor\":\"rgb(17,17,17)\",\"tickwidth\":0},\"mapbox\":{\"style\":\"dark\"}}},\"xaxis\":{\"anchor\":\"y\",\"domain\":[0.0,1.0],\"scaleanchor\":\"y\",\"constrain\":\"domain\"},\"yaxis\":{\"anchor\":\"x\",\"domain\":[0.0,1.0],\"autorange\":\"reversed\",\"constrain\":\"domain\"},\"coloraxis\":{\"colorscale\":[[0.0,\"#0d0887\"],[0.1111111111111111,\"#46039f\"],[0.2222222222222222,\"#7201a8\"],[0.3333333333333333,\"#9c179e\"],[0.4444444444444444,\"#bd3786\"],[0.5555555555555556,\"#d8576b\"],[0.6666666666666666,\"#ed7953\"],[0.7777777777777778,\"#fb9f3a\"],[0.8888888888888888,\"#fdca26\"],[1.0,\"#f0f921\"]]},\"margin\":{\"t\":60},\"height\":1000},                        {\"responsive\": true}                    ).then(function(){\n                            \nvar gd = document.getElementById('ebb52d27-b7eb-46c1-9e97-373ec885daab');\nvar x = new MutationObserver(function (mutations, observer) {{\n        var display = window.getComputedStyle(gd).display;\n        if (!display || display === 'none') {{\n            console.log([gd, 'removed!']);\n            Plotly.purge(gd);\n            observer.disconnect();\n        }}\n}});\n\n// Listen for the removal of the full notebook cells\nvar notebookContainer = gd.closest('#notebook-container');\nif (notebookContainer) {{\n    x.observe(notebookContainer, {childList: true});\n}}\n\n// Listen for the clearing of the current output cell\nvar outputEl = gd.closest('.output');\nif (outputEl) {{\n    x.observe(outputEl, {childList: true});\n}}\n\n                        })                };                });            </script>        </div>"
     },
     "metadata": {},
     "output_type": "display_data"
    }
   ],
   "source": [
    "import plotly.express as px\n",
    "\n",
    "fig = px.imshow(df.drop(columns=[\"targets\"]).corr(), text_auto=True)\n",
    "fig.update_layout(height=1000)\n",
    "fig.show()"
   ],
   "metadata": {
    "collapsed": false,
    "ExecuteTime": {
     "end_time": "2023-07-22T15:28:18.225946700Z",
     "start_time": "2023-07-22T15:28:18.166946600Z"
    }
   }
  },
  {
   "cell_type": "code",
   "execution_count": 133,
   "outputs": [
    {
     "data": {
      "text/plain": "freq_word_from_adverbs                                2\navg_syllable_per_noun                                 1\nfreq_of_question_mark                                 1\nfreq_of_comma                                         1\nfreq_of_dot                                           1\navg_syllable_per_adverb                               1\navg_syllable_per_adjective                            1\navg_syllable_per_verb                                 1\ncapitalized_words_count_without_start_of_sentences    1\nmost_common_first_letter_in_sentences                 1\nfreq_word_from_verbs                                  1\nfreq_word_from_noun                                   1\naverage_lenght_of_verbs                               1\naverage_lenght_of_adverbs                             1\naverage_lenght_of_adjectives                          1\naverage_lenght_of_nouns                               1\nfreq_of_exclamation_mark                              1\nfreq_of_bracket                                       1\nfreq_of_quotation                                     1\nfreq_of_number                                        1\ncorrelation_of_vowels_consonants                      1\nfreq_of_semicolon                                     1\nfreq_of_enter                                         1\nfreq_of_i                                             1\nfreq_of_a                                             1\nfreq_of_o                                             1\nfreq_of_e                                             1\nfreq_of_n                                             1\nfreq_of_t                                             1\nfrequency_of_a                                        1\nfrequency_of_longest_word                             1\ncount_upper_words                                     1\navg_length_of_sentence_by_letters                     1\ntargets                                               1\nName: count, dtype: int64"
     },
     "execution_count": 133,
     "metadata": {},
     "output_type": "execute_result"
    }
   ],
   "source": [
    "df.columns.value_counts()"
   ],
   "metadata": {
    "collapsed": false,
    "ExecuteTime": {
     "end_time": "2023-07-22T10:22:47.222295600Z",
     "start_time": "2023-07-22T10:22:47.198118100Z"
    }
   }
  },
  {
   "cell_type": "code",
   "execution_count": null,
   "outputs": [],
   "source": [
    "validation(df, )"
   ],
   "metadata": {
    "collapsed": false
   }
  },
  {
   "cell_type": "code",
   "execution_count": 79,
   "outputs": [
    {
     "ename": "ValueError",
     "evalue": "Expected 2D array, got 1D array instead:\narray=[ 67.49211356  83.09268293 135.44338967].\nReshape your data either using array.reshape(-1, 1) if your data has a single feature or array.reshape(1, -1) if it contains a single sample.",
     "output_type": "error",
     "traceback": [
      "\u001B[1;31m---------------------------------------------------------------------------\u001B[0m",
      "\u001B[1;31mValueError\u001B[0m                                Traceback (most recent call last)",
      "Cell \u001B[1;32mIn[79], line 1\u001B[0m\n\u001B[1;32m----> 1\u001B[0m \u001B[43mlogreg\u001B[49m\u001B[38;5;241;43m.\u001B[39;49m\u001B[43mfit\u001B[49m\u001B[43m(\u001B[49m\u001B[43mdataset\u001B[49m\u001B[43m[\u001B[49m\u001B[38;5;124;43m'\u001B[39;49m\u001B[38;5;124;43mfeature1\u001B[39;49m\u001B[38;5;124;43m'\u001B[39;49m\u001B[43m]\u001B[49m\u001B[43m[\u001B[49m\u001B[38;5;241;43m97\u001B[39;49m\u001B[43m:\u001B[49m\u001B[38;5;241;43m101\u001B[39;49m\u001B[43m]\u001B[49m\u001B[43m,\u001B[49m\u001B[43m \u001B[49m\u001B[43mdataset\u001B[49m\u001B[43m[\u001B[49m\u001B[38;5;124;43m'\u001B[39;49m\u001B[38;5;124;43mtarget\u001B[39;49m\u001B[38;5;124;43m'\u001B[39;49m\u001B[43m]\u001B[49m\u001B[43m[\u001B[49m\u001B[38;5;241;43m97\u001B[39;49m\u001B[43m:\u001B[49m\u001B[38;5;241;43m101\u001B[39;49m\u001B[43m]\u001B[49m\u001B[38;5;241;43m.\u001B[39;49m\u001B[43mvalues\u001B[49m\u001B[38;5;241;43m.\u001B[39;49m\u001B[43mflatten\u001B[49m\u001B[43m(\u001B[49m\u001B[43m)\u001B[49m\u001B[43m)\u001B[49m\n",
      "File \u001B[1;32m~\\PycharmProjects\\texts_attribution\\venv_3.8\\lib\\site-packages\\sklearn\\base.py:1151\u001B[0m, in \u001B[0;36m_fit_context.<locals>.decorator.<locals>.wrapper\u001B[1;34m(estimator, *args, **kwargs)\u001B[0m\n\u001B[0;32m   1144\u001B[0m     estimator\u001B[38;5;241m.\u001B[39m_validate_params()\n\u001B[0;32m   1146\u001B[0m \u001B[38;5;28;01mwith\u001B[39;00m config_context(\n\u001B[0;32m   1147\u001B[0m     skip_parameter_validation\u001B[38;5;241m=\u001B[39m(\n\u001B[0;32m   1148\u001B[0m         prefer_skip_nested_validation \u001B[38;5;129;01mor\u001B[39;00m global_skip_validation\n\u001B[0;32m   1149\u001B[0m     )\n\u001B[0;32m   1150\u001B[0m ):\n\u001B[1;32m-> 1151\u001B[0m     \u001B[38;5;28;01mreturn\u001B[39;00m \u001B[43mfit_method\u001B[49m\u001B[43m(\u001B[49m\u001B[43mestimator\u001B[49m\u001B[43m,\u001B[49m\u001B[43m \u001B[49m\u001B[38;5;241;43m*\u001B[39;49m\u001B[43margs\u001B[49m\u001B[43m,\u001B[49m\u001B[43m \u001B[49m\u001B[38;5;241;43m*\u001B[39;49m\u001B[38;5;241;43m*\u001B[39;49m\u001B[43mkwargs\u001B[49m\u001B[43m)\u001B[49m\n",
      "File \u001B[1;32m~\\PycharmProjects\\texts_attribution\\venv_3.8\\lib\\site-packages\\sklearn\\linear_model\\_logistic.py:1207\u001B[0m, in \u001B[0;36mLogisticRegression.fit\u001B[1;34m(self, X, y, sample_weight)\u001B[0m\n\u001B[0;32m   1204\u001B[0m \u001B[38;5;28;01melse\u001B[39;00m:\n\u001B[0;32m   1205\u001B[0m     _dtype \u001B[38;5;241m=\u001B[39m [np\u001B[38;5;241m.\u001B[39mfloat64, np\u001B[38;5;241m.\u001B[39mfloat32]\n\u001B[1;32m-> 1207\u001B[0m X, y \u001B[38;5;241m=\u001B[39m \u001B[38;5;28;43mself\u001B[39;49m\u001B[38;5;241;43m.\u001B[39;49m\u001B[43m_validate_data\u001B[49m\u001B[43m(\u001B[49m\n\u001B[0;32m   1208\u001B[0m \u001B[43m    \u001B[49m\u001B[43mX\u001B[49m\u001B[43m,\u001B[49m\n\u001B[0;32m   1209\u001B[0m \u001B[43m    \u001B[49m\u001B[43my\u001B[49m\u001B[43m,\u001B[49m\n\u001B[0;32m   1210\u001B[0m \u001B[43m    \u001B[49m\u001B[43maccept_sparse\u001B[49m\u001B[38;5;241;43m=\u001B[39;49m\u001B[38;5;124;43m\"\u001B[39;49m\u001B[38;5;124;43mcsr\u001B[39;49m\u001B[38;5;124;43m\"\u001B[39;49m\u001B[43m,\u001B[49m\n\u001B[0;32m   1211\u001B[0m \u001B[43m    \u001B[49m\u001B[43mdtype\u001B[49m\u001B[38;5;241;43m=\u001B[39;49m\u001B[43m_dtype\u001B[49m\u001B[43m,\u001B[49m\n\u001B[0;32m   1212\u001B[0m \u001B[43m    \u001B[49m\u001B[43morder\u001B[49m\u001B[38;5;241;43m=\u001B[39;49m\u001B[38;5;124;43m\"\u001B[39;49m\u001B[38;5;124;43mC\u001B[39;49m\u001B[38;5;124;43m\"\u001B[39;49m\u001B[43m,\u001B[49m\n\u001B[0;32m   1213\u001B[0m \u001B[43m    \u001B[49m\u001B[43maccept_large_sparse\u001B[49m\u001B[38;5;241;43m=\u001B[39;49m\u001B[43msolver\u001B[49m\u001B[43m \u001B[49m\u001B[38;5;129;43;01mnot\u001B[39;49;00m\u001B[43m \u001B[49m\u001B[38;5;129;43;01min\u001B[39;49;00m\u001B[43m \u001B[49m\u001B[43m[\u001B[49m\u001B[38;5;124;43m\"\u001B[39;49m\u001B[38;5;124;43mliblinear\u001B[39;49m\u001B[38;5;124;43m\"\u001B[39;49m\u001B[43m,\u001B[49m\u001B[43m \u001B[49m\u001B[38;5;124;43m\"\u001B[39;49m\u001B[38;5;124;43msag\u001B[39;49m\u001B[38;5;124;43m\"\u001B[39;49m\u001B[43m,\u001B[49m\u001B[43m \u001B[49m\u001B[38;5;124;43m\"\u001B[39;49m\u001B[38;5;124;43msaga\u001B[39;49m\u001B[38;5;124;43m\"\u001B[39;49m\u001B[43m]\u001B[49m\u001B[43m,\u001B[49m\n\u001B[0;32m   1214\u001B[0m \u001B[43m\u001B[49m\u001B[43m)\u001B[49m\n\u001B[0;32m   1215\u001B[0m check_classification_targets(y)\n\u001B[0;32m   1216\u001B[0m \u001B[38;5;28mself\u001B[39m\u001B[38;5;241m.\u001B[39mclasses_ \u001B[38;5;241m=\u001B[39m np\u001B[38;5;241m.\u001B[39munique(y)\n",
      "File \u001B[1;32m~\\PycharmProjects\\texts_attribution\\venv_3.8\\lib\\site-packages\\sklearn\\base.py:621\u001B[0m, in \u001B[0;36mBaseEstimator._validate_data\u001B[1;34m(self, X, y, reset, validate_separately, cast_to_ndarray, **check_params)\u001B[0m\n\u001B[0;32m    619\u001B[0m         y \u001B[38;5;241m=\u001B[39m check_array(y, input_name\u001B[38;5;241m=\u001B[39m\u001B[38;5;124m\"\u001B[39m\u001B[38;5;124my\u001B[39m\u001B[38;5;124m\"\u001B[39m, \u001B[38;5;241m*\u001B[39m\u001B[38;5;241m*\u001B[39mcheck_y_params)\n\u001B[0;32m    620\u001B[0m     \u001B[38;5;28;01melse\u001B[39;00m:\n\u001B[1;32m--> 621\u001B[0m         X, y \u001B[38;5;241m=\u001B[39m \u001B[43mcheck_X_y\u001B[49m\u001B[43m(\u001B[49m\u001B[43mX\u001B[49m\u001B[43m,\u001B[49m\u001B[43m \u001B[49m\u001B[43my\u001B[49m\u001B[43m,\u001B[49m\u001B[43m \u001B[49m\u001B[38;5;241;43m*\u001B[39;49m\u001B[38;5;241;43m*\u001B[39;49m\u001B[43mcheck_params\u001B[49m\u001B[43m)\u001B[49m\n\u001B[0;32m    622\u001B[0m     out \u001B[38;5;241m=\u001B[39m X, y\n\u001B[0;32m    624\u001B[0m \u001B[38;5;28;01mif\u001B[39;00m \u001B[38;5;129;01mnot\u001B[39;00m no_val_X \u001B[38;5;129;01mand\u001B[39;00m check_params\u001B[38;5;241m.\u001B[39mget(\u001B[38;5;124m\"\u001B[39m\u001B[38;5;124mensure_2d\u001B[39m\u001B[38;5;124m\"\u001B[39m, \u001B[38;5;28;01mTrue\u001B[39;00m):\n",
      "File \u001B[1;32m~\\PycharmProjects\\texts_attribution\\venv_3.8\\lib\\site-packages\\sklearn\\utils\\validation.py:1147\u001B[0m, in \u001B[0;36mcheck_X_y\u001B[1;34m(X, y, accept_sparse, accept_large_sparse, dtype, order, copy, force_all_finite, ensure_2d, allow_nd, multi_output, ensure_min_samples, ensure_min_features, y_numeric, estimator)\u001B[0m\n\u001B[0;32m   1142\u001B[0m         estimator_name \u001B[38;5;241m=\u001B[39m _check_estimator_name(estimator)\n\u001B[0;32m   1143\u001B[0m     \u001B[38;5;28;01mraise\u001B[39;00m \u001B[38;5;167;01mValueError\u001B[39;00m(\n\u001B[0;32m   1144\u001B[0m         \u001B[38;5;124mf\u001B[39m\u001B[38;5;124m\"\u001B[39m\u001B[38;5;132;01m{\u001B[39;00mestimator_name\u001B[38;5;132;01m}\u001B[39;00m\u001B[38;5;124m requires y to be passed, but the target y is None\u001B[39m\u001B[38;5;124m\"\u001B[39m\n\u001B[0;32m   1145\u001B[0m     )\n\u001B[1;32m-> 1147\u001B[0m X \u001B[38;5;241m=\u001B[39m \u001B[43mcheck_array\u001B[49m\u001B[43m(\u001B[49m\n\u001B[0;32m   1148\u001B[0m \u001B[43m    \u001B[49m\u001B[43mX\u001B[49m\u001B[43m,\u001B[49m\n\u001B[0;32m   1149\u001B[0m \u001B[43m    \u001B[49m\u001B[43maccept_sparse\u001B[49m\u001B[38;5;241;43m=\u001B[39;49m\u001B[43maccept_sparse\u001B[49m\u001B[43m,\u001B[49m\n\u001B[0;32m   1150\u001B[0m \u001B[43m    \u001B[49m\u001B[43maccept_large_sparse\u001B[49m\u001B[38;5;241;43m=\u001B[39;49m\u001B[43maccept_large_sparse\u001B[49m\u001B[43m,\u001B[49m\n\u001B[0;32m   1151\u001B[0m \u001B[43m    \u001B[49m\u001B[43mdtype\u001B[49m\u001B[38;5;241;43m=\u001B[39;49m\u001B[43mdtype\u001B[49m\u001B[43m,\u001B[49m\n\u001B[0;32m   1152\u001B[0m \u001B[43m    \u001B[49m\u001B[43morder\u001B[49m\u001B[38;5;241;43m=\u001B[39;49m\u001B[43morder\u001B[49m\u001B[43m,\u001B[49m\n\u001B[0;32m   1153\u001B[0m \u001B[43m    \u001B[49m\u001B[43mcopy\u001B[49m\u001B[38;5;241;43m=\u001B[39;49m\u001B[43mcopy\u001B[49m\u001B[43m,\u001B[49m\n\u001B[0;32m   1154\u001B[0m \u001B[43m    \u001B[49m\u001B[43mforce_all_finite\u001B[49m\u001B[38;5;241;43m=\u001B[39;49m\u001B[43mforce_all_finite\u001B[49m\u001B[43m,\u001B[49m\n\u001B[0;32m   1155\u001B[0m \u001B[43m    \u001B[49m\u001B[43mensure_2d\u001B[49m\u001B[38;5;241;43m=\u001B[39;49m\u001B[43mensure_2d\u001B[49m\u001B[43m,\u001B[49m\n\u001B[0;32m   1156\u001B[0m \u001B[43m    \u001B[49m\u001B[43mallow_nd\u001B[49m\u001B[38;5;241;43m=\u001B[39;49m\u001B[43mallow_nd\u001B[49m\u001B[43m,\u001B[49m\n\u001B[0;32m   1157\u001B[0m \u001B[43m    \u001B[49m\u001B[43mensure_min_samples\u001B[49m\u001B[38;5;241;43m=\u001B[39;49m\u001B[43mensure_min_samples\u001B[49m\u001B[43m,\u001B[49m\n\u001B[0;32m   1158\u001B[0m \u001B[43m    \u001B[49m\u001B[43mensure_min_features\u001B[49m\u001B[38;5;241;43m=\u001B[39;49m\u001B[43mensure_min_features\u001B[49m\u001B[43m,\u001B[49m\n\u001B[0;32m   1159\u001B[0m \u001B[43m    \u001B[49m\u001B[43mestimator\u001B[49m\u001B[38;5;241;43m=\u001B[39;49m\u001B[43mestimator\u001B[49m\u001B[43m,\u001B[49m\n\u001B[0;32m   1160\u001B[0m \u001B[43m    \u001B[49m\u001B[43minput_name\u001B[49m\u001B[38;5;241;43m=\u001B[39;49m\u001B[38;5;124;43m\"\u001B[39;49m\u001B[38;5;124;43mX\u001B[39;49m\u001B[38;5;124;43m\"\u001B[39;49m\u001B[43m,\u001B[49m\n\u001B[0;32m   1161\u001B[0m \u001B[43m\u001B[49m\u001B[43m)\u001B[49m\n\u001B[0;32m   1163\u001B[0m y \u001B[38;5;241m=\u001B[39m _check_y(y, multi_output\u001B[38;5;241m=\u001B[39mmulti_output, y_numeric\u001B[38;5;241m=\u001B[39my_numeric, estimator\u001B[38;5;241m=\u001B[39mestimator)\n\u001B[0;32m   1165\u001B[0m check_consistent_length(X, y)\n",
      "File \u001B[1;32m~\\PycharmProjects\\texts_attribution\\venv_3.8\\lib\\site-packages\\sklearn\\utils\\validation.py:940\u001B[0m, in \u001B[0;36mcheck_array\u001B[1;34m(array, accept_sparse, accept_large_sparse, dtype, order, copy, force_all_finite, ensure_2d, allow_nd, ensure_min_samples, ensure_min_features, estimator, input_name)\u001B[0m\n\u001B[0;32m    938\u001B[0m     \u001B[38;5;66;03m# If input is 1D raise error\u001B[39;00m\n\u001B[0;32m    939\u001B[0m     \u001B[38;5;28;01mif\u001B[39;00m array\u001B[38;5;241m.\u001B[39mndim \u001B[38;5;241m==\u001B[39m \u001B[38;5;241m1\u001B[39m:\n\u001B[1;32m--> 940\u001B[0m         \u001B[38;5;28;01mraise\u001B[39;00m \u001B[38;5;167;01mValueError\u001B[39;00m(\n\u001B[0;32m    941\u001B[0m             \u001B[38;5;124m\"\u001B[39m\u001B[38;5;124mExpected 2D array, got 1D array instead:\u001B[39m\u001B[38;5;130;01m\\n\u001B[39;00m\u001B[38;5;124marray=\u001B[39m\u001B[38;5;132;01m{}\u001B[39;00m\u001B[38;5;124m.\u001B[39m\u001B[38;5;130;01m\\n\u001B[39;00m\u001B[38;5;124m\"\u001B[39m\n\u001B[0;32m    942\u001B[0m             \u001B[38;5;124m\"\u001B[39m\u001B[38;5;124mReshape your data either using array.reshape(-1, 1) if \u001B[39m\u001B[38;5;124m\"\u001B[39m\n\u001B[0;32m    943\u001B[0m             \u001B[38;5;124m\"\u001B[39m\u001B[38;5;124myour data has a single feature or array.reshape(1, -1) \u001B[39m\u001B[38;5;124m\"\u001B[39m\n\u001B[0;32m    944\u001B[0m             \u001B[38;5;124m\"\u001B[39m\u001B[38;5;124mif it contains a single sample.\u001B[39m\u001B[38;5;124m\"\u001B[39m\u001B[38;5;241m.\u001B[39mformat(array)\n\u001B[0;32m    945\u001B[0m         )\n\u001B[0;32m    947\u001B[0m \u001B[38;5;28;01mif\u001B[39;00m dtype_numeric \u001B[38;5;129;01mand\u001B[39;00m \u001B[38;5;28mhasattr\u001B[39m(array\u001B[38;5;241m.\u001B[39mdtype, \u001B[38;5;124m\"\u001B[39m\u001B[38;5;124mkind\u001B[39m\u001B[38;5;124m\"\u001B[39m) \u001B[38;5;129;01mand\u001B[39;00m array\u001B[38;5;241m.\u001B[39mdtype\u001B[38;5;241m.\u001B[39mkind \u001B[38;5;129;01min\u001B[39;00m \u001B[38;5;124m\"\u001B[39m\u001B[38;5;124mUSV\u001B[39m\u001B[38;5;124m\"\u001B[39m:\n\u001B[0;32m    948\u001B[0m     \u001B[38;5;28;01mraise\u001B[39;00m \u001B[38;5;167;01mValueError\u001B[39;00m(\n\u001B[0;32m    949\u001B[0m         \u001B[38;5;124m\"\u001B[39m\u001B[38;5;124mdtype=\u001B[39m\u001B[38;5;124m'\u001B[39m\u001B[38;5;124mnumeric\u001B[39m\u001B[38;5;124m'\u001B[39m\u001B[38;5;124m is not compatible with arrays of bytes/strings.\u001B[39m\u001B[38;5;124m\"\u001B[39m\n\u001B[0;32m    950\u001B[0m         \u001B[38;5;124m\"\u001B[39m\u001B[38;5;124mConvert your data to numeric values explicitly instead.\u001B[39m\u001B[38;5;124m\"\u001B[39m\n\u001B[0;32m    951\u001B[0m     )\n",
      "\u001B[1;31mValueError\u001B[0m: Expected 2D array, got 1D array instead:\narray=[ 67.49211356  83.09268293 135.44338967].\nReshape your data either using array.reshape(-1, 1) if your data has a single feature or array.reshape(1, -1) if it contains a single sample."
     ]
    }
   ],
   "source": [
    "/logreg.fit()"
   ],
   "metadata": {
    "collapsed": false,
    "ExecuteTime": {
     "end_time": "2023-07-22T09:10:08.585494200Z",
     "start_time": "2023-07-22T09:10:08.500909800Z"
    }
   }
  },
  {
   "cell_type": "code",
   "execution_count": 74,
   "outputs": [
    {
     "data": {
      "text/plain": "array([1, 0, 0, 0, 1, 0, 1, 0, 1, 1, 0, 1, 1, 1, 0, 0], dtype=int64)"
     },
     "execution_count": 74,
     "metadata": {},
     "output_type": "execute_result"
    }
   ],
   "source": [
    "logreg.predict()"
   ],
   "metadata": {
    "collapsed": false,
    "ExecuteTime": {
     "end_time": "2023-07-22T08:55:24.369363300Z",
     "start_time": "2023-07-22T08:55:24.347061Z"
    }
   }
  }
 ],
 "metadata": {
  "kernelspec": {
   "display_name": "Python 3",
   "language": "python",
   "name": "python3"
  },
  "language_info": {
   "codemirror_mode": {
    "name": "ipython",
    "version": 2
   },
   "file_extension": ".py",
   "mimetype": "text/x-python",
   "name": "python",
   "nbconvert_exporter": "python",
   "pygments_lexer": "ipython2",
   "version": "2.7.6"
  }
 },
 "nbformat": 4,
 "nbformat_minor": 0
}
