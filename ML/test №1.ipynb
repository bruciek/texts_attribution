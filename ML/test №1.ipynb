{
 "cells": [
  {
   "cell_type": "code",
   "execution_count": 23,
   "metadata": {
    "collapsed": true,
    "ExecuteTime": {
     "end_time": "2023-07-20T13:13:24.728559900Z",
     "start_time": "2023-07-20T13:13:24.700660100Z"
    }
   },
   "outputs": [],
   "source": [
    "import pandas as pd\n",
    "import sklearn\n",
    "from natasha import *\n",
    "from natasha_func import get_words\n",
    "\n",
    "from collections import defaultdict\n",
    "import pickle\n",
    "from natasha_func import get_words, get_doc"
   ]
  },
  {
   "cell_type": "code",
   "execution_count": 24,
   "outputs": [],
   "source": [
    "dataset = pickle.load(open(\"dataset.pkl\", \"rb\"))\n",
    "dataset_books = dataset[\"books\"]"
   ],
   "metadata": {
    "collapsed": false,
    "ExecuteTime": {
     "end_time": "2023-07-20T13:13:25.925350900Z",
     "start_time": "2023-07-20T13:13:25.298537400Z"
    }
   }
  },
  {
   "cell_type": "code",
   "execution_count": 25,
   "outputs": [
    {
     "data": {
      "text/plain": "'Александр Блок СОЛОВЬИНЫЙ САД 1 Я ломаю слоистые скалы В час отлива на илистом дне, И таскает осел мой усталый Их куски на мохнатой спине. Донесем до железной дороги, Сложим в кучу, - и к морю опять Нас ведут волосатые ноги, И осел начинает кричать. И кричит, и трубит он, - отрадно, Что идет налегке хоть назад. А у самой дороги - прохладный И тенистый раскинулся сад. По ограде высокой и длинной Лишних роз к нам свисают цветы. Не смолкает напев соловьиный, Что-то шепчут ручьи и листы. Крик осла моего раздается Каждый раз у садовых ворот, А в саду кто-то тихо смеется, И потом - отойдет и поет. И, вникая в напев беспокойный, Я гляжу, понукая осла, Как на берег скалистый и знойный Опускается синяя мгла. 2 Знойный день догорает бесследно, Сумрак ночи ползет сквозь кусты; И осел удивляется, бедный: \"Что, хозяин, раздумался ты?\" Или разум от зноя мутится, Замечтался ли в сумраке я? Только вс╓ неотступнее снится Жизнь другая - моя, не моя... И чего в этой хижине тесной Я, бедняк обездоленный, жду, Повторяя напев неизвестный, В соловьином звенящий саду? Не доносятся жизни проклятья В этот сад, обнесенный стеной, В синем сумраке белое платье За решоткой мелькает резной. Каждый вечер в закатном тумане Прохожу мимо этих ворот, И она меня, легкая, манит И круженьем, и пеньем зовет. И в призывном круженье и пенье Я забытое что-то ловлю, И любить начинаю томленье, Недоступность ограды люблю. 3 Отдыхает осел утомленный, Брошен лом на песке под скалой, А хозяин блуждает влюбленный За ночною, за знойною мглой. И знакомый, пустой, каменистый, Но сегодня - таинственный путь Вновь приводит к ограде тенистой, Убегающей в синюю муть. И томление вс╓ безысходней, И идут за часами часы, И колючие розы сегодня Опустились под тягой росы. Наказанье ли ждет, иль награда, Если я уклонюсь от пути? Как бы в дверь соловьиного сада Постучаться, и можно ль войти? А уж прошлое кажется странным, И руке не вернуться к труду: Сердце знает, что гостем желанным Буду я в соловьином саду... 4 Правду сердце мое говорило, И ограда была не страшна. Не стучал я - сама отворила Неприступные двери она. Вдоль прохладной дороги, меж лилий, Однозвучно запели ручьи, Сладкой песнью меня оглушили, Взяли душу мою соловьи. Чуждый край незнакомого счастья Мне открыли объятия те, И звенели, спадая, запястья Громче, чем в моей нищей мечте. Опьяненный вином золотистым, Золотым опаленный огнем, Я забыл о пути каменистом, О товарище бедном моем. 5 Пусть укрыла от дольнего горя Утонувшая в розах стена, - Заглушить рокотание моря Соловьиная песнь не вольна! И вступившая в пенье тревога Рокот волн до меня донесла... Вдруг - виденье: большая дорога И усталая поступь осла... И во мгле благовонной и знойной Обвиваясь горячей рукой, Повторяет она беспокойно: \"Что с тобою, возлюбленный мой?\" Но, вперяясь во мглу сиротливо, Надышаться блаженством спеша, Отдаленного шума прилива Уж не может не слышать душа. 6 Я проснулся на мглистом рассвете Неизвестно которого дня. Спит она, улыбаясь, как дети, - Ей пригрезился сон про меня. К`ак под утренним сумраком чарым Лик, прозрачный от страсти, красив!... По далеким и мерным ударам Я узнал, что подходит прилив. Я окно распахнул голубое, И почудилось, будто возник За далеким рычаньем прибоя Призывающий жалобный крик. Крик осла был протяжен и долог, Проникал в мою душу, как стон, И тихонько задернул я полог, Чтоб продлить очарованный сон. И, спускаясь по к`амням ограды, Я нарушил цветов забытье. Их шипы, точно руки из сада, Уцепились за платье мое. 7 Путь знакомый и прежде недлинный В это утро кремнист и тяжел. Я вступаю на берег пустынный, Где остался мой дом и осел. Или я заблудился в тумане? Или кто-нибудь шутит со мной? Нет, я помню камней очертанье, Тощий куст и скалу над водой... Где же дом? - И скользящей ногою Споткаюсь о брошенный лом, Тяжкий, ржавый, под черной скалою Затянувшийся мокрым песком... Размахнувшись движеньем знакомым (Или вс╓ еще это во сне?), Я ударил заржавленным ломом По слоистому камню на дне... И оттуда, где серые спруты Покачнулись в лазурной щели, Закарабкался краб всполохнутый И присел на песчаной мели. Я подвинулся, - он приподнялся, Широко разевая клешни, Но сейчас же с другим повстречался, Подрались и пропали они... А с тропинки, протоптанной мною, Там, где хижина прежде была, Стал спускаться рабочий с киркою, Погоняя чужого осла. 6 января 1914 - 14 октября 1915'"
     },
     "execution_count": 25,
     "metadata": {},
     "output_type": "execute_result"
    }
   ],
   "source": [
    "dataset_books[0]"
   ],
   "metadata": {
    "collapsed": false,
    "ExecuteTime": {
     "end_time": "2023-07-20T13:13:27.116360700Z",
     "start_time": "2023-07-20T13:13:27.109915400Z"
    }
   }
  },
  {
   "cell_type": "code",
   "execution_count": 26,
   "outputs": [],
   "source": [
    "def correlation_of_short_long_words(doc): #отношение коротких слов к длинным. на вход принимает произведения\n",
    "    short = 0\n",
    "    long = 0\n",
    "    words = get_words(doc)\n",
    "    for word in words:\n",
    "        if len(word) < 5:\n",
    "            short += 1\n",
    "        elif len(word) > 8:\n",
    "            long += 1\n",
    "    return short / long\n",
    "\n",
    "def correlation_of_long_medium_words(doc):\n",
    "    long = 0\n",
    "    medium = 0\n",
    "    words = get_words(doc)\n",
    "    for word in words:\n",
    "        if  4 <= len(word) <= 8:\n",
    "            medium += 1\n",
    "        elif len(word) > 8:\n",
    "            long += 1\n",
    "    return long / medium"
   ],
   "metadata": {
    "collapsed": false,
    "ExecuteTime": {
     "end_time": "2023-07-20T13:13:28.442980400Z",
     "start_time": "2023-07-20T13:13:28.424060700Z"
    }
   }
  },
  {
   "cell_type": "code",
   "execution_count": 27,
   "outputs": [],
   "source": [
    "def semicolon_freq(doc):\n",
    "    return doc.count(';') / len(book)"
   ],
   "metadata": {
    "collapsed": false,
    "ExecuteTime": {
     "end_time": "2023-07-20T13:13:30.026343Z",
     "start_time": "2023-07-20T13:13:30.012755800Z"
    }
   }
  },
  {
   "cell_type": "code",
   "execution_count": 28,
   "outputs": [],
   "source": [
    "def count_upper_words(doc):\n",
    "    count = 0\n",
    "    words = get_words(doc)\n",
    "    for word in words:\n",
    "        if word.isupper() == True:\n",
    "            count += 1\n",
    "    return count"
   ],
   "metadata": {
    "collapsed": false,
    "ExecuteTime": {
     "end_time": "2023-07-20T13:13:30.397877Z",
     "start_time": "2023-07-20T13:13:30.389753600Z"
    }
   }
  },
  {
   "cell_type": "code",
   "execution_count": 29,
   "outputs": [],
   "source": [
    "def freq_of_freq_word(doc):\n",
    "    temp = defaultdict(int)\n",
    "    words = get_words(doc)\n",
    "    for word in words:\n",
    "        temp[word] += 1\n",
    "    w = max(temp, key=temp.get)\n",
    "    return words.count(w)\n"
   ],
   "metadata": {
    "collapsed": false,
    "ExecuteTime": {
     "end_time": "2023-07-20T13:13:30.883986300Z",
     "start_time": "2023-07-20T13:13:30.861129Z"
    }
   }
  },
  {
   "cell_type": "code",
   "execution_count": 33,
   "outputs": [
    {
     "data": {
      "text/plain": "28"
     },
     "execution_count": 33,
     "metadata": {},
     "output_type": "execute_result"
    }
   ],
   "source": [
    "doc = get_doc(dataset_books[0])\n",
    "freq_of_freq_word(doc)"
   ],
   "metadata": {
    "collapsed": false,
    "ExecuteTime": {
     "end_time": "2023-07-20T13:15:13.858121300Z",
     "start_time": "2023-07-20T13:15:13.082020700Z"
    }
   }
  },
  {
   "cell_type": "code",
   "execution_count": null,
   "outputs": [],
   "source": [
    "authors = list(set(dataset['authors']))\n",
    "dict_authors = dict()\n",
    "reverse_dict_authors = dict()\n",
    "for index in range(len(authors)):\n",
    "    dict_authors[authors[index]] = index\n",
    "    reverse_dict_authors[index] = authors[index]\n",
    "\n",
    "target = []\n",
    "for author in dataset[\"authors\"]:\n",
    "    target += [dict_authors[author]]"
   ],
   "metadata": {
    "collapsed": false
   }
  },
  {
   "cell_type": "code",
   "execution_count": null,
   "outputs": [],
   "source": [
    "feature1 = []\n",
    "feature2 = []\n",
    "for book in dataset['books']:\n",
    "    words = get_words(book.lower())\n",
    "    #сюда лемматизацию впихуем\n",
    "\n",
    "\n",
    "    feature1.append(freq_of_word(words, 'и'))\n",
    "\n",
    "feature1_silent_don = []\n",
    "for book_silent_don in dataset_silent_don['books']:\n",
    "    words_silen_don = get_words(book_silent_don.lower())\n",
    "    #сюда лемматизацию впихуем\n",
    "\n",
    "    #сюда по очереди все функции\n",
    "    feature1_silent_don.append(freq_of_word(words_silen_don, 'и'))"
   ],
   "metadata": {
    "collapsed": false
   }
  },
  {
   "cell_type": "code",
   "execution_count": null,
   "outputs": [],
   "source": [
    "dataset_for_ml = {\"feature1\": feature1, \"targets\": target}\n",
    "df = pd.DataFrame(dataset_for_ml)\n",
    "print(df)"
   ],
   "metadata": {
    "collapsed": false
   }
  },
  {
   "cell_type": "code",
   "execution_count": null,
   "outputs": [],
   "source": [
    "df.to_csv('out.zip', index=False)\n",
    "pd.read_csv('out.zip')"
   ],
   "metadata": {
    "collapsed": false
   }
  },
  {
   "cell_type": "code",
   "execution_count": null,
   "outputs": [],
   "source": [
    "authors_seen = []\n",
    "test_ixs = []\n",
    "train_ixs = []\n",
    "for ixs in range(len(df)):\n",
    "    aut = df['targets'][ixs]\n",
    "    if authors_seen.count(aut) < 2:\n",
    "        authors_seen += [aut]\n",
    "        test_ixs += [ixs]\n",
    "    else: train_ixs += [ixs]\n",
    "\n",
    "y_test = df.iloc[test_ixs]['targets']\n",
    "x_test = df.iloc[test_ixs].drop(columns=[\"targets\"])\n",
    "y_train = df.iloc[train_ixs]['targets']\n",
    "x_train = df.iloc[train_ixs].drop(columns=[\"targets\"])"
   ],
   "metadata": {
    "collapsed": false
   }
  },
  {
   "cell_type": "code",
   "execution_count": null,
   "outputs": [],
   "source": [
    "from sklearn.ensemble import ExtraTreesClassifier\n",
    "from sklearn.linear_model import LogisticRegression\n",
    "from sklearn.metrics import accuracy_score\n",
    "rfc = LogisticRegression()\n",
    "rfc.fit(x_train, y_train)\n",
    "accuracy_score(y_test, rfc.predict(x_test))"
   ],
   "metadata": {
    "collapsed": false
   }
  },
  {
   "cell_type": "code",
   "execution_count": null,
   "outputs": [],
   "source": [
    "rfc.predict(x_test)"
   ],
   "metadata": {
    "collapsed": false
   }
  },
  {
   "cell_type": "code",
   "execution_count": null,
   "outputs": [],
   "source": [],
   "metadata": {
    "collapsed": false
   }
  }
 ],
 "metadata": {
  "kernelspec": {
   "display_name": "Python 3",
   "language": "python",
   "name": "python3"
  },
  "language_info": {
   "codemirror_mode": {
    "name": "ipython",
    "version": 2
   },
   "file_extension": ".py",
   "mimetype": "text/x-python",
   "name": "python",
   "nbconvert_exporter": "python",
   "pygments_lexer": "ipython2",
   "version": "2.7.6"
  }
 },
 "nbformat": 4,
 "nbformat_minor": 0
}
