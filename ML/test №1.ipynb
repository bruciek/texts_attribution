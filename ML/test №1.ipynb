{
 "cells": [
  {
   "cell_type": "code",
   "execution_count": 2,
   "metadata": {
    "collapsed": true
   },
   "outputs": [],
   "source": [
    "import pandas as pd\n",
    "import sklearn"
   ]
  },
  {
   "cell_type": "code",
   "execution_count": 3,
   "outputs": [],
   "source": [
    "from freq_of_symbol import freq_of_symbol\n",
    "from freq_of_word import freq_of_word\n",
    "from number_of_unique_words import number_of_unique_words\n",
    "from number_of_words_that_occur_once import number_of_words_that_occur_once\n"
   ],
   "metadata": {
    "collapsed": false,
    "ExecuteTime": {
     "end_time": "2023-07-20T04:39:42.177124600Z",
     "start_time": "2023-07-20T04:39:42.156896500Z"
    }
   }
  },
  {
   "cell_type": "code",
   "execution_count": 4,
   "outputs": [
    {
     "name": "stdout",
     "output_type": "stream",
     "text": [
      "<function get_words at 0x000001639120EF20>\n"
     ]
    }
   ],
   "source": [
    "import pickle\n",
    "from get_words_by_Natasha import get_words\n",
    "dataset = pickle.load(open(\"dataset.pkl\", \"rb\"))"
   ],
   "metadata": {
    "collapsed": false,
    "ExecuteTime": {
     "end_time": "2023-07-20T04:39:45.843511700Z",
     "start_time": "2023-07-20T04:39:44.277426Z"
    }
   }
  },
  {
   "cell_type": "code",
   "execution_count": 5,
   "outputs": [],
   "source": [
    "authors = list(set(dataset['authors']))\n",
    "dict_authors = dict()\n",
    "reverse_dict_authors = dict()\n",
    "for index in range(len(authors)):\n",
    "    dict_authors[authors[index]] = index\n",
    "    reverse_dict_authors[index] = authors[index]\n",
    "\n",
    "target = []\n",
    "for author in dataset[\"authors\"]:\n",
    "    target += [dict_authors[author]]\n"
   ],
   "metadata": {
    "collapsed": false,
    "ExecuteTime": {
     "end_time": "2023-07-20T04:39:48.466759200Z",
     "start_time": "2023-07-20T04:39:48.457949900Z"
    }
   }
  },
  {
   "cell_type": "code",
   "execution_count": null,
   "outputs": [],
   "source": [
    "feature1 = []\n",
    "feature2 = []\n",
    "for book in dataset['books']:\n",
    "    words = get_words(book.lower())\n",
    "    #сюда лемматизацию впихуем\n",
    "\n",
    "    #сюда по очереди все функции\n",
    "    feature1.append(freq_of_word(words, 'и'))\n",
    "\n",
    "feature1_silent_don = []\n",
    "for book_silent_don in dataset_silent_don['books']:\n",
    "    words_silen_don = get_words(book_silent_don.lower())\n",
    "    #сюда лемматизацию впихуем\n",
    "\n",
    "    #сюда по очереди все функции\n",
    "    feature1_silent_don.append(freq_of_word(words_silen_don, 'и'))"
   ],
   "metadata": {
    "collapsed": false,
    "is_executing": true,
    "ExecuteTime": {
     "start_time": "2023-07-20T04:39:54.808975900Z"
    }
   }
  },
  {
   "cell_type": "code",
   "execution_count": null,
   "outputs": [],
   "source": [
    "dataset_for_ml = {\"feature1\": feature1, \"targets\": target}\n",
    "df = pd.DataFrame(dataset_for_ml)\n",
    "print(df)"
   ],
   "metadata": {
    "collapsed": false
   }
  },
  {
   "cell_type": "code",
   "execution_count": null,
   "outputs": [],
   "source": [
    "df.to_csv('out.zip', index=False)\n",
    "pd.read_csv('out.zip')"
   ],
   "metadata": {
    "collapsed": false
   }
  },
  {
   "cell_type": "code",
   "execution_count": null,
   "outputs": [],
   "source": [
    "authors_seen = []\n",
    "test_ixs = []\n",
    "train_ixs = []\n",
    "for ixs in range(len(df)):\n",
    "    aut = df['targets'][ixs]\n",
    "    if authors_seen.count(aut) < 2:\n",
    "        authors_seen += [aut]\n",
    "        test_ixs += [ixs]\n",
    "    else: train_ixs += [ixs]\n",
    "\n",
    "y_test = df.iloc[test_ixs]['targets']\n",
    "x_test = df.iloc[test_ixs].drop(columns=[\"targets\"])\n",
    "y_train = df.iloc[train_ixs]['targets']\n",
    "x_train = df.iloc[train_ixs].drop(columns=[\"targets\"])"
   ],
   "metadata": {
    "collapsed": false
   }
  },
  {
   "cell_type": "code",
   "execution_count": null,
   "outputs": [],
   "source": [
    "from sklearn.ensemble import ExtraTreesClassifier\n",
    "from sklearn.linear_model import LogisticRegression\n",
    "from sklearn.metrics import accuracy_score\n",
    "rfc = LogisticRegression()\n",
    "rfc.fit(x_train, y_train)\n",
    "accuracy_score(y_test, rfc.predict(x_test))"
   ],
   "metadata": {
    "collapsed": false
   }
  },
  {
   "cell_type": "code",
   "execution_count": null,
   "outputs": [],
   "source": [
    "rfc.predict(x_test)"
   ],
   "metadata": {
    "collapsed": false
   }
  },
  {
   "cell_type": "code",
   "execution_count": null,
   "outputs": [],
   "source": [],
   "metadata": {
    "collapsed": false
   }
  }
 ],
 "metadata": {
  "kernelspec": {
   "display_name": "Python 3",
   "language": "python",
   "name": "python3"
  },
  "language_info": {
   "codemirror_mode": {
    "name": "ipython",
    "version": 2
   },
   "file_extension": ".py",
   "mimetype": "text/x-python",
   "name": "python",
   "nbconvert_exporter": "python",
   "pygments_lexer": "ipython2",
   "version": "2.7.6"
  }
 },
 "nbformat": 4,
 "nbformat_minor": 0
}
