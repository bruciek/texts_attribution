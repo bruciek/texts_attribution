{
 "cells": [
  {
   "cell_type": "code",
   "execution_count": 24,
   "metadata": {
    "collapsed": true,
    "ExecuteTime": {
     "end_time": "2023-07-21T05:00:44.437252400Z",
     "start_time": "2023-07-21T05:00:44.419253400Z"
    }
   },
   "outputs": [],
   "source": [
    "from natasha_func import *\n",
    "from natasha import *\n",
    "import pickle\n"
   ]
  },
  {
   "cell_type": "code",
   "execution_count": 23,
   "outputs": [],
   "source": [
    "dataset = pickle.load(open('C:\\\\Users\\\\User\\\\Desktop\\\\dataset.pkl', 'rb'))\n",
    "doc = get_doc(dataset['books'][0])"
   ],
   "metadata": {
    "collapsed": false,
    "ExecuteTime": {
     "end_time": "2023-07-21T05:00:30.281417400Z",
     "start_time": "2023-07-21T05:00:27.794289Z"
    }
   }
  },
  {
   "cell_type": "code",
   "execution_count": 2,
   "outputs": [],
   "source": [
    "def freq_of_space(doc) -> float:\n",
    "    text = doc.text\n",
    "    return text.count(' ') / len(text)"
   ],
   "metadata": {
    "collapsed": false,
    "ExecuteTime": {
     "end_time": "2023-07-21T04:15:53.086337500Z",
     "start_time": "2023-07-21T04:15:53.082337100Z"
    }
   }
  },
  {
   "cell_type": "code",
   "execution_count": 3,
   "outputs": [],
   "source": [
    "def sentences_avg_len_symbols(doc) -> float:\n",
    "    sentences = get_sents(doc)\n",
    "    return len(''.join(sentences).replace(' ', '')) / len(sentences)"
   ],
   "metadata": {
    "collapsed": false,
    "ExecuteTime": {
     "end_time": "2023-07-21T04:15:53.360714Z",
     "start_time": "2023-07-21T04:15:53.355714200Z"
    }
   }
  },
  {
   "cell_type": "code",
   "execution_count": 4,
   "outputs": [],
   "source": [
    "def capitalized_words_count_without_start_of_sentences(doc) -> int:\n",
    "    sentences = get_sents(doc)\n",
    "    capital_letters = 'АБВГДЕЁЖЗИЙКЛМНОПРСТУФХЦЧШЩЪЫЬЭЮЯ'\n",
    "    count = 0\n",
    "    for sentence in sentences:\n",
    "        for i in range(1, len(sentence)):\n",
    "            letter_prev = sentence[i - 1]\n",
    "            letter_curr = sentence[i]\n",
    "            if letter_prev == ' ' and letter_curr in capital_letters:\n",
    "                count += 1\n",
    "    return count"
   ],
   "metadata": {
    "collapsed": false,
    "ExecuteTime": {
     "end_time": "2023-07-21T04:15:53.676736400Z",
     "start_time": "2023-07-21T04:15:53.664734Z"
    }
   }
  },
  {
   "cell_type": "code",
   "execution_count": 11,
   "outputs": [],
   "source": [
    "def avg_syllable_per_noun(doc) -> float:\n",
    "    nouns = get_lemma_part_speech(doc, 'NOUN')\n",
    "    vowels = 'аеёиоуыэюя'\n",
    "    syllable_count = 0\n",
    "    for noun in nouns:\n",
    "        for letter in noun:\n",
    "            if letter in vowels:\n",
    "                syllable_count += 1\n",
    "    return syllable_count / len(nouns)"
   ],
   "metadata": {
    "collapsed": false,
    "ExecuteTime": {
     "end_time": "2023-07-21T04:53:20.467012900Z",
     "start_time": "2023-07-21T04:53:20.462014300Z"
    }
   }
  },
  {
   "cell_type": "code",
   "execution_count": 15,
   "outputs": [],
   "source": [
    "def avg_syllable_per_verb(doc) -> float:\n",
    "    verbs = get_lemma_part_speech(doc, 'VERB')\n",
    "    vowels = 'аеёиоуыэюя'\n",
    "    syllable_count = 0\n",
    "    for verb in verbs:\n",
    "        for letter in verb:\n",
    "            if letter in vowels:\n",
    "                syllable_count += 1\n",
    "    return syllable_count / len(verbs)"
   ],
   "metadata": {
    "collapsed": false,
    "ExecuteTime": {
     "end_time": "2023-07-21T04:55:24.055275600Z",
     "start_time": "2023-07-21T04:55:24.043273800Z"
    }
   }
  },
  {
   "cell_type": "code",
   "execution_count": 17,
   "outputs": [],
   "source": [
    "def avg_syllable_per_adjective(doc) -> float:\n",
    "    adjectives = get_lemma_part_speech(doc, 'ADJ')\n",
    "    vowels = 'аеёиоуыэюя'\n",
    "    syllable_count = 0\n",
    "    for adjective in adjectives:\n",
    "        for letter in adjective:\n",
    "            if letter in vowels:\n",
    "                syllable_count += 1\n",
    "    return syllable_count / len(adjectives)"
   ],
   "metadata": {
    "collapsed": false,
    "ExecuteTime": {
     "end_time": "2023-07-21T04:57:04.221536100Z",
     "start_time": "2023-07-21T04:57:04.204018900Z"
    }
   }
  },
  {
   "cell_type": "code",
   "execution_count": 21,
   "outputs": [],
   "source": [
    "def avg_syllable_per_adverb(doc) -> float:\n",
    "    adverbs = get_lemma_part_speech(doc, 'ADV')\n",
    "    vowels = 'аеёиоуыэюя'\n",
    "    syllable_count = 0\n",
    "    for adverb in adverbs:\n",
    "        for letter in adverb:\n",
    "            if letter in vowels:\n",
    "                syllable_count += 1\n",
    "    return syllable_count / len(adverbs)"
   ],
   "metadata": {
    "collapsed": false,
    "ExecuteTime": {
     "end_time": "2023-07-21T04:59:05.738506700Z",
     "start_time": "2023-07-21T04:59:05.727507100Z"
    }
   }
  },
  {
   "cell_type": "code",
   "execution_count": null,
   "outputs": [],
   "source": [],
   "metadata": {
    "collapsed": false
   }
  }
 ],
 "metadata": {
  "kernelspec": {
   "display_name": "Python 3",
   "language": "python",
   "name": "python3"
  },
  "language_info": {
   "codemirror_mode": {
    "name": "ipython",
    "version": 2
   },
   "file_extension": ".py",
   "mimetype": "text/x-python",
   "name": "python",
   "nbconvert_exporter": "python",
   "pygments_lexer": "ipython2",
   "version": "2.7.6"
  }
 },
 "nbformat": 4,
 "nbformat_minor": 0
}
