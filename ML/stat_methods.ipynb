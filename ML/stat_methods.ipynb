{
 "cells": [
  {
   "cell_type": "code",
   "execution_count": null,
   "outputs": [],
   "source": [
    "import pandas as pd\n",
    "\n",
    "from ML.utils.stat_tests import get_merged_texts\n",
    "from sklearn.metrics import accuracy_score\n",
    "from tqdm import tqdm\n",
    "from Text import Text\n",
    "from ML.utils.stat_tests import get_authors_texts"
   ],
   "metadata": {
    "collapsed": false
   }
  },
  {
   "cell_type": "code",
   "execution_count": 64,
   "outputs": [],
   "source": [
    "def predict_author(p_values, authors):\n",
    "    p_values = pd.Series(p_values)\n",
    "    index_max_pv = p_values.argmax()\n",
    "    author = authors[index_max_pv]\n",
    "    return author"
   ],
   "metadata": {
    "collapsed": false,
    "ExecuteTime": {
     "end_time": "2023-07-23T09:39:55.231569Z",
     "start_time": "2023-07-23T09:39:55.220568100Z"
    }
   }
  },
  {
   "cell_type": "code",
   "execution_count": 65,
   "outputs": [],
   "source": [
    "def khmelev_statistics(text1, text2):   #text1 == get_merged(df), text2 == text_for_attribution\n",
    "    p_values_khmelev = []\n",
    "    for text in text1[\"texts\"]:\n",
    "        p_values_khmelev.append((-1) * Text.one_sided_khmelev_statistics(Text(text), Text(text2)))\n",
    "    return p_values_khmelev\n",
    "\n",
    "def invariant_attribution_test(text1, text2):    #text1 == get_merged(df), text2 == text_for_attribution\n",
    "    p_values_inv_attr_test = []\n",
    "    for text in text1[\"texts\"]:\n",
    "        p_values_inv_attr_test.append(Text.invariant_attribution_test(Text(text), Text(text2))[1])\n",
    "    return p_values_inv_attr_test\n",
    "\n",
    "def burrows_delta(text1, text2):    #text1 == get_merged(df), text2 == text_for_attribution\n",
    "    p_values_burrow_delta = []\n",
    "    for text in text1[\"texts\"]:\n",
    "        p_values_burrow_delta.append((-1) * Text.burrows_delta(Text(text), Text(text2)))\n",
    "    return p_values_burrow_delta\n",
    "\n",
    "def unique_word_process_test(text1, text2):\n",
    "    values = []\n",
    "    for text in text1[\"texts\"]:\n",
    "        values.append(Text.unique_word_process_test_2_texts(Text(text), Text(text2))[1])\n",
    "\n",
    "    return values"
   ],
   "metadata": {
    "collapsed": false,
    "ExecuteTime": {
     "end_time": "2023-07-23T09:39:56.743682700Z",
     "start_time": "2023-07-23T09:39:56.723240900Z"
    }
   }
  },
  {
   "cell_type": "code",
   "execution_count": 66,
   "outputs": [],
   "source": [
    "def cross_val_stats(df, statmethod):\n",
    "    accuracy = []\n",
    "    for shift in tqdm(range(0, 10, 2)):\n",
    "        predicted_authors = []\n",
    "        authors_seen = []\n",
    "        test_ixs = []\n",
    "        for ixs in range(len(df)):\n",
    "            aut = df['targets'][ixs]\n",
    "            if authors_seen.count(aut) < 2:\n",
    "                authors_seen += [aut]\n",
    "                test_ixs += [ixs + shift]\n",
    "        train_ixs = list(set(range(len(df))) - set(test_ixs))\n",
    "        authors_texts_test = df.iloc[test_ixs]\n",
    "        authors_texts_train = get_merged_texts(df.iloc[train_ixs])\n",
    "        #стат методы\n",
    "        for book in tqdm(authors_texts_test['texts']):\n",
    "            p_values = statmethod(authors_texts_train, book)\n",
    "            predicted_authors.append(predict_author(p_values, authors_texts_train['targets']))\n",
    "        accuracy.append(accuracy_score(predicted_authors, authors_texts_test['targets']))\n",
    "\n",
    "    return accuracy\n"
   ],
   "metadata": {
    "collapsed": false,
    "ExecuteTime": {
     "end_time": "2023-07-23T09:39:58.143596500Z",
     "start_time": "2023-07-23T09:39:58.137410500Z"
    }
   }
  },
  {
   "cell_type": "code",
   "execution_count": null,
   "outputs": [],
   "source": [
    "df = get_authors_texts('C:\\\\Users\\\\mashk\\\\PycharmProjects\\\\texts_attribution\\\\Данные')"
   ],
   "metadata": {
    "collapsed": false
   }
  },
  {
   "cell_type": "code",
   "execution_count": null,
   "outputs": [
    {
     "name": "stderr",
     "output_type": "stream",
     "text": [
      "  0%|          | 0/5 [00:00<?, ?it/s]\n",
      "  0%|          | 0/100 [00:00<?, ?it/s]\u001B[A"
     ]
    }
   ],
   "source": [
    "cross_val_stats(df, khmelev_statistics)"
   ],
   "metadata": {
    "collapsed": false,
    "is_executing": true,
    "ExecuteTime": {
     "start_time": "2023-07-23T09:40:01.191534700Z"
    }
   }
  },
  {
   "cell_type": "code",
   "execution_count": null,
   "outputs": [],
   "source": [],
   "metadata": {
    "collapsed": false
   }
  }
 ],
 "metadata": {
  "kernelspec": {
   "display_name": "Python 3",
   "language": "python",
   "name": "python3"
  },
  "language_info": {
   "codemirror_mode": {
    "name": "ipython",
    "version": 2
   },
   "file_extension": ".py",
   "mimetype": "text/x-python",
   "name": "python",
   "nbconvert_exporter": "python",
   "pygments_lexer": "ipython2",
   "version": "2.7.6"
  }
 },
 "nbformat": 4,
 "nbformat_minor": 0
}
