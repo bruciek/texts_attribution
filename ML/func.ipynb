{
 "cells": [
  {
   "cell_type": "code",
   "execution_count": 1,
   "metadata": {
    "collapsed": true,
    "ExecuteTime": {
     "end_time": "2023-07-20T05:19:44.390336300Z",
     "start_time": "2023-07-20T05:19:38.132095500Z"
    }
   },
   "outputs": [
    {
     "name": "stdout",
     "output_type": "stream",
     "text": [
      "<function get_words at 0x000001BDD5CAC860>\n"
     ]
    }
   ],
   "source": [
    "import pandas as pd\n",
    "import sklearn\n",
    "import pickle\n",
    "from get_words_by_Natasha import get_words"
   ]
  },
  {
   "cell_type": "code",
   "execution_count": 2,
   "outputs": [],
   "source": [
    "from freq_of_symbol import freq_of_symbol\n",
    "from freq_of_word import freq_of_word\n",
    "from number_of_unique_words import number_of_unique_words\n",
    "from number_of_words_that_occur_once import number_of_words_that_occur_once\n"
   ],
   "metadata": {
    "collapsed": false,
    "ExecuteTime": {
     "end_time": "2023-07-20T05:19:44.405159800Z",
     "start_time": "2023-07-20T05:19:44.393792500Z"
    }
   }
  },
  {
   "cell_type": "code",
   "execution_count": 3,
   "outputs": [],
   "source": [
    "def dataset_to_pandas_table(dataset = pickle.load(open(\"dataset.pkl\", \"rb\"))):\n",
    "    authors = list(set(dataset['authors']))\n",
    "    dict_authors = dict()\n",
    "    reverse_dict_authors = dict()\n",
    "    for index in range(len(authors)):\n",
    "        dict_authors[authors[index]] = index\n",
    "        reverse_dict_authors[index] = authors[index]\n",
    "\n",
    "    target = []\n",
    "    for author in dataset[\"authors\"]:\n",
    "        target += [dict_authors[author]]\n",
    "    feature1 = []\n",
    "    feature2 = []\n",
    "    for book in dataset['books']:\n",
    "        words = get_words(book.lower())\n",
    "        #сюда лемматизацию впихуем\n",
    "\n",
    "        #сюда по очереди все функции\n",
    "        feature1.append(freq_of_word(words, 'и'))\n",
    "    dataset_for_ml = {\"feature1\": feature1, \"targets\": target}\n",
    "    df = pd.DataFrame(dataset_for_ml)\n",
    "    return df"
   ],
   "metadata": {
    "collapsed": false,
    "ExecuteTime": {
     "end_time": "2023-07-20T05:19:45.386037100Z",
     "start_time": "2023-07-20T05:19:44.411790700Z"
    }
   }
  },
  {
   "cell_type": "code",
   "execution_count": 5,
   "outputs": [],
   "source": [
    "df = dataset_to_pandas_table()\n",
    "authors_seen = []\n",
    "test_ixs = []\n",
    "train_ixs = []\n",
    "for ixs in range(len(df)):\n",
    "    aut = df['targets'][ixs]\n",
    "    if authors_seen.count(aut) < 2:\n",
    "        authors_seen += [aut]\n",
    "        test_ixs += [ixs]\n",
    "    else: train_ixs += [ixs]\n",
    "\n",
    "y_test = df.iloc[test_ixs]['targets']\n",
    "x_test = df.iloc[test_ixs].drop(columns=[\"targets\"])\n",
    "y_train = df.iloc[train_ixs]['targets']\n",
    "x_train = df.iloc[train_ixs].drop(columns=[\"targets\"])"
   ],
   "metadata": {
    "collapsed": false,
    "ExecuteTime": {
     "end_time": "2023-07-20T05:27:29.799816600Z",
     "start_time": "2023-07-20T05:20:04.388603300Z"
    }
   }
  },
  {
   "cell_type": "code",
   "execution_count": 6,
   "outputs": [
    {
     "data": {
      "text/plain": "0.07"
     },
     "execution_count": 6,
     "metadata": {},
     "output_type": "execute_result"
    }
   ],
   "source": [
    "from sklearn.ensemble import ExtraTreesClassifier\n",
    "from sklearn.metrics import accuracy_score\n",
    "rfc = ExtraTreesClassifier()\n",
    "rfc.fit(x_train, y_train)\n",
    "accuracy_score(y_test, rfc.predict(x_test))"
   ],
   "metadata": {
    "collapsed": false,
    "ExecuteTime": {
     "end_time": "2023-07-20T05:27:41.994941Z",
     "start_time": "2023-07-20T05:27:41.179895500Z"
    }
   }
  },
  {
   "cell_type": "code",
   "execution_count": null,
   "outputs": [],
   "source": [
    "rfc.predict(x_test)"
   ],
   "metadata": {
    "collapsed": false
   }
  },
  {
   "cell_type": "code",
   "execution_count": null,
   "outputs": [],
   "source": [],
   "metadata": {
    "collapsed": false
   }
  }
 ],
 "metadata": {
  "kernelspec": {
   "display_name": "Python 3",
   "language": "python",
   "name": "python3"
  },
  "language_info": {
   "codemirror_mode": {
    "name": "ipython",
    "version": 2
   },
   "file_extension": ".py",
   "mimetype": "text/x-python",
   "name": "python",
   "nbconvert_exporter": "python",
   "pygments_lexer": "ipython2",
   "version": "2.7.6"
  }
 },
 "nbformat": 4,
 "nbformat_minor": 0
}
