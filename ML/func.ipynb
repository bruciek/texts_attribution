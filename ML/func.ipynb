{
 "cells": [
  {
   "cell_type": "code",
   "execution_count": 1,
   "metadata": {
    "collapsed": true,
    "ExecuteTime": {
     "end_time": "2023-07-21T07:34:37.059070700Z",
     "start_time": "2023-07-21T07:34:35.841693500Z"
    }
   },
   "outputs": [],
   "source": [
    "import pandas as pd\n",
    "import pickle\n",
    "from sklearn.ensemble import ExtraTreesClassifier\n",
    "from sklearn.metrics import accuracy_score\n",
    "from statistics import mean\n",
    "from feature_functions import *\n",
    "from natasha_func import get_doc\n",
    "from natasha_func import get_words\n",
    "from natasha_func import get_lemma_words\n",
    "from natasha_func import get_sents\n",
    "from collections import defaultdict\n",
    "from natasha_func import get_lemma_part_speech"
   ]
  },
  {
   "cell_type": "code",
   "execution_count": 2,
   "outputs": [],
   "source": [
    "dataset = pickle.load(open(\"dataset.pkl\", \"rb\"))"
   ],
   "metadata": {
    "collapsed": false,
    "ExecuteTime": {
     "end_time": "2023-07-21T07:34:37.441220600Z",
     "start_time": "2023-07-21T07:34:37.059573800Z"
    }
   }
  },
  {
   "cell_type": "code",
   "execution_count": 3,
   "outputs": [],
   "source": [
    "def get_feature(dataset, func):\n",
    "    feature = []\n",
    "    for book in dataset['books']:\n",
    "        dok = get_doc(book)\n",
    "        f = func(dok)\n",
    "        feature.append(f)\n",
    "    return feature"
   ],
   "metadata": {
    "collapsed": false,
    "ExecuteTime": {
     "end_time": "2023-07-21T07:34:37.442220600Z",
     "start_time": "2023-07-21T07:34:37.422743600Z"
    }
   }
  },
  {
   "cell_type": "code",
   "execution_count": 4,
   "outputs": [],
   "source": [
    "def dataset_target(dataset):\n",
    "    authors = list(set(dataset['authors']))\n",
    "    dict_authors = dict()\n",
    "    reverse_dict_authors = dict()\n",
    "    for index in range(len(authors)):\n",
    "        dict_authors[authors[index]] = index\n",
    "        reverse_dict_authors[index] = authors[index]\n",
    "    target = []\n",
    "    for author in dataset[\"authors\"]:\n",
    "        target += [dict_authors[author]]\n",
    "    return target"
   ],
   "metadata": {
    "collapsed": false,
    "ExecuteTime": {
     "end_time": "2023-07-21T07:34:37.454014300Z",
     "start_time": "2023-07-21T07:34:37.441220600Z"
    }
   }
  },
  {
   "cell_type": "code",
   "execution_count": null,
   "outputs": [],
   "source": [
    "from features.features_lemma_part_speech import get_feature_lemma_part_speech\n",
    "\n",
    "def get_list_of_features(doc):\n",
    "    features_symbol = get_feature_symbol(doc)\n",
    "    features_words = get_feature_word(doc)\n",
    "    features_sents = get_feature_sents(doc)\n",
    "    features_lemma_part_speech = get_feature_lemma_part_speech(doc)\n",
    "    list_of_features = features_sents + features_words + features_symbol + features_lemma_part_speech\n",
    "    return list_of_features"
   ],
   "metadata": {
    "collapsed": false
   }
  },
  {
   "cell_type": "code",
   "execution_count": 5,
   "outputs": [],
   "source": [
    "target = dataset_target(dataset)\n",
    "\n",
    "dataset_for_ml = {\"targets\": target}\n",
    "df = pd.DataFrame(dataset_for_ml)"
   ],
   "metadata": {
    "collapsed": false,
    "ExecuteTime": {
     "end_time": "2023-07-21T07:34:37.477298900Z",
     "start_time": "2023-07-21T07:34:37.454014300Z"
    }
   }
  },
  {
   "cell_type": "code",
   "execution_count": 6,
   "outputs": [
    {
     "ename": "AttributeError",
     "evalue": "'Doc' object has no attribute 'count'",
     "output_type": "error",
     "traceback": [
      "\u001B[1;31m---------------------------------------------------------------------------\u001B[0m",
      "\u001B[1;31mAttributeError\u001B[0m                            Traceback (most recent call last)",
      "Cell \u001B[1;32mIn[6], line 3\u001B[0m\n\u001B[0;32m      1\u001B[0m functions \u001B[38;5;241m=\u001B[39m [frequency_of_i, frequency_of_comma, frequency_of_dot, frequency_of_exclamation_mark,frequency_of_question_mark, frequency_of_brackets, frequency_of_quotation_marks, frequency_of_numbers, number_of_unique_words, number_of_words_that_occur_once, frequency_of_longest_word, average_lenght_of_sentence_by_letters, frequency_of_words_in_initial_form, correlation_of_vowels_consonants, most_common_first_letter_in_words, most_common_first_letter_in_sents, frequency_of_a, frequency_of_o, frequency_of_е, frequency_of_n, frequency_of_t, average_length_of_help_words, len_of_most_common_word, average_lenght_of_nouns, average_lenght_of_adjectives, average_lenght_of_adverbs, average_lenght_of_verbs, correlation_of_short_long_words, correlation_of_long_medium_words, semicolon_freq, count_upper_words, freq_of_freq_word, freq_word_from_adjective, freq_word_from_noun, freq_word_from_verbs, freq_of_space, sentences_avg_len_symbols, capitalized_words_count_without_start_of_sentences, avg_syllable_per_noun, avg_syllable_per_verb, avg_syllable_per_adjective, avg_syllable_per_adverb, count_words_infinitive]\n\u001B[0;32m      2\u001B[0m \u001B[38;5;28;01mfor\u001B[39;00m func \u001B[38;5;129;01min\u001B[39;00m functions:\n\u001B[1;32m----> 3\u001B[0m     feature \u001B[38;5;241m=\u001B[39m \u001B[43mget_feature\u001B[49m\u001B[43m(\u001B[49m\u001B[43mdataset\u001B[49m\u001B[43m,\u001B[49m\u001B[43m \u001B[49m\u001B[43mfunc\u001B[49m\u001B[43m)\u001B[49m\n\u001B[0;32m      4\u001B[0m     df[func\u001B[38;5;241m.\u001B[39m\u001B[38;5;18m__name__\u001B[39m] \u001B[38;5;241m=\u001B[39m feature\n",
      "Cell \u001B[1;32mIn[3], line 5\u001B[0m, in \u001B[0;36mget_feature\u001B[1;34m(dataset, func)\u001B[0m\n\u001B[0;32m      3\u001B[0m \u001B[38;5;28;01mfor\u001B[39;00m book \u001B[38;5;129;01min\u001B[39;00m dataset[\u001B[38;5;124m'\u001B[39m\u001B[38;5;124mbooks\u001B[39m\u001B[38;5;124m'\u001B[39m]:\n\u001B[0;32m      4\u001B[0m     dok \u001B[38;5;241m=\u001B[39m get_doc(book)\n\u001B[1;32m----> 5\u001B[0m     f \u001B[38;5;241m=\u001B[39m \u001B[43mfunc\u001B[49m\u001B[43m(\u001B[49m\u001B[43mdok\u001B[49m\u001B[43m)\u001B[49m\n\u001B[0;32m      6\u001B[0m     feature\u001B[38;5;241m.\u001B[39mappend(f)\n\u001B[0;32m      7\u001B[0m \u001B[38;5;28;01mreturn\u001B[39;00m feature\n",
      "File \u001B[1;32m~\\PycharmProjects\\texts_attribution\\ML\\feature_functions.py:11\u001B[0m, in \u001B[0;36mfrequency_of_comma\u001B[1;34m(book)\u001B[0m\n\u001B[0;32m     10\u001B[0m \u001B[38;5;28;01mdef\u001B[39;00m \u001B[38;5;21mfrequency_of_comma\u001B[39m(book): \u001B[38;5;66;03m#частоты запятых\u001B[39;00m\n\u001B[1;32m---> 11\u001B[0m     symbol_count \u001B[38;5;241m=\u001B[39m \u001B[43mbook\u001B[49m\u001B[38;5;241;43m.\u001B[39;49m\u001B[43mcount\u001B[49m(\u001B[38;5;124m'\u001B[39m\u001B[38;5;124m,\u001B[39m\u001B[38;5;124m'\u001B[39m)\n\u001B[0;32m     12\u001B[0m     \u001B[38;5;28;01mreturn\u001B[39;00m symbol_count \u001B[38;5;241m/\u001B[39m \u001B[38;5;28mlen\u001B[39m(book)\n",
      "\u001B[1;31mAttributeError\u001B[0m: 'Doc' object has no attribute 'count'"
     ]
    }
   ],
   "source": [
    "functions = [frequency_of_i, frequency_of_comma, frequency_of_dot, frequency_of_exclamation_mark,frequency_of_question_mark, frequency_of_brackets, frequency_of_quotation_marks, frequency_of_numbers, number_of_unique_words, number_of_words_that_occur_once, frequency_of_longest_word, average_lenght_of_sentence_by_letters, frequency_of_words_in_initial_form, correlation_of_vowels_consonants, most_common_first_letter_in_words, most_common_first_letter_in_sents, frequency_of_a, frequency_of_o, frequency_of_е, frequency_of_n, frequency_of_t, average_length_of_help_words, len_of_most_common_word, average_lenght_of_nouns, average_lenght_of_adjectives, average_lenght_of_adverbs, average_lenght_of_verbs, correlation_of_short_long_words, correlation_of_long_medium_words, semicolon_freq, count_upper_words, freq_of_freq_word, freq_word_from_adjective, freq_word_from_noun, freq_word_from_verbs, freq_of_space, sentences_avg_len_symbols, capitalized_words_count_without_start_of_sentences, avg_syllable_per_noun, avg_syllable_per_verb, avg_syllable_per_adjective, avg_syllable_per_adverb, count_words_infinitive]\n",
    "for func in functions:\n",
    "    feature = get_feature(dataset, func)\n",
    "    df[func.__name__] = feature\n"
   ],
   "metadata": {
    "collapsed": false,
    "ExecuteTime": {
     "end_time": "2023-07-21T08:09:12.784682100Z",
     "start_time": "2023-07-21T07:34:37.469018Z"
    }
   }
  },
  {
   "cell_type": "code",
   "execution_count": null,
   "outputs": [],
   "source": [
    "df.to_csv('out.csv', index=False)"
   ],
   "metadata": {
    "collapsed": false
   }
  },
  {
   "cell_type": "code",
   "execution_count": null,
   "outputs": [],
   "source": [
    "def validation(df, model):\n",
    "    accuracy = []\n",
    "    for shift in range(0, 10, 2):\n",
    "        authors_seen = []\n",
    "        test_ixs = []\n",
    "        for ixs in range(len(df)):\n",
    "            aut = df['targets'][ixs]\n",
    "            if authors_seen.count(aut) < 2:\n",
    "                authors_seen += [aut]\n",
    "                test_ixs += [ixs + shift]\n",
    "        train_ixs = list(set(range(len(df))) - set(test_ixs))\n",
    "        y_test = df.iloc[test_ixs]['targets']\n",
    "        x_test = df.iloc[test_ixs].drop(columns=[\"targets\"])\n",
    "        y_train = df.iloc[train_ixs]['targets']\n",
    "        x_train = df.iloc[train_ixs].drop(columns=[\"targets\"])\n",
    "\n",
    "        rfc = model\n",
    "        rfc.fit(x_train, y_train)\n",
    "        accuracy.append(accuracy_score(y_test, rfc.predict(x_test)))\n",
    "    return accuracy\n",
    "\n",
    "print( mean(validation(df, ExtraTreesClassifier())))"
   ],
   "metadata": {
    "collapsed": false
   }
  },
  {
   "cell_type": "code",
   "execution_count": null,
   "outputs": [],
   "source": [
    "from catboost import CatBoostClassifier\n",
    "\n",
    "validation(df, CatBoostClassifier())"
   ],
   "metadata": {
    "collapsed": false
   }
  },
  {
   "cell_type": "code",
   "execution_count": null,
   "outputs": [],
   "source": [],
   "metadata": {
    "collapsed": false
   }
  }
 ],
 "metadata": {
  "kernelspec": {
   "display_name": "Python 3",
   "language": "python",
   "name": "python3"
  },
  "language_info": {
   "codemirror_mode": {
    "name": "ipython",
    "version": 2
   },
   "file_extension": ".py",
   "mimetype": "text/x-python",
   "name": "python",
   "nbconvert_exporter": "python",
   "pygments_lexer": "ipython2",
   "version": "2.7.6"
  }
 },
 "nbformat": 4,
 "nbformat_minor": 0
}
