{
 "cells": [
  {
   "cell_type": "code",
   "execution_count": 1,
   "metadata": {
    "collapsed": true,
    "ExecuteTime": {
     "end_time": "2023-07-22T11:48:36.478202800Z",
     "start_time": "2023-07-22T11:48:35.081250200Z"
    }
   },
   "outputs": [],
   "source": [
    "import pandas as pd\n",
    "import pickle\n",
    "from sklearn.ensemble import ExtraTreesClassifier\n",
    "from sklearn.metrics import accuracy_score\n",
    "from statistics import mean\n",
    "from feature_functions import *\n",
    "from natasha_func import get_doc\n",
    "from natasha_func import get_words\n",
    "from natasha_func import get_lemma_words\n",
    "from natasha_func import get_sents\n",
    "from collections import defaultdict\n",
    "from natasha_func import get_lemma_part_speech"
   ]
  },
  {
   "cell_type": "code",
   "execution_count": 2,
   "outputs": [],
   "source": [
    "dataset = pickle.load(open(\"dataset.pkl\", \"rb\"))"
   ],
   "metadata": {
    "collapsed": false,
    "ExecuteTime": {
     "end_time": "2023-07-22T11:48:36.856419500Z",
     "start_time": "2023-07-22T11:48:36.478202800Z"
    }
   }
  },
  {
   "cell_type": "code",
   "execution_count": 3,
   "outputs": [],
   "source": [
    "def dataset_target(dataset):\n",
    "    authors = list(set(dataset['authors']))\n",
    "    dict_authors = dict()\n",
    "    reverse_dict_authors = dict()\n",
    "    for index in range(len(authors)):\n",
    "        dict_authors[authors[index]] = index\n",
    "        reverse_dict_authors[index] = authors[index]\n",
    "    target = []\n",
    "    for author in dataset[\"authors\"]:\n",
    "        target += [dict_authors[author]]\n",
    "    return target"
   ],
   "metadata": {
    "collapsed": false,
    "ExecuteTime": {
     "end_time": "2023-07-22T11:48:36.856419500Z",
     "start_time": "2023-07-22T11:48:36.829282Z"
    }
   }
  },
  {
   "cell_type": "code",
   "execution_count": 4,
   "outputs": [],
   "source": [
    "from features.features_lemma_part_speech import get_feature_lemma_part_speech\n",
    "from features.features_with_word_count import get_feature_symbol\n",
    "from features.features_with_sentence_list import get_feature_sents\n",
    "from features.features_words import get_feature_word\n",
    "\n",
    "def get_list_of_features(doc):\n",
    "    features_symbol = get_feature_symbol(doc)\n",
    "    features_words = get_feature_word(doc)\n",
    "    features_sents = get_feature_sents(doc)\n",
    "    features_lemma_part_speech = get_feature_lemma_part_speech(doc)\n",
    "    list_of_features = features_sents + features_words + features_symbol + features_lemma_part_speech\n",
    "    return list_of_features"
   ],
   "metadata": {
    "collapsed": false,
    "ExecuteTime": {
     "end_time": "2023-07-22T11:48:36.861289300Z",
     "start_time": "2023-07-22T11:48:36.856419500Z"
    }
   }
  },
  {
   "cell_type": "code",
   "execution_count": 5,
   "outputs": [],
   "source": [
    "from features.features_words import func_words\n",
    "from features.features_with_sentence_list import FUNC_LIST\n",
    "from features.features_with_word_count import func_chars\n",
    "from features.features_lemma_part_speech import func_lemma_part_speech\n",
    "from tqdm import tqdm\n",
    "all_func = FUNC_LIST + func_words + func_chars + func_lemma_part_speech"
   ],
   "metadata": {
    "collapsed": false,
    "ExecuteTime": {
     "end_time": "2023-07-22T11:48:36.877298400Z",
     "start_time": "2023-07-22T11:48:36.863290400Z"
    }
   }
  },
  {
   "cell_type": "code",
   "execution_count": 6,
   "outputs": [
    {
     "name": "stderr",
     "output_type": "stream",
     "text": [
      "  3%|▎         | 17/516 [00:09<04:29,  1.85it/s]\n"
     ]
    },
    {
     "ename": "KeyboardInterrupt",
     "evalue": "",
     "output_type": "error",
     "traceback": [
      "\u001B[1;31m---------------------------------------------------------------------------\u001B[0m",
      "\u001B[1;31mKeyboardInterrupt\u001B[0m                         Traceback (most recent call last)",
      "Cell \u001B[1;32mIn[6], line 14\u001B[0m\n\u001B[0;32m     12\u001B[0m \u001B[38;5;28;01mfor\u001B[39;00m i, file_name \u001B[38;5;129;01min\u001B[39;00m \u001B[38;5;28menumerate\u001B[39m(tqdm(file_names)):\n\u001B[0;32m     13\u001B[0m     author \u001B[38;5;241m=\u001B[39m authors[i]\n\u001B[1;32m---> 14\u001B[0m     doc \u001B[38;5;241m=\u001B[39m \u001B[43mcompress_pickle\u001B[49m\u001B[38;5;241;43m.\u001B[39;49m\u001B[43mload\u001B[49m\u001B[43m(\u001B[49m\u001B[43mos\u001B[49m\u001B[38;5;241;43m.\u001B[39;49m\u001B[43mpath\u001B[49m\u001B[38;5;241;43m.\u001B[39;49m\u001B[43mjoin\u001B[49m\u001B[43m(\u001B[49m\u001B[43mDATA_PATH\u001B[49m\u001B[43m,\u001B[49m\u001B[43m \u001B[49m\u001B[38;5;124;43m\"\u001B[39;49m\u001B[38;5;124;43mОбработанные\u001B[39;49m\u001B[38;5;124;43m\"\u001B[39;49m\u001B[43m,\u001B[49m\u001B[43m \u001B[49m\u001B[43mfile_name\u001B[49m\u001B[43m)\u001B[49m\u001B[43m)\u001B[49m\n\u001B[0;32m     16\u001B[0m     features \u001B[38;5;241m=\u001B[39m get_list_of_features(doc)\n\u001B[0;32m     17\u001B[0m     observation \u001B[38;5;241m=\u001B[39m features \u001B[38;5;241m+\u001B[39m [author]\n",
      "File \u001B[1;32m~\\PycharmProjects\\texts_attribution\\venv1\\lib\\site-packages\\compress_pickle\\compress_pickle.py:272\u001B[0m, in \u001B[0;36mload\u001B[1;34m(path, compression, pickler_method, pickler_kwargs, mode, set_default_extension, **kwargs)\u001B[0m\n\u001B[0;32m    270\u001B[0m     pickler_kwargs \u001B[38;5;241m=\u001B[39m {}\n\u001B[0;32m    271\u001B[0m \u001B[38;5;28;01mtry\u001B[39;00m:\n\u001B[1;32m--> 272\u001B[0m     output \u001B[38;5;241m=\u001B[39m \u001B[43muncompress_and_unpickle\u001B[49m\u001B[43m(\u001B[49m\n\u001B[0;32m    273\u001B[0m \u001B[43m        \u001B[49m\u001B[43mcompresser\u001B[49m\u001B[43m,\u001B[49m\n\u001B[0;32m    274\u001B[0m \u001B[43m        \u001B[49m\u001B[43mpickler\u001B[49m\u001B[38;5;241;43m=\u001B[39;49m\u001B[43mpickler\u001B[49m\u001B[43m,\u001B[49m\n\u001B[0;32m    275\u001B[0m \u001B[43m        \u001B[49m\u001B[38;5;241;43m*\u001B[39;49m\u001B[38;5;241;43m*\u001B[39;49m\u001B[43mpickler_kwargs\u001B[49m\u001B[43m,\u001B[49m\n\u001B[0;32m    276\u001B[0m \u001B[43m    \u001B[49m\u001B[43m)\u001B[49m\n\u001B[0;32m    277\u001B[0m \u001B[38;5;28;01mfinally\u001B[39;00m:\n\u001B[0;32m    278\u001B[0m     compresser\u001B[38;5;241m.\u001B[39mclose()\n",
      "File \u001B[1;32m~\\AppData\\Local\\Programs\\Python\\Python38\\lib\\functools.py:875\u001B[0m, in \u001B[0;36msingledispatch.<locals>.wrapper\u001B[1;34m(*args, **kw)\u001B[0m\n\u001B[0;32m    871\u001B[0m \u001B[38;5;28;01mif\u001B[39;00m \u001B[38;5;129;01mnot\u001B[39;00m args:\n\u001B[0;32m    872\u001B[0m     \u001B[38;5;28;01mraise\u001B[39;00m \u001B[38;5;167;01mTypeError\u001B[39;00m(\u001B[38;5;124mf\u001B[39m\u001B[38;5;124m'\u001B[39m\u001B[38;5;132;01m{\u001B[39;00mfuncname\u001B[38;5;132;01m}\u001B[39;00m\u001B[38;5;124m requires at least \u001B[39m\u001B[38;5;124m'\u001B[39m\n\u001B[0;32m    873\u001B[0m                     \u001B[38;5;124m'\u001B[39m\u001B[38;5;124m1 positional argument\u001B[39m\u001B[38;5;124m'\u001B[39m)\n\u001B[1;32m--> 875\u001B[0m \u001B[38;5;28;01mreturn\u001B[39;00m \u001B[43mdispatch\u001B[49m\u001B[43m(\u001B[49m\u001B[43margs\u001B[49m\u001B[43m[\u001B[49m\u001B[38;5;241;43m0\u001B[39;49m\u001B[43m]\u001B[49m\u001B[38;5;241;43m.\u001B[39;49m\u001B[38;5;18;43m__class__\u001B[39;49m\u001B[43m)\u001B[49m\u001B[43m(\u001B[49m\u001B[38;5;241;43m*\u001B[39;49m\u001B[43margs\u001B[49m\u001B[43m,\u001B[49m\u001B[43m \u001B[49m\u001B[38;5;241;43m*\u001B[39;49m\u001B[38;5;241;43m*\u001B[39;49m\u001B[43mkw\u001B[49m\u001B[43m)\u001B[49m\n",
      "File \u001B[1;32m~\\PycharmProjects\\texts_attribution\\venv1\\lib\\site-packages\\compress_pickle\\io\\base.py:99\u001B[0m, in \u001B[0;36mdefault_uncompress_and_unpickle\u001B[1;34m(compresser, pickler, **kwargs)\u001B[0m\n\u001B[0;32m     95\u001B[0m \u001B[38;5;129m@uncompress_and_unpickle\u001B[39m\u001B[38;5;241m.\u001B[39mregister(BaseCompresser)\n\u001B[0;32m     96\u001B[0m \u001B[38;5;28;01mdef\u001B[39;00m \u001B[38;5;21mdefault_uncompress_and_unpickle\u001B[39m(\n\u001B[0;32m     97\u001B[0m     compresser: BaseCompresser, pickler: BasePicklerIO, \u001B[38;5;241m*\u001B[39m\u001B[38;5;241m*\u001B[39mkwargs\n\u001B[0;32m     98\u001B[0m ) \u001B[38;5;241m-\u001B[39m\u001B[38;5;241m>\u001B[39m Any:\n\u001B[1;32m---> 99\u001B[0m     \u001B[38;5;28;01mreturn\u001B[39;00m \u001B[43mpickler\u001B[49m\u001B[38;5;241;43m.\u001B[39;49m\u001B[43mload\u001B[49m\u001B[43m(\u001B[49m\u001B[43mstream\u001B[49m\u001B[38;5;241;43m=\u001B[39;49m\u001B[43mcompresser\u001B[49m\u001B[38;5;241;43m.\u001B[39;49m\u001B[43mget_stream\u001B[49m\u001B[43m(\u001B[49m\u001B[43m)\u001B[49m\u001B[43m,\u001B[49m\u001B[43m \u001B[49m\u001B[38;5;241;43m*\u001B[39;49m\u001B[38;5;241;43m*\u001B[39;49m\u001B[43mkwargs\u001B[49m\u001B[43m)\u001B[49m\n",
      "File \u001B[1;32m~\\PycharmProjects\\texts_attribution\\venv1\\lib\\site-packages\\compress_pickle\\picklers\\pickle.py:45\u001B[0m, in \u001B[0;36mBuiltinPicklerIO.load\u001B[1;34m(self, stream, **kwargs)\u001B[0m\n\u001B[0;32m     30\u001B[0m \u001B[38;5;28;01mdef\u001B[39;00m \u001B[38;5;21mload\u001B[39m(\u001B[38;5;28mself\u001B[39m, stream: IO[\u001B[38;5;28mbytes\u001B[39m], \u001B[38;5;241m*\u001B[39m\u001B[38;5;241m*\u001B[39mkwargs):\n\u001B[0;32m     31\u001B[0m \u001B[38;5;250m    \u001B[39m\u001B[38;5;124;03m\"\"\"Load a serialized binary representation of an object from a stream.\u001B[39;00m\n\u001B[0;32m     32\u001B[0m \n\u001B[0;32m     33\u001B[0m \u001B[38;5;124;03m    Parameters\u001B[39;00m\n\u001B[1;32m   (...)\u001B[0m\n\u001B[0;32m     43\u001B[0m \u001B[38;5;124;03m        The python object that was loaded.\u001B[39;00m\n\u001B[0;32m     44\u001B[0m \u001B[38;5;124;03m    \"\"\"\u001B[39;00m\n\u001B[1;32m---> 45\u001B[0m     \u001B[38;5;28;01mreturn\u001B[39;00m \u001B[43mpickle\u001B[49m\u001B[38;5;241;43m.\u001B[39;49m\u001B[43mload\u001B[49m\u001B[43m(\u001B[49m\u001B[43mstream\u001B[49m\u001B[43m,\u001B[49m\u001B[43m \u001B[49m\u001B[38;5;241;43m*\u001B[39;49m\u001B[38;5;241;43m*\u001B[39;49m\u001B[43mkwargs\u001B[49m\u001B[43m)\u001B[49m\n",
      "File \u001B[1;32m~\\AppData\\Local\\Programs\\Python\\Python38\\lib\\gzip.py:308\u001B[0m, in \u001B[0;36mGzipFile.peek\u001B[1;34m(self, n)\u001B[0m\n\u001B[0;32m    307\u001B[0m \u001B[38;5;28;01mdef\u001B[39;00m \u001B[38;5;21mpeek\u001B[39m(\u001B[38;5;28mself\u001B[39m, n):\n\u001B[1;32m--> 308\u001B[0m     \u001B[38;5;28;43mself\u001B[39;49m\u001B[38;5;241;43m.\u001B[39;49m\u001B[43m_check_not_closed\u001B[49m()\n\u001B[0;32m    309\u001B[0m     \u001B[38;5;28;01mif\u001B[39;00m \u001B[38;5;28mself\u001B[39m\u001B[38;5;241m.\u001B[39mmode \u001B[38;5;241m!=\u001B[39m READ:\n\u001B[0;32m    310\u001B[0m         \u001B[38;5;28;01mimport\u001B[39;00m \u001B[38;5;21;01merrno\u001B[39;00m\n",
      "\u001B[1;31mKeyboardInterrupt\u001B[0m: "
     ]
    }
   ],
   "source": [
    "import json\n",
    "import compress_pickle\n",
    "import os\n",
    "\n",
    "\n",
    "observations = []\n",
    "DATA_PATH = \"C:\\\\Users\\\\mashk\\\\PycharmProjects\\\\texts_attribution\\\\Данные\"\n",
    "with open(os.path.join(DATA_PATH, \"docs_info.json\"), \"r\") as f_docs_info:\n",
    "    docs_info = json.load(f_docs_info)\n",
    "    authors = docs_info[\"authors\"]\n",
    "    file_names = docs_info[\"file_name\"]\n",
    "    for i, file_name in enumerate(tqdm(file_names)):\n",
    "        author = authors[i]\n",
    "        doc = compress_pickle.load(os.path.join(DATA_PATH, \"Обработанные\", file_name))\n",
    "\n",
    "        features = get_list_of_features(doc)\n",
    "        observation = features + [author]\n",
    "        observations.append(observation)\n",
    "\n",
    "df_features = pd.DataFrame(observations, columns = all_func + [\"target\"])"
   ],
   "metadata": {
    "collapsed": false,
    "ExecuteTime": {
     "end_time": "2023-07-22T11:48:46.585710400Z",
     "start_time": "2023-07-22T11:48:36.877298400Z"
    }
   }
  },
  {
   "cell_type": "code",
   "execution_count": null,
   "outputs": [],
   "source": [
    "df_features.to_csv('out.csv', index=False)"
   ],
   "metadata": {
    "collapsed": false
   }
  },
  {
   "cell_type": "code",
   "execution_count": 7,
   "outputs": [
    {
     "ename": "NameError",
     "evalue": "name 'df' is not defined",
     "output_type": "error",
     "traceback": [
      "\u001B[1;31m---------------------------------------------------------------------------\u001B[0m",
      "\u001B[1;31mNameError\u001B[0m                                 Traceback (most recent call last)",
      "Cell \u001B[1;32mIn[7], line 22\u001B[0m\n\u001B[0;32m     19\u001B[0m         accuracy\u001B[38;5;241m.\u001B[39mappend(accuracy_score(y_test, rfc\u001B[38;5;241m.\u001B[39mpredict(x_test)))\n\u001B[0;32m     20\u001B[0m     \u001B[38;5;28;01mreturn\u001B[39;00m accuracy\n\u001B[1;32m---> 22\u001B[0m \u001B[38;5;28mprint\u001B[39m( mean(validation(\u001B[43mdf\u001B[49m, ExtraTreesClassifier())))\n",
      "\u001B[1;31mNameError\u001B[0m: name 'df' is not defined"
     ]
    }
   ],
   "source": [
    "def validation(df, model):\n",
    "    accuracy = []\n",
    "    for shift in range(0, 10, 2):\n",
    "        authors_seen = []\n",
    "        test_ixs = []\n",
    "        for ixs in range(len(df)):\n",
    "            aut = df['targets'][ixs]\n",
    "            if authors_seen.count(aut) < 2:\n",
    "                authors_seen += [aut]\n",
    "                test_ixs += [ixs + shift]\n",
    "        train_ixs = list(set(range(len(df))) - set(test_ixs))\n",
    "        y_test = df.iloc[test_ixs]['target']\n",
    "        x_test = df.iloc[test_ixs].drop(columns=[\"target\"])\n",
    "        y_train = df.iloc[train_ixs]['target']\n",
    "        x_train = df.iloc[train_ixs].drop(columns=[\"target\"])\n",
    "\n",
    "        rfc = model\n",
    "        rfc.fit(x_train, y_train)\n",
    "        accuracy.append(accuracy_score(y_test, rfc.predict(x_test)))\n",
    "    return accuracy\n",
    "\n",
    "print( mean(validation(df, ExtraTreesClassifier())))"
   ],
   "metadata": {
    "collapsed": false,
    "ExecuteTime": {
     "end_time": "2023-07-22T11:48:51.126641Z",
     "start_time": "2023-07-22T11:48:51.086631500Z"
    }
   }
  },
  {
   "cell_type": "code",
   "execution_count": null,
   "outputs": [],
   "source": [
    "from catboost import CatBoostClassifier\n",
    "\n",
    "validation(df, CatBoostClassifier())"
   ],
   "metadata": {
    "collapsed": false
   }
  },
  {
   "cell_type": "code",
   "execution_count": 15,
   "outputs": [],
   "source": [
    "def cross_val(df, model):\n",
    "    accuracy = []\n",
    "    train_last, test_last = 0, 0\n",
    "    for shift in range(0, 10, 2):\n",
    "            authors_seen = []\n",
    "            test_ixs = []\n",
    "            for ixs in range(len(df)):\n",
    "                aut = df['targets'][ixs]\n",
    "                if authors_seen.count(aut) < 2:\n",
    "                    authors_seen += [aut]\n",
    "                    test_ixs += [ixs + shift]\n",
    "            train_ixs = list(set(range(len(df))) - set(test_ixs))\n",
    "            if shift != 8:\n",
    "                y_test = df.iloc[test_ixs]['targets']\n",
    "                x_test = df.iloc[test_ixs].drop(columns=[\"targets\"])\n",
    "                y_train = df.iloc[train_ixs]['targets']\n",
    "                x_train = df.iloc[train_ixs].drop(columns=[\"targets\"])\n",
    "\n",
    "                rfc = model\n",
    "                rfc.fit(x_train, y_train)\n",
    "                accuracy.append(accuracy_score(y_test, rfc.predict(x_test)))\n",
    "            else:\n",
    "                train_last = train_ixs\n",
    "                test_last = test_ixs\n",
    "\n",
    "    return accuracy, train_last, test_last\n",
    "\n",
    "df = pd.read_csv('first_dataset.csv')\n",
    "vals, train_ixs, test_ixs = cross_val(df, ExtraTreesClassifier())"
   ],
   "metadata": {
    "collapsed": false,
    "ExecuteTime": {
     "end_time": "2023-07-22T11:54:11.036680900Z",
     "start_time": "2023-07-22T11:54:09.930574400Z"
    }
   }
  },
  {
   "cell_type": "code",
   "execution_count": 19,
   "outputs": [
    {
     "data": {
      "text/plain": "     capitalized_words_count_without_start_of_sentences  \\\n8                                                  316    \n9                                                  540    \n18                                                1405    \n19                                                5437    \n28                                                 714    \n..                                                 ...    \n494                                                320    \n504                                                221    \n505                                              22970    \n514                                                339    \n515                                               3388    \n\n     most_common_first_letter_in_sentences  avg_length_of_sentence_by_letters  \\\n8                                        9                          81.558891   \n9                                       15                          76.046729   \n18                                      14                          65.733168   \n19                                      14                         113.186867   \n28                                       2                         102.996337   \n..                                     ...                                ...   \n494                                     20                         109.870879   \n504                                     14                         121.763441   \n505                                      2                          82.520919   \n514                                     16                         112.157447   \n515                                      2                          56.151528   \n\n     count_upper_words  frequency_of_longest_word  frequency_of_a  freq_of_t  \\\n8                   32                  74.045455            2365   0.042074   \n9                  135                 226.670103            8064   0.046091   \n18                   3                 219.059322            9708   0.049846   \n19                   3                 599.416107           32876   0.052479   \n28                 139                  85.862385            3774   0.048906   \n..                 ...                        ...             ...        ...   \n494                  2                  76.774194            3080   0.039823   \n504                 10                  63.978723            2554   0.043815   \n505                919                1202.259067           71162   0.045295   \n514                 68                  56.845238            1941   0.045323   \n515                352                 173.872340            8169   0.042102   \n\n     freq_of_n  freq_of_e  freq_of_o  ...  avg_syllable_per_adjective  \\\n8     0.050465   0.067414   0.086395  ...                    2.812971   \n9     0.050557   0.062249   0.085457  ...                    2.905146   \n18    0.045338   0.067352   0.085255  ...                    2.816133   \n19    0.052078   0.067669   0.092631  ...                    2.963515   \n28    0.049257   0.066606   0.085189  ...                    2.970925   \n..         ...        ...        ...  ...                         ...   \n494   0.048140   0.072455   0.080941  ...                    2.976398   \n504   0.048942   0.069124   0.087206  ...                    3.046990   \n505   0.044892   0.066273   0.075470  ...                    2.556667   \n514   0.049884   0.067166   0.085121  ...                    3.143541   \n515   0.048059   0.062656   0.068381  ...                    2.463032   \n\n     avg_syllable_per_verb  avg_syllable_per_noun  freq_word_from_verbs  \\\n8                 2.784822               2.471574              0.018252   \n9                 2.642650               2.433882              0.021378   \n18                2.541258               2.544352              0.046593   \n19                2.668595               2.749985              0.037105   \n28                2.919721               2.820275              0.018325   \n..                     ...                    ...                   ...   \n494               2.867863               2.461623              0.018760   \n504               2.839250               2.487450              0.015779   \n505               2.520815               2.506780              0.056565   \n514               2.687578               2.554808              0.025094   \n515               2.491683               2.281080              0.017914   \n\n     freq_word_from_noun  average_lenght_of_verbs  average_lenght_of_adverbs  \\\n8               0.021137                 8.045149                   5.765748   \n9               0.014527                 7.714700                   5.614793   \n18              0.027441                 7.339212                   5.404243   \n19              0.027977                 7.697164                   5.753523   \n28              0.020795                 8.287086                   5.950935   \n..                   ...                      ...                        ...   \n494             0.020285                 8.221044                   5.504373   \n504             0.021797                 8.121302                   5.602305   \n505             0.019865                 7.342177                   5.331973   \n514             0.021154                 7.764115                   5.919255   \n515             0.014576                 7.242802                   5.434109   \n\n     average_lenght_of_adjectives  average_lenght_of_nouns             targets  \n8                        7.684766                 6.262391       Л. Н. Андреев  \n9                        7.797679                 6.117069       Л. Н. Андреев  \n18                       7.452550                 6.318230  Н. Г. Чернышевский  \n19                       7.835741                 6.791797  Н. Г. Чернышевский  \n28                       8.043172                 6.888600     В. Ф. Ходасевич  \n..                            ...                      ...                 ...  \n494                      7.818634                 6.058662     В. А. Жуковский  \n504                      8.049927                 6.284676  Д. С. Мережковский  \n505                      7.155396                 6.329431  Д. С. Мережковский  \n514                      8.126794                 6.431731        М. А. Кузмин  \n515                      6.922704                 5.889826        М. А. Кузмин  \n\n[100 rows x 33 columns]",
      "text/html": "<div>\n<style scoped>\n    .dataframe tbody tr th:only-of-type {\n        vertical-align: middle;\n    }\n\n    .dataframe tbody tr th {\n        vertical-align: top;\n    }\n\n    .dataframe thead th {\n        text-align: right;\n    }\n</style>\n<table border=\"1\" class=\"dataframe\">\n  <thead>\n    <tr style=\"text-align: right;\">\n      <th></th>\n      <th>capitalized_words_count_without_start_of_sentences</th>\n      <th>most_common_first_letter_in_sentences</th>\n      <th>avg_length_of_sentence_by_letters</th>\n      <th>count_upper_words</th>\n      <th>frequency_of_longest_word</th>\n      <th>frequency_of_a</th>\n      <th>freq_of_t</th>\n      <th>freq_of_n</th>\n      <th>freq_of_e</th>\n      <th>freq_of_o</th>\n      <th>...</th>\n      <th>avg_syllable_per_adjective</th>\n      <th>avg_syllable_per_verb</th>\n      <th>avg_syllable_per_noun</th>\n      <th>freq_word_from_verbs</th>\n      <th>freq_word_from_noun</th>\n      <th>average_lenght_of_verbs</th>\n      <th>average_lenght_of_adverbs</th>\n      <th>average_lenght_of_adjectives</th>\n      <th>average_lenght_of_nouns</th>\n      <th>targets</th>\n    </tr>\n  </thead>\n  <tbody>\n    <tr>\n      <th>8</th>\n      <td>316</td>\n      <td>9</td>\n      <td>81.558891</td>\n      <td>32</td>\n      <td>74.045455</td>\n      <td>2365</td>\n      <td>0.042074</td>\n      <td>0.050465</td>\n      <td>0.067414</td>\n      <td>0.086395</td>\n      <td>...</td>\n      <td>2.812971</td>\n      <td>2.784822</td>\n      <td>2.471574</td>\n      <td>0.018252</td>\n      <td>0.021137</td>\n      <td>8.045149</td>\n      <td>5.765748</td>\n      <td>7.684766</td>\n      <td>6.262391</td>\n      <td>Л. Н. Андреев</td>\n    </tr>\n    <tr>\n      <th>9</th>\n      <td>540</td>\n      <td>15</td>\n      <td>76.046729</td>\n      <td>135</td>\n      <td>226.670103</td>\n      <td>8064</td>\n      <td>0.046091</td>\n      <td>0.050557</td>\n      <td>0.062249</td>\n      <td>0.085457</td>\n      <td>...</td>\n      <td>2.905146</td>\n      <td>2.642650</td>\n      <td>2.433882</td>\n      <td>0.021378</td>\n      <td>0.014527</td>\n      <td>7.714700</td>\n      <td>5.614793</td>\n      <td>7.797679</td>\n      <td>6.117069</td>\n      <td>Л. Н. Андреев</td>\n    </tr>\n    <tr>\n      <th>18</th>\n      <td>1405</td>\n      <td>14</td>\n      <td>65.733168</td>\n      <td>3</td>\n      <td>219.059322</td>\n      <td>9708</td>\n      <td>0.049846</td>\n      <td>0.045338</td>\n      <td>0.067352</td>\n      <td>0.085255</td>\n      <td>...</td>\n      <td>2.816133</td>\n      <td>2.541258</td>\n      <td>2.544352</td>\n      <td>0.046593</td>\n      <td>0.027441</td>\n      <td>7.339212</td>\n      <td>5.404243</td>\n      <td>7.452550</td>\n      <td>6.318230</td>\n      <td>Н. Г. Чернышевский</td>\n    </tr>\n    <tr>\n      <th>19</th>\n      <td>5437</td>\n      <td>14</td>\n      <td>113.186867</td>\n      <td>3</td>\n      <td>599.416107</td>\n      <td>32876</td>\n      <td>0.052479</td>\n      <td>0.052078</td>\n      <td>0.067669</td>\n      <td>0.092631</td>\n      <td>...</td>\n      <td>2.963515</td>\n      <td>2.668595</td>\n      <td>2.749985</td>\n      <td>0.037105</td>\n      <td>0.027977</td>\n      <td>7.697164</td>\n      <td>5.753523</td>\n      <td>7.835741</td>\n      <td>6.791797</td>\n      <td>Н. Г. Чернышевский</td>\n    </tr>\n    <tr>\n      <th>28</th>\n      <td>714</td>\n      <td>2</td>\n      <td>102.996337</td>\n      <td>139</td>\n      <td>85.862385</td>\n      <td>3774</td>\n      <td>0.048906</td>\n      <td>0.049257</td>\n      <td>0.066606</td>\n      <td>0.085189</td>\n      <td>...</td>\n      <td>2.970925</td>\n      <td>2.919721</td>\n      <td>2.820275</td>\n      <td>0.018325</td>\n      <td>0.020795</td>\n      <td>8.287086</td>\n      <td>5.950935</td>\n      <td>8.043172</td>\n      <td>6.888600</td>\n      <td>В. Ф. Ходасевич</td>\n    </tr>\n    <tr>\n      <th>...</th>\n      <td>...</td>\n      <td>...</td>\n      <td>...</td>\n      <td>...</td>\n      <td>...</td>\n      <td>...</td>\n      <td>...</td>\n      <td>...</td>\n      <td>...</td>\n      <td>...</td>\n      <td>...</td>\n      <td>...</td>\n      <td>...</td>\n      <td>...</td>\n      <td>...</td>\n      <td>...</td>\n      <td>...</td>\n      <td>...</td>\n      <td>...</td>\n      <td>...</td>\n      <td>...</td>\n    </tr>\n    <tr>\n      <th>494</th>\n      <td>320</td>\n      <td>20</td>\n      <td>109.870879</td>\n      <td>2</td>\n      <td>76.774194</td>\n      <td>3080</td>\n      <td>0.039823</td>\n      <td>0.048140</td>\n      <td>0.072455</td>\n      <td>0.080941</td>\n      <td>...</td>\n      <td>2.976398</td>\n      <td>2.867863</td>\n      <td>2.461623</td>\n      <td>0.018760</td>\n      <td>0.020285</td>\n      <td>8.221044</td>\n      <td>5.504373</td>\n      <td>7.818634</td>\n      <td>6.058662</td>\n      <td>В. А. Жуковский</td>\n    </tr>\n    <tr>\n      <th>504</th>\n      <td>221</td>\n      <td>14</td>\n      <td>121.763441</td>\n      <td>10</td>\n      <td>63.978723</td>\n      <td>2554</td>\n      <td>0.043815</td>\n      <td>0.048942</td>\n      <td>0.069124</td>\n      <td>0.087206</td>\n      <td>...</td>\n      <td>3.046990</td>\n      <td>2.839250</td>\n      <td>2.487450</td>\n      <td>0.015779</td>\n      <td>0.021797</td>\n      <td>8.121302</td>\n      <td>5.602305</td>\n      <td>8.049927</td>\n      <td>6.284676</td>\n      <td>Д. С. Мережковский</td>\n    </tr>\n    <tr>\n      <th>505</th>\n      <td>22970</td>\n      <td>2</td>\n      <td>82.520919</td>\n      <td>919</td>\n      <td>1202.259067</td>\n      <td>71162</td>\n      <td>0.045295</td>\n      <td>0.044892</td>\n      <td>0.066273</td>\n      <td>0.075470</td>\n      <td>...</td>\n      <td>2.556667</td>\n      <td>2.520815</td>\n      <td>2.506780</td>\n      <td>0.056565</td>\n      <td>0.019865</td>\n      <td>7.342177</td>\n      <td>5.331973</td>\n      <td>7.155396</td>\n      <td>6.329431</td>\n      <td>Д. С. Мережковский</td>\n    </tr>\n    <tr>\n      <th>514</th>\n      <td>339</td>\n      <td>16</td>\n      <td>112.157447</td>\n      <td>68</td>\n      <td>56.845238</td>\n      <td>1941</td>\n      <td>0.045323</td>\n      <td>0.049884</td>\n      <td>0.067166</td>\n      <td>0.085121</td>\n      <td>...</td>\n      <td>3.143541</td>\n      <td>2.687578</td>\n      <td>2.554808</td>\n      <td>0.025094</td>\n      <td>0.021154</td>\n      <td>7.764115</td>\n      <td>5.919255</td>\n      <td>8.126794</td>\n      <td>6.431731</td>\n      <td>М. А. Кузмин</td>\n    </tr>\n    <tr>\n      <th>515</th>\n      <td>3388</td>\n      <td>2</td>\n      <td>56.151528</td>\n      <td>352</td>\n      <td>173.872340</td>\n      <td>8169</td>\n      <td>0.042102</td>\n      <td>0.048059</td>\n      <td>0.062656</td>\n      <td>0.068381</td>\n      <td>...</td>\n      <td>2.463032</td>\n      <td>2.491683</td>\n      <td>2.281080</td>\n      <td>0.017914</td>\n      <td>0.014576</td>\n      <td>7.242802</td>\n      <td>5.434109</td>\n      <td>6.922704</td>\n      <td>5.889826</td>\n      <td>М. А. Кузмин</td>\n    </tr>\n  </tbody>\n</table>\n<p>100 rows × 33 columns</p>\n</div>"
     },
     "execution_count": 19,
     "metadata": {},
     "output_type": "execute_result"
    }
   ],
   "source": [
    "df.iloc[test_ixs]"
   ],
   "metadata": {
    "collapsed": false,
    "ExecuteTime": {
     "end_time": "2023-07-22T11:54:41.392620300Z",
     "start_time": "2023-07-22T11:54:41.359612800Z"
    }
   }
  },
  {
   "cell_type": "code",
   "execution_count": null,
   "outputs": [],
   "source": [],
   "metadata": {
    "collapsed": false
   }
  }
 ],
 "metadata": {
  "kernelspec": {
   "display_name": "Python 3",
   "language": "python",
   "name": "python3"
  },
  "language_info": {
   "codemirror_mode": {
    "name": "ipython",
    "version": 2
   },
   "file_extension": ".py",
   "mimetype": "text/x-python",
   "name": "python",
   "nbconvert_exporter": "python",
   "pygments_lexer": "ipython2",
   "version": "2.7.6"
  }
 },
 "nbformat": 4,
 "nbformat_minor": 0
}
