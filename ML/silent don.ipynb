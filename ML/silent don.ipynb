{
 "cells": [
  {
   "cell_type": "code",
   "execution_count": null,
   "metadata": {
    "collapsed": true
   },
   "outputs": [],
   "source": [
    "import pickle\n",
    "dataset_silent_don = pickle.load(open('dataset_silent_don.pkl', 'rb'))"
   ]
  },
  {
   "cell_type": "code",
   "execution_count": null,
   "outputs": [],
   "source": [
    "authors = list(set(dataset['authors']))\n",
    "dict_authors = dict()\n",
    "reverse_dict_authors = dict()\n",
    "for index in range(len(authors)):\n",
    "    dict_authors[authors[index]] = index\n",
    "    reverse_dict_authors[index] = authors[index]\n",
    "\n",
    "target_silent_don = []\n",
    "for author_silen_don in dataset_silent_don[\"authors\"]:\n",
    "    target_silent_don += [dict_authos[author]]"
   ],
   "metadata": {
    "collapsed": false
   }
  },
  {
   "cell_type": "code",
   "execution_count": null,
   "outputs": [],
   "source": [
    "feature1_silent_don = []\n",
    "for book_silent_don in dataset_silent_don['books']:\n",
    "    words_silen_don = get_words(book_silent_don.lower())\n",
    "    #сюда лемматизацию впихуем\n",
    "\n",
    "    #сюда по очереди все функции\n",
    "    feature1_silent_don.append(freq_of_word(words_silen_don, 'и'))"
   ],
   "metadata": {
    "collapsed": false
   }
  },
  {
   "cell_type": "code",
   "execution_count": null,
   "outputs": [],
   "source": [
    "dataset_for_ml_silent_don = {feature1: feature1_silent_don, 'targets': target_silent_don}\n",
    "df_silent_don = pd.DataFrame(dataset_for_ml_silent_don)"
   ],
   "metadata": {
    "collapsed": false
   }
  }
 ],
 "metadata": {
  "kernelspec": {
   "display_name": "Python 3",
   "language": "python",
   "name": "python3"
  },
  "language_info": {
   "codemirror_mode": {
    "name": "ipython",
    "version": 2
   },
   "file_extension": ".py",
   "mimetype": "text/x-python",
   "name": "python",
   "nbconvert_exporter": "python",
   "pygments_lexer": "ipython2",
   "version": "2.7.6"
  }
 },
 "nbformat": 4,
 "nbformat_minor": 0
}
