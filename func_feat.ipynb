{
 "cells": [
  {
   "cell_type": "code",
   "execution_count": 21,
   "outputs": [],
   "source": [
    "import pickle\n",
    "from natasha import *\n",
    "from statistics import mode\n",
    "dataset = pickle.load(open('C:/Users/Михаил/Desktop/dataset.pkl', \"rb\"))\n",
    "from natasha_func import *\n",
    "doc = get_doc(dataset[\"books\"][0])"
   ],
   "metadata": {
    "collapsed": false,
    "ExecuteTime": {
     "end_time": "2023-07-21T04:04:33.291028700Z",
     "start_time": "2023-07-21T04:04:21.978473200Z"
    }
   }
  },
  {
   "cell_type": "code",
   "execution_count": 86,
   "outputs": [],
   "source": [
    "def count_words_infinitive(doc):\n",
    "    words = get_words(doc)\n",
    "    # lem_new = ' '.join(get_lemma_words(doc))\n",
    "    lem = get_words(get_doc(' '.join(get_lemma_words(doc))))\n",
    "    count_infinitive = 0\n",
    "    for x in range(len(words)):\n",
    "        for y in range(len(lem)):\n",
    "            if x == y:\n",
    "                if words[x] == lem[y]:\n",
    "                    count_infinitive += 1\n",
    "\n",
    "\n",
    "\n",
    "\n",
    "\n",
    "\n",
    "    return count_infinitive"
   ],
   "metadata": {
    "collapsed": false,
    "ExecuteTime": {
     "end_time": "2023-07-21T05:12:29.399108Z",
     "start_time": "2023-07-21T05:12:29.375139500Z"
    }
   }
  },
  {
   "cell_type": "code",
   "execution_count": 87,
   "outputs": [
    {
     "data": {
      "text/plain": "8285"
     },
     "execution_count": 87,
     "metadata": {},
     "output_type": "execute_result"
    }
   ],
   "source": [
    "count_words_infinitive(doc)"
   ],
   "metadata": {
    "collapsed": false,
    "ExecuteTime": {
     "end_time": "2023-07-21T05:13:08.994687600Z",
     "start_time": "2023-07-21T05:12:30.041795400Z"
    }
   }
  },
  {
   "cell_type": "code",
   "execution_count": null,
   "outputs": [],
   "source": [],
   "metadata": {
    "collapsed": false
   }
  }
 ],
 "metadata": {
  "kernelspec": {
   "display_name": "Python 3",
   "language": "python",
   "name": "python3"
  },
  "language_info": {
   "codemirror_mode": {
    "name": "ipython",
    "version": 2
   },
   "file_extension": ".py",
   "mimetype": "text/x-python",
   "name": "python",
   "nbconvert_exporter": "python",
   "pygments_lexer": "ipython2",
   "version": "2.7.6"
  }
 },
 "nbformat": 4,
 "nbformat_minor": 0
}
