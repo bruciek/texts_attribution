{
 "cells": [
  {
   "cell_type": "code",
   "execution_count": 1,
   "metadata": {
    "collapsed": true,
    "ExecuteTime": {
     "end_time": "2023-08-14T10:29:58.209780Z",
     "start_time": "2023-08-14T10:29:57.321947Z"
    }
   },
   "outputs": [],
   "source": [
    "import pandas as pd\n",
    "import pickle\n",
    "from sklearn.ensemble import ExtraTreesClassifier\n",
    "from sklearn.metrics import accuracy_score\n",
    "from statistics import mean\n"
   ]
  },
  {
   "cell_type": "code",
   "execution_count": 2,
   "outputs": [],
   "source": [
    "def dataset_target(dataset):\n",
    "    authors = list(set(dataset['authors']))\n",
    "    dict_authors = dict()\n",
    "    reverse_dict_authors = dict()\n",
    "    for index in range(len(authors)):\n",
    "        dict_authors[authors[index]] = index\n",
    "        reverse_dict_authors[index] = authors[index]\n",
    "    target = []\n",
    "    for author in dataset[\"authors\"]:\n",
    "        target += [dict_authors[author]]\n",
    "    return target"
   ],
   "metadata": {
    "collapsed": false,
    "ExecuteTime": {
     "end_time": "2023-08-14T10:29:59.013951Z",
     "start_time": "2023-08-14T10:29:59.009478Z"
    }
   }
  },
  {
   "cell_type": "code",
   "execution_count": 3,
   "outputs": [],
   "source": [
    "from preprocessing.features.features_lemma_part_speech import get_feature_lemma_part_speech\n",
    "from preprocessing.features.features_with_word_count import get_feature_symbol\n",
    "from preprocessing.features.features_with_sentence_list import get_feature_sents\n",
    "from preprocessing.features.features_words import get_feature_word\n",
    "from preprocessing.features.features_bin import get_feature_bin\n",
    "from preprocessing.features.features_text import get_feature_text\n",
    "\n",
    "def get_list_of_features(doc):\n",
    "    features_symbol = get_feature_symbol(doc)\n",
    "    features_words = get_feature_word(doc)\n",
    "    features_sents = get_feature_sents(doc)\n",
    "    features_lemma_part_speech = get_feature_lemma_part_speech(doc)\n",
    "    features_bin = get_feature_bin(doc)\n",
    "    features_text = get_feature_text(doc)\n",
    "    list_of_features = features_sents + features_words + features_symbol + features_lemma_part_speech + features_bin + features_text\n",
    "    return list_of_features"
   ],
   "metadata": {
    "collapsed": false,
    "ExecuteTime": {
     "end_time": "2023-08-14T10:30:00.374032Z",
     "start_time": "2023-08-14T10:30:00.271909Z"
    }
   }
  },
  {
   "cell_type": "code",
   "execution_count": 4,
   "outputs": [],
   "source": [
    "from preprocessing.features.features_words import func_words\n",
    "from preprocessing.features.features_with_sentence_list import FUNC_LIST\n",
    "from preprocessing.features.features_with_word_count import func_chars\n",
    "from preprocessing.features.features_lemma_part_speech import func_lemma_part_speech\n",
    "from preprocessing.features.features_bin import func_bin\n",
    "from preprocessing.features.features_text import func_text\n",
    "\n",
    "from tqdm import tqdm\n",
    "all_func = FUNC_LIST + func_words + func_chars + func_lemma_part_speech + func_bin + func_text"
   ],
   "metadata": {
    "collapsed": false,
    "ExecuteTime": {
     "end_time": "2023-08-14T10:30:01.327771Z",
     "start_time": "2023-08-14T10:30:01.318776Z"
    }
   }
  },
  {
   "cell_type": "code",
   "execution_count": 7,
   "outputs": [
    {
     "name": "stderr",
     "output_type": "stream",
     "text": [
      "100%|██████████| 4/4 [00:08<00:00,  2.13s/it]\n"
     ]
    }
   ],
   "source": [
    "import json\n",
    "import compress_pickle\n",
    "import os\n",
    "\n",
    "observations = []\n",
    "DATA_PATH = \"../Данные\"\n",
    "with open(os.path.join(DATA_PATH, \"docs_info_silent_don.json\"), \"r\") as f_docs_info:\n",
    "    docs_info = json.load(f_docs_info)\n",
    "    authors = docs_info[\"authors\"]\n",
    "    file_names = docs_info[\"file_name\"]\n",
    "    for i, file_name in enumerate(tqdm(file_names)):\n",
    "        author = authors[i]\n",
    "        doc = compress_pickle.load(os.path.join(DATA_PATH, \"Обработанные ТД\", file_name))\n",
    "\n",
    "        features = get_list_of_features(doc)\n",
    "        observation = features + [author]\n",
    "        observations.append(observation)\n",
    "\n",
    "df_features = pd.DataFrame(observations, columns = all_func + [\"targets\"])"
   ],
   "metadata": {
    "collapsed": false,
    "ExecuteTime": {
     "end_time": "2023-08-14T10:37:46.801778Z",
     "start_time": "2023-08-14T10:37:38.278766Z"
    }
   }
  },
  {
   "cell_type": "code",
   "execution_count": 8,
   "outputs": [],
   "source": [
    "df_features.to_csv('don.csv', index=False)"
   ],
   "metadata": {
    "collapsed": false,
    "ExecuteTime": {
     "end_time": "2023-08-14T10:37:48.035537Z",
     "start_time": "2023-08-14T10:37:48.028957Z"
    }
   }
  },
  {
   "cell_type": "code",
   "execution_count": null,
   "outputs": [],
   "source": [],
   "metadata": {
    "collapsed": false
   }
  }
 ],
 "metadata": {
  "kernelspec": {
   "display_name": "Python 3",
   "language": "python",
   "name": "python3"
  },
  "language_info": {
   "codemirror_mode": {
    "name": "ipython",
    "version": 2
   },
   "file_extension": ".py",
   "mimetype": "text/x-python",
   "name": "python",
   "nbconvert_exporter": "python",
   "pygments_lexer": "ipython2",
   "version": "2.7.6"
  }
 },
 "nbformat": 4,
 "nbformat_minor": 0
}
