{
  "nbformat": 4,
  "nbformat_minor": 0,
  "metadata": {
    "kernelspec": {
      "display_name": "Python 3",
      "language": "python",
      "name": "python3"
    },
    "language_info": {
      "codemirror_mode": {
        "name": "ipython",
        "version": 3
      },
      "file_extension": ".py",
      "mimetype": "text/x-python",
      "name": "python",
      "nbconvert_exporter": "python",
      "pygments_lexer": "ipython3",
      "version": "3.6.5"
    },
    "toc": {
      "base_numbering": 1,
      "nav_menu": {},
      "number_sections": true,
      "sideBar": true,
      "skip_h1_title": false,
      "title_cell": "Table of Contents",
      "title_sidebar": "Contents",
      "toc_cell": false,
      "toc_position": {},
      "toc_section_display": true,
      "toc_window_display": false
    },
    "colab": {
      "provenance": []
    }
  },
  "cells": [
    {
      "cell_type": "markdown",
      "metadata": {
        "id": "dBPyQKgGNGMb"
      },
      "source": [
        "# Введение\n",
        "\n",
        "---"
      ]
    },
    {
      "cell_type": "markdown",
      "metadata": {
        "id": "h-IHfHKNwRmP"
      },
      "source": [
        "**В этой тетради мы**\n",
        "\n",
        "* Рассмотрим задачу предсказания цены на подержанные автомобили Ford;\n",
        "* Продолжим знакомство с основными библиотеками для работы с данными: Numpy, Pandas, Matplotlib и Scikit-learn;\n",
        "* Обучим ансамблевую модель XGBoost;\n",
        "* Научимся считать важные метрики задачи регрессии;\n",
        "* Научимся определять натренированность и устойчивость модели c помощью кросс-валидации;\n",
        "* Научимся подбирать наилучшие параметры модели с помощью поиска по сетке.\n",
        "\n",
        "---\n",
        "\n"
      ]
    },
    {
      "cell_type": "markdown",
      "metadata": {
        "id": "2glw1P59VpHD"
      },
      "source": [
        "# Предсказание цены на подержанные автомобили Ford\n",
        "\n",
        "![](https://www.ford.com/cmslibs/content/dam/vdm_ford/live/en_us/ford/nameplate/f-150/2019/collections/billboard/3_2/19_FRD_F15_40813_SPORT_V2-167.jpg/_jcr_content/renditions/cq5dam.web.1280.1280.jpeg)"
      ]
    },
    {
      "cell_type": "markdown",
      "metadata": {
        "id": "pEWXJykcVpHE"
      },
      "source": [
        "**Бизнес-постановка задачи** \n",
        "\n",
        "Оценка подержанного автомобиля - это достаточно трудная задача, так как на стоимость влияют различные факторы, например, возраст автомобиля, его состояние, пробег и даже личное отношение продавца. Таким образом, цена подержанных автомобилей на рынке не является постоянной. И поскольку нет прозрачности в её образовании, а спрос растет ежегодно, у нечестных предпринимателей возникает стимул иррационально завышать цену. Модель для оценки стоимости подержанного автомобиля помогла бы покупателям не переплатить за желаемое авто, а честным продавцам быстро устанавливать цену, соответствующую их предложениям. "
      ]
    },
    {
      "cell_type": "markdown",
      "metadata": {
        "id": "AA2SyJehVpHF"
      },
      "source": [
        "**Постановка задачи анализа данных** \n",
        "\n",
        "Целью данной задачи является прогнозирование цены на подержанные автомобили Ford с помощью построения регрессионных моделей и их анализа. Набор данных состоит из информации о транспортных средствах, выставленных на продажу на сайте Craigslist. Данные опубликованы в открытом доступе на платформе Kaggle. "
      ]
    },
    {
      "cell_type": "markdown",
      "metadata": {
        "id": "0yo9SRN4VpHG"
      },
      "source": [
        "## Обзор доступных данных\n",
        "\n",
        "В выборке 7017 наблюдений и 12 характеристик для каждого из объектов (штат продажи, год выпуска, технические характеристики автомобиля, цена транспортного средства и т.д.). Пустые значения указывают на то, что о соответствующей характеристики нет информации."
      ]
    },
    {
      "cell_type": "markdown",
      "metadata": {
        "id": "__Br3ARWVpHG"
      },
      "source": [
        "**Доступные признаки**"
      ]
    },
    {
      "cell_type": "markdown",
      "metadata": {
        "id": "48dxqnQMzH33"
      },
      "source": [
        "|Название поля \t |Описание      \t                              |Название поля   |Описание                                  |\n",
        "|:--------------:|:----------------------------------------------:|:--------------:|:----------------------------------------:|\n",
        "|**price**       |Цена                                            |**transmission**|Коробка передач                           |\n",
        "|**year**        |Год производства \t                              |**drive**       |Привод                                    |\n",
        "|**condition**   |Состояние        \t                              |**size**        |Полноразмер или нет                       |\n",
        "|**cylinders**   |Количество цлиндров \t                          |**lat**         |Широта \t                                  |\n",
        "|**odometer**    |Пробег                                          |**long**        |Долгота  \t                              |\n",
        "|**title_status**|Статус авто|**weather**     |Среднегодовая температура в городе продажи|\n"
      ]
    },
    {
      "cell_type": "markdown",
      "metadata": {
        "id": "n1keP6JCVpHH"
      },
      "source": [
        "\n",
        "\n",
        "---\n",
        "\n",
        "\n",
        "\n",
        "# План анализа данных\n",
        "\n",
        "  1. Загрузить данные для обучения;\n",
        "  2. Обработать данные перед обучением модели;\n",
        "  3. Обучить и провалидировать модель;\n",
        "  4. Попробовать улучшить модель с помощью подбора параметров.\n",
        "\n",
        "\n",
        "\n",
        "---\n"
      ]
    },
    {
      "cell_type": "markdown",
      "metadata": {
        "id": "aoG95e54VpHI"
      },
      "source": [
        "# 1. Загрузить данные для обучения"
      ]
    },
    {
      "cell_type": "markdown",
      "metadata": {
        "id": "EUclkaPTVpHJ"
      },
      "source": [
        "## 1.1 Загружаем библиотеки "
      ]
    },
    {
      "cell_type": "markdown",
      "metadata": {
        "id": "nQZVvqhVxpNv"
      },
      "source": [
        "Для решения задачи нам понадобятся уже знакомые: \n",
        "* библиотека **pandas** для работы с табличными данными (Excel, CSV и др.);\n",
        "* библиотека **matplotlib** для работы с двумерной и трехмерной графиков;\n",
        "* библиотека **scikit-learn**, де-факто наиболее популярный, разносторонний, хорошо документированный и постоянно обогащающийся инструмент для построения моделей машинного обучения;\n",
        "* библиотека **numpy** для обработки массивов чисел, с помощью которой можно быстро создавать массивы, производить над ними вычисления, сортировать и т.д.\n",
        "\n",
        "\n"
      ]
    },
    {
      "cell_type": "code",
      "metadata": {
        "id": "ctcktHn-VpHO"
      },
      "source": [
        "import pandas as pd\n",
        "import numpy as np\n",
        "import sklearn\n",
        "\n",
        "import matplotlib.pyplot as plt \n",
        "# позволяет отображать графики прямо в ноутбуке\n",
        "%matplotlib inline"
      ],
      "execution_count": null,
      "outputs": []
    },
    {
      "cell_type": "markdown",
      "metadata": {
        "id": "dJAsU12uXtJc"
      },
      "source": [
        "Некоторые библиотеки могут выводить на экран предупреждения, которые важно учитывать в \"боевых\" задачах. Но в учебной тетради мы укажем Python'у игнорировать их."
      ]
    },
    {
      "cell_type": "code",
      "metadata": {
        "id": "eUoe8pN6xu8k"
      },
      "source": [
        "import warnings\n",
        "warnings.filterwarnings(\"ignore\")"
      ],
      "execution_count": null,
      "outputs": []
    },
    {
      "cell_type": "markdown",
      "metadata": {
        "id": "gActSs3PVpHT"
      },
      "source": [
        "## 1.2. Загрузим данные\n",
        "\n"
      ]
    },
    {
      "cell_type": "markdown",
      "metadata": {
        "id": "p2BMYCwYRYTw"
      },
      "source": [
        "Загружаем данные с помощие команды `!wget`. Для того, чтобы игнорировать сообщения в процессе загрузки используем магическую команду `%%capture` в первой строке."
      ]
    },
    {
      "cell_type": "code",
      "metadata": {
        "id": "LyPM3xJmRa5-"
      },
      "source": [
        "%%capture\n",
        "!wget https://www.dropbox.com/s/64ol9q9ssggz6f1/data_ford_price.xlsx"
      ],
      "execution_count": null,
      "outputs": []
    },
    {
      "cell_type": "markdown",
      "metadata": {
        "id": "oWLdfXklRW-7"
      },
      "source": [
        "Так как данные в формате xlsx (Excel), мы будем использовать специальную функцию\n",
        "из библиотеки **pandas** для загрузки таких данных `read_excel()`.\n",
        "\n",
        "В функцию передаем один атрибут: название таблицы с данными."
      ]
    },
    {
      "cell_type": "code",
      "metadata": {
        "id": "M2o6h_w-5VKv"
      },
      "source": [
        "data = pd.read_excel('data_ford_price.xlsx') "
      ],
      "execution_count": null,
      "outputs": []
    },
    {
      "cell_type": "markdown",
      "metadata": {
        "id": "jtKEETDTVpHW"
      },
      "source": [
        "**Упражнение.** \n",
        "* Проверьте, что данные загрузились правильно, используя метод `head()`;\n",
        "* Посмотрите на их размер с помощью метода `shape`;\n",
        "* Какие типы имеют признаки в данных? Есть ли пропуски? Используйте метод `info()`, чтобы проверить.  "
      ]
    },
    {
      "cell_type": "code",
      "metadata": {
        "id": "JQepX5Xv6lBf",
        "colab": {
          "base_uri": "https://localhost:8080/",
          "height": 363
        },
        "outputId": "459991fa-d23f-4ca2-8940-4b21f7f6690b"
      },
      "source": [
        "data.head(10)"
      ],
      "execution_count": null,
      "outputs": [
        {
          "output_type": "execute_result",
          "data": {
            "text/plain": [
              "   price  year  condition  cylinders  odometer title_status transmission  \\\n",
              "0  43900  2016          4          6     43500        clean    automatic   \n",
              "1  15490  2009          2          8     98131        clean    automatic   \n",
              "2   2495  2002          2          8    201803        clean    automatic   \n",
              "3   1300  2000          1          8    170305      rebuilt    automatic   \n",
              "4  13865  2010          3          8    166062        clean    automatic   \n",
              "5   6995  2003          3          8    167662        clean    automatic   \n",
              "6   8995  2006          3          8    115500        clean    automatic   \n",
              "7   5995  2005          3          6    191198        clean    automatic   \n",
              "8  18750  2011          2          6     77000        clean    automatic   \n",
              "9   5500  2007          3          6    139913        clean       manual   \n",
              "\n",
              "  drive       size        lat        long  weather  \n",
              "0   4wd  full-size  36.471500  -82.483400     59.0  \n",
              "1   4wd  full-size  40.468826  -74.281734     52.0  \n",
              "2   4wd  full-size  42.477134  -82.949564     45.0  \n",
              "3   4wd  full-size  40.764373  -82.349503     49.0  \n",
              "4   4wd        NaN  49.210949 -123.114720      NaN  \n",
              "5   4wd  full-size  45.518031 -122.578752     50.0  \n",
              "6   rwd  full-size  43.592223  -96.787488     38.0  \n",
              "7   rwd  full-size  38.611926 -121.423565     59.0  \n",
              "8   rwd        NaN  33.698900  -84.745400     59.0  \n",
              "9   rwd  full-size  31.782356  -96.088975     67.0  "
            ],
            "text/html": [
              "\n",
              "  <div id=\"df-dd9ee1d0-24f6-4089-9ce8-a48d4f2d0d51\">\n",
              "    <div class=\"colab-df-container\">\n",
              "      <div>\n",
              "<style scoped>\n",
              "    .dataframe tbody tr th:only-of-type {\n",
              "        vertical-align: middle;\n",
              "    }\n",
              "\n",
              "    .dataframe tbody tr th {\n",
              "        vertical-align: top;\n",
              "    }\n",
              "\n",
              "    .dataframe thead th {\n",
              "        text-align: right;\n",
              "    }\n",
              "</style>\n",
              "<table border=\"1\" class=\"dataframe\">\n",
              "  <thead>\n",
              "    <tr style=\"text-align: right;\">\n",
              "      <th></th>\n",
              "      <th>price</th>\n",
              "      <th>year</th>\n",
              "      <th>condition</th>\n",
              "      <th>cylinders</th>\n",
              "      <th>odometer</th>\n",
              "      <th>title_status</th>\n",
              "      <th>transmission</th>\n",
              "      <th>drive</th>\n",
              "      <th>size</th>\n",
              "      <th>lat</th>\n",
              "      <th>long</th>\n",
              "      <th>weather</th>\n",
              "    </tr>\n",
              "  </thead>\n",
              "  <tbody>\n",
              "    <tr>\n",
              "      <th>0</th>\n",
              "      <td>43900</td>\n",
              "      <td>2016</td>\n",
              "      <td>4</td>\n",
              "      <td>6</td>\n",
              "      <td>43500</td>\n",
              "      <td>clean</td>\n",
              "      <td>automatic</td>\n",
              "      <td>4wd</td>\n",
              "      <td>full-size</td>\n",
              "      <td>36.471500</td>\n",
              "      <td>-82.483400</td>\n",
              "      <td>59.0</td>\n",
              "    </tr>\n",
              "    <tr>\n",
              "      <th>1</th>\n",
              "      <td>15490</td>\n",
              "      <td>2009</td>\n",
              "      <td>2</td>\n",
              "      <td>8</td>\n",
              "      <td>98131</td>\n",
              "      <td>clean</td>\n",
              "      <td>automatic</td>\n",
              "      <td>4wd</td>\n",
              "      <td>full-size</td>\n",
              "      <td>40.468826</td>\n",
              "      <td>-74.281734</td>\n",
              "      <td>52.0</td>\n",
              "    </tr>\n",
              "    <tr>\n",
              "      <th>2</th>\n",
              "      <td>2495</td>\n",
              "      <td>2002</td>\n",
              "      <td>2</td>\n",
              "      <td>8</td>\n",
              "      <td>201803</td>\n",
              "      <td>clean</td>\n",
              "      <td>automatic</td>\n",
              "      <td>4wd</td>\n",
              "      <td>full-size</td>\n",
              "      <td>42.477134</td>\n",
              "      <td>-82.949564</td>\n",
              "      <td>45.0</td>\n",
              "    </tr>\n",
              "    <tr>\n",
              "      <th>3</th>\n",
              "      <td>1300</td>\n",
              "      <td>2000</td>\n",
              "      <td>1</td>\n",
              "      <td>8</td>\n",
              "      <td>170305</td>\n",
              "      <td>rebuilt</td>\n",
              "      <td>automatic</td>\n",
              "      <td>4wd</td>\n",
              "      <td>full-size</td>\n",
              "      <td>40.764373</td>\n",
              "      <td>-82.349503</td>\n",
              "      <td>49.0</td>\n",
              "    </tr>\n",
              "    <tr>\n",
              "      <th>4</th>\n",
              "      <td>13865</td>\n",
              "      <td>2010</td>\n",
              "      <td>3</td>\n",
              "      <td>8</td>\n",
              "      <td>166062</td>\n",
              "      <td>clean</td>\n",
              "      <td>automatic</td>\n",
              "      <td>4wd</td>\n",
              "      <td>NaN</td>\n",
              "      <td>49.210949</td>\n",
              "      <td>-123.114720</td>\n",
              "      <td>NaN</td>\n",
              "    </tr>\n",
              "    <tr>\n",
              "      <th>5</th>\n",
              "      <td>6995</td>\n",
              "      <td>2003</td>\n",
              "      <td>3</td>\n",
              "      <td>8</td>\n",
              "      <td>167662</td>\n",
              "      <td>clean</td>\n",
              "      <td>automatic</td>\n",
              "      <td>4wd</td>\n",
              "      <td>full-size</td>\n",
              "      <td>45.518031</td>\n",
              "      <td>-122.578752</td>\n",
              "      <td>50.0</td>\n",
              "    </tr>\n",
              "    <tr>\n",
              "      <th>6</th>\n",
              "      <td>8995</td>\n",
              "      <td>2006</td>\n",
              "      <td>3</td>\n",
              "      <td>8</td>\n",
              "      <td>115500</td>\n",
              "      <td>clean</td>\n",
              "      <td>automatic</td>\n",
              "      <td>rwd</td>\n",
              "      <td>full-size</td>\n",
              "      <td>43.592223</td>\n",
              "      <td>-96.787488</td>\n",
              "      <td>38.0</td>\n",
              "    </tr>\n",
              "    <tr>\n",
              "      <th>7</th>\n",
              "      <td>5995</td>\n",
              "      <td>2005</td>\n",
              "      <td>3</td>\n",
              "      <td>6</td>\n",
              "      <td>191198</td>\n",
              "      <td>clean</td>\n",
              "      <td>automatic</td>\n",
              "      <td>rwd</td>\n",
              "      <td>full-size</td>\n",
              "      <td>38.611926</td>\n",
              "      <td>-121.423565</td>\n",
              "      <td>59.0</td>\n",
              "    </tr>\n",
              "    <tr>\n",
              "      <th>8</th>\n",
              "      <td>18750</td>\n",
              "      <td>2011</td>\n",
              "      <td>2</td>\n",
              "      <td>6</td>\n",
              "      <td>77000</td>\n",
              "      <td>clean</td>\n",
              "      <td>automatic</td>\n",
              "      <td>rwd</td>\n",
              "      <td>NaN</td>\n",
              "      <td>33.698900</td>\n",
              "      <td>-84.745400</td>\n",
              "      <td>59.0</td>\n",
              "    </tr>\n",
              "    <tr>\n",
              "      <th>9</th>\n",
              "      <td>5500</td>\n",
              "      <td>2007</td>\n",
              "      <td>3</td>\n",
              "      <td>6</td>\n",
              "      <td>139913</td>\n",
              "      <td>clean</td>\n",
              "      <td>manual</td>\n",
              "      <td>rwd</td>\n",
              "      <td>full-size</td>\n",
              "      <td>31.782356</td>\n",
              "      <td>-96.088975</td>\n",
              "      <td>67.0</td>\n",
              "    </tr>\n",
              "  </tbody>\n",
              "</table>\n",
              "</div>\n",
              "      <button class=\"colab-df-convert\" onclick=\"convertToInteractive('df-dd9ee1d0-24f6-4089-9ce8-a48d4f2d0d51')\"\n",
              "              title=\"Convert this dataframe to an interactive table.\"\n",
              "              style=\"display:none;\">\n",
              "        \n",
              "  <svg xmlns=\"http://www.w3.org/2000/svg\" height=\"24px\"viewBox=\"0 0 24 24\"\n",
              "       width=\"24px\">\n",
              "    <path d=\"M0 0h24v24H0V0z\" fill=\"none\"/>\n",
              "    <path d=\"M18.56 5.44l.94 2.06.94-2.06 2.06-.94-2.06-.94-.94-2.06-.94 2.06-2.06.94zm-11 1L8.5 8.5l.94-2.06 2.06-.94-2.06-.94L8.5 2.5l-.94 2.06-2.06.94zm10 10l.94 2.06.94-2.06 2.06-.94-2.06-.94-.94-2.06-.94 2.06-2.06.94z\"/><path d=\"M17.41 7.96l-1.37-1.37c-.4-.4-.92-.59-1.43-.59-.52 0-1.04.2-1.43.59L10.3 9.45l-7.72 7.72c-.78.78-.78 2.05 0 2.83L4 21.41c.39.39.9.59 1.41.59.51 0 1.02-.2 1.41-.59l7.78-7.78 2.81-2.81c.8-.78.8-2.07 0-2.86zM5.41 20L4 18.59l7.72-7.72 1.47 1.35L5.41 20z\"/>\n",
              "  </svg>\n",
              "      </button>\n",
              "      \n",
              "  <style>\n",
              "    .colab-df-container {\n",
              "      display:flex;\n",
              "      flex-wrap:wrap;\n",
              "      gap: 12px;\n",
              "    }\n",
              "\n",
              "    .colab-df-convert {\n",
              "      background-color: #E8F0FE;\n",
              "      border: none;\n",
              "      border-radius: 50%;\n",
              "      cursor: pointer;\n",
              "      display: none;\n",
              "      fill: #1967D2;\n",
              "      height: 32px;\n",
              "      padding: 0 0 0 0;\n",
              "      width: 32px;\n",
              "    }\n",
              "\n",
              "    .colab-df-convert:hover {\n",
              "      background-color: #E2EBFA;\n",
              "      box-shadow: 0px 1px 2px rgba(60, 64, 67, 0.3), 0px 1px 3px 1px rgba(60, 64, 67, 0.15);\n",
              "      fill: #174EA6;\n",
              "    }\n",
              "\n",
              "    [theme=dark] .colab-df-convert {\n",
              "      background-color: #3B4455;\n",
              "      fill: #D2E3FC;\n",
              "    }\n",
              "\n",
              "    [theme=dark] .colab-df-convert:hover {\n",
              "      background-color: #434B5C;\n",
              "      box-shadow: 0px 1px 3px 1px rgba(0, 0, 0, 0.15);\n",
              "      filter: drop-shadow(0px 1px 2px rgba(0, 0, 0, 0.3));\n",
              "      fill: #FFFFFF;\n",
              "    }\n",
              "  </style>\n",
              "\n",
              "      <script>\n",
              "        const buttonEl =\n",
              "          document.querySelector('#df-dd9ee1d0-24f6-4089-9ce8-a48d4f2d0d51 button.colab-df-convert');\n",
              "        buttonEl.style.display =\n",
              "          google.colab.kernel.accessAllowed ? 'block' : 'none';\n",
              "\n",
              "        async function convertToInteractive(key) {\n",
              "          const element = document.querySelector('#df-dd9ee1d0-24f6-4089-9ce8-a48d4f2d0d51');\n",
              "          const dataTable =\n",
              "            await google.colab.kernel.invokeFunction('convertToInteractive',\n",
              "                                                     [key], {});\n",
              "          if (!dataTable) return;\n",
              "\n",
              "          const docLinkHtml = 'Like what you see? Visit the ' +\n",
              "            '<a target=\"_blank\" href=https://colab.research.google.com/notebooks/data_table.ipynb>data table notebook</a>'\n",
              "            + ' to learn more about interactive tables.';\n",
              "          element.innerHTML = '';\n",
              "          dataTable['output_type'] = 'display_data';\n",
              "          await google.colab.output.renderOutput(dataTable, element);\n",
              "          const docLink = document.createElement('div');\n",
              "          docLink.innerHTML = docLinkHtml;\n",
              "          element.appendChild(docLink);\n",
              "        }\n",
              "      </script>\n",
              "    </div>\n",
              "  </div>\n",
              "  "
            ]
          },
          "metadata": {},
          "execution_count": 6
        }
      ]
    },
    {
      "cell_type": "code",
      "metadata": {
        "id": "wFOX69SPLeZD",
        "colab": {
          "base_uri": "https://localhost:8080/"
        },
        "outputId": "2e5a6034-10da-4492-ece1-2904cb1c07ec"
      },
      "source": [
        "data.shape"
      ],
      "execution_count": null,
      "outputs": [
        {
          "output_type": "execute_result",
          "data": {
            "text/plain": [
              "(7017, 12)"
            ]
          },
          "metadata": {},
          "execution_count": 7
        }
      ]
    },
    {
      "cell_type": "code",
      "metadata": {
        "id": "L2eTeKP6LerD",
        "colab": {
          "base_uri": "https://localhost:8080/"
        },
        "outputId": "02416596-ffb8-4254-d116-306632dfbbe9"
      },
      "source": [
        "data.info()"
      ],
      "execution_count": null,
      "outputs": [
        {
          "output_type": "stream",
          "name": "stdout",
          "text": [
            "<class 'pandas.core.frame.DataFrame'>\n",
            "RangeIndex: 7017 entries, 0 to 7016\n",
            "Data columns (total 12 columns):\n",
            " #   Column        Non-Null Count  Dtype  \n",
            "---  ------        --------------  -----  \n",
            " 0   price         7017 non-null   int64  \n",
            " 1   year          7017 non-null   int64  \n",
            " 2   condition     7017 non-null   int64  \n",
            " 3   cylinders     7017 non-null   int64  \n",
            " 4   odometer      7017 non-null   int64  \n",
            " 5   title_status  7017 non-null   object \n",
            " 6   transmission  7017 non-null   object \n",
            " 7   drive         6626 non-null   object \n",
            " 8   size          5453 non-null   object \n",
            " 9   lat           7017 non-null   float64\n",
            " 10  long          7017 non-null   float64\n",
            " 11  weather       6837 non-null   float64\n",
            "dtypes: float64(3), int64(5), object(4)\n",
            "memory usage: 658.0+ KB\n"
          ]
        }
      ]
    },
    {
      "cell_type": "markdown",
      "metadata": {
        "id": "WYQj5nqW1Q8j"
      },
      "source": [
        "Типы в наших данных:\n",
        "* 4 признаков типа **object** - обычно это строковые значения;\n",
        "* 5 признака типа **int64** - целочисленные значения;\n",
        "* 3 признака типа **float64** - числа с плавающей запятой. "
      ]
    },
    {
      "cell_type": "markdown",
      "metadata": {
        "id": "5v0qPmgWHV9w"
      },
      "source": [
        "## 1.3. Посмотрим общую статистику по числовым данным\n",
        "\n",
        "Посмотрим на статистики загруженной выборки. Для этого вызовем метод `describe()` для наших данных. Для удобства отображения мы транспонируем результат: меняем местами столбцы и строки.\n",
        "\n",
        "Помним о том, что метод `describe()` выводит статистики только для числовых переменных."
      ]
    },
    {
      "cell_type": "code",
      "metadata": {
        "id": "7ZOawvYOVpHi",
        "colab": {
          "base_uri": "https://localhost:8080/",
          "height": 300
        },
        "outputId": "a4c01341-289b-4dbd-857b-f52d37ca6bd8"
      },
      "source": [
        "data.describe().T"
      ],
      "execution_count": null,
      "outputs": [
        {
          "output_type": "execute_result",
          "data": {
            "text/plain": [
              "            count           mean           std          min           25%  \\\n",
              "price      7017.0   15121.549523  11765.423119     1.000000   5995.000000   \n",
              "year       7017.0    2007.869745      6.975329  1957.000000   2004.000000   \n",
              "condition  7017.0       2.598689      0.703662     0.000000      2.000000   \n",
              "cylinders  7017.0       7.374662      0.942928     3.000000      6.000000   \n",
              "odometer   7017.0  119978.670942  89922.155723     0.000000  73285.000000   \n",
              "lat        7017.0      39.550144      5.745409    -2.508807     35.661076   \n",
              "long       7017.0     -91.903404     14.030710  -151.055832    -95.937145   \n",
              "weather    6837.0      52.142899      7.954830    29.000000     45.000000   \n",
              "\n",
              "                     50%          75%           max  \n",
              "price       12750.000000   21995.0000  2.995000e+05  \n",
              "year         2010.000000    2013.0000  2.018000e+03  \n",
              "condition       3.000000       3.0000  5.000000e+00  \n",
              "cylinders       8.000000       8.0000  1.000000e+01  \n",
              "odometer   118000.000000  157804.0000  2.490000e+06  \n",
              "lat            40.335245      43.5821  7.761768e+01  \n",
              "long          -88.168416     -82.7063 -5.377999e+00  \n",
              "weather        51.000000      59.0000  7.100000e+01  "
            ],
            "text/html": [
              "\n",
              "  <div id=\"df-448ee063-9b9d-4366-868c-779a3ed6cc6b\">\n",
              "    <div class=\"colab-df-container\">\n",
              "      <div>\n",
              "<style scoped>\n",
              "    .dataframe tbody tr th:only-of-type {\n",
              "        vertical-align: middle;\n",
              "    }\n",
              "\n",
              "    .dataframe tbody tr th {\n",
              "        vertical-align: top;\n",
              "    }\n",
              "\n",
              "    .dataframe thead th {\n",
              "        text-align: right;\n",
              "    }\n",
              "</style>\n",
              "<table border=\"1\" class=\"dataframe\">\n",
              "  <thead>\n",
              "    <tr style=\"text-align: right;\">\n",
              "      <th></th>\n",
              "      <th>count</th>\n",
              "      <th>mean</th>\n",
              "      <th>std</th>\n",
              "      <th>min</th>\n",
              "      <th>25%</th>\n",
              "      <th>50%</th>\n",
              "      <th>75%</th>\n",
              "      <th>max</th>\n",
              "    </tr>\n",
              "  </thead>\n",
              "  <tbody>\n",
              "    <tr>\n",
              "      <th>price</th>\n",
              "      <td>7017.0</td>\n",
              "      <td>15121.549523</td>\n",
              "      <td>11765.423119</td>\n",
              "      <td>1.000000</td>\n",
              "      <td>5995.000000</td>\n",
              "      <td>12750.000000</td>\n",
              "      <td>21995.0000</td>\n",
              "      <td>2.995000e+05</td>\n",
              "    </tr>\n",
              "    <tr>\n",
              "      <th>year</th>\n",
              "      <td>7017.0</td>\n",
              "      <td>2007.869745</td>\n",
              "      <td>6.975329</td>\n",
              "      <td>1957.000000</td>\n",
              "      <td>2004.000000</td>\n",
              "      <td>2010.000000</td>\n",
              "      <td>2013.0000</td>\n",
              "      <td>2.018000e+03</td>\n",
              "    </tr>\n",
              "    <tr>\n",
              "      <th>condition</th>\n",
              "      <td>7017.0</td>\n",
              "      <td>2.598689</td>\n",
              "      <td>0.703662</td>\n",
              "      <td>0.000000</td>\n",
              "      <td>2.000000</td>\n",
              "      <td>3.000000</td>\n",
              "      <td>3.0000</td>\n",
              "      <td>5.000000e+00</td>\n",
              "    </tr>\n",
              "    <tr>\n",
              "      <th>cylinders</th>\n",
              "      <td>7017.0</td>\n",
              "      <td>7.374662</td>\n",
              "      <td>0.942928</td>\n",
              "      <td>3.000000</td>\n",
              "      <td>6.000000</td>\n",
              "      <td>8.000000</td>\n",
              "      <td>8.0000</td>\n",
              "      <td>1.000000e+01</td>\n",
              "    </tr>\n",
              "    <tr>\n",
              "      <th>odometer</th>\n",
              "      <td>7017.0</td>\n",
              "      <td>119978.670942</td>\n",
              "      <td>89922.155723</td>\n",
              "      <td>0.000000</td>\n",
              "      <td>73285.000000</td>\n",
              "      <td>118000.000000</td>\n",
              "      <td>157804.0000</td>\n",
              "      <td>2.490000e+06</td>\n",
              "    </tr>\n",
              "    <tr>\n",
              "      <th>lat</th>\n",
              "      <td>7017.0</td>\n",
              "      <td>39.550144</td>\n",
              "      <td>5.745409</td>\n",
              "      <td>-2.508807</td>\n",
              "      <td>35.661076</td>\n",
              "      <td>40.335245</td>\n",
              "      <td>43.5821</td>\n",
              "      <td>7.761768e+01</td>\n",
              "    </tr>\n",
              "    <tr>\n",
              "      <th>long</th>\n",
              "      <td>7017.0</td>\n",
              "      <td>-91.903404</td>\n",
              "      <td>14.030710</td>\n",
              "      <td>-151.055832</td>\n",
              "      <td>-95.937145</td>\n",
              "      <td>-88.168416</td>\n",
              "      <td>-82.7063</td>\n",
              "      <td>-5.377999e+00</td>\n",
              "    </tr>\n",
              "    <tr>\n",
              "      <th>weather</th>\n",
              "      <td>6837.0</td>\n",
              "      <td>52.142899</td>\n",
              "      <td>7.954830</td>\n",
              "      <td>29.000000</td>\n",
              "      <td>45.000000</td>\n",
              "      <td>51.000000</td>\n",
              "      <td>59.0000</td>\n",
              "      <td>7.100000e+01</td>\n",
              "    </tr>\n",
              "  </tbody>\n",
              "</table>\n",
              "</div>\n",
              "      <button class=\"colab-df-convert\" onclick=\"convertToInteractive('df-448ee063-9b9d-4366-868c-779a3ed6cc6b')\"\n",
              "              title=\"Convert this dataframe to an interactive table.\"\n",
              "              style=\"display:none;\">\n",
              "        \n",
              "  <svg xmlns=\"http://www.w3.org/2000/svg\" height=\"24px\"viewBox=\"0 0 24 24\"\n",
              "       width=\"24px\">\n",
              "    <path d=\"M0 0h24v24H0V0z\" fill=\"none\"/>\n",
              "    <path d=\"M18.56 5.44l.94 2.06.94-2.06 2.06-.94-2.06-.94-.94-2.06-.94 2.06-2.06.94zm-11 1L8.5 8.5l.94-2.06 2.06-.94-2.06-.94L8.5 2.5l-.94 2.06-2.06.94zm10 10l.94 2.06.94-2.06 2.06-.94-2.06-.94-.94-2.06-.94 2.06-2.06.94z\"/><path d=\"M17.41 7.96l-1.37-1.37c-.4-.4-.92-.59-1.43-.59-.52 0-1.04.2-1.43.59L10.3 9.45l-7.72 7.72c-.78.78-.78 2.05 0 2.83L4 21.41c.39.39.9.59 1.41.59.51 0 1.02-.2 1.41-.59l7.78-7.78 2.81-2.81c.8-.78.8-2.07 0-2.86zM5.41 20L4 18.59l7.72-7.72 1.47 1.35L5.41 20z\"/>\n",
              "  </svg>\n",
              "      </button>\n",
              "      \n",
              "  <style>\n",
              "    .colab-df-container {\n",
              "      display:flex;\n",
              "      flex-wrap:wrap;\n",
              "      gap: 12px;\n",
              "    }\n",
              "\n",
              "    .colab-df-convert {\n",
              "      background-color: #E8F0FE;\n",
              "      border: none;\n",
              "      border-radius: 50%;\n",
              "      cursor: pointer;\n",
              "      display: none;\n",
              "      fill: #1967D2;\n",
              "      height: 32px;\n",
              "      padding: 0 0 0 0;\n",
              "      width: 32px;\n",
              "    }\n",
              "\n",
              "    .colab-df-convert:hover {\n",
              "      background-color: #E2EBFA;\n",
              "      box-shadow: 0px 1px 2px rgba(60, 64, 67, 0.3), 0px 1px 3px 1px rgba(60, 64, 67, 0.15);\n",
              "      fill: #174EA6;\n",
              "    }\n",
              "\n",
              "    [theme=dark] .colab-df-convert {\n",
              "      background-color: #3B4455;\n",
              "      fill: #D2E3FC;\n",
              "    }\n",
              "\n",
              "    [theme=dark] .colab-df-convert:hover {\n",
              "      background-color: #434B5C;\n",
              "      box-shadow: 0px 1px 3px 1px rgba(0, 0, 0, 0.15);\n",
              "      filter: drop-shadow(0px 1px 2px rgba(0, 0, 0, 0.3));\n",
              "      fill: #FFFFFF;\n",
              "    }\n",
              "  </style>\n",
              "\n",
              "      <script>\n",
              "        const buttonEl =\n",
              "          document.querySelector('#df-448ee063-9b9d-4366-868c-779a3ed6cc6b button.colab-df-convert');\n",
              "        buttonEl.style.display =\n",
              "          google.colab.kernel.accessAllowed ? 'block' : 'none';\n",
              "\n",
              "        async function convertToInteractive(key) {\n",
              "          const element = document.querySelector('#df-448ee063-9b9d-4366-868c-779a3ed6cc6b');\n",
              "          const dataTable =\n",
              "            await google.colab.kernel.invokeFunction('convertToInteractive',\n",
              "                                                     [key], {});\n",
              "          if (!dataTable) return;\n",
              "\n",
              "          const docLinkHtml = 'Like what you see? Visit the ' +\n",
              "            '<a target=\"_blank\" href=https://colab.research.google.com/notebooks/data_table.ipynb>data table notebook</a>'\n",
              "            + ' to learn more about interactive tables.';\n",
              "          element.innerHTML = '';\n",
              "          dataTable['output_type'] = 'display_data';\n",
              "          await google.colab.output.renderOutput(dataTable, element);\n",
              "          const docLink = document.createElement('div');\n",
              "          docLink.innerHTML = docLinkHtml;\n",
              "          element.appendChild(docLink);\n",
              "        }\n",
              "      </script>\n",
              "    </div>\n",
              "  </div>\n",
              "  "
            ]
          },
          "metadata": {},
          "execution_count": 9
        }
      ]
    },
    {
      "cell_type": "markdown",
      "metadata": {
        "id": "-nLK_OWe86EG"
      },
      "source": [
        "Что интересного мы отсюда видим? \n",
        "\n",
        "* среднее состояние автомобилей на 2.6 из 5: причем cостояние 75% автомобилей ниже 3.0;\n",
        "* самый ранний год производства автомобиля 1957, причем 75% автомобилей произведены до 2013 года.\n",
        "\n"
      ]
    },
    {
      "cell_type": "markdown",
      "metadata": {
        "id": "mrKWZfGqo4tt"
      },
      "source": [
        "**Упражнение.** Посмотрите на гистограммы признаков в таблице `data` с помощью метода `hist()`, установите размер картинки `figsize=(20,12)`. "
      ]
    },
    {
      "cell_type": "code",
      "metadata": {
        "id": "G1odmb5lpxXq",
        "colab": {
          "base_uri": "https://localhost:8080/",
          "height": 716
        },
        "outputId": "55fa04ce-57a1-4cbb-d6a1-5b0db6e16366"
      },
      "source": [
        "data.hist(figsize=(20,12));"
      ],
      "execution_count": null,
      "outputs": [
        {
          "output_type": "display_data",
          "data": {
            "text/plain": [
              "<Figure size 1440x864 with 9 Axes>"
            ],
            "image/png": "[encoded data removed]"
          },
          "metadata": {
            "needs_background": "light"
          }
        }
      ]
    },
    {
      "cell_type": "code",
      "source": [
        "data['lat'].describe()"
      ],
      "metadata": {
        "colab": {
          "base_uri": "https://localhost:8080/"
        },
        "id": "6yY4JbaF1R4Z",
        "outputId": "329cecdd-9b0f-4532-cab5-c1c138b3ab02"
      },
      "execution_count": null,
      "outputs": [
        {
          "output_type": "execute_result",
          "data": {
            "text/plain": [
              "count    7017.000000\n",
              "mean       39.550144\n",
              "std         5.745409\n",
              "min        -2.508807\n",
              "25%        35.661076\n",
              "50%        40.335245\n",
              "75%        43.582100\n",
              "max        77.617682\n",
              "Name: lat, dtype: float64"
            ]
          },
          "metadata": {},
          "execution_count": 13
        }
      ]
    },
    {
      "cell_type": "markdown",
      "metadata": {
        "id": "HbEv56mRBVAV"
      },
      "source": [
        "Мы видим, что у некоторых гистограмм имеются отдельно стоящие колонки (бины). Это не что иное, как выбросы."
      ]
    },
    {
      "cell_type": "markdown",
      "metadata": {
        "id": "iW3qRGZcVpHg"
      },
      "source": [
        "# 2. Обработать данные перед обучением модели"
      ]
    },
    {
      "cell_type": "markdown",
      "metadata": {
        "id": "P5V0a5GnAs2U"
      },
      "source": [
        "## 2.1 Работаем с целевой переменной\n",
        "\n",
        "В данном случае по условию задачи мы должны прогнозировать стоимость автомобиля, целевая переменная - это price. \n",
        "\n",
        "Для удобства сразу отделим целевую переменную от остальных признаков, а затем удалим ее из исходной таблицы с помощью метода `drop()`."
      ]
    },
    {
      "cell_type": "code",
      "metadata": {
        "id": "M6_0pgXsAs2X"
      },
      "source": [
        "y = data['price']\n",
        "\n",
        "x = data.drop(columns='price')"
      ],
      "execution_count": null,
      "outputs": []
    },
    {
      "cell_type": "code",
      "source": [
        "data.shape"
      ],
      "metadata": {
        "colab": {
          "base_uri": "https://localhost:8080/"
        },
        "id": "sS-appcQG_zC",
        "outputId": "4f6902d9-5790-40f0-ac88-aab7c3b17fd1"
      },
      "execution_count": null,
      "outputs": [
        {
          "output_type": "execute_result",
          "data": {
            "text/plain": [
              "(7017, 12)"
            ]
          },
          "metadata": {},
          "execution_count": 20
        }
      ]
    },
    {
      "cell_type": "markdown",
      "metadata": {
        "id": "NSfBj7nFsO-H"
      },
      "source": [
        "Проверим, что лишняя колонка действительно удалилась:"
      ]
    },
    {
      "cell_type": "code",
      "metadata": {
        "id": "cAUYU2asAs2m",
        "colab": {
          "base_uri": "https://localhost:8080/",
          "height": 206
        },
        "outputId": "5a804305-386a-450d-a515-3a905aff568e"
      },
      "source": [
        "x.head()"
      ],
      "execution_count": null,
      "outputs": [
        {
          "output_type": "execute_result",
          "data": {
            "text/plain": [
              "   year  condition  cylinders  odometer title_status transmission drive  \\\n",
              "0  2016          4          6     43500        clean    automatic   4wd   \n",
              "1  2009          2          8     98131        clean    automatic   4wd   \n",
              "2  2002          2          8    201803        clean    automatic   4wd   \n",
              "3  2000          1          8    170305      rebuilt    automatic   4wd   \n",
              "4  2010          3          8    166062        clean    automatic   4wd   \n",
              "\n",
              "        size        lat        long  weather  \n",
              "0  full-size  36.471500  -82.483400     59.0  \n",
              "1  full-size  40.468826  -74.281734     52.0  \n",
              "2  full-size  42.477134  -82.949564     45.0  \n",
              "3  full-size  40.764373  -82.349503     49.0  \n",
              "4        NaN  49.210949 -123.114720      NaN  "
            ],
            "text/html": [
              "\n",
              "  <div id=\"df-f7b3d542-d5b7-4b01-bf1c-15683e1da100\">\n",
              "    <div class=\"colab-df-container\">\n",
              "      <div>\n",
              "<style scoped>\n",
              "    .dataframe tbody tr th:only-of-type {\n",
              "        vertical-align: middle;\n",
              "    }\n",
              "\n",
              "    .dataframe tbody tr th {\n",
              "        vertical-align: top;\n",
              "    }\n",
              "\n",
              "    .dataframe thead th {\n",
              "        text-align: right;\n",
              "    }\n",
              "</style>\n",
              "<table border=\"1\" class=\"dataframe\">\n",
              "  <thead>\n",
              "    <tr style=\"text-align: right;\">\n",
              "      <th></th>\n",
              "      <th>year</th>\n",
              "      <th>condition</th>\n",
              "      <th>cylinders</th>\n",
              "      <th>odometer</th>\n",
              "      <th>title_status</th>\n",
              "      <th>transmission</th>\n",
              "      <th>drive</th>\n",
              "      <th>size</th>\n",
              "      <th>lat</th>\n",
              "      <th>long</th>\n",
              "      <th>weather</th>\n",
              "    </tr>\n",
              "  </thead>\n",
              "  <tbody>\n",
              "    <tr>\n",
              "      <th>0</th>\n",
              "      <td>2016</td>\n",
              "      <td>4</td>\n",
              "      <td>6</td>\n",
              "      <td>43500</td>\n",
              "      <td>clean</td>\n",
              "      <td>automatic</td>\n",
              "      <td>4wd</td>\n",
              "      <td>full-size</td>\n",
              "      <td>36.471500</td>\n",
              "      <td>-82.483400</td>\n",
              "      <td>59.0</td>\n",
              "    </tr>\n",
              "    <tr>\n",
              "      <th>1</th>\n",
              "      <td>2009</td>\n",
              "      <td>2</td>\n",
              "      <td>8</td>\n",
              "      <td>98131</td>\n",
              "      <td>clean</td>\n",
              "      <td>automatic</td>\n",
              "      <td>4wd</td>\n",
              "      <td>full-size</td>\n",
              "      <td>40.468826</td>\n",
              "      <td>-74.281734</td>\n",
              "      <td>52.0</td>\n",
              "    </tr>\n",
              "    <tr>\n",
              "      <th>2</th>\n",
              "      <td>2002</td>\n",
              "      <td>2</td>\n",
              "      <td>8</td>\n",
              "      <td>201803</td>\n",
              "      <td>clean</td>\n",
              "      <td>automatic</td>\n",
              "      <td>4wd</td>\n",
              "      <td>full-size</td>\n",
              "      <td>42.477134</td>\n",
              "      <td>-82.949564</td>\n",
              "      <td>45.0</td>\n",
              "    </tr>\n",
              "    <tr>\n",
              "      <th>3</th>\n",
              "      <td>2000</td>\n",
              "      <td>1</td>\n",
              "      <td>8</td>\n",
              "      <td>170305</td>\n",
              "      <td>rebuilt</td>\n",
              "      <td>automatic</td>\n",
              "      <td>4wd</td>\n",
              "      <td>full-size</td>\n",
              "      <td>40.764373</td>\n",
              "      <td>-82.349503</td>\n",
              "      <td>49.0</td>\n",
              "    </tr>\n",
              "    <tr>\n",
              "      <th>4</th>\n",
              "      <td>2010</td>\n",
              "      <td>3</td>\n",
              "      <td>8</td>\n",
              "      <td>166062</td>\n",
              "      <td>clean</td>\n",
              "      <td>automatic</td>\n",
              "      <td>4wd</td>\n",
              "      <td>NaN</td>\n",
              "      <td>49.210949</td>\n",
              "      <td>-123.114720</td>\n",
              "      <td>NaN</td>\n",
              "    </tr>\n",
              "  </tbody>\n",
              "</table>\n",
              "</div>\n",
              "      <button class=\"colab-df-convert\" onclick=\"convertToInteractive('df-f7b3d542-d5b7-4b01-bf1c-15683e1da100')\"\n",
              "              title=\"Convert this dataframe to an interactive table.\"\n",
              "              style=\"display:none;\">\n",
              "        \n",
              "  <svg xmlns=\"http://www.w3.org/2000/svg\" height=\"24px\"viewBox=\"0 0 24 24\"\n",
              "       width=\"24px\">\n",
              "    <path d=\"M0 0h24v24H0V0z\" fill=\"none\"/>\n",
              "    <path d=\"M18.56 5.44l.94 2.06.94-2.06 2.06-.94-2.06-.94-.94-2.06-.94 2.06-2.06.94zm-11 1L8.5 8.5l.94-2.06 2.06-.94-2.06-.94L8.5 2.5l-.94 2.06-2.06.94zm10 10l.94 2.06.94-2.06 2.06-.94-2.06-.94-.94-2.06-.94 2.06-2.06.94z\"/><path d=\"M17.41 7.96l-1.37-1.37c-.4-.4-.92-.59-1.43-.59-.52 0-1.04.2-1.43.59L10.3 9.45l-7.72 7.72c-.78.78-.78 2.05 0 2.83L4 21.41c.39.39.9.59 1.41.59.51 0 1.02-.2 1.41-.59l7.78-7.78 2.81-2.81c.8-.78.8-2.07 0-2.86zM5.41 20L4 18.59l7.72-7.72 1.47 1.35L5.41 20z\"/>\n",
              "  </svg>\n",
              "      </button>\n",
              "      \n",
              "  <style>\n",
              "    .colab-df-container {\n",
              "      display:flex;\n",
              "      flex-wrap:wrap;\n",
              "      gap: 12px;\n",
              "    }\n",
              "\n",
              "    .colab-df-convert {\n",
              "      background-color: #E8F0FE;\n",
              "      border: none;\n",
              "      border-radius: 50%;\n",
              "      cursor: pointer;\n",
              "      display: none;\n",
              "      fill: #1967D2;\n",
              "      height: 32px;\n",
              "      padding: 0 0 0 0;\n",
              "      width: 32px;\n",
              "    }\n",
              "\n",
              "    .colab-df-convert:hover {\n",
              "      background-color: #E2EBFA;\n",
              "      box-shadow: 0px 1px 2px rgba(60, 64, 67, 0.3), 0px 1px 3px 1px rgba(60, 64, 67, 0.15);\n",
              "      fill: #174EA6;\n",
              "    }\n",
              "\n",
              "    [theme=dark] .colab-df-convert {\n",
              "      background-color: #3B4455;\n",
              "      fill: #D2E3FC;\n",
              "    }\n",
              "\n",
              "    [theme=dark] .colab-df-convert:hover {\n",
              "      background-color: #434B5C;\n",
              "      box-shadow: 0px 1px 3px 1px rgba(0, 0, 0, 0.15);\n",
              "      filter: drop-shadow(0px 1px 2px rgba(0, 0, 0, 0.3));\n",
              "      fill: #FFFFFF;\n",
              "    }\n",
              "  </style>\n",
              "\n",
              "      <script>\n",
              "        const buttonEl =\n",
              "          document.querySelector('#df-f7b3d542-d5b7-4b01-bf1c-15683e1da100 button.colab-df-convert');\n",
              "        buttonEl.style.display =\n",
              "          google.colab.kernel.accessAllowed ? 'block' : 'none';\n",
              "\n",
              "        async function convertToInteractive(key) {\n",
              "          const element = document.querySelector('#df-f7b3d542-d5b7-4b01-bf1c-15683e1da100');\n",
              "          const dataTable =\n",
              "            await google.colab.kernel.invokeFunction('convertToInteractive',\n",
              "                                                     [key], {});\n",
              "          if (!dataTable) return;\n",
              "\n",
              "          const docLinkHtml = 'Like what you see? Visit the ' +\n",
              "            '<a target=\"_blank\" href=https://colab.research.google.com/notebooks/data_table.ipynb>data table notebook</a>'\n",
              "            + ' to learn more about interactive tables.';\n",
              "          element.innerHTML = '';\n",
              "          dataTable['output_type'] = 'display_data';\n",
              "          await google.colab.output.renderOutput(dataTable, element);\n",
              "          const docLink = document.createElement('div');\n",
              "          docLink.innerHTML = docLinkHtml;\n",
              "          element.appendChild(docLink);\n",
              "        }\n",
              "      </script>\n",
              "    </div>\n",
              "  </div>\n",
              "  "
            ]
          },
          "metadata": {},
          "execution_count": 17
        }
      ]
    },
    {
      "cell_type": "markdown",
      "metadata": {
        "id": "_bq3PXRbVpHl"
      },
      "source": [
        "## 2.2. Обработка пропусков в данных\n",
        "\n",
        "\n",
        "<a href=\"https://drive.google.com/uc?id=1oBVbNi9xUsQObgLV0fA0oP4To5AbLc7j\n",
        "\" target=\"_blank\"><img src=\"https://drive.google.com/uc?id=1oBVbNi9xUsQObgLV0fA0oP4To5AbLc7j\" \n",
        "alt=\"IMAGE ALT TEXT HERE\" width=\"360\" border=\"0\" /></a>\n",
        "\n",
        "\n",
        "Как мы уже видели выше, в наших данных есть пропуски (значения *NaN*). Так как они только в одной колонке и их немного (всего 2.5%), давайте их просто удалим с помощью метода `dropna()`."
      ]
    },
    {
      "cell_type": "code",
      "metadata": {
        "id": "grQl2cMXCSgw"
      },
      "source": [
        "points = x.dropna()"
      ],
      "execution_count": null,
      "outputs": []
    },
    {
      "cell_type": "code",
      "source": [
        "points.shape"
      ],
      "metadata": {
        "colab": {
          "base_uri": "https://localhost:8080/"
        },
        "id": "-NA69v8RHCJl",
        "outputId": "9ec608cb-353b-45f1-93bf-649bf72f7f6f"
      },
      "execution_count": null,
      "outputs": [
        {
          "output_type": "execute_result",
          "data": {
            "text/plain": [
              "(5202, 11)"
            ]
          },
          "metadata": {},
          "execution_count": 21
        }
      ]
    },
    {
      "cell_type": "code",
      "source": [
        "points.index"
      ],
      "metadata": {
        "colab": {
          "base_uri": "https://localhost:8080/"
        },
        "id": "JzYZEUKhHXBd",
        "outputId": "adafeba0-49db-40ca-f926-0fe9459d64a8"
      },
      "execution_count": null,
      "outputs": [
        {
          "output_type": "execute_result",
          "data": {
            "text/plain": [
              "Int64Index([   0,    1,    2,    3,    5,    6,    7,    9,   10,   11,\n",
              "            ...\n",
              "            7003, 7004, 7005, 7006, 7009, 7010, 7012, 7013, 7015, 7016],\n",
              "           dtype='int64', length=5202)"
            ]
          },
          "metadata": {},
          "execution_count": 23
        }
      ]
    },
    {
      "cell_type": "markdown",
      "metadata": {
        "id": "QfwSXc4IEiSR"
      },
      "source": [
        "Мы удалили некоторые строчки из таблички `points`. Соответственно, надо сделать то же самое в целевой переменной `target`.\n",
        "\n",
        "Выберем все оставшиеся индексы таблички `points` с помощью метода `index`. А затем используем `.iloc[]`, чтобы получить подгруппу целевых значений, соответствующую полученным индексам.\n",
        "\n",
        "*Замечание: метод `.iloc[]` служит для индексации датафреймов по порядковому номеру столбца или строки. Чаще его используют именно для выбора подмножества строк.*"
      ]
    },
    {
      "cell_type": "code",
      "metadata": {
        "id": "cskzBV6pDHTm"
      },
      "source": [
        "target = y.iloc[points.index]"
      ],
      "execution_count": null,
      "outputs": []
    },
    {
      "cell_type": "markdown",
      "metadata": {
        "id": "diOSNugPv4TB"
      },
      "source": [
        "**Упражнение.** Проверьте, что переменные `points` и `target` имеют одинаковую длину. "
      ]
    },
    {
      "cell_type": "code",
      "metadata": {
        "id": "jvBa8wAREYke",
        "colab": {
          "base_uri": "https://localhost:8080/"
        },
        "outputId": "d3f57199-39de-4357-d82e-af69fbb979b2"
      },
      "source": [
        "points.shape, target.shape"
      ],
      "execution_count": null,
      "outputs": [
        {
          "output_type": "execute_result",
          "data": {
            "text/plain": [
              "((5202, 11), (5202,))"
            ]
          },
          "metadata": {},
          "execution_count": 26
        }
      ]
    },
    {
      "cell_type": "code",
      "source": [
        "from sklearn.preprocessing  import LabelBinarizer\n",
        "\n",
        "lb = LabelBinarizer()\n",
        "\n",
        "education = ['нет', 'начальное', 'среднее', 'BSc', 'MSc', 'начальное', 'PhD']\n",
        "\n",
        "lb.fit(education)\n",
        "\n",
        "print('категории:', lb.classes_)\n",
        "\n",
        "lb.transform(['нет', 'MSc'])\n",
        "\n"
      ],
      "metadata": {
        "colab": {
          "base_uri": "https://localhost:8080/"
        },
        "id": "07Q9nQGIP6KQ",
        "outputId": "178ec354-531f-4511-9179-40f921bb14aa"
      },
      "execution_count": null,
      "outputs": [
        {
          "output_type": "stream",
          "name": "stdout",
          "text": [
            "категории: ['BSc' 'MSc' 'PhD' 'начальное' 'нет' 'среднее']\n"
          ]
        },
        {
          "output_type": "execute_result",
          "data": {
            "text/plain": [
              "array([[0, 0, 0, 0, 1, 0],\n",
              "       [0, 1, 0, 0, 0, 0]])"
            ]
          },
          "metadata": {},
          "execution_count": 27
        }
      ]
    },
    {
      "cell_type": "markdown",
      "source": [
        "1. Импорт выбранного кодировщика"
      ],
      "metadata": {
        "id": "iyCj1BTZTU-O"
      }
    },
    {
      "cell_type": "code",
      "source": [
        "from sklearn.preprocessing import LabelBinarizer "
      ],
      "metadata": {
        "id": "8MNMZxDgP9Qx"
      },
      "execution_count": null,
      "outputs": []
    },
    {
      "cell_type": "markdown",
      "source": [
        "2. Инициализация кодировщика"
      ],
      "metadata": {
        "id": "Wc9rbEyaTZld"
      }
    },
    {
      "cell_type": "code",
      "source": [
        "encoder = LabelBinarizer()"
      ],
      "metadata": {
        "id": "_d8XWgr7Tc3Q"
      },
      "execution_count": null,
      "outputs": []
    },
    {
      "cell_type": "code",
      "source": [
        "data.info()"
      ],
      "metadata": {
        "colab": {
          "base_uri": "https://localhost:8080/"
        },
        "id": "AD1os0XEJJtf",
        "outputId": "9f59c57f-e526-4835-b75c-2a2a82043b70"
      },
      "execution_count": null,
      "outputs": [
        {
          "output_type": "stream",
          "name": "stdout",
          "text": [
            "<class 'pandas.core.frame.DataFrame'>\n",
            "RangeIndex: 7017 entries, 0 to 7016\n",
            "Data columns (total 12 columns):\n",
            " #   Column        Non-Null Count  Dtype  \n",
            "---  ------        --------------  -----  \n",
            " 0   price         7017 non-null   int64  \n",
            " 1   year          7017 non-null   int64  \n",
            " 2   condition     7017 non-null   int64  \n",
            " 3   cylinders     7017 non-null   int64  \n",
            " 4   odometer      7017 non-null   int64  \n",
            " 5   title_status  7017 non-null   object \n",
            " 6   transmission  7017 non-null   object \n",
            " 7   drive         6626 non-null   object \n",
            " 8   size          5453 non-null   object \n",
            " 9   lat           7017 non-null   float64\n",
            " 10  long          7017 non-null   float64\n",
            " 11  weather       6837 non-null   float64\n",
            "dtypes: float64(3), int64(5), object(4)\n",
            "memory usage: 658.0+ KB\n"
          ]
        }
      ]
    },
    {
      "cell_type": "markdown",
      "source": [
        "3. Обучение (подгонка) кодировщика на выбранном признаке"
      ],
      "metadata": {
        "id": "igZrtYnbTiq1"
      }
    },
    {
      "cell_type": "code",
      "source": [
        "encoder.fit(data['title_status'])"
      ],
      "metadata": {
        "id": "HoPrHpL1TpSi",
        "colab": {
          "base_uri": "https://localhost:8080/"
        },
        "outputId": "50e4358c-f9c9-4895-c900-25e9d7d7721c"
      },
      "execution_count": null,
      "outputs": [
        {
          "output_type": "execute_result",
          "data": {
            "text/plain": [
              "LabelBinarizer()"
            ]
          },
          "metadata": {},
          "execution_count": 34
        }
      ]
    },
    {
      "cell_type": "markdown",
      "source": [
        "4. Преобразование выбранного признака"
      ],
      "metadata": {
        "id": "ym0xFB41Tzbu"
      }
    },
    {
      "cell_type": "code",
      "source": [
        "encoded = encoder.transform(data['title_status'])"
      ],
      "metadata": {
        "id": "a82DQ0KGT2KM"
      },
      "execution_count": null,
      "outputs": []
    },
    {
      "cell_type": "code",
      "source": [
        "encoded.shape"
      ],
      "metadata": {
        "colab": {
          "base_uri": "https://localhost:8080/"
        },
        "id": "USfvIBE1JdkY",
        "outputId": "bb17d669-0205-4ba3-e4ee-9602341f519b"
      },
      "execution_count": null,
      "outputs": [
        {
          "output_type": "execute_result",
          "data": {
            "text/plain": [
              "(7017, 5)"
            ]
          },
          "metadata": {},
          "execution_count": 37
        }
      ]
    },
    {
      "cell_type": "markdown",
      "metadata": {
        "id": "2xZ4SSKaVpHs"
      },
      "source": [
        "## 2.3. Предобработка категориальных переменных"
      ]
    },
    {
      "cell_type": "markdown",
      "metadata": {
        "id": "8OGc29myXNJK"
      },
      "source": [
        "На прошлом семинаре мы рассмотрели два способа обработки текстовых категориальных признаков:\n",
        "* Label Encoding - когда каждому уникальному значению присваивается число и общее количество признаков не меняется;\n",
        "* One Hot Encoding - когда для каждой категории создается новый столбец, при этом 1 ставится, если у объекта имеется данная категория. **Важно:** этот способ преобразования мы можем использовать и для числовых категориальных признаков, если это уместно при решении задачи. \n",
        "\n",
        "Также мы выяснили, что при Label Encoding неявно задаются отношения между категориями, которых фактически может и не быть. One Hot Encoding решает эту проблему.\n",
        "\n",
        "\n",
        "\n",
        "<a href=\"https://drive.google.com/uc?id=1mBoRFNVQtcPdb31J8DaimQqywyfdI4a8\n",
        "\" target=\"_blank\"><img src=\"https://drive.google.com/uc?id=1mBoRFNVQtcPdb31J8DaimQqywyfdI4a8\" \n",
        "alt=\"IMAGE ALT TEXT HERE\" width=\"800\" border=\"0\" /></a>"
      ]
    },
    {
      "cell_type": "markdown",
      "metadata": {
        "id": "CwuBV4BQVpKk"
      },
      "source": [
        "В наших данных есть следующие категориальные признаки: condition, cylinders, title_status, transmission, drive, size. \n",
        "\n",
        "При этом, признаки **condition, cylinders** - числовые, а признаки **title_status, transmission, drive, size** - текстовые. "
      ]
    },
    {
      "cell_type": "code",
      "metadata": {
        "id": "XkKLzlY6XyaN",
        "colab": {
          "base_uri": "https://localhost:8080/",
          "height": 265
        },
        "outputId": "baa08d99-0efc-4064-92e0-915a85cb53ba"
      },
      "source": [
        "data['condition'].hist();"
      ],
      "execution_count": null,
      "outputs": [
        {
          "output_type": "display_data",
          "data": {
            "text/plain": [
              "<Figure size 432x288 with 1 Axes>"
            ],
            "image/png": "[encoded data removed]"
          },
          "metadata": {
            "needs_background": "light"
          }
        }
      ]
    },
    {
      "cell_type": "code",
      "metadata": {
        "id": "I99ldFQ9YKnb",
        "colab": {
          "base_uri": "https://localhost:8080/",
          "height": 267
        },
        "outputId": "59c3aaff-873a-43ae-d873-f87f0b65f315"
      },
      "source": [
        "data['cylinders'].hist();"
      ],
      "execution_count": null,
      "outputs": [
        {
          "output_type": "display_data",
          "data": {
            "text/plain": [
              "<Figure size 432x288 with 1 Axes>"
            ],
            "image/png": "[encoded data removed]"
          },
          "metadata": {
            "needs_background": "light"
          }
        }
      ]
    },
    {
      "cell_type": "markdown",
      "metadata": {
        "id": "bf6tUj71YQKv"
      },
      "source": [
        "Имеющиеся текстовые признаки мы, безусловно, должны закодировать, так как машина умеет работать только с числовыми представлениями. \n",
        "\n",
        "**Вопрос.** Но должны ли мы преобразовывать признаки cylinders и condition?\n",
        "\n",
        "*Подсказка:* подумайте, важно ли отношение между категориями в каждом из признаков. "
      ]
    },
    {
      "cell_type": "markdown",
      "metadata": {
        "id": "QiWtdB-lXl-d"
      },
      "source": [
        "Для обработки выбранных переменных будем использовать метод `OneHotEncoder()` из библиотеки **sklearn**. "
      ]
    },
    {
      "cell_type": "code",
      "metadata": {
        "id": "fLtMRKkoV3mu"
      },
      "source": [
        "from sklearn.preprocessing import OneHotEncoder"
      ],
      "execution_count": null,
      "outputs": []
    },
    {
      "cell_type": "markdown",
      "metadata": {
        "id": "6CuBt5v8VpKu"
      },
      "source": [
        "Чтобы воспользоваться классом OneHotEncoder(), необходимо сперва создать прототип кодировщика:"
      ]
    },
    {
      "cell_type": "code",
      "metadata": {
        "id": "52H-40PpZeXa"
      },
      "source": [
        "one_hot_encoder = OneHotEncoder()"
      ],
      "execution_count": null,
      "outputs": []
    },
    {
      "cell_type": "markdown",
      "metadata": {
        "id": "MkOp5B17VpKq"
      },
      "source": [
        "Для удобства создадим отдельный список `columns_to_change` с названиями признаков, которые мы хотим закодировать, и `others_columns` с названиями остальных признаков."
      ]
    },
    {
      "cell_type": "code",
      "source": [
        "columns_to_change = ['cylinders', 'title_status', 'transmission', 'drive', 'size']\n",
        "\n",
        "for column in columns_to_change:\n",
        "  print('Число уникальных значений призкака {}: '.format(column), data[column].nunique())"
      ],
      "metadata": {
        "colab": {
          "base_uri": "https://localhost:8080/"
        },
        "id": "XuIJ1IzKfrG7",
        "outputId": "ecd795db-2b35-4152-94dd-22a7059707b6"
      },
      "execution_count": null,
      "outputs": [
        {
          "output_type": "stream",
          "name": "stdout",
          "text": [
            "Число уникальных значений призкака cylinders:  6\n",
            "Число уникальных значений призкака title_status:  5\n",
            "Число уникальных значений призкака transmission:  3\n",
            "Число уникальных значений призкака drive:  3\n",
            "Число уникальных значений призкака size:  4\n"
          ]
        }
      ]
    },
    {
      "cell_type": "code",
      "metadata": {
        "id": "QVe_CuoOWLnI"
      },
      "source": [
        "columns_to_change = ['cylinders', 'title_status', 'transmission', 'drive', 'size']\n",
        "others_columns = ['condition', 'year', 'odometer', 'lat', 'long', 'weather']"
      ],
      "execution_count": null,
      "outputs": []
    },
    {
      "cell_type": "markdown",
      "metadata": {
        "id": "YmG12fR5UW52"
      },
      "source": [
        "Так как у нас нет отдельной тестовой выборки, то мы используем только один метод `fit_transform()`. В качестве аргумента передаем табличку с выбранными для преобразования признаками. \n",
        "\n",
        "С помощью метода `get_feature_names()` получим список новых названий колонок."
      ]
    },
    {
      "cell_type": "markdown",
      "metadata": {
        "id": "ejnN73poVpK6"
      },
      "source": [
        "Поскольку объект points_onehot не является объектом класса `DataFrame()`, с которым нам проще работать, то явно преобразуем его в этот тип. Для этого передадим полученное значение в класс `DataFrame()`, зададим названия колонок с помощью переменной `columns` и объекты запишем с такими же индексами, как и в табличке `points`."
      ]
    },
    {
      "cell_type": "code",
      "metadata": {
        "id": "s2V2zKjEWkER"
      },
      "source": [
        "from sklearn.preprocessing import OneHotEncoder\n",
        "\n",
        "one_hot_encoder = OneHotEncoder()\n",
        "\n",
        "# 'учим' и сразу применяем преобразование к выборке, результат переводим в массив\n",
        "data_onehot = one_hot_encoder.fit_transform(points[columns_to_change]).toarray()\n",
        "\n",
        "# запишем полученные названия новых колонок в отдельную переменную\n",
        "column_names = one_hot_encoder.get_feature_names(columns_to_change)"
      ],
      "execution_count": null,
      "outputs": []
    },
    {
      "cell_type": "code",
      "source": [
        "print(column_names)"
      ],
      "metadata": {
        "colab": {
          "base_uri": "https://localhost:8080/"
        },
        "id": "C86Sm-jyirJz",
        "outputId": "3184851c-c0bd-488f-a2dd-5555666f85fe"
      },
      "execution_count": null,
      "outputs": [
        {
          "output_type": "stream",
          "name": "stdout",
          "text": [
            "['cylinders_3' 'cylinders_4' 'cylinders_5' 'cylinders_6' 'cylinders_8'\n",
            " 'cylinders_10' 'title_status_clean' 'title_status_lien'\n",
            " 'title_status_missing' 'title_status_rebuilt' 'title_status_salvage'\n",
            " 'transmission_automatic' 'transmission_manual' 'transmission_other'\n",
            " 'drive_4wd' 'drive_fwd' 'drive_rwd' 'drive_nan' 'size_compact'\n",
            " 'size_full-size' 'size_mid-size' 'size_sub-compact' 'size_nan']\n"
          ]
        }
      ]
    },
    {
      "cell_type": "code",
      "metadata": {
        "id": "_tKFayahW12j"
      },
      "source": [
        "data_onehot = pd.DataFrame(data_onehot, index=points.index, columns=column_names)"
      ],
      "execution_count": null,
      "outputs": []
    },
    {
      "cell_type": "code",
      "metadata": {
        "colab": {
          "base_uri": "https://localhost:8080/",
          "height": 317
        },
        "id": "AmgHojcy8wxE",
        "outputId": "52d2b9cd-48c1-4424-ae3d-be67da301bbc"
      },
      "source": [
        "data_onehot.head()"
      ],
      "execution_count": null,
      "outputs": [
        {
          "output_type": "execute_result",
          "data": {
            "text/plain": [
              "   cylinders_3  cylinders_4  cylinders_5  cylinders_6  cylinders_8  \\\n",
              "0          0.0          0.0          0.0          1.0          0.0   \n",
              "1          0.0          0.0          0.0          0.0          1.0   \n",
              "2          0.0          0.0          0.0          0.0          1.0   \n",
              "3          0.0          0.0          0.0          0.0          1.0   \n",
              "5          0.0          0.0          0.0          0.0          1.0   \n",
              "\n",
              "   cylinders_10  title_status_clean  title_status_lien  title_status_missing  \\\n",
              "0           0.0                 1.0                0.0                   0.0   \n",
              "1           0.0                 1.0                0.0                   0.0   \n",
              "2           0.0                 1.0                0.0                   0.0   \n",
              "3           0.0                 0.0                0.0                   0.0   \n",
              "5           0.0                 1.0                0.0                   0.0   \n",
              "\n",
              "   title_status_rebuilt  ...  transmission_automatic  transmission_manual  \\\n",
              "0                   0.0  ...                     1.0                  0.0   \n",
              "1                   0.0  ...                     1.0                  0.0   \n",
              "2                   0.0  ...                     1.0                  0.0   \n",
              "3                   1.0  ...                     1.0                  0.0   \n",
              "5                   0.0  ...                     1.0                  0.0   \n",
              "\n",
              "   transmission_other  drive_4wd  drive_fwd  drive_rwd  size_compact  \\\n",
              "0                 0.0        1.0        0.0        0.0           0.0   \n",
              "1                 0.0        1.0        0.0        0.0           0.0   \n",
              "2                 0.0        1.0        0.0        0.0           0.0   \n",
              "3                 0.0        1.0        0.0        0.0           0.0   \n",
              "5                 0.0        1.0        0.0        0.0           0.0   \n",
              "\n",
              "   size_full-size  size_mid-size  size_sub-compact  \n",
              "0             1.0            0.0               0.0  \n",
              "1             1.0            0.0               0.0  \n",
              "2             1.0            0.0               0.0  \n",
              "3             1.0            0.0               0.0  \n",
              "5             1.0            0.0               0.0  \n",
              "\n",
              "[5 rows x 21 columns]"
            ],
            "text/html": [
              "\n",
              "  <div id=\"df-6a700e3d-437a-49d1-af87-9cd8fd9842d0\">\n",
              "    <div class=\"colab-df-container\">\n",
              "      <div>\n",
              "<style scoped>\n",
              "    .dataframe tbody tr th:only-of-type {\n",
              "        vertical-align: middle;\n",
              "    }\n",
              "\n",
              "    .dataframe tbody tr th {\n",
              "        vertical-align: top;\n",
              "    }\n",
              "\n",
              "    .dataframe thead th {\n",
              "        text-align: right;\n",
              "    }\n",
              "</style>\n",
              "<table border=\"1\" class=\"dataframe\">\n",
              "  <thead>\n",
              "    <tr style=\"text-align: right;\">\n",
              "      <th></th>\n",
              "      <th>cylinders_3</th>\n",
              "      <th>cylinders_4</th>\n",
              "      <th>cylinders_5</th>\n",
              "      <th>cylinders_6</th>\n",
              "      <th>cylinders_8</th>\n",
              "      <th>cylinders_10</th>\n",
              "      <th>title_status_clean</th>\n",
              "      <th>title_status_lien</th>\n",
              "      <th>title_status_missing</th>\n",
              "      <th>title_status_rebuilt</th>\n",
              "      <th>...</th>\n",
              "      <th>transmission_automatic</th>\n",
              "      <th>transmission_manual</th>\n",
              "      <th>transmission_other</th>\n",
              "      <th>drive_4wd</th>\n",
              "      <th>drive_fwd</th>\n",
              "      <th>drive_rwd</th>\n",
              "      <th>size_compact</th>\n",
              "      <th>size_full-size</th>\n",
              "      <th>size_mid-size</th>\n",
              "      <th>size_sub-compact</th>\n",
              "    </tr>\n",
              "  </thead>\n",
              "  <tbody>\n",
              "    <tr>\n",
              "      <th>0</th>\n",
              "      <td>0.0</td>\n",
              "      <td>0.0</td>\n",
              "      <td>0.0</td>\n",
              "      <td>1.0</td>\n",
              "      <td>0.0</td>\n",
              "      <td>0.0</td>\n",
              "      <td>1.0</td>\n",
              "      <td>0.0</td>\n",
              "      <td>0.0</td>\n",
              "      <td>0.0</td>\n",
              "      <td>...</td>\n",
              "      <td>1.0</td>\n",
              "      <td>0.0</td>\n",
              "      <td>0.0</td>\n",
              "      <td>1.0</td>\n",
              "      <td>0.0</td>\n",
              "      <td>0.0</td>\n",
              "      <td>0.0</td>\n",
              "      <td>1.0</td>\n",
              "      <td>0.0</td>\n",
              "      <td>0.0</td>\n",
              "    </tr>\n",
              "    <tr>\n",
              "      <th>1</th>\n",
              "      <td>0.0</td>\n",
              "      <td>0.0</td>\n",
              "      <td>0.0</td>\n",
              "      <td>0.0</td>\n",
              "      <td>1.0</td>\n",
              "      <td>0.0</td>\n",
              "      <td>1.0</td>\n",
              "      <td>0.0</td>\n",
              "      <td>0.0</td>\n",
              "      <td>0.0</td>\n",
              "      <td>...</td>\n",
              "      <td>1.0</td>\n",
              "      <td>0.0</td>\n",
              "      <td>0.0</td>\n",
              "      <td>1.0</td>\n",
              "      <td>0.0</td>\n",
              "      <td>0.0</td>\n",
              "      <td>0.0</td>\n",
              "      <td>1.0</td>\n",
              "      <td>0.0</td>\n",
              "      <td>0.0</td>\n",
              "    </tr>\n",
              "    <tr>\n",
              "      <th>2</th>\n",
              "      <td>0.0</td>\n",
              "      <td>0.0</td>\n",
              "      <td>0.0</td>\n",
              "      <td>0.0</td>\n",
              "      <td>1.0</td>\n",
              "      <td>0.0</td>\n",
              "      <td>1.0</td>\n",
              "      <td>0.0</td>\n",
              "      <td>0.0</td>\n",
              "      <td>0.0</td>\n",
              "      <td>...</td>\n",
              "      <td>1.0</td>\n",
              "      <td>0.0</td>\n",
              "      <td>0.0</td>\n",
              "      <td>1.0</td>\n",
              "      <td>0.0</td>\n",
              "      <td>0.0</td>\n",
              "      <td>0.0</td>\n",
              "      <td>1.0</td>\n",
              "      <td>0.0</td>\n",
              "      <td>0.0</td>\n",
              "    </tr>\n",
              "    <tr>\n",
              "      <th>3</th>\n",
              "      <td>0.0</td>\n",
              "      <td>0.0</td>\n",
              "      <td>0.0</td>\n",
              "      <td>0.0</td>\n",
              "      <td>1.0</td>\n",
              "      <td>0.0</td>\n",
              "      <td>0.0</td>\n",
              "      <td>0.0</td>\n",
              "      <td>0.0</td>\n",
              "      <td>1.0</td>\n",
              "      <td>...</td>\n",
              "      <td>1.0</td>\n",
              "      <td>0.0</td>\n",
              "      <td>0.0</td>\n",
              "      <td>1.0</td>\n",
              "      <td>0.0</td>\n",
              "      <td>0.0</td>\n",
              "      <td>0.0</td>\n",
              "      <td>1.0</td>\n",
              "      <td>0.0</td>\n",
              "      <td>0.0</td>\n",
              "    </tr>\n",
              "    <tr>\n",
              "      <th>5</th>\n",
              "      <td>0.0</td>\n",
              "      <td>0.0</td>\n",
              "      <td>0.0</td>\n",
              "      <td>0.0</td>\n",
              "      <td>1.0</td>\n",
              "      <td>0.0</td>\n",
              "      <td>1.0</td>\n",
              "      <td>0.0</td>\n",
              "      <td>0.0</td>\n",
              "      <td>0.0</td>\n",
              "      <td>...</td>\n",
              "      <td>1.0</td>\n",
              "      <td>0.0</td>\n",
              "      <td>0.0</td>\n",
              "      <td>1.0</td>\n",
              "      <td>0.0</td>\n",
              "      <td>0.0</td>\n",
              "      <td>0.0</td>\n",
              "      <td>1.0</td>\n",
              "      <td>0.0</td>\n",
              "      <td>0.0</td>\n",
              "    </tr>\n",
              "  </tbody>\n",
              "</table>\n",
              "<p>5 rows × 21 columns</p>\n",
              "</div>\n",
              "      <button class=\"colab-df-convert\" onclick=\"convertToInteractive('df-6a700e3d-437a-49d1-af87-9cd8fd9842d0')\"\n",
              "              title=\"Convert this dataframe to an interactive table.\"\n",
              "              style=\"display:none;\">\n",
              "        \n",
              "  <svg xmlns=\"http://www.w3.org/2000/svg\" height=\"24px\"viewBox=\"0 0 24 24\"\n",
              "       width=\"24px\">\n",
              "    <path d=\"M0 0h24v24H0V0z\" fill=\"none\"/>\n",
              "    <path d=\"M18.56 5.44l.94 2.06.94-2.06 2.06-.94-2.06-.94-.94-2.06-.94 2.06-2.06.94zm-11 1L8.5 8.5l.94-2.06 2.06-.94-2.06-.94L8.5 2.5l-.94 2.06-2.06.94zm10 10l.94 2.06.94-2.06 2.06-.94-2.06-.94-.94-2.06-.94 2.06-2.06.94z\"/><path d=\"M17.41 7.96l-1.37-1.37c-.4-.4-.92-.59-1.43-.59-.52 0-1.04.2-1.43.59L10.3 9.45l-7.72 7.72c-.78.78-.78 2.05 0 2.83L4 21.41c.39.39.9.59 1.41.59.51 0 1.02-.2 1.41-.59l7.78-7.78 2.81-2.81c.8-.78.8-2.07 0-2.86zM5.41 20L4 18.59l7.72-7.72 1.47 1.35L5.41 20z\"/>\n",
              "  </svg>\n",
              "      </button>\n",
              "      \n",
              "  <style>\n",
              "    .colab-df-container {\n",
              "      display:flex;\n",
              "      flex-wrap:wrap;\n",
              "      gap: 12px;\n",
              "    }\n",
              "\n",
              "    .colab-df-convert {\n",
              "      background-color: #E8F0FE;\n",
              "      border: none;\n",
              "      border-radius: 50%;\n",
              "      cursor: pointer;\n",
              "      display: none;\n",
              "      fill: #1967D2;\n",
              "      height: 32px;\n",
              "      padding: 0 0 0 0;\n",
              "      width: 32px;\n",
              "    }\n",
              "\n",
              "    .colab-df-convert:hover {\n",
              "      background-color: #E2EBFA;\n",
              "      box-shadow: 0px 1px 2px rgba(60, 64, 67, 0.3), 0px 1px 3px 1px rgba(60, 64, 67, 0.15);\n",
              "      fill: #174EA6;\n",
              "    }\n",
              "\n",
              "    [theme=dark] .colab-df-convert {\n",
              "      background-color: #3B4455;\n",
              "      fill: #D2E3FC;\n",
              "    }\n",
              "\n",
              "    [theme=dark] .colab-df-convert:hover {\n",
              "      background-color: #434B5C;\n",
              "      box-shadow: 0px 1px 3px 1px rgba(0, 0, 0, 0.15);\n",
              "      filter: drop-shadow(0px 1px 2px rgba(0, 0, 0, 0.3));\n",
              "      fill: #FFFFFF;\n",
              "    }\n",
              "  </style>\n",
              "\n",
              "      <script>\n",
              "        const buttonEl =\n",
              "          document.querySelector('#df-6a700e3d-437a-49d1-af87-9cd8fd9842d0 button.colab-df-convert');\n",
              "        buttonEl.style.display =\n",
              "          google.colab.kernel.accessAllowed ? 'block' : 'none';\n",
              "\n",
              "        async function convertToInteractive(key) {\n",
              "          const element = document.querySelector('#df-6a700e3d-437a-49d1-af87-9cd8fd9842d0');\n",
              "          const dataTable =\n",
              "            await google.colab.kernel.invokeFunction('convertToInteractive',\n",
              "                                                     [key], {});\n",
              "          if (!dataTable) return;\n",
              "\n",
              "          const docLinkHtml = 'Like what you see? Visit the ' +\n",
              "            '<a target=\"_blank\" href=https://colab.research.google.com/notebooks/data_table.ipynb>data table notebook</a>'\n",
              "            + ' to learn more about interactive tables.';\n",
              "          element.innerHTML = '';\n",
              "          dataTable['output_type'] = 'display_data';\n",
              "          await google.colab.output.renderOutput(dataTable, element);\n",
              "          const docLink = document.createElement('div');\n",
              "          docLink.innerHTML = docLinkHtml;\n",
              "          element.appendChild(docLink);\n",
              "        }\n",
              "      </script>\n",
              "    </div>\n",
              "  </div>\n",
              "  "
            ]
          },
          "metadata": {},
          "execution_count": 58
        }
      ]
    },
    {
      "cell_type": "markdown",
      "metadata": {
        "id": "6LjVyTq-hgej"
      },
      "source": [
        "И наконец, запишем в новую переменную полученный результат, удалив все незакодированные категориальные признаки из новой таблицы. "
      ]
    },
    {
      "cell_type": "code",
      "metadata": {
        "colab": {
          "base_uri": "https://localhost:8080/",
          "height": 206
        },
        "id": "D7WiWhYt9KuP",
        "outputId": "5b5d365b-4763-495e-8df5-42ebcf45d6b4"
      },
      "source": [
        "points.head()"
      ],
      "execution_count": null,
      "outputs": [
        {
          "output_type": "execute_result",
          "data": {
            "text/plain": [
              "   year  condition  cylinders  odometer title_status transmission drive  \\\n",
              "0  2016          4          6     43500        clean    automatic   4wd   \n",
              "1  2009          2          8     98131        clean    automatic   4wd   \n",
              "2  2002          2          8    201803        clean    automatic   4wd   \n",
              "3  2000          1          8    170305      rebuilt    automatic   4wd   \n",
              "5  2003          3          8    167662        clean    automatic   4wd   \n",
              "\n",
              "        size        lat        long  weather  \n",
              "0  full-size  36.471500  -82.483400     59.0  \n",
              "1  full-size  40.468826  -74.281734     52.0  \n",
              "2  full-size  42.477134  -82.949564     45.0  \n",
              "3  full-size  40.764373  -82.349503     49.0  \n",
              "5  full-size  45.518031 -122.578752     50.0  "
            ],
            "text/html": [
              "\n",
              "  <div id=\"df-86c8d2cc-7c87-48e2-8514-10e19e918ab3\">\n",
              "    <div class=\"colab-df-container\">\n",
              "      <div>\n",
              "<style scoped>\n",
              "    .dataframe tbody tr th:only-of-type {\n",
              "        vertical-align: middle;\n",
              "    }\n",
              "\n",
              "    .dataframe tbody tr th {\n",
              "        vertical-align: top;\n",
              "    }\n",
              "\n",
              "    .dataframe thead th {\n",
              "        text-align: right;\n",
              "    }\n",
              "</style>\n",
              "<table border=\"1\" class=\"dataframe\">\n",
              "  <thead>\n",
              "    <tr style=\"text-align: right;\">\n",
              "      <th></th>\n",
              "      <th>year</th>\n",
              "      <th>condition</th>\n",
              "      <th>cylinders</th>\n",
              "      <th>odometer</th>\n",
              "      <th>title_status</th>\n",
              "      <th>transmission</th>\n",
              "      <th>drive</th>\n",
              "      <th>size</th>\n",
              "      <th>lat</th>\n",
              "      <th>long</th>\n",
              "      <th>weather</th>\n",
              "    </tr>\n",
              "  </thead>\n",
              "  <tbody>\n",
              "    <tr>\n",
              "      <th>0</th>\n",
              "      <td>2016</td>\n",
              "      <td>4</td>\n",
              "      <td>6</td>\n",
              "      <td>43500</td>\n",
              "      <td>clean</td>\n",
              "      <td>automatic</td>\n",
              "      <td>4wd</td>\n",
              "      <td>full-size</td>\n",
              "      <td>36.471500</td>\n",
              "      <td>-82.483400</td>\n",
              "      <td>59.0</td>\n",
              "    </tr>\n",
              "    <tr>\n",
              "      <th>1</th>\n",
              "      <td>2009</td>\n",
              "      <td>2</td>\n",
              "      <td>8</td>\n",
              "      <td>98131</td>\n",
              "      <td>clean</td>\n",
              "      <td>automatic</td>\n",
              "      <td>4wd</td>\n",
              "      <td>full-size</td>\n",
              "      <td>40.468826</td>\n",
              "      <td>-74.281734</td>\n",
              "      <td>52.0</td>\n",
              "    </tr>\n",
              "    <tr>\n",
              "      <th>2</th>\n",
              "      <td>2002</td>\n",
              "      <td>2</td>\n",
              "      <td>8</td>\n",
              "      <td>201803</td>\n",
              "      <td>clean</td>\n",
              "      <td>automatic</td>\n",
              "      <td>4wd</td>\n",
              "      <td>full-size</td>\n",
              "      <td>42.477134</td>\n",
              "      <td>-82.949564</td>\n",
              "      <td>45.0</td>\n",
              "    </tr>\n",
              "    <tr>\n",
              "      <th>3</th>\n",
              "      <td>2000</td>\n",
              "      <td>1</td>\n",
              "      <td>8</td>\n",
              "      <td>170305</td>\n",
              "      <td>rebuilt</td>\n",
              "      <td>automatic</td>\n",
              "      <td>4wd</td>\n",
              "      <td>full-size</td>\n",
              "      <td>40.764373</td>\n",
              "      <td>-82.349503</td>\n",
              "      <td>49.0</td>\n",
              "    </tr>\n",
              "    <tr>\n",
              "      <th>5</th>\n",
              "      <td>2003</td>\n",
              "      <td>3</td>\n",
              "      <td>8</td>\n",
              "      <td>167662</td>\n",
              "      <td>clean</td>\n",
              "      <td>automatic</td>\n",
              "      <td>4wd</td>\n",
              "      <td>full-size</td>\n",
              "      <td>45.518031</td>\n",
              "      <td>-122.578752</td>\n",
              "      <td>50.0</td>\n",
              "    </tr>\n",
              "  </tbody>\n",
              "</table>\n",
              "</div>\n",
              "      <button class=\"colab-df-convert\" onclick=\"convertToInteractive('df-86c8d2cc-7c87-48e2-8514-10e19e918ab3')\"\n",
              "              title=\"Convert this dataframe to an interactive table.\"\n",
              "              style=\"display:none;\">\n",
              "        \n",
              "  <svg xmlns=\"http://www.w3.org/2000/svg\" height=\"24px\"viewBox=\"0 0 24 24\"\n",
              "       width=\"24px\">\n",
              "    <path d=\"M0 0h24v24H0V0z\" fill=\"none\"/>\n",
              "    <path d=\"M18.56 5.44l.94 2.06.94-2.06 2.06-.94-2.06-.94-.94-2.06-.94 2.06-2.06.94zm-11 1L8.5 8.5l.94-2.06 2.06-.94-2.06-.94L8.5 2.5l-.94 2.06-2.06.94zm10 10l.94 2.06.94-2.06 2.06-.94-2.06-.94-.94-2.06-.94 2.06-2.06.94z\"/><path d=\"M17.41 7.96l-1.37-1.37c-.4-.4-.92-.59-1.43-.59-.52 0-1.04.2-1.43.59L10.3 9.45l-7.72 7.72c-.78.78-.78 2.05 0 2.83L4 21.41c.39.39.9.59 1.41.59.51 0 1.02-.2 1.41-.59l7.78-7.78 2.81-2.81c.8-.78.8-2.07 0-2.86zM5.41 20L4 18.59l7.72-7.72 1.47 1.35L5.41 20z\"/>\n",
              "  </svg>\n",
              "      </button>\n",
              "      \n",
              "  <style>\n",
              "    .colab-df-container {\n",
              "      display:flex;\n",
              "      flex-wrap:wrap;\n",
              "      gap: 12px;\n",
              "    }\n",
              "\n",
              "    .colab-df-convert {\n",
              "      background-color: #E8F0FE;\n",
              "      border: none;\n",
              "      border-radius: 50%;\n",
              "      cursor: pointer;\n",
              "      display: none;\n",
              "      fill: #1967D2;\n",
              "      height: 32px;\n",
              "      padding: 0 0 0 0;\n",
              "      width: 32px;\n",
              "    }\n",
              "\n",
              "    .colab-df-convert:hover {\n",
              "      background-color: #E2EBFA;\n",
              "      box-shadow: 0px 1px 2px rgba(60, 64, 67, 0.3), 0px 1px 3px 1px rgba(60, 64, 67, 0.15);\n",
              "      fill: #174EA6;\n",
              "    }\n",
              "\n",
              "    [theme=dark] .colab-df-convert {\n",
              "      background-color: #3B4455;\n",
              "      fill: #D2E3FC;\n",
              "    }\n",
              "\n",
              "    [theme=dark] .colab-df-convert:hover {\n",
              "      background-color: #434B5C;\n",
              "      box-shadow: 0px 1px 3px 1px rgba(0, 0, 0, 0.15);\n",
              "      filter: drop-shadow(0px 1px 2px rgba(0, 0, 0, 0.3));\n",
              "      fill: #FFFFFF;\n",
              "    }\n",
              "  </style>\n",
              "\n",
              "      <script>\n",
              "        const buttonEl =\n",
              "          document.querySelector('#df-86c8d2cc-7c87-48e2-8514-10e19e918ab3 button.colab-df-convert');\n",
              "        buttonEl.style.display =\n",
              "          google.colab.kernel.accessAllowed ? 'block' : 'none';\n",
              "\n",
              "        async function convertToInteractive(key) {\n",
              "          const element = document.querySelector('#df-86c8d2cc-7c87-48e2-8514-10e19e918ab3');\n",
              "          const dataTable =\n",
              "            await google.colab.kernel.invokeFunction('convertToInteractive',\n",
              "                                                     [key], {});\n",
              "          if (!dataTable) return;\n",
              "\n",
              "          const docLinkHtml = 'Like what you see? Visit the ' +\n",
              "            '<a target=\"_blank\" href=https://colab.research.google.com/notebooks/data_table.ipynb>data table notebook</a>'\n",
              "            + ' to learn more about interactive tables.';\n",
              "          element.innerHTML = '';\n",
              "          dataTable['output_type'] = 'display_data';\n",
              "          await google.colab.output.renderOutput(dataTable, element);\n",
              "          const docLink = document.createElement('div');\n",
              "          docLink.innerHTML = docLinkHtml;\n",
              "          element.appendChild(docLink);\n",
              "        }\n",
              "      </script>\n",
              "    </div>\n",
              "  </div>\n",
              "  "
            ]
          },
          "metadata": {},
          "execution_count": 59
        }
      ]
    },
    {
      "cell_type": "code",
      "metadata": {
        "id": "do98eDElXGqN"
      },
      "source": [
        "# соединяем новую табличку с исходной\n",
        "data_new = pd.concat([points, data_onehot], axis=1)\n",
        "\n",
        "# удаляем исходные неизменные признаки\n",
        "data_new = data_new.drop(columns=columns_to_change)"
      ],
      "execution_count": null,
      "outputs": []
    },
    {
      "cell_type": "markdown",
      "metadata": {
        "id": "3Lf1rHsJiAsW"
      },
      "source": [
        "Посмотрим, что получилось."
      ]
    },
    {
      "cell_type": "code",
      "source": [
        "points.shape"
      ],
      "metadata": {
        "id": "yL7QPeXiooQx",
        "outputId": "bd02ad20-da7c-4fbd-e1cb-62f002e06dc8",
        "colab": {
          "base_uri": "https://localhost:8080/"
        }
      },
      "execution_count": null,
      "outputs": [
        {
          "output_type": "execute_result",
          "data": {
            "text/plain": [
              "(5202, 11)"
            ]
          },
          "metadata": {},
          "execution_count": 61
        }
      ]
    },
    {
      "cell_type": "code",
      "metadata": {
        "id": "JD429SJodffd",
        "colab": {
          "base_uri": "https://localhost:8080/"
        },
        "outputId": "4f7ada1f-3a2d-4846-b6d6-b17d9e72d54a"
      },
      "source": [
        "data_new.shape"
      ],
      "execution_count": null,
      "outputs": [
        {
          "output_type": "execute_result",
          "data": {
            "text/plain": [
              "(5202, 27)"
            ]
          },
          "metadata": {},
          "execution_count": 62
        }
      ]
    },
    {
      "cell_type": "markdown",
      "metadata": {
        "id": "0BXoq2uejGdt"
      },
      "source": [
        "# 3. Обучить и провалидировать модель"
      ]
    },
    {
      "cell_type": "markdown",
      "metadata": {
        "id": "9LwJVaQtjAha"
      },
      "source": [
        "## 3.1 Выбираем модель обучения\n",
        "\n",
        "**Xgboost** - это библиотека с открытым исходным кодом, обеспечивающая высокопроизводительную реализацию деревьев решений с градиентным бустингом. \n",
        "\n",
        "Описание и документация библиотеки (на английском): https://xgboost.readthedocs.io/en/latest/python/python_api.html\n",
        "\n",
        "Сегодня мы будем использовать ансамблевую модель **XGBRegressor**, предназначенную для решения задач регрессии.\n",
        "\n",
        "\n",
        "*Напоминание.* Градиентный бустинг над решающими деревьями имеет ряд преимуществ против других алгоритмов: \n",
        "* подходит сразу и для классификации, и для регрессии, и для задачи ранжирования;\n",
        "* имеет высокую обобщающую способность;\n",
        "* сложно допустить переобучение.\n"
      ]
    },
    {
      "cell_type": "code",
      "metadata": {
        "id": "AvpzdY9YfsYm"
      },
      "source": [
        "from xgboost import XGBRegressor"
      ],
      "execution_count": null,
      "outputs": []
    },
    {
      "cell_type": "code",
      "source": [
        "from sklearn.linear_model import LinearRegression"
      ],
      "metadata": {
        "id": "UFGlsCkLNj3u"
      },
      "execution_count": null,
      "outputs": []
    },
    {
      "cell_type": "markdown",
      "metadata": {
        "id": "QvMEVvMEfvg-"
      },
      "source": [
        "Создаем прототип класса модели:\n",
        "* установим `silent=True`, чтобы в процессе валидации не печатались предупреждения. "
      ]
    },
    {
      "cell_type": "code",
      "metadata": {
        "id": "1yvrEmVQfyx2",
        "colab": {
          "base_uri": "https://localhost:8080/"
        },
        "outputId": "162ca584-79bb-4ce3-cbac-2ff8a0b44e23"
      },
      "source": [
        "boosting_tree_model = XGBRegressor(n_estimators=100, silent=True)\n",
        "boosting_tree_model"
      ],
      "execution_count": null,
      "outputs": [
        {
          "output_type": "execute_result",
          "data": {
            "text/plain": [
              "XGBRegressor(silent=True)"
            ]
          },
          "metadata": {},
          "execution_count": 64
        }
      ]
    },
    {
      "cell_type": "code",
      "source": [
        "linear_reg = LinearRegression()"
      ],
      "metadata": {
        "id": "wK7P-j0hN-bs"
      },
      "execution_count": null,
      "outputs": []
    },
    {
      "cell_type": "markdown",
      "metadata": {
        "id": "SrFJrqnLgBfQ"
      },
      "source": [
        "Рассмотрим наиболее важные гиперпараметры ансамблевой модели **XGBRegressor**:\n",
        "* гиперпараметр **n_estimators** определяет, сколько деревьев использовать в модели;\n",
        "* гиперпараметр **max_depth** ограничивает максимальную глубину дерева."
      ]
    },
    {
      "cell_type": "markdown",
      "metadata": {
        "id": "Xuz722b6i2fk"
      },
      "source": [
        "## 3.2. Обучение и валидация"
      ]
    },
    {
      "cell_type": "markdown",
      "metadata": {
        "id": "-_3VTZcW1ZLm"
      },
      "source": [
        "![alt text](https://drive.google.com/uc?id=1Ilkmp248M0kKA3wFJQNQcNEY9OFsVoWz)"
      ]
    },
    {
      "cell_type": "markdown",
      "metadata": {
        "id": "qtR6xMUJjAhc"
      },
      "source": [
        "Стандартно для правильной валидации модели используют отложенную выборку. То есть мы разбиваем наши данные на **тренировочную** выборку, **тестовую** выборку и **отложенную** выборку. Соответственно, обучаем модель на тренировочной, в ходе обучения проверяем результат на тестовой выборке, а в конце обучения, чтобы оценить качество модели, ошибку считаем на отложенной выборке."
      ]
    },
    {
      "cell_type": "markdown",
      "metadata": {
        "id": "6fPKWZAvjAhd"
      },
      "source": [
        "<a href=\"https://drive.google.com/uc?id=1jAZLpihYxu_FPvN9PIJ1G4S_KvO_6Ku6\n",
        "\" target=\"_blank\"><img src=\"https://drive.google.com/uc?id=1wgVvskPBQJgiRwpsHUmUOS-MhfBatsWy\" \n",
        "alt=\"IMAGE ALT TEXT HERE\" width=\"480\" border=\"0\" /></a>\n",
        "\n",
        "*Замечание:* тестовая и отложенная выборка могут совпадать. Главное - на этой части данных модель не обучается!\n"
      ]
    },
    {
      "cell_type": "code",
      "source": [
        "from sklearn.model_selection import train_test_split"
      ],
      "metadata": {
        "id": "uRuOdtKbPHCx"
      },
      "execution_count": null,
      "outputs": []
    },
    {
      "cell_type": "code",
      "source": [
        "?train_test_split"
      ],
      "metadata": {
        "id": "hzfcBcd4Pbhj"
      },
      "execution_count": null,
      "outputs": []
    },
    {
      "cell_type": "code",
      "source": [
        "target.shape"
      ],
      "metadata": {
        "colab": {
          "base_uri": "https://localhost:8080/"
        },
        "id": "7rtkApu6PpKc",
        "outputId": "56851b2d-869a-4577-907b-9191d6d4c836"
      },
      "execution_count": null,
      "outputs": [
        {
          "output_type": "execute_result",
          "data": {
            "text/plain": [
              "(5202,)"
            ]
          },
          "metadata": {},
          "execution_count": 73
        }
      ]
    },
    {
      "cell_type": "code",
      "source": [
        "X_train, X_test, y_train, y_test = train_test_split(data_new, target, test_size=0.33, random_state=42)"
      ],
      "metadata": {
        "id": "vh2OffgFPUy2"
      },
      "execution_count": null,
      "outputs": []
    },
    {
      "cell_type": "code",
      "source": [
        "X_train.shape"
      ],
      "metadata": {
        "colab": {
          "base_uri": "https://localhost:8080/"
        },
        "id": "7VaMIrYkP256",
        "outputId": "4b5babe9-e5b4-4543-b948-1f657cc1c4fe"
      },
      "execution_count": null,
      "outputs": [
        {
          "output_type": "execute_result",
          "data": {
            "text/plain": [
              "(3485, 27)"
            ]
          },
          "metadata": {},
          "execution_count": 75
        }
      ]
    },
    {
      "cell_type": "code",
      "source": [
        "linear_reg.fit(X_train, y_train)"
      ],
      "metadata": {
        "colab": {
          "base_uri": "https://localhost:8080/"
        },
        "id": "pOTdxSa0P5zj",
        "outputId": "77a8b829-07f0-4098-f2d5-a5052f63fc7e"
      },
      "execution_count": null,
      "outputs": [
        {
          "output_type": "execute_result",
          "data": {
            "text/plain": [
              "LinearRegression()"
            ]
          },
          "metadata": {},
          "execution_count": 76
        }
      ]
    },
    {
      "cell_type": "code",
      "source": [
        "preds_lin_reg = linear_reg.predict(X_test)"
      ],
      "metadata": {
        "id": "zQeO13ZaQAUd"
      },
      "execution_count": null,
      "outputs": []
    },
    {
      "cell_type": "code",
      "source": [
        "preds_lin_reg"
      ],
      "metadata": {
        "colab": {
          "base_uri": "https://localhost:8080/"
        },
        "id": "Sum1Fy77QH1x",
        "outputId": "f7e3a2ee-1597-4b7b-936f-8a387e8523d7"
      },
      "execution_count": null,
      "outputs": [
        {
          "output_type": "execute_result",
          "data": {
            "text/plain": [
              "array([22114.87039052,  7680.15224539, 30259.07474023, ...,\n",
              "       11321.23196463,  9859.56035334,  9041.97815962])"
            ]
          },
          "metadata": {},
          "execution_count": 78
        }
      ]
    },
    {
      "cell_type": "code",
      "source": [
        "y_test"
      ],
      "metadata": {
        "colab": {
          "base_uri": "https://localhost:8080/"
        },
        "id": "wcVSe0DjQMF2",
        "outputId": "dcf6161e-4ad1-4da8-ac7c-adda1a1ecee6"
      },
      "execution_count": null,
      "outputs": [
        {
          "output_type": "execute_result",
          "data": {
            "text/plain": [
              "3508    19700\n",
              "100      4995\n",
              "6547    27000\n",
              "2839    61900\n",
              "5788    38995\n",
              "        ...  \n",
              "699     13790\n",
              "6100    19995\n",
              "243      3981\n",
              "3941     6863\n",
              "2018     6450\n",
              "Name: price, Length: 1717, dtype: int64"
            ]
          },
          "metadata": {},
          "execution_count": 79
        }
      ]
    },
    {
      "cell_type": "code",
      "source": [
        "from sklearn.metrics import r2_score"
      ],
      "metadata": {
        "id": "ZKxR33p0QcjY"
      },
      "execution_count": null,
      "outputs": []
    },
    {
      "cell_type": "code",
      "source": [
        "r2_score(y_test, preds_lin_reg)"
      ],
      "metadata": {
        "colab": {
          "base_uri": "https://localhost:8080/"
        },
        "id": "PS8k0Zz2Q58_",
        "outputId": "87b5698f-ae69-417c-aed1-3aa5b403a16d"
      },
      "execution_count": null,
      "outputs": [
        {
          "output_type": "execute_result",
          "data": {
            "text/plain": [
              "0.6366789692474508"
            ]
          },
          "metadata": {},
          "execution_count": 91
        }
      ]
    },
    {
      "cell_type": "markdown",
      "metadata": {
        "id": "pjtwnzVGjAhd"
      },
      "source": [
        "Однако, при таком подходе в обучении модели участвует только тренировочная выборка. Тестовую и отложенную мы используем только для проверки. Если у нас мало данных - это непозволительная роскошь. \n",
        "\n",
        "Другой популярный подход это **кросс-валидация** или скользящий контроль. Суть метода заключается в том, что мы делаем не одно разбиение датесета, а несколько разбиений таким образом, чтобы все данные использовались и в обучении и для проверки. Такие разбиения называются **фолдами**. \n",
        "\n",
        "<a href=\"https://drive.google.com/uc?id=1jAZLpihYxu_FPvN9PIJ1G4S_KvO_6Ku6\n",
        "\" target=\"_blank\"><img src=\"https://drive.google.com/uc?id=14fZpuBDsTMqv1XtLJvcKMNNa1vlr_ZG6\" \n",
        "alt=\"IMAGE ALT TEXT HERE\" width=\"600\" border=\"0\" /></a>\n",
        "\n",
        "\n",
        "Преимущества такого подхода:\n",
        "* используем все данные для обучения;\n",
        "* можем оценить устойчивость модели. Если ошибки полученные на разных фолдах сильно отличаются, что модель неустойчива.\n",
        "\n",
        "Недостаток метода в том, что нам нужно обучать не одну модель, а несколько (столько, сколько мы выбрали фолдов).\n",
        "\n",
        "На практике часто выбирают 5 фолдов."
      ]
    },
    {
      "cell_type": "markdown",
      "metadata": {
        "id": "U_xGc78jjAhq"
      },
      "source": [
        "Для того, чтобы использовать описанный подход при кросс-валидации, воспользуемся функцией `KFold` из модуля **model_selection** библиотеки **sklearn** и функцией `cross_val_score`."
      ]
    },
    {
      "cell_type": "code",
      "metadata": {
        "id": "isC8dYTinM4a"
      },
      "source": [
        "from sklearn.model_selection import KFold, cross_val_score"
      ],
      "execution_count": null,
      "outputs": []
    },
    {
      "cell_type": "code",
      "source": [
        "#data[~data['weather'].isna()] "
      ],
      "metadata": {
        "id": "lDYiegdr0qBC"
      },
      "execution_count": null,
      "outputs": []
    },
    {
      "cell_type": "markdown",
      "metadata": {
        "id": "6wSLhtC9jAhe"
      },
      "source": [
        "Сначала создаем прототип валидатора (способа разделения переменных):\n",
        "```python\n",
        "kfold = KFold()\n",
        "```\n",
        "\n",
        "Укажем:\n",
        "* **n_splits=5** - количество фолдов;\n",
        "* **shuffle=True** - перемешивание элементы выборки;\n",
        "* **random_state=123** - параметр, который фиксирует \"случайность\" для воспроизводимости результатов на разных компьютерах."
      ]
    },
    {
      "cell_type": "code",
      "metadata": {
        "id": "LNWuQ66cnPET",
        "colab": {
          "base_uri": "https://localhost:8080/"
        },
        "outputId": "00e7f7ce-07a2-49af-c947-70636ce37951"
      },
      "source": [
        "kfold = KFold(n_splits=5, shuffle=True, random_state=123)\n",
        "kfold"
      ],
      "execution_count": null,
      "outputs": [
        {
          "output_type": "execute_result",
          "data": {
            "text/plain": [
              "KFold(n_splits=5, random_state=123, shuffle=True)"
            ]
          },
          "metadata": {},
          "execution_count": 97
        }
      ]
    },
    {
      "cell_type": "markdown",
      "metadata": {
        "id": "tpp_p0PVqd2p"
      },
      "source": [
        "Теперь вспомним **метрики качества регрессионной модели**:"
      ]
    },
    {
      "cell_type": "markdown",
      "metadata": {
        "id": "_ULH-vDyqd2v"
      },
      "source": [
        " * **MAE** (**mean_absolute_error**) - средняя абсолютная ошибка $|y_i - \\hat{y}_i|$\n",
        " * **RMSE** - корень из **mean_squared_error**, где **mean_squared_error** - средняя квадратичная ошибка $(y_i - \\hat{y}_i)^2$\n",
        " * **r2_score** - коэффициент детерминации регрессионной модели.  Модели с коэффициентом детерминации выше 0.8 можно признать достаточно хорошими. Равенство коэффициента детерминации 1 означает, что объясняемая переменная в точности описывается рассматриваемой моделью."
      ]
    },
    {
      "cell_type": "markdown",
      "metadata": {
        "id": "UI4EycjA-KxM"
      },
      "source": [
        "Функция `cross_val_score` воспроизводит разбиение, обучение и тестирование в соответствие с типом и параметрами передаваемого в нее валидатора. \n",
        "\n",
        "В нее передаем оцениваемую модель, таблицу входных данных, выходную переменную, способ разделения данных (фолды) и метрику, которую мы хотим оценить. В данном случае мы хотим оценить **r2_score**.\n",
        "\n",
        "На выходе получим значения метрик. Так как мы передали в `KFold` с параметром **n_splits=5**, то и значений мы получим **5**."
      ]
    },
    {
      "cell_type": "code",
      "metadata": {
        "id": "6wpfnJJNVpIc",
        "colab": {
          "base_uri": "https://localhost:8080/"
        },
        "outputId": "23588975-0716-43c1-d2ac-465e0c6dae41"
      },
      "source": [
        "r2_scores = cross_val_score(boosting_tree_model, data_new, target, cv=kfold, scoring='r2')\n",
        "r2_scores"
      ],
      "execution_count": null,
      "outputs": [
        {
          "output_type": "execute_result",
          "data": {
            "text/plain": [
              "array([0.8570126 , 0.88974758, 0.87772555, 0.85981656, 0.8797364 ])"
            ]
          },
          "metadata": {},
          "execution_count": 99
        }
      ]
    },
    {
      "cell_type": "code",
      "source": [
        "r2_scores_linear = cross_val_score(linear_reg, data_new, target, cv=kfold, scoring='r2')\n",
        "r2_scores_linear"
      ],
      "metadata": {
        "colab": {
          "base_uri": "https://localhost:8080/"
        },
        "id": "j3hwaJhnSg7W",
        "outputId": "d67e9314-323d-4a00-b7b5-48d943416792"
      },
      "execution_count": null,
      "outputs": [
        {
          "output_type": "execute_result",
          "data": {
            "text/plain": [
              "array([0.63715232, 0.65261412, 0.62720089, 0.67195869, 0.65328523])"
            ]
          },
          "metadata": {},
          "execution_count": 102
        }
      ]
    },
    {
      "cell_type": "markdown",
      "metadata": {
        "id": "qt8Sg01J_pTY"
      },
      "source": [
        "Мы видим, что наша модель довольно неплохая и при этом устойчивая. \n",
        "\n",
        "**Упражнение.** Оцените среднее `mean()` и разброс `std()` по полученным значениям метрик."
      ]
    },
    {
      "cell_type": "code",
      "metadata": {
        "id": "ZfTlCaL8sPAZ",
        "colab": {
          "base_uri": "https://localhost:8080/"
        },
        "outputId": "c7e5f489-b54a-4d10-8699-a1f05b472fa2"
      },
      "source": [
        "r2_scores.mean()"
      ],
      "execution_count": null,
      "outputs": [
        {
          "output_type": "execute_result",
          "data": {
            "text/plain": [
              "0.8728077379502238"
            ]
          },
          "metadata": {},
          "execution_count": 100
        }
      ]
    },
    {
      "cell_type": "code",
      "metadata": {
        "id": "kBeHmYaOp6fE",
        "colab": {
          "base_uri": "https://localhost:8080/"
        },
        "outputId": "e4884c51-b30c-4a99-dc15-7e06c3761c4c"
      },
      "source": [
        "r2_scores.std()"
      ],
      "execution_count": null,
      "outputs": [
        {
          "output_type": "execute_result",
          "data": {
            "text/plain": [
              "0.012469216306493162"
            ]
          },
          "metadata": {},
          "execution_count": 101
        }
      ]
    },
    {
      "cell_type": "markdown",
      "metadata": {
        "id": "lQBfzojf_xXo"
      },
      "source": [
        "**Упражнение.** Попробуйте оценить модель с помощью другой метрики:\n",
        "* `scoring = neg_mean_absolute_error` - **минус** метрика MAE;\n",
        "* `scoring = neg_root_mean_squared_error` - **минус** метрика RMSE."
      ]
    },
    {
      "cell_type": "code",
      "metadata": {
        "id": "79O5PxgV8C02"
      },
      "source": [
        "mae_scores = -cross_val_score(boosting_tree_model, data_new, target, cv=kfold, scoring='neg_mean_absolute_error')"
      ],
      "execution_count": null,
      "outputs": []
    },
    {
      "cell_type": "code",
      "source": [
        "target.mean()"
      ],
      "metadata": {
        "colab": {
          "base_uri": "https://localhost:8080/"
        },
        "id": "2NLXVh0eS1Hf",
        "outputId": "35f8ef21-0885-4d85-9cd4-74acb61390c3"
      },
      "execution_count": null,
      "outputs": [
        {
          "output_type": "execute_result",
          "data": {
            "text/plain": [
              "15388.82679738562"
            ]
          },
          "metadata": {},
          "execution_count": 107
        }
      ]
    },
    {
      "cell_type": "code",
      "metadata": {
        "id": "e4SQLx0S2I7C",
        "colab": {
          "base_uri": "https://localhost:8080/"
        },
        "outputId": "8810035e-efac-469e-8f78-27a09bead29d"
      },
      "source": [
        "mae_scores.mean(), mae_scores.std()"
      ],
      "execution_count": null,
      "outputs": [
        {
          "output_type": "execute_result",
          "data": {
            "text/plain": [
              "(2498.543981647442, 90.75042200077166)"
            ]
          },
          "metadata": {},
          "execution_count": 105
        }
      ]
    },
    {
      "cell_type": "code",
      "metadata": {
        "id": "v4mPsh_s2Osr"
      },
      "source": [
        "rsme_scores = -cross_val_score(boosting_tree_model, data_new, target, cv=kfold, scoring='neg_root_mean_squared_error')"
      ],
      "execution_count": null,
      "outputs": []
    },
    {
      "cell_type": "code",
      "metadata": {
        "id": "jDoDVhR72VET",
        "colab": {
          "base_uri": "https://localhost:8080/"
        },
        "outputId": "201d9dc9-70a2-454e-bc48-ada1679cfc7c"
      },
      "source": [
        "rsme_scores.mean(), rsme_scores.std()"
      ],
      "execution_count": null,
      "outputs": [
        {
          "output_type": "execute_result",
          "data": {
            "text/plain": [
              "(3851.157008072178, 195.3239568908457)"
            ]
          },
          "metadata": {},
          "execution_count": 108
        }
      ]
    },
    {
      "cell_type": "code",
      "source": [
        "?linear_reg"
      ],
      "metadata": {
        "id": "YwqCGMNhTJHl"
      },
      "execution_count": null,
      "outputs": []
    },
    {
      "cell_type": "markdown",
      "metadata": {
        "id": "QIfDAABtjAhe"
      },
      "source": [
        "# 4. Подбор гиперпараметров модели. Поиск по сетке (Grid search)\n",
        "\n",
        "<a href=\"https://drive.google.com/uc?id=1Goc0VR5I--q9rYj-vYlmddanKP3-3sLJ\n",
        "\" target=\"_blank\"><img src=\"https://drive.google.com/uc?id=1Goc0VR5I--q9rYj-vYlmddanKP3-3sLJ\" \n",
        "alt=\"IMAGE ALT TEXT HERE\" width=\"480\" border=\"0\" /></a>\n"
      ]
    },
    {
      "cell_type": "markdown",
      "metadata": {
        "id": "NBGRbgVkKGnI"
      },
      "source": [
        "Теперь, когда у нас есть надёжный способ оценивать качество модели, мы можем перейти к подбору гиперпараметров модели.\n",
        "\n",
        "Чтобы выработать некоторую интуицию о самых важных параметрах градиентного бустинга на решающих деревьях, сначала мы попробуем в ручную поменять их и посмотреть, как меняются метрики. \n",
        "\n",
        "Для удобства мы написали функцию, которая принимает параметры `max_depth`, `n_estimators` модели **XGBRegressor**, выборку и целевую переменную, и возвращает среднее значение метрик MAE, RMSE и R2 при кросс-валидации на 5 фолдах. "
      ]
    },
    {
      "cell_type": "code",
      "metadata": {
        "id": "gXhu7urBzptO"
      },
      "source": [
        "def hyperparamters_search(max_depth, n_estimators, points, target):\n",
        "  # инициализируем модель и способ валидации\n",
        "  xgb_regression_model = XGBRegressor(max_depth=max_depth, \n",
        "                                      n_estimators=n_estimators,\n",
        "                                      silent=True)\n",
        "\n",
        "  kfold = KFold(n_splits=5, shuffle=True, random_state=123)\n",
        "\n",
        "  # считаем метрики в процессе кросс-валидации\n",
        "  mae_scores = -cross_val_score(xgb_regression_model, points, target, cv=kfold, scoring='neg_mean_absolute_error')\n",
        "  rmse_scores = -cross_val_score(xgb_regression_model, points, target, cv=kfold, scoring='neg_root_mean_squared_error')\n",
        "  r2_scores = cross_val_score(xgb_regression_model, points, target, cv=kfold, scoring='r2')\n",
        "\n",
        "  # считаем среднее по полученным результатам\n",
        "  mae = mae_scores.mean()\n",
        "  rmse = rmse_scores.mean()\n",
        "  r2 = r2_scores.mean()\n",
        "\n",
        "  print(\"MAE: {0:7.2f}, RMSE: {1:7.2f}, R2: {2:3.2f} for xgboost model\".format(mae, rmse, r2))"
      ],
      "execution_count": null,
      "outputs": []
    },
    {
      "cell_type": "code",
      "metadata": {
        "id": "pijryMhF2eIN",
        "colab": {
          "base_uri": "https://localhost:8080/"
        },
        "outputId": "c805015b-766c-48e0-f494-455f0f97f479"
      },
      "source": [
        "hyperparamters_search(max_depth=5, n_estimators=100, points=data_new, target=target)"
      ],
      "execution_count": null,
      "outputs": [
        {
          "output_type": "stream",
          "name": "stdout",
          "text": [
            "MAE: 2112.67, RMSE: 3282.98, R2: 0.91 for xgboost model\n"
          ]
        }
      ]
    },
    {
      "cell_type": "markdown",
      "metadata": {
        "id": "0Ao2rgQczR-u"
      },
      "source": [
        "**Упражнение**. Попробуем поподбирать гиперпараметры и посмотреть, как покажет себя модель. Обратите внимание на время обучения:)"
      ]
    },
    {
      "cell_type": "code",
      "metadata": {
        "id": "ujftDRfqsojw",
        "colab": {
          "base_uri": "https://localhost:8080/"
        },
        "outputId": "39aaf71f-6a48-41ef-bf72-81d2ea87130b"
      },
      "source": [
        "hyperparamters_search(max_depth=3, n_estimators=50, points=data_new, target=target)"
      ],
      "execution_count": null,
      "outputs": [
        {
          "output_type": "stream",
          "name": "stdout",
          "text": [
            "MAE: 2660.34, RMSE: 4193.27, R2: 0.85 for xgboost model\n"
          ]
        }
      ]
    },
    {
      "cell_type": "code",
      "metadata": {
        "id": "__JwMWb7sosi",
        "colab": {
          "base_uri": "https://localhost:8080/"
        },
        "outputId": "b4589271-73e5-4ee0-c4bb-550824972c00"
      },
      "source": [
        "hyperparamters_search(max_depth=7, n_estimators=150, points=data_new, target=target)"
      ],
      "execution_count": null,
      "outputs": [
        {
          "output_type": "stream",
          "name": "stdout",
          "text": [
            "MAE: 1717.03, RMSE: 3002.51, R2: 0.92 for xgboost model\n"
          ]
        }
      ]
    },
    {
      "cell_type": "markdown",
      "metadata": {
        "id": "L5_fVPy2jAhe"
      },
      "source": [
        "## Поиск по сетке. \n",
        "\n",
        "Вместо того, чтобы перебирать параметры руками, можно использовать метод **поиска по сетке** (Grid Search). В процессе поиска по сетке мы указываем варианты каждого из параметров, которые хотим перебрать, а функция смотрит на все их возможные варианты и выдает лучший набор в зависимости от выбранной метрики. Например, на картинке ниже перебираются параметры \"регуляризация\" и \"скорость обучения\".\n",
        "\n",
        "<a href=\"https://drive.google.com/uc?id=1jAZLpihYxu_FPvN9PIJ1G4S_KvO_6Ku6\n",
        "\" target=\"_blank\"><img src=\"https://drive.google.com/uc?id=1FhZpRMWuzCXQs1DDdTn11hjmH3MS6C6j\" \n",
        "alt=\"IMAGE ALT TEXT HERE\" width=\"600\" border=\"0\" /></a>\n",
        "\n",
        "Поиск по сетке реализован в **sklearn**, импортируем его:"
      ]
    },
    {
      "cell_type": "code",
      "metadata": {
        "id": "M3xpnh-cjAhf"
      },
      "source": [
        "from sklearn.model_selection import GridSearchCV"
      ],
      "execution_count": null,
      "outputs": []
    },
    {
      "cell_type": "markdown",
      "metadata": {
        "id": "Q9nUTEO1jAhr"
      },
      "source": [
        "Ещё раз инициализируем модель XGBRegressor и валидатор KFold."
      ]
    },
    {
      "cell_type": "code",
      "metadata": {
        "id": "bs6DP9DljAhs"
      },
      "source": [
        "xgb_regression_model = XGBRegressor(silent=True)\n",
        "kfold = KFold(n_splits=5, shuffle=True, random_state=123)"
      ],
      "execution_count": null,
      "outputs": []
    },
    {
      "cell_type": "code",
      "source": [
        "?XGBRegressor"
      ],
      "metadata": {
        "id": "QnveG7nVV2FD"
      },
      "execution_count": null,
      "outputs": []
    },
    {
      "cell_type": "markdown",
      "metadata": {
        "id": "RF4Nlbiyui8i"
      },
      "source": [
        "Нам нужно задать сетку гиперпараметров в виде словаря. Словарь - это такая структура данных, позволяющая хранить объекты, для доступа к которым используется ключ.\n",
        "\n",
        "Словарь создается с помощью фигурных скобок `{\"ключ\": \"значение\"}`. \n",
        "\n",
        "Соответственно, словарь с гиперпараметрами для перебора будет выглядить следующим образом:\n",
        "\n",
        "```python\n",
        "param_grid = {\"имя гиперпараметра 1\": лист со значениями, \"имя гиперпараметра 2\": лист со значениями, ... }\n",
        "```\n",
        "\n",
        "Для начала выберем маленькую сетку только с `max_depth`, `n_estimators`:"
      ]
    },
    {
      "cell_type": "code",
      "metadata": {
        "id": "IW3kCeipjAhv"
      },
      "source": [
        "param_grid = {\n",
        "    \"max_depth\": [3,5,7,9], \n",
        "    \"n_estimators\": [50,100,150,200],\n",
        "}"
      ],
      "execution_count": null,
      "outputs": []
    },
    {
      "cell_type": "markdown",
      "metadata": {
        "id": "Qmb1JmA3jAhy"
      },
      "source": [
        "Инициализируем поиск по сетке. Для этого надо вызвать `GridSearchCV()` и передать ему:\n",
        "\n",
        "* **estimator** - модель, которую хотим обучать и для которой подбираем гиперпараметры.\n",
        "* **param_grid** - словарь гиперпараметров, которые будем перебирать.\n",
        "* **cv** - способ разделения выборки."
      ]
    },
    {
      "cell_type": "code",
      "metadata": {
        "id": "8USWTtAFjAhz"
      },
      "source": [
        "CV_xgb = GridSearchCV(estimator=xgb_regression_model, param_grid=param_grid, \n",
        "                      scoring='r2', cv=kfold)"
      ],
      "execution_count": null,
      "outputs": []
    },
    {
      "cell_type": "markdown",
      "metadata": {
        "id": "Ocj3bgpowqHO"
      },
      "source": [
        "Запускаем поиск, используя метод `fit()`. В качестве атрибутов передаем выборку `points_new` и целевую переменную `target`:"
      ]
    },
    {
      "cell_type": "code",
      "metadata": {
        "id": "9FigIYz4wfQe"
      },
      "source": [
        "CV_xgb.fit(data_new, target);"
      ],
      "execution_count": null,
      "outputs": []
    },
    {
      "cell_type": "markdown",
      "metadata": {
        "id": "m4R1_4sIjAh1"
      },
      "source": [
        "Мы можем посмотреть на лучшие найденные параметры, а также получить выбранную метрику для лучшей модели. Для этого надо вызвать `best_params_` и `best_score_` соотвествтенно. "
      ]
    },
    {
      "cell_type": "code",
      "metadata": {
        "id": "1nqpXByejAh1",
        "colab": {
          "base_uri": "https://localhost:8080/"
        },
        "outputId": "383b791c-8adb-48e4-f040-eb4a8a16dc5c"
      },
      "source": [
        "print(CV_xgb.best_params_)"
      ],
      "execution_count": null,
      "outputs": [
        {
          "output_type": "stream",
          "name": "stdout",
          "text": [
            "{'max_depth': 9, 'n_estimators': 200}\n"
          ]
        }
      ]
    },
    {
      "cell_type": "code",
      "metadata": {
        "id": "CoYCqOse8m4-",
        "colab": {
          "base_uri": "https://localhost:8080/"
        },
        "outputId": "3276f309-a6c0-4e92-beba-58c3fa6d232f"
      },
      "source": [
        "print(CV_xgb.best_score_)"
      ],
      "execution_count": null,
      "outputs": [
        {
          "output_type": "stream",
          "name": "stdout",
          "text": [
            "0.9297535971538645\n"
          ]
        }
      ]
    },
    {
      "cell_type": "markdown",
      "metadata": {
        "id": "T4x_Sd07jAh6"
      },
      "source": [
        "**Упражнение.** Поэксперементируйте! Попробуйте перебрать больше параметров для модели и найти самую лучшую. \n",
        "\n",
        "Про параметры бустинга можно почитать в документации (см.выше) и [тут](https://www.analyticsvidhya.com/blog/2016/03/complete-guide-parameter-tuning-xgboost-with-codes-python/). "
      ]
    },
    {
      "cell_type": "code",
      "metadata": {
        "id": "Tv5ACq1b6erV"
      },
      "source": [
        "param_grid = {\n",
        "    \"max_depth\": [3,5,7,9], \n",
        "    \"n_estimators\": [50,100,150,200],\n",
        "    \"learning_rate\": [0.01, 0.05, 0.1],\n",
        "    \"min_child_weight\":[4,5,6],\n",
        "    \"subsample\": [0.8, 0.9, 1]\n",
        "}"
      ],
      "execution_count": null,
      "outputs": []
    },
    {
      "cell_type": "code",
      "metadata": {
        "id": "8yMShKMv7JfB"
      },
      "source": [
        "CV_xgb_2 = GridSearchCV(estimator=xgb_regression_model, param_grid=param_grid, \n",
        "                        scoring='r2', cv=kfold)"
      ],
      "execution_count": null,
      "outputs": []
    },
    {
      "cell_type": "code",
      "metadata": {
        "id": "W2lpthwh7Nl_"
      },
      "source": [
        "CV_xgb_2.fit(points_new, target);"
      ],
      "execution_count": null,
      "outputs": []
    },
    {
      "cell_type": "code",
      "metadata": {
        "id": "s_OJpqvu7Qgs"
      },
      "source": [
        "print(CV_xgb_2.best_params_)"
      ],
      "execution_count": null,
      "outputs": []
    },
    {
      "cell_type": "code",
      "metadata": {
        "id": "X1Mp2M4RNrnT"
      },
      "source": [
        "print(CV_xgb_2.best_score_)"
      ],
      "execution_count": null,
      "outputs": []
    },
    {
      "cell_type": "markdown",
      "metadata": {
        "id": "SaNYIHoFjAhW"
      },
      "source": [
        "# *Бонус: Определение важности признаков"
      ]
    },
    {
      "cell_type": "markdown",
      "metadata": {
        "id": "z4Tm0O-njAhW"
      },
      "source": [
        "Очевидно, что не все собранные признаки будут одинаково полезны. После обучения алгоритма мы можем посмотреть какие из признаков больше влияют на результат. Если в наборе данных окажутся бесполезные признаки, то их можно удалить, чтобы уменьшить время обучения. В алгоритмах библиотеки **sklearn** посмотреть на важность признаков можно с помощью свойства `feature_importances_`"
      ]
    },
    {
      "cell_type": "markdown",
      "metadata": {
        "id": "v9LHQyvD9Kil"
      },
      "source": [
        "Для этого нам нужно еще раз обучить модель на данных. Давайте возьмем самую лучшую модель."
      ]
    },
    {
      "cell_type": "code",
      "metadata": {
        "id": "GQUquHip9SSb",
        "colab": {
          "base_uri": "https://localhost:8080/"
        },
        "outputId": "ebd56299-2427-4f51-b543-9047bd871fdc"
      },
      "source": [
        "boosting_tree_model = XGBRegressor(max_depth=3, n_estimators=50)\n",
        "boosting_tree_model.fit(data_new, target)"
      ],
      "execution_count": null,
      "outputs": [
        {
          "output_type": "stream",
          "name": "stdout",
          "text": [
            "[17:08:30] WARNING: /workspace/src/objective/regression_obj.cu:152: reg:linear is now deprecated in favor of reg:squarederror.\n"
          ]
        },
        {
          "output_type": "execute_result",
          "data": {
            "text/plain": [
              "XGBRegressor(n_estimators=50)"
            ]
          },
          "metadata": {},
          "execution_count": 125
        }
      ]
    },
    {
      "cell_type": "code",
      "metadata": {
        "id": "0LV_sWkBjAhW"
      },
      "source": [
        "importances = boosting_tree_model.feature_importances_"
      ],
      "execution_count": null,
      "outputs": []
    },
    {
      "cell_type": "code",
      "source": [
        "importances"
      ],
      "metadata": {
        "colab": {
          "base_uri": "https://localhost:8080/"
        },
        "id": "83fJL2kGWWqB",
        "outputId": "86d1fa20-7909-471c-ebcb-9caa5f37011c"
      },
      "execution_count": null,
      "outputs": [
        {
          "output_type": "execute_result",
          "data": {
            "text/plain": [
              "array([0.5355321 , 0.02593846, 0.10622579, 0.03035453, 0.02690702,\n",
              "       0.03062013, 0.        , 0.        , 0.        , 0.01627523,\n",
              "       0.0219479 , 0.06718162, 0.        , 0.        , 0.        ,\n",
              "       0.02240877, 0.02779495, 0.        , 0.        , 0.        ,\n",
              "       0.06756775, 0.        , 0.        , 0.        , 0.        ,\n",
              "       0.02124577, 0.        ], dtype=float32)"
            ]
          },
          "metadata": {},
          "execution_count": 127
        }
      ]
    },
    {
      "cell_type": "markdown",
      "metadata": {
        "id": "r_Lfr3FpzwgO"
      },
      "source": [
        "Отсортируем признаки по убыванию важности:"
      ]
    },
    {
      "cell_type": "code",
      "metadata": {
        "id": "AhAbaMospRsv"
      },
      "source": [
        "indices = np.argsort(importances)[::-1]"
      ],
      "execution_count": null,
      "outputs": []
    },
    {
      "cell_type": "markdown",
      "metadata": {
        "id": "jOPxelSt0sdX"
      },
      "source": [
        "Отрисуем полученный результат:"
      ]
    },
    {
      "cell_type": "code",
      "metadata": {
        "id": "F5BfbqwcjAhX",
        "colab": {
          "base_uri": "https://localhost:8080/",
          "height": 731
        },
        "outputId": "9d726724-ae49-4a10-c41a-7730b71dd1a1"
      },
      "source": [
        "plt.figure(figsize=(10, 10))\n",
        "\n",
        "plt.title('Важность признаков')\n",
        "plt.ylabel('Важность (полезность)')\n",
        "plt.xlabel('Название признака')\n",
        "\n",
        "plt.bar(range(len(data_new.columns)), importances[indices])\n",
        "plt.xticks(range(len(data_new.columns)),data_new.columns[indices],rotation=90)\n",
        "plt.show()"
      ],
      "execution_count": null,
      "outputs": [
        {
          "output_type": "display_data",
          "data": {
            "text/plain": [
              "<Figure size 720x720 with 1 Axes>"
            ],
            "image/png": "[encoded data removed]"
          },
          "metadata": {
            "needs_background": "light"
          }
        }
      ]
    },
    {
      "cell_type": "markdown",
      "metadata": {
        "id": "59nYqsvnJX7S"
      },
      "source": [
        "\n",
        "\n",
        "---\n",
        "\n",
        "# *Бонус: сохранение и заргузка модели машинного обучения\n",
        "\n",
        "После долгой работы с моделью, хорошей практикой будет сохранить её в файл. Это позволит использовать её повторно, когда она понадобится. Для этого импортируем методы **dump** и **load** из библиотеки **joblib**.\n"
      ]
    },
    {
      "cell_type": "code",
      "metadata": {
        "id": "mN0_hNMsJgVz"
      },
      "source": [
        "from joblib import dump, load"
      ],
      "execution_count": null,
      "outputs": []
    },
    {
      "cell_type": "markdown",
      "metadata": {
        "id": "3MEYxvEpJiMR"
      },
      "source": [
        "Функция **dump** сохраняет обученную модель в файл. Передаём параметры:\n",
        "* boosting_tree_model - наша обученная модель.\n",
        "* 'best_model_ever.joblib' - название файла. Если такого файла ещё не существует, то он создастся автоматически. "
      ]
    },
    {
      "cell_type": "code",
      "metadata": {
        "id": "6dKlkY_TJsb0",
        "colab": {
          "base_uri": "https://localhost:8080/"
        },
        "outputId": "c8419078-461b-4ff9-b921-1d308a220bfb"
      },
      "source": [
        "dump(boosting_tree_model, 'best_model_ever.joblib')"
      ],
      "execution_count": null,
      "outputs": [
        {
          "output_type": "execute_result",
          "data": {
            "text/plain": [
              "['best_model_ever.joblib']"
            ]
          },
          "metadata": {},
          "execution_count": 132
        }
      ]
    },
    {
      "cell_type": "markdown",
      "metadata": {
        "id": "xOWWyIPgJii8"
      },
      "source": [
        "Функция **load** принимает на вход название файла с моделью, и загружает модель из файла."
      ]
    },
    {
      "cell_type": "code",
      "metadata": {
        "id": "zefqpD4uJ2Zk",
        "colab": {
          "base_uri": "https://localhost:8080/"
        },
        "outputId": "8cad5d74-2348-4724-b0a0-e4c502d9c81c"
      },
      "source": [
        "loaded_model = load('best_model_ever.joblib') "
      ],
      "execution_count": null,
      "outputs": [
        {
          "output_type": "stream",
          "name": "stdout",
          "text": [
            "[17:14:14] WARNING: /workspace/src/objective/regression_obj.cu:152: reg:linear is now deprecated in favor of reg:squarederror.\n"
          ]
        }
      ]
    },
    {
      "cell_type": "code",
      "metadata": {
        "id": "JpB_W4kdUUve",
        "colab": {
          "base_uri": "https://localhost:8080/"
        },
        "outputId": "4eadcb85-1ebd-47d4-96af-cb2e887105fd"
      },
      "source": [
        "loaded_model"
      ],
      "execution_count": null,
      "outputs": [
        {
          "output_type": "execute_result",
          "data": {
            "text/plain": [
              "XGBRegressor(missing=nan, n_estimators=50)"
            ]
          },
          "metadata": {},
          "execution_count": 134
        }
      ]
    },
    {
      "cell_type": "markdown",
      "metadata": {
        "id": "Nbn-tFPKUWF_"
      },
      "source": [
        "Видим, что мы загрузили именно ту модель, которую и сохраняли. Ее сразу можно использовать для получения предсказаний. "
      ]
    },
    {
      "cell_type": "code",
      "metadata": {
        "id": "bgoQEhwXUeG0",
        "colab": {
          "base_uri": "https://localhost:8080/"
        },
        "outputId": "baf67b9b-fb0f-474b-ba61-b714eaa1fd33"
      },
      "source": [
        "loaded_model.predict(data_new)"
      ],
      "execution_count": null,
      "outputs": [
        {
          "output_type": "execute_result",
          "data": {
            "text/plain": [
              "array([31829.625 , 14560.301 ,  4258.5645, ...,  7056.111 , 12682.363 ,\n",
              "       16810.979 ], dtype=float32)"
            ]
          },
          "metadata": {},
          "execution_count": 135
        }
      ]
    },
    {
      "cell_type": "markdown",
      "metadata": {
        "id": "Ils5Td9fjIWw"
      },
      "source": [
        "---\n",
        "## Обзор результатов семинара\n",
        "\n",
        "На этом семинаре мы:\n",
        "* построили модель для предсказания цены на подержанные автомобили;\n",
        "* посмотрели, как можно удалить пропуски в данных;\n",
        "* узнали, что такое кросс-валидация, как обучать модель с помощью нее и оценивать качество;\n",
        "* обсудили, как гиперпараметры влияют на модель и как их можно подбирать с помощью поиска по сетке. "
      ]
    }
  ]
}